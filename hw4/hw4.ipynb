{
 "cells": [
  {
   "cell_type": "code",
   "execution_count": 1,
   "metadata": {
    "deletable": false,
    "editable": false
   },
   "outputs": [],
   "source": [
    "# Initialize Otter\n",
    "import otter\n",
    "grader = otter.Notebook()"
   ]
  },
  {
   "cell_type": "markdown",
   "metadata": {
    "nbgrader": {
     "grade": false,
     "grade_id": "intro",
     "locked": true,
     "schema_version": 2,
     "solution": false
    }
   },
   "source": [
    "# Homework 4: Trump, Twitter, and Text\n",
    "\n",
    "## Due Date: Thursday 10/08, 11:59 pm PST\n",
    "\n",
    "Welcome to the fourth homework assignment of Data 100/200! In this assignment, we will work with Twitter data in order to analyze Donald Trump's tweets.\n",
    "\n",
    "**Collaboration Policy**\n",
    "\n",
    "Data science is a collaborative activity. While you may talk with others about the homework, we ask that you **write your solutions individually**. If you do discuss the assignments with others please **include their names** below."
   ]
  },
  {
   "cell_type": "markdown",
   "metadata": {},
   "source": [
    "**Collaborators**: *list collaborators here*"
   ]
  },
  {
   "cell_type": "code",
   "execution_count": 2,
   "metadata": {
    "nbgrader": {
     "grade": false,
     "grade_id": "import",
     "locked": true,
     "schema_version": 2,
     "solution": false
    }
   },
   "outputs": [],
   "source": [
    "# Run this cell to set up your notebook\n",
    "import csv\n",
    "import numpy as np\n",
    "import pandas as pd\n",
    "import matplotlib.pyplot as plt\n",
    "import json\n",
    "import zipfile\n",
    "\n",
    "# Ensure that Pandas shows at least 280 characters in columns, so we can see full tweets\n",
    "pd.set_option('max_colwidth', 280)\n",
    "\n",
    "%matplotlib inline\n",
    "plt.style.use('fivethirtyeight')\n",
    "import seaborn as sns\n",
    "sns.set()\n",
    "sns.set_context(\"talk\")\n",
    "import re"
   ]
  },
  {
   "cell_type": "markdown",
   "metadata": {},
   "source": [
    "### Score Breakdown\n",
    "\n",
    "Question | Points\n",
    "--- | ---\n",
    "0 | 1\n",
    "1 | 2\n",
    "2 | 1\n",
    "3 | 2\n",
    "4a | 1\n",
    "4b | 2\n",
    "4c | 2\n",
    "4d | 1\n",
    "5a | 1\n",
    "5b | 1\n",
    "5c | 1\n",
    "5d | 1\n",
    "5e | 1\n",
    "5f | 2\n",
    "5g | 2\n",
    "5h | 1\n",
    "6a | 1\n",
    "6b | 1\n",
    "7a | 2\n",
    "7b | 1\n",
    "Total | 27"
   ]
  },
  {
   "cell_type": "markdown",
   "metadata": {},
   "source": [
    "## Before we start ##\n",
    "All data is made from real-world phenomena, be it the movement of the planets, animal behavior, or human bodies and activities. Working with data always has a bearing back on how human beings know and act in the world. The dataset that you're about to work with in this homework consists of a compilation of President Trump's Tweets. It's important to acknowledge that these Tweets are more than just data -- they're the means by which the President expresses his opinions, performs public and foreign policy, and shapes the lives of people in the US and all over the world. More fundamentally, these Tweets are a powerful form of speech that is particularly significant on the eve of the 2020 US Presidential Election. We recognize that working with this data now, even in the context of a technical exercise, is not a neutral activity and may create difficult feelings in students. We encourage you to observe what you may be experiencing and invite you to consider these dimensions of data science work alongside your technical lessons and we're glad to discuss these issues together in section."
   ]
  },
  {
   "cell_type": "markdown",
   "metadata": {},
   "source": [
    "## Disclaimer about `sns.distplot()`\n",
    "\n",
    "This homework was designed for a slightly older version of seaborn, which does not support the new `displot` method taught in Lecture 9. Instead, in this homework we will heavily rely on `distplot` (with a `t`). As you may have noticed in lab 5, use of the `distplot` function triggers a deprecation warning to notify the user that they should replace all deprecated functions with the updated version. Generally, warnings should not be suppressed but we will do so in this assignment to avoid cluttering.\n",
    "\n",
    "See the seaborn documentation on [distributions](https://seaborn.pydata.org/tutorial/distributions.html) and [functions](https://seaborn.pydata.org/tutorial/function_overview.html) for more details."
   ]
  },
  {
   "cell_type": "code",
   "execution_count": 3,
   "metadata": {},
   "outputs": [],
   "source": [
    "# Run this cell to suppress all DeprecationWarnings\n",
    "import warnings\n",
    "warnings.filterwarnings(\"ignore\", category=FutureWarning)"
   ]
  },
  {
   "cell_type": "markdown",
   "metadata": {
    "nbgrader": {
     "grade": false,
     "grade_id": "q3",
     "locked": true,
     "schema_version": 2,
     "solution": false
    }
   },
   "source": [
    "---\n",
    "# Part 1: Importing the Data\n",
    "\n",
    "We will use the `fetch_and_cache` utility to download the dataset. "
   ]
  },
  {
   "cell_type": "code",
   "execution_count": 4,
   "metadata": {
    "nbgrader": {
     "grade": false,
     "grade_id": "download-data",
     "locked": true,
     "schema_version": 2,
     "solution": false
    }
   },
   "outputs": [
    {
     "name": "stdout",
     "output_type": "stream",
     "text": [
      "Using version already downloaded: Sun Oct  4 01:19:57 2020\n",
      "MD5 hash of file: 664c6f85e94ea09e1507eedd7626adc5\n",
      "Located at data/hw4-realdonaldtrump_tweets.json.zip\n"
     ]
    }
   ],
   "source": [
    "# Download the dataset\n",
    "from ds100_utils import fetch_and_cache\n",
    "data_url = 'http://www.ds100.org/fa19/assets/datasets/hw4-realdonaldtrump_tweets.json.zip'\n",
    "file_name = 'hw4-realdonaldtrump_tweets.json.zip'\n",
    "\n",
    "dest_path = fetch_and_cache(data_url=data_url, file=file_name)\n",
    "print(f'Located at {dest_path}')"
   ]
  },
  {
   "cell_type": "markdown",
   "metadata": {},
   "source": [
    "Now that we've downloaded the tweets, let's unzip them and load them into our notebook. Run the cell below to unzip and read tweets from the json file into a list named `all_tweets`."
   ]
  },
  {
   "cell_type": "code",
   "execution_count": 5,
   "metadata": {},
   "outputs": [],
   "source": [
    "# Unzip the dataset\n",
    "my_zip = zipfile.ZipFile(dest_path, 'r')\n",
    "with my_zip.open('hw4-realdonaldtrump_tweets.json', 'r') as f:\n",
    "    all_tweets = json.load(f)"
   ]
  },
  {
   "cell_type": "markdown",
   "metadata": {
    "nbgrader": {
     "grade": false,
     "grade_id": "formatting-note",
     "locked": true,
     "schema_version": 2,
     "solution": false
    }
   },
   "source": [
    "Here is what a typical tweet from `all_tweets` looks like:"
   ]
  },
  {
   "cell_type": "code",
   "execution_count": 6,
   "metadata": {
    "nbgrader": {
     "grade": false,
     "grade_id": "pprint-old-tweets",
     "locked": true,
     "schema_version": 2,
     "solution": false
    },
    "scrolled": false
   },
   "outputs": [
    {
     "name": "stdout",
     "output_type": "stream",
     "text": [
      "{'contributors': None,\n",
      " 'coordinates': None,\n",
      " 'created_at': 'Tue Oct 16 18:40:18 +0000 2018',\n",
      " 'display_text_range': [0, 174],\n",
      " 'entities': {'hashtags': [], 'symbols': [], 'urls': [], 'user_mentions': []},\n",
      " 'favorite_count': 52115,\n",
      " 'favorited': False,\n",
      " 'full_text': 'Just spoke with the Crown Prince of Saudi Arabia who totally '\n",
      "              'denied any knowledge of what took place in their Turkish '\n",
      "              'Consulate. He was with Secretary of State Mike Pompeo...',\n",
      " 'geo': None,\n",
      " 'id': 1052268011900555265,\n",
      " 'id_str': '1052268011900555265',\n",
      " 'in_reply_to_screen_name': None,\n",
      " 'in_reply_to_status_id': None,\n",
      " 'in_reply_to_status_id_str': None,\n",
      " 'in_reply_to_user_id': None,\n",
      " 'in_reply_to_user_id_str': None,\n",
      " 'is_quote_status': False,\n",
      " 'lang': 'en',\n",
      " 'place': None,\n",
      " 'retweet_count': 13493,\n",
      " 'retweeted': False,\n",
      " 'source': '<a href=\"http://twitter.com/download/iphone\" '\n",
      "           'rel=\"nofollow\">Twitter for iPhone</a>',\n",
      " 'truncated': False,\n",
      " 'user': {'contributors_enabled': False,\n",
      "          'created_at': 'Wed Mar 18 13:46:38 +0000 2009',\n",
      "          'default_profile': False,\n",
      "          'default_profile_image': False,\n",
      "          'description': '45th President of the United States of America🇺🇸',\n",
      "          'entities': {'description': {'urls': []},\n",
      "                       'url': {'urls': [{'display_url': 'Instagram.com/realDonaldTrump',\n",
      "                                         'expanded_url': 'http://www.Instagram.com/realDonaldTrump',\n",
      "                                         'indices': [0, 23],\n",
      "                                         'url': 'https://t.co/OMxB0x7xC5'}]}},\n",
      "          'favourites_count': 7,\n",
      "          'follow_request_sent': False,\n",
      "          'followers_count': 58311576,\n",
      "          'following': True,\n",
      "          'friends_count': 45,\n",
      "          'geo_enabled': True,\n",
      "          'has_extended_profile': False,\n",
      "          'id': 25073877,\n",
      "          'id_str': '25073877',\n",
      "          'is_translation_enabled': True,\n",
      "          'is_translator': False,\n",
      "          'lang': 'en',\n",
      "          'listed_count': 100264,\n",
      "          'location': 'Washington, DC',\n",
      "          'name': 'Donald J. Trump',\n",
      "          'notifications': False,\n",
      "          'profile_background_color': '6D5C18',\n",
      "          'profile_background_image_url': 'http://abs.twimg.com/images/themes/theme1/bg.png',\n",
      "          'profile_background_image_url_https': 'https://abs.twimg.com/images/themes/theme1/bg.png',\n",
      "          'profile_background_tile': True,\n",
      "          'profile_banner_url': 'https://pbs.twimg.com/profile_banners/25073877/1550087458',\n",
      "          'profile_image_url': 'http://pbs.twimg.com/profile_images/874276197357596672/kUuht00m_normal.jpg',\n",
      "          'profile_image_url_https': 'https://pbs.twimg.com/profile_images/874276197357596672/kUuht00m_normal.jpg',\n",
      "          'profile_link_color': '1B95E0',\n",
      "          'profile_sidebar_border_color': 'BDDCAD',\n",
      "          'profile_sidebar_fill_color': 'C5CEC0',\n",
      "          'profile_text_color': '333333',\n",
      "          'profile_use_background_image': True,\n",
      "          'protected': False,\n",
      "          'screen_name': 'realDonaldTrump',\n",
      "          'statuses_count': 40563,\n",
      "          'time_zone': None,\n",
      "          'translator_type': 'regular',\n",
      "          'url': 'https://t.co/OMxB0x7xC5',\n",
      "          'utc_offset': None,\n",
      "          'verified': True}}\n"
     ]
    }
   ],
   "source": [
    "from pprint import pprint # to get a more easily-readable view.\n",
    "pprint(all_tweets[-1])"
   ]
  },
  {
   "cell_type": "markdown",
   "metadata": {
    "deletable": false,
    "editable": false
   },
   "source": [
    "<!-- BEGIN QUESTION -->\n",
    "\n",
    "## Question 0\n",
    "There are many ways we could choose to read the President’s tweets. Why might someone be interested in doing data analysis on the President’s tweets? Name a kind of person or institution which might be interested in this kind of analysis. Then, give two reasons why a data analysis of the President's tweets might be interesting or useful for them. Answer in 2-3 sentences.\n",
    "<!--\n",
    "BEGIN QUESTION\n",
    "name: q0\n",
    "points: 1\n",
    "manual: true\n",
    "-->"
   ]
  },
  {
   "cell_type": "markdown",
   "metadata": {},
   "source": [
    "Someone might be interested in doing data analysis on the President's tweets to know what words or phrases he prefers to use to understand his general view/response to certain happenings or responses to individuals, this might be useful to his political opponents, such as the Biden campaign. First of all, it would be useful for former Vice President Biden to know what kind of words or phrases Trump might use in debates and his campaign to use his words in advertisments targeting Trump."
   ]
  },
  {
   "cell_type": "markdown",
   "metadata": {
    "deletable": false,
    "editable": false,
    "nbgrader": {
     "grade": false,
     "grade_id": "q3b",
     "locked": true,
     "schema_version": 2,
     "solution": false
    }
   },
   "source": [
    "<!-- END QUESTION -->\n",
    "\n",
    "## Question 1\n",
    "\n",
    "Construct a DataFrame called `trump` containing data from all the tweets stored in `all_tweets`. The index of the DataFrame should be the ID of each tweet (looks something like `907698529606541312`). It should have these columns:\n",
    "\n",
    "- `time`: The time the tweet was created encoded as a datetime object. (Use `pd.to_datetime` to encode the timestamp.)\n",
    "- `source`: The source device of the tweet.\n",
    "- `text`: The text of the tweet.\n",
    "- `retweet_count`: The retweet count of the tweet. \n",
    "\n",
    "Finally, **the resulting DataFrame should be sorted by the index.**\n",
    "\n",
    "**Warning:** *Some tweets will store the text in the `text` field and other will use the `full_text` field.*\n",
    "\n",
    "**Hint: You might want to explicitly specify the columns and indices using** `pd.DataFrame()`.\n",
    "\n",
    "<!--\n",
    "BEGIN QUESTION\n",
    "name: q1\n",
    "points: 2\n",
    "-->"
   ]
  },
  {
   "cell_type": "code",
   "execution_count": 7,
   "metadata": {
    "nbgrader": {
     "grade": false,
     "grade_id": "q3b-answer",
     "locked": false,
     "schema_version": 2,
     "solution": true
    },
    "scrolled": false,
    "tags": [
     "student"
    ]
   },
   "outputs": [
    {
     "data": {
      "text/html": [
       "<div>\n",
       "<style scoped>\n",
       "    .dataframe tbody tr th:only-of-type {\n",
       "        vertical-align: middle;\n",
       "    }\n",
       "\n",
       "    .dataframe tbody tr th {\n",
       "        vertical-align: top;\n",
       "    }\n",
       "\n",
       "    .dataframe thead th {\n",
       "        text-align: right;\n",
       "    }\n",
       "</style>\n",
       "<table border=\"1\" class=\"dataframe\">\n",
       "  <thead>\n",
       "    <tr style=\"text-align: right;\">\n",
       "      <th></th>\n",
       "      <th>time</th>\n",
       "      <th>source</th>\n",
       "      <th>text</th>\n",
       "      <th>retweet_count</th>\n",
       "    </tr>\n",
       "  </thead>\n",
       "  <tbody>\n",
       "    <tr>\n",
       "      <th>690171032150237184</th>\n",
       "      <td>2016-01-21 13:56:11+00:00</td>\n",
       "      <td>&lt;a href=\"http://twitter.com/download/android\" rel=\"nofollow\"&gt;Twitter for Android&lt;/a&gt;</td>\n",
       "      <td>\"@bigop1: @realDonaldTrump  @SarahPalinUSA https://t.co/3kYQGqeVyD\"</td>\n",
       "      <td>1059</td>\n",
       "    </tr>\n",
       "    <tr>\n",
       "      <th>690171403388104704</th>\n",
       "      <td>2016-01-21 13:57:39+00:00</td>\n",
       "      <td>&lt;a href=\"http://twitter.com/download/android\" rel=\"nofollow\"&gt;Twitter for Android&lt;/a&gt;</td>\n",
       "      <td>\"@AmericanAsPie:  @glennbeck @SarahPalinUSA Remember when Glenn gave out gifts to ILLEGAL ALIENS at crossing the border? Me too!\"</td>\n",
       "      <td>1339</td>\n",
       "    </tr>\n",
       "    <tr>\n",
       "      <th>690173226341691392</th>\n",
       "      <td>2016-01-21 14:04:54+00:00</td>\n",
       "      <td>&lt;a href=\"http://twitter.com/download/android\" rel=\"nofollow\"&gt;Twitter for Android&lt;/a&gt;</td>\n",
       "      <td>So sad that @CNN and many others refused to show the massive crowd at the arena yesterday in Oklahoma. Dishonest reporting!</td>\n",
       "      <td>2006</td>\n",
       "    </tr>\n",
       "    <tr>\n",
       "      <th>690176882055114758</th>\n",
       "      <td>2016-01-21 14:19:26+00:00</td>\n",
       "      <td>&lt;a href=\"http://twitter.com/download/android\" rel=\"nofollow\"&gt;Twitter for Android&lt;/a&gt;</td>\n",
       "      <td>Sad sack @JebBush has just done another ad on me, with special interest money, saying I won't beat Hillary - I WILL. But he can't beat me.</td>\n",
       "      <td>2266</td>\n",
       "    </tr>\n",
       "    <tr>\n",
       "      <th>690180284189310976</th>\n",
       "      <td>2016-01-21 14:32:57+00:00</td>\n",
       "      <td>&lt;a href=\"http://twitter.com/download/android\" rel=\"nofollow\"&gt;Twitter for Android&lt;/a&gt;</td>\n",
       "      <td>Low energy candidate @JebBush has wasted $80 million on his failed presidential campaign. Millions spent on me. He should go home and relax!</td>\n",
       "      <td>2886</td>\n",
       "    </tr>\n",
       "  </tbody>\n",
       "</table>\n",
       "</div>"
      ],
      "text/plain": [
       "                                        time  \\\n",
       "690171032150237184 2016-01-21 13:56:11+00:00   \n",
       "690171403388104704 2016-01-21 13:57:39+00:00   \n",
       "690173226341691392 2016-01-21 14:04:54+00:00   \n",
       "690176882055114758 2016-01-21 14:19:26+00:00   \n",
       "690180284189310976 2016-01-21 14:32:57+00:00   \n",
       "\n",
       "                                                                                                  source  \\\n",
       "690171032150237184  <a href=\"http://twitter.com/download/android\" rel=\"nofollow\">Twitter for Android</a>   \n",
       "690171403388104704  <a href=\"http://twitter.com/download/android\" rel=\"nofollow\">Twitter for Android</a>   \n",
       "690173226341691392  <a href=\"http://twitter.com/download/android\" rel=\"nofollow\">Twitter for Android</a>   \n",
       "690176882055114758  <a href=\"http://twitter.com/download/android\" rel=\"nofollow\">Twitter for Android</a>   \n",
       "690180284189310976  <a href=\"http://twitter.com/download/android\" rel=\"nofollow\">Twitter for Android</a>   \n",
       "\n",
       "                                                                                                                                                            text  \\\n",
       "690171032150237184                                                                           \"@bigop1: @realDonaldTrump  @SarahPalinUSA https://t.co/3kYQGqeVyD\"   \n",
       "690171403388104704             \"@AmericanAsPie:  @glennbeck @SarahPalinUSA Remember when Glenn gave out gifts to ILLEGAL ALIENS at crossing the border? Me too!\"   \n",
       "690173226341691392                   So sad that @CNN and many others refused to show the massive crowd at the arena yesterday in Oklahoma. Dishonest reporting!   \n",
       "690176882055114758    Sad sack @JebBush has just done another ad on me, with special interest money, saying I won't beat Hillary - I WILL. But he can't beat me.   \n",
       "690180284189310976  Low energy candidate @JebBush has wasted $80 million on his failed presidential campaign. Millions spent on me. He should go home and relax!   \n",
       "\n",
       "                    retweet_count  \n",
       "690171032150237184           1059  \n",
       "690171403388104704           1339  \n",
       "690173226341691392           2006  \n",
       "690176882055114758           2266  \n",
       "690180284189310976           2886  "
      ]
     },
     "execution_count": 7,
     "metadata": {},
     "output_type": "execute_result"
    }
   ],
   "source": [
    "trump = pd.DataFrame({\n",
    "'time': pd.to_datetime([tweet['created_at'] for tweet in all_tweets]),\n",
    "'source': [tweet['source'] for tweet in all_tweets],\n",
    "'text': [tweet['text'] if 'text' in tweet else tweet['full_text'] for tweet in all_tweets],\n",
    "'retweet_count': [tweet['retweet_count'] for tweet in all_tweets]},\n",
    "index = [tweet['id'] for tweet in all_tweets],\n",
    "columns = ['time', 'source', 'text', 'retweet_count']).sort_index()\n",
    "            \n",
    "trump.head()"
   ]
  },
  {
   "cell_type": "code",
   "execution_count": 8,
   "metadata": {
    "deletable": false,
    "editable": false
   },
   "outputs": [
    {
     "data": {
      "text/html": [
       "\n",
       "    \n",
       "    \n",
       "        <p>All tests passed!</p>\n",
       "    \n",
       "    "
      ],
      "text/plain": [
       "\n",
       "    All tests passed!\n",
       "    "
      ]
     },
     "execution_count": 8,
     "metadata": {},
     "output_type": "execute_result"
    }
   ],
   "source": [
    "grader.check(\"q1\")"
   ]
  },
  {
   "cell_type": "markdown",
   "metadata": {
    "nbgrader": {
     "grade": false,
     "grade_id": "question4",
     "locked": true,
     "schema_version": 2,
     "solution": false
    }
   },
   "source": [
    "---\n",
    "# Part 2: Tweet Source Analysis\n",
    "\n",
    "In the following questions, we are going to find out the charateristics of Trump tweets and the devices used for the tweets.\n",
    "\n",
    "First let's examine the source field:"
   ]
  },
  {
   "cell_type": "code",
   "execution_count": 9,
   "metadata": {
    "nbgrader": {
     "grade": false,
     "grade_id": "unique-sources",
     "locked": true,
     "schema_version": 2,
     "solution": false
    }
   },
   "outputs": [
    {
     "data": {
      "text/plain": [
       "array(['<a href=\"http://twitter.com/download/android\" rel=\"nofollow\">Twitter for Android</a>',\n",
       "       '<a href=\"http://twitter.com/download/iphone\" rel=\"nofollow\">Twitter for iPhone</a>',\n",
       "       '<a href=\"http://twitter.com\" rel=\"nofollow\">Twitter Web Client</a>',\n",
       "       '<a href=\"https://mobile.twitter.com\" rel=\"nofollow\">Mobile Web (M5)</a>',\n",
       "       '<a href=\"http://instagram.com\" rel=\"nofollow\">Instagram</a>',\n",
       "       '<a href=\"http://twitter.com/#!/download/ipad\" rel=\"nofollow\">Twitter for iPad</a>',\n",
       "       '<a href=\"https://studio.twitter.com\" rel=\"nofollow\">Media Studio</a>',\n",
       "       '<a href=\"https://periscope.tv\" rel=\"nofollow\">Periscope</a>',\n",
       "       '<a href=\"https://ads.twitter.com\" rel=\"nofollow\">Twitter Ads</a>',\n",
       "       '<a href=\"https://studio.twitter.com\" rel=\"nofollow\">Twitter Media Studio</a>'],\n",
       "      dtype=object)"
      ]
     },
     "execution_count": 9,
     "metadata": {},
     "output_type": "execute_result"
    }
   ],
   "source": [
    "trump['source'].unique()"
   ]
  },
  {
   "cell_type": "markdown",
   "metadata": {
    "deletable": false,
    "editable": false,
    "nbgrader": {
     "grade": false,
     "grade_id": "q4a",
     "locked": true,
     "schema_version": 2,
     "solution": false
    }
   },
   "source": [
    "## Question 2\n",
    "\n",
    "Notice how sources like \"Twitter for Android\" or \"Instagram\" are surrounded by HTML tags. In the cell below, clean up the `source` field by removing the HTML tags from each `source` entry.\n",
    "\n",
    "**Hints:** \n",
    "* Use `trump['source'].str.replace` along with a regular expression.\n",
    "* You may find it helpful to experiment with regular expressions at [regex101.com](https://regex101.com/).\n",
    "\n",
    "<!--\n",
    "BEGIN QUESTION\n",
    "name: q2\n",
    "points: 1\n",
    "-->"
   ]
  },
  {
   "cell_type": "code",
   "execution_count": 10,
   "metadata": {
    "nbgrader": {
     "grade": false,
     "grade_id": "q4a-answer",
     "locked": false,
     "schema_version": 2,
     "solution": true
    }
   },
   "outputs": [
    {
     "data": {
      "text/html": [
       "<div>\n",
       "<style scoped>\n",
       "    .dataframe tbody tr th:only-of-type {\n",
       "        vertical-align: middle;\n",
       "    }\n",
       "\n",
       "    .dataframe tbody tr th {\n",
       "        vertical-align: top;\n",
       "    }\n",
       "\n",
       "    .dataframe thead th {\n",
       "        text-align: right;\n",
       "    }\n",
       "</style>\n",
       "<table border=\"1\" class=\"dataframe\">\n",
       "  <thead>\n",
       "    <tr style=\"text-align: right;\">\n",
       "      <th></th>\n",
       "      <th>time</th>\n",
       "      <th>source</th>\n",
       "      <th>text</th>\n",
       "      <th>retweet_count</th>\n",
       "    </tr>\n",
       "  </thead>\n",
       "  <tbody>\n",
       "    <tr>\n",
       "      <th>690171032150237184</th>\n",
       "      <td>2016-01-21 13:56:11+00:00</td>\n",
       "      <td>Twitter for Android</td>\n",
       "      <td>\"@bigop1: @realDonaldTrump  @SarahPalinUSA https://t.co/3kYQGqeVyD\"</td>\n",
       "      <td>1059</td>\n",
       "    </tr>\n",
       "    <tr>\n",
       "      <th>690171403388104704</th>\n",
       "      <td>2016-01-21 13:57:39+00:00</td>\n",
       "      <td>Twitter for Android</td>\n",
       "      <td>\"@AmericanAsPie:  @glennbeck @SarahPalinUSA Remember when Glenn gave out gifts to ILLEGAL ALIENS at crossing the border? Me too!\"</td>\n",
       "      <td>1339</td>\n",
       "    </tr>\n",
       "    <tr>\n",
       "      <th>690173226341691392</th>\n",
       "      <td>2016-01-21 14:04:54+00:00</td>\n",
       "      <td>Twitter for Android</td>\n",
       "      <td>So sad that @CNN and many others refused to show the massive crowd at the arena yesterday in Oklahoma. Dishonest reporting!</td>\n",
       "      <td>2006</td>\n",
       "    </tr>\n",
       "    <tr>\n",
       "      <th>690176882055114758</th>\n",
       "      <td>2016-01-21 14:19:26+00:00</td>\n",
       "      <td>Twitter for Android</td>\n",
       "      <td>Sad sack @JebBush has just done another ad on me, with special interest money, saying I won't beat Hillary - I WILL. But he can't beat me.</td>\n",
       "      <td>2266</td>\n",
       "    </tr>\n",
       "    <tr>\n",
       "      <th>690180284189310976</th>\n",
       "      <td>2016-01-21 14:32:57+00:00</td>\n",
       "      <td>Twitter for Android</td>\n",
       "      <td>Low energy candidate @JebBush has wasted $80 million on his failed presidential campaign. Millions spent on me. He should go home and relax!</td>\n",
       "      <td>2886</td>\n",
       "    </tr>\n",
       "    <tr>\n",
       "      <th>...</th>\n",
       "      <td>...</td>\n",
       "      <td>...</td>\n",
       "      <td>...</td>\n",
       "      <td>...</td>\n",
       "    </tr>\n",
       "    <tr>\n",
       "      <th>1096547516290543617</th>\n",
       "      <td>2019-02-15 23:11:15+00:00</td>\n",
       "      <td>Twitter for iPhone</td>\n",
       "      <td>Great job by law enforcement in Aurora, Illinois. Heartfelt condolences to all of the victims and their families. America is with you!</td>\n",
       "      <td>21296</td>\n",
       "    </tr>\n",
       "    <tr>\n",
       "      <th>1096812333333184512</th>\n",
       "      <td>2019-02-16 16:43:32+00:00</td>\n",
       "      <td>Twitter for iPhone</td>\n",
       "      <td>https://t.co/f6Jd2FzayZ</td>\n",
       "      <td>17134</td>\n",
       "    </tr>\n",
       "    <tr>\n",
       "      <th>1096856815810342912</th>\n",
       "      <td>2019-02-16 19:40:18+00:00</td>\n",
       "      <td>Twitter for iPhone</td>\n",
       "      <td>https://t.co/nJORBjwint</td>\n",
       "      <td>29569</td>\n",
       "    </tr>\n",
       "    <tr>\n",
       "      <th>1096924708132581377</th>\n",
       "      <td>2019-02-17 00:10:04+00:00</td>\n",
       "      <td>Twitter for iPhone</td>\n",
       "      <td>BUILDING THE WALL!</td>\n",
       "      <td>21811</td>\n",
       "    </tr>\n",
       "    <tr>\n",
       "      <th>1096926633708134406</th>\n",
       "      <td>2019-02-17 00:17:44+00:00</td>\n",
       "      <td>Twitter for iPhone</td>\n",
       "      <td>Trade negotiators have just returned from China where the meetings on Trade were very productive. Now at meetings with me at Mar-a-Lago giving the details. In the meantime, Billions of Dollars are being paid to the United States by China in the form of Trade Tariffs!</td>\n",
       "      <td>8325</td>\n",
       "    </tr>\n",
       "  </tbody>\n",
       "</table>\n",
       "<p>10370 rows × 4 columns</p>\n",
       "</div>"
      ],
      "text/plain": [
       "                                         time               source  \\\n",
       "690171032150237184  2016-01-21 13:56:11+00:00  Twitter for Android   \n",
       "690171403388104704  2016-01-21 13:57:39+00:00  Twitter for Android   \n",
       "690173226341691392  2016-01-21 14:04:54+00:00  Twitter for Android   \n",
       "690176882055114758  2016-01-21 14:19:26+00:00  Twitter for Android   \n",
       "690180284189310976  2016-01-21 14:32:57+00:00  Twitter for Android   \n",
       "...                                       ...                  ...   \n",
       "1096547516290543617 2019-02-15 23:11:15+00:00   Twitter for iPhone   \n",
       "1096812333333184512 2019-02-16 16:43:32+00:00   Twitter for iPhone   \n",
       "1096856815810342912 2019-02-16 19:40:18+00:00   Twitter for iPhone   \n",
       "1096924708132581377 2019-02-17 00:10:04+00:00   Twitter for iPhone   \n",
       "1096926633708134406 2019-02-17 00:17:44+00:00   Twitter for iPhone   \n",
       "\n",
       "                                                                                                                                                                                                                                                                                            text  \\\n",
       "690171032150237184                                                                                                                                                                                                           \"@bigop1: @realDonaldTrump  @SarahPalinUSA https://t.co/3kYQGqeVyD\"   \n",
       "690171403388104704                                                                                                                                             \"@AmericanAsPie:  @glennbeck @SarahPalinUSA Remember when Glenn gave out gifts to ILLEGAL ALIENS at crossing the border? Me too!\"   \n",
       "690173226341691392                                                                                                                                                   So sad that @CNN and many others refused to show the massive crowd at the arena yesterday in Oklahoma. Dishonest reporting!   \n",
       "690176882055114758                                                                                                                                    Sad sack @JebBush has just done another ad on me, with special interest money, saying I won't beat Hillary - I WILL. But he can't beat me.   \n",
       "690180284189310976                                                                                                                                  Low energy candidate @JebBush has wasted $80 million on his failed presidential campaign. Millions spent on me. He should go home and relax!   \n",
       "...                                                                                                                                                                                                                                                                                          ...   \n",
       "1096547516290543617                                                                                                                                       Great job by law enforcement in Aurora, Illinois. Heartfelt condolences to all of the victims and their families. America is with you!   \n",
       "1096812333333184512                                                                                                                                                                                                                                                      https://t.co/f6Jd2FzayZ   \n",
       "1096856815810342912                                                                                                                                                                                                                                                      https://t.co/nJORBjwint   \n",
       "1096924708132581377                                                                                                                                                                                                                                                           BUILDING THE WALL!   \n",
       "1096926633708134406  Trade negotiators have just returned from China where the meetings on Trade were very productive. Now at meetings with me at Mar-a-Lago giving the details. In the meantime, Billions of Dollars are being paid to the United States by China in the form of Trade Tariffs!   \n",
       "\n",
       "                     retweet_count  \n",
       "690171032150237184            1059  \n",
       "690171403388104704            1339  \n",
       "690173226341691392            2006  \n",
       "690176882055114758            2266  \n",
       "690180284189310976            2886  \n",
       "...                            ...  \n",
       "1096547516290543617          21296  \n",
       "1096812333333184512          17134  \n",
       "1096856815810342912          29569  \n",
       "1096924708132581377          21811  \n",
       "1096926633708134406           8325  \n",
       "\n",
       "[10370 rows x 4 columns]"
      ]
     },
     "execution_count": 10,
     "metadata": {},
     "output_type": "execute_result"
    }
   ],
   "source": [
    "## Uncomment and complete\n",
    "trump['source'] = trump['source'].str.replace(r'<[^>]*>', '')\n",
    "trump"
   ]
  },
  {
   "cell_type": "code",
   "execution_count": 11,
   "metadata": {
    "deletable": false,
    "editable": false
   },
   "outputs": [
    {
     "data": {
      "text/html": [
       "\n",
       "    \n",
       "    \n",
       "        <p>All tests passed!</p>\n",
       "    \n",
       "    "
      ],
      "text/plain": [
       "\n",
       "    All tests passed!\n",
       "    "
      ]
     },
     "execution_count": 11,
     "metadata": {},
     "output_type": "execute_result"
    }
   ],
   "source": [
    "grader.check(\"q2\")"
   ]
  },
  {
   "cell_type": "markdown",
   "metadata": {
    "nbgrader": {
     "grade": false,
     "grade_id": "note-about-device-usage",
     "locked": true,
     "schema_version": 2,
     "solution": false
    }
   },
   "source": [
    "In the following plot, we see that there are two device types that are more commonly used than others."
   ]
  },
  {
   "cell_type": "code",
   "execution_count": 12,
   "metadata": {
    "nbgrader": {
     "grade": false,
     "grade_id": "device-usage-plot",
     "locked": true,
     "schema_version": 2,
     "solution": false
    }
   },
   "outputs": [
    {
     "data": {
      "image/png": "[encoded data removed]",
      "text/plain": [
       "<Figure size 576x432 with 1 Axes>"
      ]
     },
     "metadata": {},
     "output_type": "display_data"
    }
   ],
   "source": [
    "plt.figure(figsize=(8, 6))\n",
    "trump['source'].value_counts().plot(kind=\"bar\")\n",
    "plt.xlabel('Source')\n",
    "plt.ylabel(\"Number of Tweets\")\n",
    "plt.title(\"Number of Tweets by Source\");"
   ]
  },
  {
   "cell_type": "markdown",
   "metadata": {
    "nbgrader": {
     "grade": false,
     "grade_id": "q5",
     "locked": true,
     "schema_version": 2,
     "solution": false
    }
   },
   "source": [
    "## Question 3\n",
    "\n",
    "Now that we have cleaned up the `source` field, let's look at which device Trump has used over the entire time period of this dataset.\n",
    "\n",
    "To examine the distribution of dates we will convert the date to a fractional year that can be plotted as a distribution.\n",
    "\n",
    "(Code borrowed from this [link](https://stackoverflow.com/questions/6451655/python-how-to-convert-datetime-dates-to-decimal-years))"
   ]
  },
  {
   "cell_type": "code",
   "execution_count": 13,
   "metadata": {
    "nbgrader": {
     "grade": false,
     "grade_id": "fractional-year",
     "locked": true,
     "schema_version": 2,
     "solution": false
    }
   },
   "outputs": [],
   "source": [
    "import datetime\n",
    "def year_fraction(date):\n",
    "    start = datetime.date(date.year, 1, 1).toordinal()\n",
    "    year_length = datetime.date(date.year+1, 1, 1).toordinal() - start\n",
    "    return date.year + float(date.toordinal() - start) / year_length\n",
    "\n",
    "trump['year'] = trump['time'].apply(year_fraction)"
   ]
  },
  {
   "cell_type": "markdown",
   "metadata": {
    "deletable": false,
    "editable": false,
    "nbgrader": {
     "grade": false,
     "grade_id": "q5a",
     "locked": true,
     "schema_version": 2,
     "solution": false
    }
   },
   "source": [
    "<!-- BEGIN QUESTION -->\n",
    "\n",
    "Now, use `sns.distplot` to overlay the distributions of Trump's 2 most frequently used web technologies over the years. Your final plot should look similar to the plot below:\n",
    "\n",
    "<img src=\"images/source_years_q3.png\" width=\"600px\" />\n",
    "\n",
    "<!--\n",
    "BEGIN QUESTION\n",
    "name: q3\n",
    "points: 2\n",
    "manual: true\n",
    "-->"
   ]
  },
  {
   "cell_type": "code",
   "execution_count": 14,
   "metadata": {
    "nbgrader": {
     "grade": true,
     "grade_id": "q5a-answer",
     "locked": false,
     "points": 2,
     "schema_version": 2,
     "solution": true
    },
    "scrolled": false
   },
   "outputs": [
    {
     "data": {
      "image/png": "[encoded data removed]",
      "text/plain": [
       "<Figure size 432x288 with 1 Axes>"
      ]
     },
     "metadata": {},
     "output_type": "display_data"
    }
   ],
   "source": [
    "iphone = trump[trump['source'] == 'Twitter for iPhone']['year']\n",
    "android = trump[trump['source'] == 'Twitter for Android']['year']\n",
    "sns.distplot(iphone, label = 'iPhone')\n",
    "sns.distplot(android, label = 'Andriod')\n",
    "plt.xlabel('year')\n",
    "plt.title('Distributions of Tweet Sources Over Years')\n",
    "plt.legend();"
   ]
  },
  {
   "cell_type": "markdown",
   "metadata": {
    "nbgrader": {
     "grade": false,
     "grade_id": "q4b",
     "locked": true,
     "schema_version": 2,
     "solution": false
    }
   },
   "source": [
    "<!-- END QUESTION -->\n",
    "\n",
    "\n",
    "\n",
    "## Question 4\n",
    "\n",
    "\n",
    "Is there a difference between Trump's tweet behavior across these devices? We will attempt to answer this question in our subsequent analysis.\n",
    "\n",
    "First, we'll take a look at whether Trump's tweets from an Android device come at different times than his tweets from an iPhone. Note that Twitter gives us his tweets in the [UTC timezone](https://www.wikiwand.com/en/List_of_UTC_time_offsets) (notice the `+0000` in the first few tweets)."
   ]
  },
  {
   "cell_type": "code",
   "execution_count": 15,
   "metadata": {
    "nbgrader": {
     "grade": false,
     "grade_id": "tweet-created-at",
     "locked": true,
     "schema_version": 2,
     "solution": false
    }
   },
   "outputs": [
    {
     "name": "stdout",
     "output_type": "stream",
     "text": [
      "Wed Oct 12 14:00:48 +0000 2016\n",
      "Wed Oct 12 13:46:43 +0000 2016\n",
      "Wed Oct 12 12:59:05 +0000 2016\n"
     ]
    }
   ],
   "source": [
    "for tweet in all_tweets[:3]:\n",
    "    print(tweet['created_at'])"
   ]
  },
  {
   "cell_type": "markdown",
   "metadata": {
    "nbgrader": {
     "grade": false,
     "grade_id": "convert-to-est-justification",
     "locked": true,
     "schema_version": 2,
     "solution": false
    }
   },
   "source": [
    "We'll convert the tweet times to US Eastern Time, the timezone of New York and Washington D.C., since those are the places we would expect the most tweet activity from Trump."
   ]
  },
  {
   "cell_type": "code",
   "execution_count": 16,
   "metadata": {
    "nbgrader": {
     "grade": false,
     "grade_id": "convert-to-est",
     "locked": true,
     "schema_version": 2,
     "solution": false
    }
   },
   "outputs": [
    {
     "data": {
      "text/html": [
       "<div>\n",
       "<style scoped>\n",
       "    .dataframe tbody tr th:only-of-type {\n",
       "        vertical-align: middle;\n",
       "    }\n",
       "\n",
       "    .dataframe tbody tr th {\n",
       "        vertical-align: top;\n",
       "    }\n",
       "\n",
       "    .dataframe thead th {\n",
       "        text-align: right;\n",
       "    }\n",
       "</style>\n",
       "<table border=\"1\" class=\"dataframe\">\n",
       "  <thead>\n",
       "    <tr style=\"text-align: right;\">\n",
       "      <th></th>\n",
       "      <th>time</th>\n",
       "      <th>source</th>\n",
       "      <th>text</th>\n",
       "      <th>retweet_count</th>\n",
       "      <th>year</th>\n",
       "      <th>est_time</th>\n",
       "    </tr>\n",
       "  </thead>\n",
       "  <tbody>\n",
       "    <tr>\n",
       "      <th>690171032150237184</th>\n",
       "      <td>2016-01-21 13:56:11+00:00</td>\n",
       "      <td>Twitter for Android</td>\n",
       "      <td>\"@bigop1: @realDonaldTrump  @SarahPalinUSA https://t.co/3kYQGqeVyD\"</td>\n",
       "      <td>1059</td>\n",
       "      <td>2016.054645</td>\n",
       "      <td>2016-01-21 08:56:11-05:00</td>\n",
       "    </tr>\n",
       "    <tr>\n",
       "      <th>690171403388104704</th>\n",
       "      <td>2016-01-21 13:57:39+00:00</td>\n",
       "      <td>Twitter for Android</td>\n",
       "      <td>\"@AmericanAsPie:  @glennbeck @SarahPalinUSA Remember when Glenn gave out gifts to ILLEGAL ALIENS at crossing the border? Me too!\"</td>\n",
       "      <td>1339</td>\n",
       "      <td>2016.054645</td>\n",
       "      <td>2016-01-21 08:57:39-05:00</td>\n",
       "    </tr>\n",
       "    <tr>\n",
       "      <th>690173226341691392</th>\n",
       "      <td>2016-01-21 14:04:54+00:00</td>\n",
       "      <td>Twitter for Android</td>\n",
       "      <td>So sad that @CNN and many others refused to show the massive crowd at the arena yesterday in Oklahoma. Dishonest reporting!</td>\n",
       "      <td>2006</td>\n",
       "      <td>2016.054645</td>\n",
       "      <td>2016-01-21 09:04:54-05:00</td>\n",
       "    </tr>\n",
       "    <tr>\n",
       "      <th>690176882055114758</th>\n",
       "      <td>2016-01-21 14:19:26+00:00</td>\n",
       "      <td>Twitter for Android</td>\n",
       "      <td>Sad sack @JebBush has just done another ad on me, with special interest money, saying I won't beat Hillary - I WILL. But he can't beat me.</td>\n",
       "      <td>2266</td>\n",
       "      <td>2016.054645</td>\n",
       "      <td>2016-01-21 09:19:26-05:00</td>\n",
       "    </tr>\n",
       "    <tr>\n",
       "      <th>690180284189310976</th>\n",
       "      <td>2016-01-21 14:32:57+00:00</td>\n",
       "      <td>Twitter for Android</td>\n",
       "      <td>Low energy candidate @JebBush has wasted $80 million on his failed presidential campaign. Millions spent on me. He should go home and relax!</td>\n",
       "      <td>2886</td>\n",
       "      <td>2016.054645</td>\n",
       "      <td>2016-01-21 09:32:57-05:00</td>\n",
       "    </tr>\n",
       "  </tbody>\n",
       "</table>\n",
       "</div>"
      ],
      "text/plain": [
       "                                        time               source  \\\n",
       "690171032150237184 2016-01-21 13:56:11+00:00  Twitter for Android   \n",
       "690171403388104704 2016-01-21 13:57:39+00:00  Twitter for Android   \n",
       "690173226341691392 2016-01-21 14:04:54+00:00  Twitter for Android   \n",
       "690176882055114758 2016-01-21 14:19:26+00:00  Twitter for Android   \n",
       "690180284189310976 2016-01-21 14:32:57+00:00  Twitter for Android   \n",
       "\n",
       "                                                                                                                                                            text  \\\n",
       "690171032150237184                                                                           \"@bigop1: @realDonaldTrump  @SarahPalinUSA https://t.co/3kYQGqeVyD\"   \n",
       "690171403388104704             \"@AmericanAsPie:  @glennbeck @SarahPalinUSA Remember when Glenn gave out gifts to ILLEGAL ALIENS at crossing the border? Me too!\"   \n",
       "690173226341691392                   So sad that @CNN and many others refused to show the massive crowd at the arena yesterday in Oklahoma. Dishonest reporting!   \n",
       "690176882055114758    Sad sack @JebBush has just done another ad on me, with special interest money, saying I won't beat Hillary - I WILL. But he can't beat me.   \n",
       "690180284189310976  Low energy candidate @JebBush has wasted $80 million on his failed presidential campaign. Millions spent on me. He should go home and relax!   \n",
       "\n",
       "                    retweet_count         year                  est_time  \n",
       "690171032150237184           1059  2016.054645 2016-01-21 08:56:11-05:00  \n",
       "690171403388104704           1339  2016.054645 2016-01-21 08:57:39-05:00  \n",
       "690173226341691392           2006  2016.054645 2016-01-21 09:04:54-05:00  \n",
       "690176882055114758           2266  2016.054645 2016-01-21 09:19:26-05:00  \n",
       "690180284189310976           2886  2016.054645 2016-01-21 09:32:57-05:00  "
      ]
     },
     "execution_count": 16,
     "metadata": {},
     "output_type": "execute_result"
    }
   ],
   "source": [
    "trump['est_time'] = (\n",
    "    trump['time'].dt.tz_convert(\"EST\") # Convert to Eastern Time\n",
    ")\n",
    "trump.head()"
   ]
  },
  {
   "cell_type": "markdown",
   "metadata": {
    "deletable": false,
    "editable": false,
    "nbgrader": {
     "grade": false,
     "grade_id": "need-to-do",
     "locked": true,
     "schema_version": 2,
     "solution": false
    }
   },
   "source": [
    "### Question 4a\n",
    "\n",
    "Add a column called `hour` to the `trump` table which contains the hour of the day as floating point number computed by:\n",
    "\n",
    "$$\n",
    "\\text{hour} + \\frac{\\text{minute}}{60} + \\frac{\\text{second}}{60^2}\n",
    "$$\n",
    "\n",
    "* **Hint:** See the cell above for an example of working with [dt accessors](https://pandas.pydata.org/pandas-docs/stable/user_guide/basics.html#dt-accessor). You should use the `est_time` column to calculate the hour.\n",
    "\n",
    "<!--\n",
    "BEGIN QUESTION\n",
    "name: q4a\n",
    "points: 1\n",
    "-->"
   ]
  },
  {
   "cell_type": "code",
   "execution_count": 17,
   "metadata": {
    "nbgrader": {
     "grade": false,
     "grade_id": "q4b-answer",
     "locked": false,
     "schema_version": 2,
     "solution": true
    },
    "tags": [
     "student"
    ]
   },
   "outputs": [
    {
     "data": {
      "text/html": [
       "<div>\n",
       "<style scoped>\n",
       "    .dataframe tbody tr th:only-of-type {\n",
       "        vertical-align: middle;\n",
       "    }\n",
       "\n",
       "    .dataframe tbody tr th {\n",
       "        vertical-align: top;\n",
       "    }\n",
       "\n",
       "    .dataframe thead th {\n",
       "        text-align: right;\n",
       "    }\n",
       "</style>\n",
       "<table border=\"1\" class=\"dataframe\">\n",
       "  <thead>\n",
       "    <tr style=\"text-align: right;\">\n",
       "      <th></th>\n",
       "      <th>time</th>\n",
       "      <th>source</th>\n",
       "      <th>text</th>\n",
       "      <th>retweet_count</th>\n",
       "      <th>year</th>\n",
       "      <th>est_time</th>\n",
       "      <th>hour</th>\n",
       "    </tr>\n",
       "  </thead>\n",
       "  <tbody>\n",
       "    <tr>\n",
       "      <th>690171032150237184</th>\n",
       "      <td>2016-01-21 13:56:11+00:00</td>\n",
       "      <td>Twitter for Android</td>\n",
       "      <td>\"@bigop1: @realDonaldTrump  @SarahPalinUSA https://t.co/3kYQGqeVyD\"</td>\n",
       "      <td>1059</td>\n",
       "      <td>2016.054645</td>\n",
       "      <td>2016-01-21 08:56:11-05:00</td>\n",
       "      <td>8.936389</td>\n",
       "    </tr>\n",
       "    <tr>\n",
       "      <th>690171403388104704</th>\n",
       "      <td>2016-01-21 13:57:39+00:00</td>\n",
       "      <td>Twitter for Android</td>\n",
       "      <td>\"@AmericanAsPie:  @glennbeck @SarahPalinUSA Remember when Glenn gave out gifts to ILLEGAL ALIENS at crossing the border? Me too!\"</td>\n",
       "      <td>1339</td>\n",
       "      <td>2016.054645</td>\n",
       "      <td>2016-01-21 08:57:39-05:00</td>\n",
       "      <td>8.960833</td>\n",
       "    </tr>\n",
       "    <tr>\n",
       "      <th>690173226341691392</th>\n",
       "      <td>2016-01-21 14:04:54+00:00</td>\n",
       "      <td>Twitter for Android</td>\n",
       "      <td>So sad that @CNN and many others refused to show the massive crowd at the arena yesterday in Oklahoma. Dishonest reporting!</td>\n",
       "      <td>2006</td>\n",
       "      <td>2016.054645</td>\n",
       "      <td>2016-01-21 09:04:54-05:00</td>\n",
       "      <td>9.081667</td>\n",
       "    </tr>\n",
       "    <tr>\n",
       "      <th>690176882055114758</th>\n",
       "      <td>2016-01-21 14:19:26+00:00</td>\n",
       "      <td>Twitter for Android</td>\n",
       "      <td>Sad sack @JebBush has just done another ad on me, with special interest money, saying I won't beat Hillary - I WILL. But he can't beat me.</td>\n",
       "      <td>2266</td>\n",
       "      <td>2016.054645</td>\n",
       "      <td>2016-01-21 09:19:26-05:00</td>\n",
       "      <td>9.323889</td>\n",
       "    </tr>\n",
       "    <tr>\n",
       "      <th>690180284189310976</th>\n",
       "      <td>2016-01-21 14:32:57+00:00</td>\n",
       "      <td>Twitter for Android</td>\n",
       "      <td>Low energy candidate @JebBush has wasted $80 million on his failed presidential campaign. Millions spent on me. He should go home and relax!</td>\n",
       "      <td>2886</td>\n",
       "      <td>2016.054645</td>\n",
       "      <td>2016-01-21 09:32:57-05:00</td>\n",
       "      <td>9.549167</td>\n",
       "    </tr>\n",
       "  </tbody>\n",
       "</table>\n",
       "</div>"
      ],
      "text/plain": [
       "                                        time               source  \\\n",
       "690171032150237184 2016-01-21 13:56:11+00:00  Twitter for Android   \n",
       "690171403388104704 2016-01-21 13:57:39+00:00  Twitter for Android   \n",
       "690173226341691392 2016-01-21 14:04:54+00:00  Twitter for Android   \n",
       "690176882055114758 2016-01-21 14:19:26+00:00  Twitter for Android   \n",
       "690180284189310976 2016-01-21 14:32:57+00:00  Twitter for Android   \n",
       "\n",
       "                                                                                                                                                            text  \\\n",
       "690171032150237184                                                                           \"@bigop1: @realDonaldTrump  @SarahPalinUSA https://t.co/3kYQGqeVyD\"   \n",
       "690171403388104704             \"@AmericanAsPie:  @glennbeck @SarahPalinUSA Remember when Glenn gave out gifts to ILLEGAL ALIENS at crossing the border? Me too!\"   \n",
       "690173226341691392                   So sad that @CNN and many others refused to show the massive crowd at the arena yesterday in Oklahoma. Dishonest reporting!   \n",
       "690176882055114758    Sad sack @JebBush has just done another ad on me, with special interest money, saying I won't beat Hillary - I WILL. But he can't beat me.   \n",
       "690180284189310976  Low energy candidate @JebBush has wasted $80 million on his failed presidential campaign. Millions spent on me. He should go home and relax!   \n",
       "\n",
       "                    retweet_count         year                  est_time  \\\n",
       "690171032150237184           1059  2016.054645 2016-01-21 08:56:11-05:00   \n",
       "690171403388104704           1339  2016.054645 2016-01-21 08:57:39-05:00   \n",
       "690173226341691392           2006  2016.054645 2016-01-21 09:04:54-05:00   \n",
       "690176882055114758           2266  2016.054645 2016-01-21 09:19:26-05:00   \n",
       "690180284189310976           2886  2016.054645 2016-01-21 09:32:57-05:00   \n",
       "\n",
       "                        hour  \n",
       "690171032150237184  8.936389  \n",
       "690171403388104704  8.960833  \n",
       "690173226341691392  9.081667  \n",
       "690176882055114758  9.323889  \n",
       "690180284189310976  9.549167  "
      ]
     },
     "execution_count": 17,
     "metadata": {},
     "output_type": "execute_result"
    }
   ],
   "source": [
    "trump['hour'] = trump['est_time'].dt.hour + ((trump['est_time'].dt.minute)/60) + ((trump['est_time'].dt.second)/(60 ** 2))\n",
    "trump.head()"
   ]
  },
  {
   "cell_type": "code",
   "execution_count": 18,
   "metadata": {
    "deletable": false,
    "editable": false
   },
   "outputs": [
    {
     "data": {
      "text/html": [
       "\n",
       "    \n",
       "    \n",
       "        <p>All tests passed!</p>\n",
       "    \n",
       "    "
      ],
      "text/plain": [
       "\n",
       "    All tests passed!\n",
       "    "
      ]
     },
     "execution_count": 18,
     "metadata": {},
     "output_type": "execute_result"
    }
   ],
   "source": [
    "grader.check(\"q4a\")"
   ]
  },
  {
   "cell_type": "markdown",
   "metadata": {
    "deletable": false,
    "editable": false,
    "nbgrader": {
     "grade": false,
     "grade_id": "q4c",
     "locked": true,
     "schema_version": 2,
     "solution": false
    }
   },
   "source": [
    "<!-- BEGIN QUESTION -->\n",
    "\n",
    "### Question 4b\n",
    "\n",
    "Use this data along with the seaborn `distplot` function to examine the distribution over hours of the day in eastern time that Trump tweets on each device for the 2 most commonly used devices.  Your final plot should look similar to the following:\n",
    "\n",
    "<img src=\"images/device_hour4b.png\" width=\"600px\" />\n",
    "\n",
    "<!--\n",
    "BEGIN QUESTION\n",
    "name: q4b\n",
    "points: 2\n",
    "manual: true\n",
    "-->"
   ]
  },
  {
   "cell_type": "code",
   "execution_count": 19,
   "metadata": {
    "nbgrader": {
     "grade": true,
     "grade_id": "q4c-answer",
     "locked": false,
     "points": 2,
     "schema_version": 2,
     "solution": true
    }
   },
   "outputs": [
    {
     "data": {
      "image/png": "[encoded data removed]",
      "text/plain": [
       "<Figure size 432x288 with 1 Axes>"
      ]
     },
     "metadata": {},
     "output_type": "display_data"
    }
   ],
   "source": [
    "### make your plot here\n",
    "hours_iphone = trump[trump['source'] == 'Twitter for iPhone']['hour']\n",
    "hours_android = trump[trump['source'] == 'Twitter for Android']['hour']\n",
    "sns.distplot(hours_iphone, hist = False, label = 'iPhone')\n",
    "sns.distplot(hours_android, hist= False,  label = 'Andriod')\n",
    "plt.xlabel('hour')\n",
    "plt.ylabel('fraction')\n",
    "plt.title('Distributions of Tweet Hours for Different Tweet Sources')\n",
    "plt.legend();"
   ]
  },
  {
   "cell_type": "markdown",
   "metadata": {
    "deletable": false,
    "editable": false,
    "nbgrader": {
     "grade": false,
     "grade_id": "q4d",
     "locked": true,
     "schema_version": 2,
     "solution": false
    }
   },
   "source": [
    "<!-- END QUESTION -->\n",
    "\n",
    "<!-- BEGIN QUESTION -->\n",
    "\n",
    "### Question 4c\n",
    "\n",
    "According to [this Verge article](https://www.theverge.com/2017/3/29/15103504/donald-trump-iphone-using-switched-android), Donald Trump switched from an Android to an iPhone sometime in March 2017.\n",
    "\n",
    "Let's see if this information significantly changes our plot. Create a figure similar to your figure from question 4b, but this time, only use tweets that were tweeted before 2017. Your plot should look similar to the following:\n",
    "\n",
    "<img src=\"images/device_hour4c.png\" width=\"600px\" />\n",
    "\n",
    "<!--\n",
    "BEGIN QUESTION\n",
    "name: q4c\n",
    "points: 2\n",
    "manual: true\n",
    "-->"
   ]
  },
  {
   "cell_type": "code",
   "execution_count": 20,
   "metadata": {
    "nbgrader": {
     "grade": true,
     "grade_id": "cell-9d60149ec24272e3",
     "locked": false,
     "points": 0,
     "schema_version": 2,
     "solution": true
    }
   },
   "outputs": [
    {
     "data": {
      "image/png": "[encoded data removed]",
      "text/plain": [
       "<Figure size 432x288 with 1 Axes>"
      ]
     },
     "metadata": {},
     "output_type": "display_data"
    }
   ],
   "source": [
    "### make your plot here\n",
    "pre_2017 = trump[trump['year'] < 2017]\n",
    "pre_2017_iphone = pre_2017[pre_2017['source'] == 'Twitter for iPhone']['hour']\n",
    "pre_2017_android = pre_2017[pre_2017['source'] == 'Twitter for Android']['hour']\n",
    "sns.distplot(pre_2017_iphone, hist = False, label = 'iPhone')\n",
    "sns.distplot(pre_2017_android, hist= False,  label = 'Andriod')\n",
    "plt.xlabel('hour')\n",
    "plt.ylabel('fraction')\n",
    "plt.title('Distributions of Tweet Hours for Different Tweet Sources (pre-2017)')\n",
    "plt.legend();"
   ]
  },
  {
   "cell_type": "markdown",
   "metadata": {
    "deletable": false,
    "editable": false
   },
   "source": [
    "<!-- END QUESTION -->\n",
    "\n",
    "<!-- BEGIN QUESTION -->\n",
    "\n",
    "### Question 4d\n",
    "\n",
    "During the campaign, it was theorized that Donald Trump's tweets from Android devices were written by him personally, and the tweets from iPhones were from his staff. Does your figure give support to this theory? What kinds of additional analysis could help support or reject this claim?\n",
    "\n",
    "<!--\n",
    "BEGIN QUESTION\n",
    "name: q4d\n",
    "points: 1\n",
    "manual: true\n",
    "-->"
   ]
  },
  {
   "cell_type": "markdown",
   "metadata": {},
   "source": [
    "Yes, the figure supports the theory, because it can be observed that tweets from Android devices were usually in the morning, most likely when Donald Trump himself is tweeting and the tweets from the iPhone devices were more frequent throughout the day, which is when his staff are usually working (writing the tweets). To add support for this claim it would be helpful to analyze "
   ]
  },
  {
   "cell_type": "markdown",
   "metadata": {
    "nbgrader": {
     "grade": false,
     "grade_id": "q6-header",
     "locked": true,
     "schema_version": 2,
     "solution": false
    }
   },
   "source": [
    "<!-- END QUESTION -->\n",
    "\n",
    "\n",
    "\n",
    "---\n",
    "# Part 3: Sentiment Analysis\n",
    "\n",
    "It turns out that we can use the words in Trump's tweets to calculate a measure of the sentiment of the tweet. For example, the sentence \"I love America!\" has positive sentiment, whereas the sentence \"I hate taxes!\" has a negative sentiment. In addition, some words have stronger positive / negative sentiment than others: \"I love America.\" is more positive than \"I like America.\"\n",
    "\n",
    "We will use the [VADER (Valence Aware Dictionary and sEntiment Reasoner)](https://github.com/cjhutto/vaderSentiment) lexicon to analyze the sentiment of Trump's tweets. VADER is a lexicon and rule-based sentiment analysis tool that is specifically attuned to sentiments expressed in social media which is great for our usage.\n",
    "\n",
    "The VADER lexicon gives the sentiment of individual words. Run the following cell to show the first few rows of the lexicon:"
   ]
  },
  {
   "cell_type": "code",
   "execution_count": 21,
   "metadata": {
    "nbgrader": {
     "grade": false,
     "grade_id": "head-vader",
     "locked": true,
     "schema_version": 2,
     "solution": false
    }
   },
   "outputs": [
    {
     "name": "stdout",
     "output_type": "stream",
     "text": [
      "$:\t-1.5\t0.80623\t[-1, -1, -1, -1, -3, -1, -3, -1, -2, -1]\n",
      "%)\t-0.4\t1.0198\t[-1, 0, -1, 0, 0, -2, -1, 2, -1, 0]\n",
      "%-)\t-1.5\t1.43178\t[-2, 0, -2, -2, -1, 2, -2, -3, -2, -3]\n",
      "&-:\t-0.4\t1.42829\t[-3, -1, 0, 0, -1, -1, -1, 2, -1, 2]\n",
      "&:\t-0.7\t0.64031\t[0, -1, -1, -1, 1, -1, -1, -1, -1, -1]\n",
      "( '}{' )\t1.6\t0.66332\t[1, 2, 2, 1, 1, 2, 2, 1, 3, 1]\n",
      "(%\t-0.9\t0.9434\t[0, 0, 1, -1, -1, -1, -2, -2, -1, -2]\n",
      "('-:\t2.2\t1.16619\t[4, 1, 4, 3, 1, 2, 3, 1, 2, 1]\n",
      "(':\t2.3\t0.9\t[1, 3, 3, 2, 2, 4, 2, 3, 1, 2]\n",
      "((-:\t2.1\t0.53852\t[2, 2, 2, 1, 2, 3, 2, 2, 3, 2]\n",
      "\n"
     ]
    }
   ],
   "source": [
    "print(''.join(open(\"vader_lexicon.txt\").readlines()[:10]))"
   ]
  },
  {
   "cell_type": "markdown",
   "metadata": {},
   "source": [
    "As you can see, the lexicon contains emojis too! Each row contains a word and the *polarity* of that word, measuring how positive or negative the word is."
   ]
  },
  {
   "cell_type": "markdown",
   "metadata": {
    "deletable": false,
    "editable": false,
    "nbgrader": {
     "grade": false,
     "grade_id": "q6a-header",
     "locked": true,
     "schema_version": 2,
     "solution": false
    }
   },
   "source": [
    "<!-- BEGIN QUESTION -->\n",
    "\n",
    "## Question 5\n",
    "\n",
    "The creators of VADER describe the tool’s assessment of polarity, or “compound score,” in the following way:\n",
    "\n",
    "“The compound score is computed by summing the valence scores of each word in the lexicon, adjusted according to the rules, and then normalized to be between -1 (most extreme negative) and +1 (most extreme positive). This is the most useful metric if you want a single unidimensional measure of sentiment for a given sentence. Calling it a 'normalized, weighted composite score' is accurate.”\n",
    "\n",
    "As you can see, VADER doesn't \"read\" sentences, but works by parsing sentences into words assigning a preset generalized score from their testing sets to each word separately. \n",
    "\n",
    "VADER relies on humans to stabilize its scoring. The creators use Amazon Mechanical Turk, a crowdsourcing survey platform, to train its model. Its training set of data consists of a small corpus of tweets, New York Times editorials and news articles, Rotten Tomatoes reviews, and Amazon product reviews, tokenized using the natural language toolkit (NLTK). Each word in each dataset was reviewed and rated by at least 20 trained individuals who had signed up to work on these tasks through Mechanical Turk. \n",
    "\n",
    "### Question 5a\n",
    "\n",
    "Please score the sentiment of one of the following words:\n",
    "- police\n",
    "- order\n",
    "- Democrat\n",
    "- Republican\n",
    "- gun\n",
    "- dog\n",
    "- technology\n",
    "- TikTok\n",
    "- security\n",
    "- face-mask\n",
    "- science\n",
    "- climate change\n",
    "- vaccine\n",
    "\n",
    "What score did you give it and why? Can you think of a situation in which this word would carry the opposite sentiment to the one you’ve just assigned?\n",
    "<!--\n",
    "BEGIN QUESTION\n",
    "name: q5a\n",
    "points: 1\n",
    "manual: true\n",
    "-->"
   ]
  },
  {
   "cell_type": "markdown",
   "metadata": {},
   "source": [
    "For police I gave a score of -0.6, due to the current events that are centered around police brutality and violence. A situation in which the word police could carry the opposit sentiment maybe news of a police helping someone, or maybe involving themselves in improving the relationship between the police force and the victims of police brutality."
   ]
  },
  {
   "cell_type": "markdown",
   "metadata": {
    "deletable": false,
    "editable": false
   },
   "source": [
    "<!-- END QUESTION -->\n",
    "\n",
    "<!-- BEGIN QUESTION -->\n",
    "\n",
    "### Question 5b\n",
    "VADER aggregates the sentiment of words in order to determine the overall sentiment of a sentence, and further aggregates sentences to assign just one aggregated score to a whole tweet or collection of tweets. This is a complex process and if you'd like to learn more about how VADER aggregates sentiment, here is the info at this [link](https://github.com/cjhutto/vaderSentiment#introduction).\n",
    "\n",
    "Are there circumstances (e.g. certain kinds of language or data) when you might not want to use VADER? What features of human speech might VADER misrepresent or fail to capture?\n",
    "\n",
    "<!--\n",
    "BEGIN QUESTION\n",
    "name: q5b\n",
    "points: 1\n",
    "manual: true\n",
    "-->"
   ]
  },
  {
   "cell_type": "markdown",
   "metadata": {},
   "source": [
    "Sarcasm, references to different times (past, present, future) and emphasis are some features that VADER will most likely fail to capture because these are features that can be understood only through context or tone."
   ]
  },
  {
   "cell_type": "markdown",
   "metadata": {
    "deletable": false,
    "editable": false
   },
   "source": [
    "<!-- END QUESTION -->\n",
    "\n",
    "### Question 5c\n",
    "\n",
    "Read `vader_lexicon.txt` into a DataFrame called `sent`. The index of the DataFrame should be the words in the lexicon. `sent` should have one column named `polarity`, storing the polarity of each word.\n",
    "\n",
    "* **Hint:** The `pd.read_csv` function may help here. Since the file is tab-separated, be sure to set `sep='\\t'` in your call to `pd.read_csv`. \n",
    "\n",
    "<!--\n",
    "BEGIN QUESTION\n",
    "name: q5c\n",
    "points: 1\n",
    "-->"
   ]
  },
  {
   "cell_type": "code",
   "execution_count": 22,
   "metadata": {
    "nbgrader": {
     "grade": false,
     "grade_id": "q6a1",
     "locked": false,
     "schema_version": 2,
     "solution": true
    },
    "tags": [
     "student"
    ]
   },
   "outputs": [
    {
     "data": {
      "text/html": [
       "<div>\n",
       "<style scoped>\n",
       "    .dataframe tbody tr th:only-of-type {\n",
       "        vertical-align: middle;\n",
       "    }\n",
       "\n",
       "    .dataframe tbody tr th {\n",
       "        vertical-align: top;\n",
       "    }\n",
       "\n",
       "    .dataframe thead th {\n",
       "        text-align: right;\n",
       "    }\n",
       "</style>\n",
       "<table border=\"1\" class=\"dataframe\">\n",
       "  <thead>\n",
       "    <tr style=\"text-align: right;\">\n",
       "      <th></th>\n",
       "      <th>polarity</th>\n",
       "    </tr>\n",
       "    <tr>\n",
       "      <th>token</th>\n",
       "      <th></th>\n",
       "    </tr>\n",
       "  </thead>\n",
       "  <tbody>\n",
       "    <tr>\n",
       "      <th>$:</th>\n",
       "      <td>-1.5</td>\n",
       "    </tr>\n",
       "    <tr>\n",
       "      <th>%)</th>\n",
       "      <td>-0.4</td>\n",
       "    </tr>\n",
       "    <tr>\n",
       "      <th>%-)</th>\n",
       "      <td>-1.5</td>\n",
       "    </tr>\n",
       "    <tr>\n",
       "      <th>&amp;-:</th>\n",
       "      <td>-0.4</td>\n",
       "    </tr>\n",
       "    <tr>\n",
       "      <th>&amp;:</th>\n",
       "      <td>-0.7</td>\n",
       "    </tr>\n",
       "  </tbody>\n",
       "</table>\n",
       "</div>"
      ],
      "text/plain": [
       "       polarity\n",
       "token          \n",
       "$:         -1.5\n",
       "%)         -0.4\n",
       "%-)        -1.5\n",
       "&-:        -0.4\n",
       "&:         -0.7"
      ]
     },
     "execution_count": 22,
     "metadata": {},
     "output_type": "execute_result"
    }
   ],
   "source": [
    "sent = pd.read_csv('vader_lexicon.txt', sep= '\\t', usecols = [0,1], index_col = [0], names = ['token','polarity'])\n",
    "sent.head()"
   ]
  },
  {
   "cell_type": "code",
   "execution_count": 23,
   "metadata": {
    "deletable": false,
    "editable": false
   },
   "outputs": [
    {
     "data": {
      "text/html": [
       "\n",
       "    \n",
       "    \n",
       "        <p>All tests passed!</p>\n",
       "    \n",
       "    "
      ],
      "text/plain": [
       "\n",
       "    All tests passed!\n",
       "    "
      ]
     },
     "execution_count": 23,
     "metadata": {},
     "output_type": "execute_result"
    }
   ],
   "source": [
    "grader.check(\"q5c\")"
   ]
  },
  {
   "cell_type": "markdown",
   "metadata": {
    "deletable": false,
    "editable": false,
    "nbgrader": {
     "grade": false,
     "grade_id": "q6b-header",
     "locked": true,
     "schema_version": 2,
     "solution": false
    }
   },
   "source": [
    "### Question 5d\n",
    "\n",
    "Now, let's use this lexicon to calculate the overall sentiment for each of Trump's tweets. Here's the basic idea:\n",
    "\n",
    "1. For each tweet, find the sentiment of each word.\n",
    "2. Calculate the sentiment of each tweet by taking the sum of the sentiments of its words.\n",
    "\n",
    "First, let's lowercase the text in the tweets since the lexicon is also lowercase. Set the `text` column of the `trump` DataFrame to be the lowercased text of each tweet.\n",
    "\n",
    "<!--\n",
    "BEGIN QUESTION\n",
    "name: q5d\n",
    "points: 1\n",
    "-->"
   ]
  },
  {
   "cell_type": "code",
   "execution_count": 24,
   "metadata": {
    "nbgrader": {
     "grade": false,
     "grade_id": "q6b-answer",
     "locked": false,
     "schema_version": 2,
     "solution": true
    },
    "tags": [
     "student"
    ]
   },
   "outputs": [
    {
     "data": {
      "text/html": [
       "<div>\n",
       "<style scoped>\n",
       "    .dataframe tbody tr th:only-of-type {\n",
       "        vertical-align: middle;\n",
       "    }\n",
       "\n",
       "    .dataframe tbody tr th {\n",
       "        vertical-align: top;\n",
       "    }\n",
       "\n",
       "    .dataframe thead th {\n",
       "        text-align: right;\n",
       "    }\n",
       "</style>\n",
       "<table border=\"1\" class=\"dataframe\">\n",
       "  <thead>\n",
       "    <tr style=\"text-align: right;\">\n",
       "      <th></th>\n",
       "      <th>time</th>\n",
       "      <th>source</th>\n",
       "      <th>text</th>\n",
       "      <th>retweet_count</th>\n",
       "      <th>year</th>\n",
       "      <th>est_time</th>\n",
       "      <th>hour</th>\n",
       "    </tr>\n",
       "  </thead>\n",
       "  <tbody>\n",
       "    <tr>\n",
       "      <th>690171032150237184</th>\n",
       "      <td>2016-01-21 13:56:11+00:00</td>\n",
       "      <td>Twitter for Android</td>\n",
       "      <td>\"@bigop1: @realdonaldtrump  @sarahpalinusa https://t.co/3kyqgqevyd\"</td>\n",
       "      <td>1059</td>\n",
       "      <td>2016.054645</td>\n",
       "      <td>2016-01-21 08:56:11-05:00</td>\n",
       "      <td>8.936389</td>\n",
       "    </tr>\n",
       "    <tr>\n",
       "      <th>690171403388104704</th>\n",
       "      <td>2016-01-21 13:57:39+00:00</td>\n",
       "      <td>Twitter for Android</td>\n",
       "      <td>\"@americanaspie:  @glennbeck @sarahpalinusa remember when glenn gave out gifts to illegal aliens at crossing the border? me too!\"</td>\n",
       "      <td>1339</td>\n",
       "      <td>2016.054645</td>\n",
       "      <td>2016-01-21 08:57:39-05:00</td>\n",
       "      <td>8.960833</td>\n",
       "    </tr>\n",
       "    <tr>\n",
       "      <th>690173226341691392</th>\n",
       "      <td>2016-01-21 14:04:54+00:00</td>\n",
       "      <td>Twitter for Android</td>\n",
       "      <td>so sad that @cnn and many others refused to show the massive crowd at the arena yesterday in oklahoma. dishonest reporting!</td>\n",
       "      <td>2006</td>\n",
       "      <td>2016.054645</td>\n",
       "      <td>2016-01-21 09:04:54-05:00</td>\n",
       "      <td>9.081667</td>\n",
       "    </tr>\n",
       "    <tr>\n",
       "      <th>690176882055114758</th>\n",
       "      <td>2016-01-21 14:19:26+00:00</td>\n",
       "      <td>Twitter for Android</td>\n",
       "      <td>sad sack @jebbush has just done another ad on me, with special interest money, saying i won't beat hillary - i will. but he can't beat me.</td>\n",
       "      <td>2266</td>\n",
       "      <td>2016.054645</td>\n",
       "      <td>2016-01-21 09:19:26-05:00</td>\n",
       "      <td>9.323889</td>\n",
       "    </tr>\n",
       "    <tr>\n",
       "      <th>690180284189310976</th>\n",
       "      <td>2016-01-21 14:32:57+00:00</td>\n",
       "      <td>Twitter for Android</td>\n",
       "      <td>low energy candidate @jebbush has wasted $80 million on his failed presidential campaign. millions spent on me. he should go home and relax!</td>\n",
       "      <td>2886</td>\n",
       "      <td>2016.054645</td>\n",
       "      <td>2016-01-21 09:32:57-05:00</td>\n",
       "      <td>9.549167</td>\n",
       "    </tr>\n",
       "  </tbody>\n",
       "</table>\n",
       "</div>"
      ],
      "text/plain": [
       "                                        time               source  \\\n",
       "690171032150237184 2016-01-21 13:56:11+00:00  Twitter for Android   \n",
       "690171403388104704 2016-01-21 13:57:39+00:00  Twitter for Android   \n",
       "690173226341691392 2016-01-21 14:04:54+00:00  Twitter for Android   \n",
       "690176882055114758 2016-01-21 14:19:26+00:00  Twitter for Android   \n",
       "690180284189310976 2016-01-21 14:32:57+00:00  Twitter for Android   \n",
       "\n",
       "                                                                                                                                                            text  \\\n",
       "690171032150237184                                                                           \"@bigop1: @realdonaldtrump  @sarahpalinusa https://t.co/3kyqgqevyd\"   \n",
       "690171403388104704             \"@americanaspie:  @glennbeck @sarahpalinusa remember when glenn gave out gifts to illegal aliens at crossing the border? me too!\"   \n",
       "690173226341691392                   so sad that @cnn and many others refused to show the massive crowd at the arena yesterday in oklahoma. dishonest reporting!   \n",
       "690176882055114758    sad sack @jebbush has just done another ad on me, with special interest money, saying i won't beat hillary - i will. but he can't beat me.   \n",
       "690180284189310976  low energy candidate @jebbush has wasted $80 million on his failed presidential campaign. millions spent on me. he should go home and relax!   \n",
       "\n",
       "                    retweet_count         year                  est_time  \\\n",
       "690171032150237184           1059  2016.054645 2016-01-21 08:56:11-05:00   \n",
       "690171403388104704           1339  2016.054645 2016-01-21 08:57:39-05:00   \n",
       "690173226341691392           2006  2016.054645 2016-01-21 09:04:54-05:00   \n",
       "690176882055114758           2266  2016.054645 2016-01-21 09:19:26-05:00   \n",
       "690180284189310976           2886  2016.054645 2016-01-21 09:32:57-05:00   \n",
       "\n",
       "                        hour  \n",
       "690171032150237184  8.936389  \n",
       "690171403388104704  8.960833  \n",
       "690173226341691392  9.081667  \n",
       "690176882055114758  9.323889  \n",
       "690180284189310976  9.549167  "
      ]
     },
     "execution_count": 24,
     "metadata": {},
     "output_type": "execute_result"
    }
   ],
   "source": [
    "trump['text'] = trump['text'].str.lower()\n",
    "trump.head()"
   ]
  },
  {
   "cell_type": "code",
   "execution_count": 25,
   "metadata": {
    "deletable": false,
    "editable": false
   },
   "outputs": [
    {
     "data": {
      "text/html": [
       "\n",
       "    \n",
       "    \n",
       "        <p>All tests passed!</p>\n",
       "    \n",
       "    "
      ],
      "text/plain": [
       "\n",
       "    All tests passed!\n",
       "    "
      ]
     },
     "execution_count": 25,
     "metadata": {},
     "output_type": "execute_result"
    }
   ],
   "source": [
    "grader.check(\"q5d\")"
   ]
  },
  {
   "cell_type": "markdown",
   "metadata": {
    "deletable": false,
    "editable": false,
    "nbgrader": {
     "grade": false,
     "grade_id": "q6c-header",
     "locked": true,
     "schema_version": 2,
     "solution": false
    }
   },
   "source": [
    "### Question 5e\n",
    "\n",
    "Now, let's get rid of punctuation since it will cause us to fail to match words. Create a new column called `no_punc` in the `trump` DataFrame to be the lowercased text of each tweet with all punctuation replaced by a single space. We consider punctuation characters to be *any character that isn't a Unicode word character or a whitespace character*. You may want to consult the Python documentation on regex for this problem.\n",
    "\n",
    "(Why don't we simply remove punctuation instead of replacing with a space? See if you can figure this out by looking at the tweet data.)\n",
    "\n",
    "<!--\n",
    "BEGIN QUESTION\n",
    "name: q5e\n",
    "points: 1\n",
    "-->"
   ]
  },
  {
   "cell_type": "code",
   "execution_count": 26,
   "metadata": {
    "nbgrader": {
     "grade": false,
     "grade_id": "q6c",
     "locked": false,
     "schema_version": 2,
     "solution": true
    },
    "tags": [
     "student"
    ]
   },
   "outputs": [
    {
     "data": {
      "text/plain": [
       "690171032150237184                                                                                                                                                                                                               bigop1   realdonaldtrump   sarahpalinusa https   t co 3kyqgqevyd \n",
       "690171403388104704                                                                                                                                                 americanaspie    glennbeck  sarahpalinusa remember when glenn gave out gifts to illegal aliens at crossing the border  me too  \n",
       "690173226341691392                                                                                                                                                     so sad that  cnn and many others refused to show the massive crowd at the arena yesterday in oklahoma  dishonest reporting \n",
       "690176882055114758                                                                                                                                      sad sack  jebbush has just done another ad on me  with special interest money  saying i won t beat hillary   i will  but he can t beat me \n",
       "690180284189310976                                                                                                                                    low energy candidate  jebbush has wasted  80 million on his failed presidential campaign  millions spent on me  he should go home and relax \n",
       "                                                                                                                                                          ...                                                                                                                                     \n",
       "1096547516290543617                                                                                                                                         great job by law enforcement in aurora  illinois  heartfelt condolences to all of the victims and their families  america is with you \n",
       "1096812333333184512                                                                                                                                                                                                                                                        https   t co f6jd2fzayz\n",
       "1096856815810342912                                                                                                                                                                                                                                                        https   t co njorbjwint\n",
       "1096924708132581377                                                                                                                                                                                                                                                             building the wall \n",
       "1096926633708134406    trade negotiators have just returned from china where the meetings on trade were very productive  now at meetings with me at mar a lago giving the details  in the meantime  billions of dollars are being paid to the united states by china in the form of trade tariffs \n",
       "Name: no_punc, Length: 10370, dtype: object"
      ]
     },
     "execution_count": 26,
     "metadata": {},
     "output_type": "execute_result"
    }
   ],
   "source": [
    "# Save your regex in punct_re\n",
    "punct_re = r'[^\\w\\s]'\n",
    "trump['no_punc'] = trump['text'].str.replace(punct_re, ' ')\n",
    "trump['no_punc']"
   ]
  },
  {
   "cell_type": "code",
   "execution_count": 27,
   "metadata": {
    "deletable": false,
    "editable": false
   },
   "outputs": [
    {
     "data": {
      "text/html": [
       "\n",
       "    \n",
       "    \n",
       "        <p>All tests passed!</p>\n",
       "    \n",
       "    "
      ],
      "text/plain": [
       "\n",
       "    All tests passed!\n",
       "    "
      ]
     },
     "execution_count": 27,
     "metadata": {},
     "output_type": "execute_result"
    }
   ],
   "source": [
    "grader.check(\"q5e\")"
   ]
  },
  {
   "cell_type": "markdown",
   "metadata": {
    "deletable": false,
    "editable": false,
    "nbgrader": {
     "grade": false,
     "grade_id": "q6d-header",
     "locked": true,
     "schema_version": 2,
     "solution": false
    }
   },
   "source": [
    "### Question 5f\n",
    "\n",
    "Now, let's convert the tweets into what's called a [*tidy format*](https://cran.r-project.org/web/packages/tidyr/vignettes/tidy-data.html) to make the sentiments easier to calculate. Use the `no_punc` column of `trump` to create a table called `tidy_format`. The index of the table should be the IDs of the tweets, repeated once for every word in the tweet. It has two columns:\n",
    "\n",
    "1. `num`: The location of the word in the tweet. For example, if the tweet was \"i love america\", then the location of the word \"i\" is 0, \"love\" is 1, and \"america\" is 2.\n",
    "2. `word`: The individual words of each tweet.\n",
    "\n",
    "The first few rows of our `tidy_format` table look like:\n",
    "\n",
    "<table border=\"1\" class=\"dataframe\">\n",
    "  <thead>\n",
    "    <tr style=\"text-align: right;\">\n",
    "      <th></th>\n",
    "      <th>num</th>\n",
    "      <th>word</th>\n",
    "    </tr>\n",
    "  </thead>\n",
    "  <tbody>\n",
    "    <tr>\n",
    "      <th>690171032150237184</th>\n",
    "      <td>0</td>\n",
    "      <td>bigop1</td>\n",
    "    </tr>\n",
    "    <tr>\n",
    "      <th>690171032150237184</th>\n",
    "      <td>1</td>\n",
    "      <td>realdonaldtrump</td>\n",
    "    </tr>\n",
    "    <tr>\n",
    "      <th>690171032150237184</th>\n",
    "      <td>2</td>\n",
    "      <td>sarahpalinusa</td>\n",
    "    </tr>\n",
    "    <tr>\n",
    "      <th>690171032150237184</th>\n",
    "      <td>3</td>\n",
    "      <td>https</td>\n",
    "    </tr>\n",
    "    <tr>\n",
    "      <th>690171032150237184</th>\n",
    "      <td>4</td>\n",
    "      <td>t</td>\n",
    "    </tr>\n",
    "  </tbody>\n",
    "</table>\n",
    "\n",
    "**Note that your DataFrame may look different from the one above.** However, you can double check that your tweet with ID `894661651760377856` has the same rows as ours. Our tests don't check whether your table looks exactly like ours.\n",
    "\n",
    "As usual, try to avoid using any for loops. Our solution uses a chain of 5 methods on the `trump` DataFrame, albeit using some rather advanced Pandas hacking.\n",
    "\n",
    "* **Hint 1:** Try looking at the `expand` argument to pandas' `str.split`.\n",
    "\n",
    "* **Hint 2:** Try looking at the `stack()` method.\n",
    "\n",
    "* **Hint 3:** Try looking at the `level` parameter of the `reset_index` method.\n",
    "\n",
    "<!--\n",
    "BEGIN QUESTION\n",
    "name: q5f\n",
    "points: 2\n",
    "-->"
   ]
  },
  {
   "cell_type": "code",
   "execution_count": 28,
   "metadata": {
    "nbgrader": {
     "grade": false,
     "grade_id": "q6d-answer",
     "locked": false,
     "schema_version": 2,
     "solution": true
    },
    "tags": [
     "student"
    ]
   },
   "outputs": [
    {
     "data": {
      "text/html": [
       "<div>\n",
       "<style scoped>\n",
       "    .dataframe tbody tr th:only-of-type {\n",
       "        vertical-align: middle;\n",
       "    }\n",
       "\n",
       "    .dataframe tbody tr th {\n",
       "        vertical-align: top;\n",
       "    }\n",
       "\n",
       "    .dataframe thead th {\n",
       "        text-align: right;\n",
       "    }\n",
       "</style>\n",
       "<table border=\"1\" class=\"dataframe\">\n",
       "  <thead>\n",
       "    <tr style=\"text-align: right;\">\n",
       "      <th></th>\n",
       "      <th>num</th>\n",
       "      <th>word</th>\n",
       "    </tr>\n",
       "  </thead>\n",
       "  <tbody>\n",
       "    <tr>\n",
       "      <th>690171032150237184</th>\n",
       "      <td>0</td>\n",
       "      <td>bigop1</td>\n",
       "    </tr>\n",
       "    <tr>\n",
       "      <th>690171032150237184</th>\n",
       "      <td>1</td>\n",
       "      <td>realdonaldtrump</td>\n",
       "    </tr>\n",
       "    <tr>\n",
       "      <th>690171032150237184</th>\n",
       "      <td>2</td>\n",
       "      <td>sarahpalinusa</td>\n",
       "    </tr>\n",
       "    <tr>\n",
       "      <th>690171032150237184</th>\n",
       "      <td>3</td>\n",
       "      <td>https</td>\n",
       "    </tr>\n",
       "    <tr>\n",
       "      <th>690171032150237184</th>\n",
       "      <td>4</td>\n",
       "      <td>t</td>\n",
       "    </tr>\n",
       "    <tr>\n",
       "      <th>...</th>\n",
       "      <td>...</td>\n",
       "      <td>...</td>\n",
       "    </tr>\n",
       "    <tr>\n",
       "      <th>1096926633708134406</th>\n",
       "      <td>43</td>\n",
       "      <td>the</td>\n",
       "    </tr>\n",
       "    <tr>\n",
       "      <th>1096926633708134406</th>\n",
       "      <td>44</td>\n",
       "      <td>form</td>\n",
       "    </tr>\n",
       "    <tr>\n",
       "      <th>1096926633708134406</th>\n",
       "      <td>45</td>\n",
       "      <td>of</td>\n",
       "    </tr>\n",
       "    <tr>\n",
       "      <th>1096926633708134406</th>\n",
       "      <td>46</td>\n",
       "      <td>trade</td>\n",
       "    </tr>\n",
       "    <tr>\n",
       "      <th>1096926633708134406</th>\n",
       "      <td>47</td>\n",
       "      <td>tariffs</td>\n",
       "    </tr>\n",
       "  </tbody>\n",
       "</table>\n",
       "<p>259520 rows × 2 columns</p>\n",
       "</div>"
      ],
      "text/plain": [
       "                     num             word\n",
       "690171032150237184     0           bigop1\n",
       "690171032150237184     1  realdonaldtrump\n",
       "690171032150237184     2    sarahpalinusa\n",
       "690171032150237184     3            https\n",
       "690171032150237184     4                t\n",
       "...                  ...              ...\n",
       "1096926633708134406   43              the\n",
       "1096926633708134406   44             form\n",
       "1096926633708134406   45               of\n",
       "1096926633708134406   46            trade\n",
       "1096926633708134406   47          tariffs\n",
       "\n",
       "[259520 rows x 2 columns]"
      ]
     },
     "execution_count": 28,
     "metadata": {},
     "output_type": "execute_result"
    }
   ],
   "source": [
    "tidy_format = trump['no_punc'].str.split(expand = True).stack().reset_index(level = 1)\n",
    "tidy_format = tidy_format.rename(columns = {'level_1' : 'num', 0 : 'word'})\n",
    "tidy_format"
   ]
  },
  {
   "cell_type": "code",
   "execution_count": 29,
   "metadata": {
    "deletable": false,
    "editable": false
   },
   "outputs": [
    {
     "data": {
      "text/html": [
       "\n",
       "    \n",
       "    \n",
       "        <p>All tests passed!</p>\n",
       "    \n",
       "    "
      ],
      "text/plain": [
       "\n",
       "    All tests passed!\n",
       "    "
      ]
     },
     "execution_count": 29,
     "metadata": {},
     "output_type": "execute_result"
    }
   ],
   "source": [
    "grader.check(\"q5f\")"
   ]
  },
  {
   "cell_type": "markdown",
   "metadata": {
    "deletable": false,
    "editable": false,
    "nbgrader": {
     "grade": false,
     "grade_id": "q6e-header",
     "locked": true,
     "schema_version": 2,
     "solution": false
    }
   },
   "source": [
    "### Question 5g\n",
    "\n",
    "Now that we have this table in the tidy format, it becomes much easier to find the sentiment of each tweet: we can join the table with the lexicon table. \n",
    "\n",
    "Add a `polarity` column to the `trump` table.  The `polarity` column should contain the sum of the sentiment polarity of each word in the text of the tweet.\n",
    "\n",
    "**Hints:** \n",
    "* You will need to merge the `tidy_format` and `sent` tables and group the final answer.\n",
    "* If certain words are not found in the `sent` table, set their polarities to 0.\n",
    "\n",
    "<!--\n",
    "BEGIN QUESTION\n",
    "name: q5g\n",
    "points: 2\n",
    "-->"
   ]
  },
  {
   "cell_type": "code",
   "execution_count": 30,
   "metadata": {
    "nbgrader": {
     "grade": false,
     "grade_id": "q6e",
     "locked": false,
     "schema_version": 2,
     "solution": true
    },
    "tags": [
     "student"
    ]
   },
   "outputs": [
    {
     "data": {
      "text/html": [
       "<div>\n",
       "<style scoped>\n",
       "    .dataframe tbody tr th:only-of-type {\n",
       "        vertical-align: middle;\n",
       "    }\n",
       "\n",
       "    .dataframe tbody tr th {\n",
       "        vertical-align: top;\n",
       "    }\n",
       "\n",
       "    .dataframe thead th {\n",
       "        text-align: right;\n",
       "    }\n",
       "</style>\n",
       "<table border=\"1\" class=\"dataframe\">\n",
       "  <thead>\n",
       "    <tr style=\"text-align: right;\">\n",
       "      <th></th>\n",
       "      <th>time</th>\n",
       "      <th>source</th>\n",
       "      <th>text</th>\n",
       "      <th>retweet_count</th>\n",
       "      <th>year</th>\n",
       "      <th>est_time</th>\n",
       "      <th>hour</th>\n",
       "      <th>no_punc</th>\n",
       "      <th>polarity</th>\n",
       "    </tr>\n",
       "  </thead>\n",
       "  <tbody>\n",
       "    <tr>\n",
       "      <th>690171032150237184</th>\n",
       "      <td>2016-01-21 13:56:11+00:00</td>\n",
       "      <td>Twitter for Android</td>\n",
       "      <td>\"@bigop1: @realdonaldtrump  @sarahpalinusa https://t.co/3kyqgqevyd\"</td>\n",
       "      <td>1059</td>\n",
       "      <td>2016.054645</td>\n",
       "      <td>2016-01-21 08:56:11-05:00</td>\n",
       "      <td>8.936389</td>\n",
       "      <td>bigop1   realdonaldtrump   sarahpalinusa https   t co 3kyqgqevyd</td>\n",
       "      <td>0.0</td>\n",
       "    </tr>\n",
       "    <tr>\n",
       "      <th>690171403388104704</th>\n",
       "      <td>2016-01-21 13:57:39+00:00</td>\n",
       "      <td>Twitter for Android</td>\n",
       "      <td>\"@americanaspie:  @glennbeck @sarahpalinusa remember when glenn gave out gifts to illegal aliens at crossing the border? me too!\"</td>\n",
       "      <td>1339</td>\n",
       "      <td>2016.054645</td>\n",
       "      <td>2016-01-21 08:57:39-05:00</td>\n",
       "      <td>8.960833</td>\n",
       "      <td>americanaspie    glennbeck  sarahpalinusa remember when glenn gave out gifts to illegal aliens at crossing the border  me too</td>\n",
       "      <td>-2.6</td>\n",
       "    </tr>\n",
       "    <tr>\n",
       "      <th>690173226341691392</th>\n",
       "      <td>2016-01-21 14:04:54+00:00</td>\n",
       "      <td>Twitter for Android</td>\n",
       "      <td>so sad that @cnn and many others refused to show the massive crowd at the arena yesterday in oklahoma. dishonest reporting!</td>\n",
       "      <td>2006</td>\n",
       "      <td>2016.054645</td>\n",
       "      <td>2016-01-21 09:04:54-05:00</td>\n",
       "      <td>9.081667</td>\n",
       "      <td>so sad that  cnn and many others refused to show the massive crowd at the arena yesterday in oklahoma  dishonest reporting</td>\n",
       "      <td>-6.0</td>\n",
       "    </tr>\n",
       "    <tr>\n",
       "      <th>690176882055114758</th>\n",
       "      <td>2016-01-21 14:19:26+00:00</td>\n",
       "      <td>Twitter for Android</td>\n",
       "      <td>sad sack @jebbush has just done another ad on me, with special interest money, saying i won't beat hillary - i will. but he can't beat me.</td>\n",
       "      <td>2266</td>\n",
       "      <td>2016.054645</td>\n",
       "      <td>2016-01-21 09:19:26-05:00</td>\n",
       "      <td>9.323889</td>\n",
       "      <td>sad sack  jebbush has just done another ad on me  with special interest money  saying i won t beat hillary   i will  but he can t beat me</td>\n",
       "      <td>4.3</td>\n",
       "    </tr>\n",
       "    <tr>\n",
       "      <th>690180284189310976</th>\n",
       "      <td>2016-01-21 14:32:57+00:00</td>\n",
       "      <td>Twitter for Android</td>\n",
       "      <td>low energy candidate @jebbush has wasted $80 million on his failed presidential campaign. millions spent on me. he should go home and relax!</td>\n",
       "      <td>2886</td>\n",
       "      <td>2016.054645</td>\n",
       "      <td>2016-01-21 09:32:57-05:00</td>\n",
       "      <td>9.549167</td>\n",
       "      <td>low energy candidate  jebbush has wasted  80 million on his failed presidential campaign  millions spent on me  he should go home and relax</td>\n",
       "      <td>-2.6</td>\n",
       "    </tr>\n",
       "    <tr>\n",
       "      <th>...</th>\n",
       "      <td>...</td>\n",
       "      <td>...</td>\n",
       "      <td>...</td>\n",
       "      <td>...</td>\n",
       "      <td>...</td>\n",
       "      <td>...</td>\n",
       "      <td>...</td>\n",
       "      <td>...</td>\n",
       "      <td>...</td>\n",
       "    </tr>\n",
       "    <tr>\n",
       "      <th>1096547516290543617</th>\n",
       "      <td>2019-02-15 23:11:15+00:00</td>\n",
       "      <td>Twitter for iPhone</td>\n",
       "      <td>great job by law enforcement in aurora, illinois. heartfelt condolences to all of the victims and their families. america is with you!</td>\n",
       "      <td>21296</td>\n",
       "      <td>2019.123288</td>\n",
       "      <td>2019-02-15 18:11:15-05:00</td>\n",
       "      <td>18.187500</td>\n",
       "      <td>great job by law enforcement in aurora  illinois  heartfelt condolences to all of the victims and their families  america is with you</td>\n",
       "      <td>4.3</td>\n",
       "    </tr>\n",
       "    <tr>\n",
       "      <th>1096812333333184512</th>\n",
       "      <td>2019-02-16 16:43:32+00:00</td>\n",
       "      <td>Twitter for iPhone</td>\n",
       "      <td>https://t.co/f6jd2fzayz</td>\n",
       "      <td>17134</td>\n",
       "      <td>2019.126027</td>\n",
       "      <td>2019-02-16 11:43:32-05:00</td>\n",
       "      <td>11.725556</td>\n",
       "      <td>https   t co f6jd2fzayz</td>\n",
       "      <td>0.0</td>\n",
       "    </tr>\n",
       "    <tr>\n",
       "      <th>1096856815810342912</th>\n",
       "      <td>2019-02-16 19:40:18+00:00</td>\n",
       "      <td>Twitter for iPhone</td>\n",
       "      <td>https://t.co/njorbjwint</td>\n",
       "      <td>29569</td>\n",
       "      <td>2019.126027</td>\n",
       "      <td>2019-02-16 14:40:18-05:00</td>\n",
       "      <td>14.671667</td>\n",
       "      <td>https   t co njorbjwint</td>\n",
       "      <td>0.0</td>\n",
       "    </tr>\n",
       "    <tr>\n",
       "      <th>1096924708132581377</th>\n",
       "      <td>2019-02-17 00:10:04+00:00</td>\n",
       "      <td>Twitter for iPhone</td>\n",
       "      <td>building the wall!</td>\n",
       "      <td>21811</td>\n",
       "      <td>2019.128767</td>\n",
       "      <td>2019-02-16 19:10:04-05:00</td>\n",
       "      <td>19.167778</td>\n",
       "      <td>building the wall</td>\n",
       "      <td>0.0</td>\n",
       "    </tr>\n",
       "    <tr>\n",
       "      <th>1096926633708134406</th>\n",
       "      <td>2019-02-17 00:17:44+00:00</td>\n",
       "      <td>Twitter for iPhone</td>\n",
       "      <td>trade negotiators have just returned from china where the meetings on trade were very productive. now at meetings with me at mar-a-lago giving the details. in the meantime, billions of dollars are being paid to the united states by china in the form of trade tariffs!</td>\n",
       "      <td>8325</td>\n",
       "      <td>2019.128767</td>\n",
       "      <td>2019-02-16 19:17:44-05:00</td>\n",
       "      <td>19.295556</td>\n",
       "      <td>trade negotiators have just returned from china where the meetings on trade were very productive  now at meetings with me at mar a lago giving the details  in the meantime  billions of dollars are being paid to the united states by china in the form of trade tariffs</td>\n",
       "      <td>3.2</td>\n",
       "    </tr>\n",
       "  </tbody>\n",
       "</table>\n",
       "<p>10370 rows × 9 columns</p>\n",
       "</div>"
      ],
      "text/plain": [
       "                                         time               source  \\\n",
       "690171032150237184  2016-01-21 13:56:11+00:00  Twitter for Android   \n",
       "690171403388104704  2016-01-21 13:57:39+00:00  Twitter for Android   \n",
       "690173226341691392  2016-01-21 14:04:54+00:00  Twitter for Android   \n",
       "690176882055114758  2016-01-21 14:19:26+00:00  Twitter for Android   \n",
       "690180284189310976  2016-01-21 14:32:57+00:00  Twitter for Android   \n",
       "...                                       ...                  ...   \n",
       "1096547516290543617 2019-02-15 23:11:15+00:00   Twitter for iPhone   \n",
       "1096812333333184512 2019-02-16 16:43:32+00:00   Twitter for iPhone   \n",
       "1096856815810342912 2019-02-16 19:40:18+00:00   Twitter for iPhone   \n",
       "1096924708132581377 2019-02-17 00:10:04+00:00   Twitter for iPhone   \n",
       "1096926633708134406 2019-02-17 00:17:44+00:00   Twitter for iPhone   \n",
       "\n",
       "                                                                                                                                                                                                                                                                                            text  \\\n",
       "690171032150237184                                                                                                                                                                                                           \"@bigop1: @realdonaldtrump  @sarahpalinusa https://t.co/3kyqgqevyd\"   \n",
       "690171403388104704                                                                                                                                             \"@americanaspie:  @glennbeck @sarahpalinusa remember when glenn gave out gifts to illegal aliens at crossing the border? me too!\"   \n",
       "690173226341691392                                                                                                                                                   so sad that @cnn and many others refused to show the massive crowd at the arena yesterday in oklahoma. dishonest reporting!   \n",
       "690176882055114758                                                                                                                                    sad sack @jebbush has just done another ad on me, with special interest money, saying i won't beat hillary - i will. but he can't beat me.   \n",
       "690180284189310976                                                                                                                                  low energy candidate @jebbush has wasted $80 million on his failed presidential campaign. millions spent on me. he should go home and relax!   \n",
       "...                                                                                                                                                                                                                                                                                          ...   \n",
       "1096547516290543617                                                                                                                                       great job by law enforcement in aurora, illinois. heartfelt condolences to all of the victims and their families. america is with you!   \n",
       "1096812333333184512                                                                                                                                                                                                                                                      https://t.co/f6jd2fzayz   \n",
       "1096856815810342912                                                                                                                                                                                                                                                      https://t.co/njorbjwint   \n",
       "1096924708132581377                                                                                                                                                                                                                                                           building the wall!   \n",
       "1096926633708134406  trade negotiators have just returned from china where the meetings on trade were very productive. now at meetings with me at mar-a-lago giving the details. in the meantime, billions of dollars are being paid to the united states by china in the form of trade tariffs!   \n",
       "\n",
       "                     retweet_count         year                  est_time  \\\n",
       "690171032150237184            1059  2016.054645 2016-01-21 08:56:11-05:00   \n",
       "690171403388104704            1339  2016.054645 2016-01-21 08:57:39-05:00   \n",
       "690173226341691392            2006  2016.054645 2016-01-21 09:04:54-05:00   \n",
       "690176882055114758            2266  2016.054645 2016-01-21 09:19:26-05:00   \n",
       "690180284189310976            2886  2016.054645 2016-01-21 09:32:57-05:00   \n",
       "...                            ...          ...                       ...   \n",
       "1096547516290543617          21296  2019.123288 2019-02-15 18:11:15-05:00   \n",
       "1096812333333184512          17134  2019.126027 2019-02-16 11:43:32-05:00   \n",
       "1096856815810342912          29569  2019.126027 2019-02-16 14:40:18-05:00   \n",
       "1096924708132581377          21811  2019.128767 2019-02-16 19:10:04-05:00   \n",
       "1096926633708134406           8325  2019.128767 2019-02-16 19:17:44-05:00   \n",
       "\n",
       "                          hour  \\\n",
       "690171032150237184    8.936389   \n",
       "690171403388104704    8.960833   \n",
       "690173226341691392    9.081667   \n",
       "690176882055114758    9.323889   \n",
       "690180284189310976    9.549167   \n",
       "...                        ...   \n",
       "1096547516290543617  18.187500   \n",
       "1096812333333184512  11.725556   \n",
       "1096856815810342912  14.671667   \n",
       "1096924708132581377  19.167778   \n",
       "1096926633708134406  19.295556   \n",
       "\n",
       "                                                                                                                                                                                                                                                                                         no_punc  \\\n",
       "690171032150237184                                                                                                                                                                                                             bigop1   realdonaldtrump   sarahpalinusa https   t co 3kyqgqevyd    \n",
       "690171403388104704                                                                                                                                               americanaspie    glennbeck  sarahpalinusa remember when glenn gave out gifts to illegal aliens at crossing the border  me too     \n",
       "690173226341691392                                                                                                                                                   so sad that  cnn and many others refused to show the massive crowd at the arena yesterday in oklahoma  dishonest reporting    \n",
       "690176882055114758                                                                                                                                    sad sack  jebbush has just done another ad on me  with special interest money  saying i won t beat hillary   i will  but he can t beat me    \n",
       "690180284189310976                                                                                                                                  low energy candidate  jebbush has wasted  80 million on his failed presidential campaign  millions spent on me  he should go home and relax    \n",
       "...                                                                                                                                                                                                                                                                                          ...   \n",
       "1096547516290543617                                                                                                                                       great job by law enforcement in aurora  illinois  heartfelt condolences to all of the victims and their families  america is with you    \n",
       "1096812333333184512                                                                                                                                                                                                                                                      https   t co f6jd2fzayz   \n",
       "1096856815810342912                                                                                                                                                                                                                                                      https   t co njorbjwint   \n",
       "1096924708132581377                                                                                                                                                                                                                                                           building the wall    \n",
       "1096926633708134406  trade negotiators have just returned from china where the meetings on trade were very productive  now at meetings with me at mar a lago giving the details  in the meantime  billions of dollars are being paid to the united states by china in the form of trade tariffs    \n",
       "\n",
       "                     polarity  \n",
       "690171032150237184        0.0  \n",
       "690171403388104704       -2.6  \n",
       "690173226341691392       -6.0  \n",
       "690176882055114758        4.3  \n",
       "690180284189310976       -2.6  \n",
       "...                       ...  \n",
       "1096547516290543617       4.3  \n",
       "1096812333333184512       0.0  \n",
       "1096856815810342912       0.0  \n",
       "1096924708132581377       0.0  \n",
       "1096926633708134406       3.2  \n",
       "\n",
       "[10370 rows x 9 columns]"
      ]
     },
     "execution_count": 30,
     "metadata": {},
     "output_type": "execute_result"
    }
   ],
   "source": [
    "polarity_w_id = tidy_format.merge(sent, how = 'left', right_index = True, left_on = 'word', right_on = 'token')\n",
    "trump['polarity'] = polarity_w_id['polarity'].groupby(polarity_w_id.index).agg('sum')\n",
    "trump"
   ]
  },
  {
   "cell_type": "code",
   "execution_count": 31,
   "metadata": {
    "deletable": false,
    "editable": false
   },
   "outputs": [
    {
     "data": {
      "text/html": [
       "\n",
       "    \n",
       "    \n",
       "        <p>All tests passed!</p>\n",
       "    \n",
       "    "
      ],
      "text/plain": [
       "\n",
       "    All tests passed!\n",
       "    "
      ]
     },
     "execution_count": 31,
     "metadata": {},
     "output_type": "execute_result"
    }
   ],
   "source": [
    "grader.check(\"q5g\")"
   ]
  },
  {
   "cell_type": "markdown",
   "metadata": {
    "nbgrader": {
     "grade": false,
     "grade_id": "a-note-on-vader",
     "locked": true,
     "schema_version": 2,
     "solution": false
    }
   },
   "source": [
    "Now we have a measure of the sentiment of each of his tweets! Note that this calculation is rather basic; you can read over the VADER readme to understand a more robust sentiment analysis.\n",
    "\n",
    "Now, run the cells below to see the most positive and most negative tweets from Trump in your dataset:"
   ]
  },
  {
   "cell_type": "code",
   "execution_count": 32,
   "metadata": {
    "nbgrader": {
     "grade": false,
     "grade_id": "negative-tweets",
     "locked": true,
     "schema_version": 2,
     "solution": false
    }
   },
   "outputs": [
    {
     "name": "stdout",
     "output_type": "stream",
     "text": [
      "Most negative tweets:\n",
      "\n",
      "   the trump portrait of an unsustainable border crisis is dead on. “in the last two years, ice officers made 266,000 arrests of aliens with criminal records, including those charged or convicted of 100,000 assaults, 30,000 sex crimes &amp; 4000 violent killings.” america’s southern....\n",
      "\n",
      "   it is outrageous that poisonous synthetic heroin fentanyl comes pouring into the u.s. postal system from china. we can, and must, end this now! the senate should pass the stop act – and firmly stop this poison from killing our children and destroying our country. no more delay!\n",
      "\n",
      "   the rigged russian witch hunt goes on and on as the “originators and founders” of this scam continue to be fired and demoted for their corrupt and illegal activity. all credibility is gone from this terrible hoax, and much more will be lost as it proceeds. no collusion!\n",
      "\n",
      "   ...this evil anti-semitic attack is an assault on humanity. it will take all of us working together to extract the poison of anti-semitism from our world. we must unite to conquer hate.\n",
      "\n",
      "   james comey is a proven leaker &amp; liar. virtually everyone in washington thought he should be fired for the terrible job he did-until he was, in fact, fired. he leaked classified information, for which he should be prosecuted. he lied to congress under oath. he is a weak and.....\n"
     ]
    }
   ],
   "source": [
    "print('Most negative tweets:')\n",
    "for t in trump.sort_values('polarity').head()['text']:\n",
    "    print('\\n  ', t)"
   ]
  },
  {
   "cell_type": "code",
   "execution_count": 33,
   "metadata": {
    "nbgrader": {
     "grade": false,
     "grade_id": "postive-tweets",
     "locked": true,
     "schema_version": 2,
     "solution": false
    },
    "scrolled": true
   },
   "outputs": [
    {
     "name": "stdout",
     "output_type": "stream",
     "text": [
      "Most positive tweets:\n",
      "\n",
      "   congratulations to patrick reed on his great and courageous masters win! when patrick had his amazing win at doral 5 years ago, people saw his great talent, and a bright future ahead. now he is the masters champion!\n",
      "\n",
      "   congratulations to a truly great football team, the clemson tigers, on an incredible win last night against a powerful alabama team. a big win also for the great state of south carolina. look forward to seeing the team, and their brilliant coach, for the second time at the w.h.\n",
      "\n",
      "   my supporters are the smartest, strongest, most hard working and most loyal that we have seen in our countries history. it is a beautiful thing to watch as we win elections and gather support from all over the country. as we get stronger, so does our country. best numbers ever!\n",
      "\n",
      "   thank you to all of my great supporters, really big progress being made. other countries wanting to fix crazy trade deals. economy is roaring. supreme court pick getting great reviews. new poll says trump, at over 90%, is the most popular republican in history of the party. wow!\n",
      "\n",
      "   thank you, @wvgovernor jim justice, for that warm introduction. tonight, it was my great honor to attend the “greenbrier classic – salute to service dinner” in west virginia! god bless our veterans. god bless america - and happy independence day to all! https://t.co/v35qvcn8m6\n"
     ]
    }
   ],
   "source": [
    "print('Most positive tweets:')\n",
    "for t in trump.sort_values('polarity', ascending=False).head()['text']:\n",
    "    print('\\n  ', t)"
   ]
  },
  {
   "cell_type": "markdown",
   "metadata": {
    "deletable": false,
    "editable": false
   },
   "source": [
    "<!-- BEGIN QUESTION -->\n",
    "\n",
    "## Question 5h\n",
    "\n",
    "Read the 5 most positive and 5 most negative tweets. Do you think these tweets are accurately represented by their polarity scores?\n",
    "\n",
    "<!--\n",
    "BEGIN QUESTION\n",
    "name: q5h\n",
    "points: 1\n",
    "manual: true\n",
    "-->"
   ]
  },
  {
   "cell_type": "markdown",
   "metadata": {},
   "source": [
    "Yes, these tweets were accuraetly represented by their polarity scores."
   ]
  },
  {
   "cell_type": "markdown",
   "metadata": {
    "deletable": false,
    "editable": false,
    "nbgrader": {
     "grade": false,
     "grade_id": "q6g",
     "locked": true,
     "schema_version": 2,
     "solution": false
    }
   },
   "source": [
    "<!-- END QUESTION -->\n",
    "\n",
    "<!-- BEGIN QUESTION -->\n",
    "\n",
    "## Question 6\n",
    "\n",
    "Now, let's try looking at the distributions of sentiments for tweets containing certain keywords.\n",
    "\n",
    "### Question 6a\n",
    "\n",
    "In the cell below, create a single plot showing both the distribution of tweet sentiments for tweets containing `nytimes`, as well as the distribution of tweet sentiments for tweets containing `fox`.\n",
    "\n",
    "Be sure to label your axes and provide a title and legend. Be sure to use different colors for `fox` and `nytimes`.\n",
    "\n",
    "<!--\n",
    "BEGIN QUESTION\n",
    "name: q6a\n",
    "points: 1\n",
    "manual: true\n",
    "-->"
   ]
  },
  {
   "cell_type": "code",
   "execution_count": 34,
   "metadata": {},
   "outputs": [
    {
     "data": {
      "text/html": [
       "<div>\n",
       "<style scoped>\n",
       "    .dataframe tbody tr th:only-of-type {\n",
       "        vertical-align: middle;\n",
       "    }\n",
       "\n",
       "    .dataframe tbody tr th {\n",
       "        vertical-align: top;\n",
       "    }\n",
       "\n",
       "    .dataframe thead th {\n",
       "        text-align: right;\n",
       "    }\n",
       "</style>\n",
       "<table border=\"1\" class=\"dataframe\">\n",
       "  <thead>\n",
       "    <tr style=\"text-align: right;\">\n",
       "      <th></th>\n",
       "      <th>time</th>\n",
       "      <th>source</th>\n",
       "      <th>text</th>\n",
       "      <th>retweet_count</th>\n",
       "      <th>year</th>\n",
       "      <th>est_time</th>\n",
       "      <th>hour</th>\n",
       "      <th>no_punc</th>\n",
       "      <th>polarity</th>\n",
       "    </tr>\n",
       "  </thead>\n",
       "  <tbody>\n",
       "    <tr>\n",
       "      <th>690171032150237184</th>\n",
       "      <td>2016-01-21 13:56:11+00:00</td>\n",
       "      <td>Twitter for Android</td>\n",
       "      <td>\"@bigop1: @realdonaldtrump  @sarahpalinusa https://t.co/3kyqgqevyd\"</td>\n",
       "      <td>1059</td>\n",
       "      <td>2016.054645</td>\n",
       "      <td>2016-01-21 08:56:11-05:00</td>\n",
       "      <td>8.936389</td>\n",
       "      <td>bigop1   realdonaldtrump   sarahpalinusa https   t co 3kyqgqevyd</td>\n",
       "      <td>0.0</td>\n",
       "    </tr>\n",
       "    <tr>\n",
       "      <th>690171403388104704</th>\n",
       "      <td>2016-01-21 13:57:39+00:00</td>\n",
       "      <td>Twitter for Android</td>\n",
       "      <td>\"@americanaspie:  @glennbeck @sarahpalinusa remember when glenn gave out gifts to illegal aliens at crossing the border? me too!\"</td>\n",
       "      <td>1339</td>\n",
       "      <td>2016.054645</td>\n",
       "      <td>2016-01-21 08:57:39-05:00</td>\n",
       "      <td>8.960833</td>\n",
       "      <td>americanaspie    glennbeck  sarahpalinusa remember when glenn gave out gifts to illegal aliens at crossing the border  me too</td>\n",
       "      <td>-2.6</td>\n",
       "    </tr>\n",
       "    <tr>\n",
       "      <th>690173226341691392</th>\n",
       "      <td>2016-01-21 14:04:54+00:00</td>\n",
       "      <td>Twitter for Android</td>\n",
       "      <td>so sad that @cnn and many others refused to show the massive crowd at the arena yesterday in oklahoma. dishonest reporting!</td>\n",
       "      <td>2006</td>\n",
       "      <td>2016.054645</td>\n",
       "      <td>2016-01-21 09:04:54-05:00</td>\n",
       "      <td>9.081667</td>\n",
       "      <td>so sad that  cnn and many others refused to show the massive crowd at the arena yesterday in oklahoma  dishonest reporting</td>\n",
       "      <td>-6.0</td>\n",
       "    </tr>\n",
       "    <tr>\n",
       "      <th>690176882055114758</th>\n",
       "      <td>2016-01-21 14:19:26+00:00</td>\n",
       "      <td>Twitter for Android</td>\n",
       "      <td>sad sack @jebbush has just done another ad on me, with special interest money, saying i won't beat hillary - i will. but he can't beat me.</td>\n",
       "      <td>2266</td>\n",
       "      <td>2016.054645</td>\n",
       "      <td>2016-01-21 09:19:26-05:00</td>\n",
       "      <td>9.323889</td>\n",
       "      <td>sad sack  jebbush has just done another ad on me  with special interest money  saying i won t beat hillary   i will  but he can t beat me</td>\n",
       "      <td>4.3</td>\n",
       "    </tr>\n",
       "    <tr>\n",
       "      <th>690180284189310976</th>\n",
       "      <td>2016-01-21 14:32:57+00:00</td>\n",
       "      <td>Twitter for Android</td>\n",
       "      <td>low energy candidate @jebbush has wasted $80 million on his failed presidential campaign. millions spent on me. he should go home and relax!</td>\n",
       "      <td>2886</td>\n",
       "      <td>2016.054645</td>\n",
       "      <td>2016-01-21 09:32:57-05:00</td>\n",
       "      <td>9.549167</td>\n",
       "      <td>low energy candidate  jebbush has wasted  80 million on his failed presidential campaign  millions spent on me  he should go home and relax</td>\n",
       "      <td>-2.6</td>\n",
       "    </tr>\n",
       "    <tr>\n",
       "      <th>...</th>\n",
       "      <td>...</td>\n",
       "      <td>...</td>\n",
       "      <td>...</td>\n",
       "      <td>...</td>\n",
       "      <td>...</td>\n",
       "      <td>...</td>\n",
       "      <td>...</td>\n",
       "      <td>...</td>\n",
       "      <td>...</td>\n",
       "    </tr>\n",
       "    <tr>\n",
       "      <th>1096547516290543617</th>\n",
       "      <td>2019-02-15 23:11:15+00:00</td>\n",
       "      <td>Twitter for iPhone</td>\n",
       "      <td>great job by law enforcement in aurora, illinois. heartfelt condolences to all of the victims and their families. america is with you!</td>\n",
       "      <td>21296</td>\n",
       "      <td>2019.123288</td>\n",
       "      <td>2019-02-15 18:11:15-05:00</td>\n",
       "      <td>18.187500</td>\n",
       "      <td>great job by law enforcement in aurora  illinois  heartfelt condolences to all of the victims and their families  america is with you</td>\n",
       "      <td>4.3</td>\n",
       "    </tr>\n",
       "    <tr>\n",
       "      <th>1096812333333184512</th>\n",
       "      <td>2019-02-16 16:43:32+00:00</td>\n",
       "      <td>Twitter for iPhone</td>\n",
       "      <td>https://t.co/f6jd2fzayz</td>\n",
       "      <td>17134</td>\n",
       "      <td>2019.126027</td>\n",
       "      <td>2019-02-16 11:43:32-05:00</td>\n",
       "      <td>11.725556</td>\n",
       "      <td>https   t co f6jd2fzayz</td>\n",
       "      <td>0.0</td>\n",
       "    </tr>\n",
       "    <tr>\n",
       "      <th>1096856815810342912</th>\n",
       "      <td>2019-02-16 19:40:18+00:00</td>\n",
       "      <td>Twitter for iPhone</td>\n",
       "      <td>https://t.co/njorbjwint</td>\n",
       "      <td>29569</td>\n",
       "      <td>2019.126027</td>\n",
       "      <td>2019-02-16 14:40:18-05:00</td>\n",
       "      <td>14.671667</td>\n",
       "      <td>https   t co njorbjwint</td>\n",
       "      <td>0.0</td>\n",
       "    </tr>\n",
       "    <tr>\n",
       "      <th>1096924708132581377</th>\n",
       "      <td>2019-02-17 00:10:04+00:00</td>\n",
       "      <td>Twitter for iPhone</td>\n",
       "      <td>building the wall!</td>\n",
       "      <td>21811</td>\n",
       "      <td>2019.128767</td>\n",
       "      <td>2019-02-16 19:10:04-05:00</td>\n",
       "      <td>19.167778</td>\n",
       "      <td>building the wall</td>\n",
       "      <td>0.0</td>\n",
       "    </tr>\n",
       "    <tr>\n",
       "      <th>1096926633708134406</th>\n",
       "      <td>2019-02-17 00:17:44+00:00</td>\n",
       "      <td>Twitter for iPhone</td>\n",
       "      <td>trade negotiators have just returned from china where the meetings on trade were very productive. now at meetings with me at mar-a-lago giving the details. in the meantime, billions of dollars are being paid to the united states by china in the form of trade tariffs!</td>\n",
       "      <td>8325</td>\n",
       "      <td>2019.128767</td>\n",
       "      <td>2019-02-16 19:17:44-05:00</td>\n",
       "      <td>19.295556</td>\n",
       "      <td>trade negotiators have just returned from china where the meetings on trade were very productive  now at meetings with me at mar a lago giving the details  in the meantime  billions of dollars are being paid to the united states by china in the form of trade tariffs</td>\n",
       "      <td>3.2</td>\n",
       "    </tr>\n",
       "  </tbody>\n",
       "</table>\n",
       "<p>10370 rows × 9 columns</p>\n",
       "</div>"
      ],
      "text/plain": [
       "                                         time               source  \\\n",
       "690171032150237184  2016-01-21 13:56:11+00:00  Twitter for Android   \n",
       "690171403388104704  2016-01-21 13:57:39+00:00  Twitter for Android   \n",
       "690173226341691392  2016-01-21 14:04:54+00:00  Twitter for Android   \n",
       "690176882055114758  2016-01-21 14:19:26+00:00  Twitter for Android   \n",
       "690180284189310976  2016-01-21 14:32:57+00:00  Twitter for Android   \n",
       "...                                       ...                  ...   \n",
       "1096547516290543617 2019-02-15 23:11:15+00:00   Twitter for iPhone   \n",
       "1096812333333184512 2019-02-16 16:43:32+00:00   Twitter for iPhone   \n",
       "1096856815810342912 2019-02-16 19:40:18+00:00   Twitter for iPhone   \n",
       "1096924708132581377 2019-02-17 00:10:04+00:00   Twitter for iPhone   \n",
       "1096926633708134406 2019-02-17 00:17:44+00:00   Twitter for iPhone   \n",
       "\n",
       "                                                                                                                                                                                                                                                                                            text  \\\n",
       "690171032150237184                                                                                                                                                                                                           \"@bigop1: @realdonaldtrump  @sarahpalinusa https://t.co/3kyqgqevyd\"   \n",
       "690171403388104704                                                                                                                                             \"@americanaspie:  @glennbeck @sarahpalinusa remember when glenn gave out gifts to illegal aliens at crossing the border? me too!\"   \n",
       "690173226341691392                                                                                                                                                   so sad that @cnn and many others refused to show the massive crowd at the arena yesterday in oklahoma. dishonest reporting!   \n",
       "690176882055114758                                                                                                                                    sad sack @jebbush has just done another ad on me, with special interest money, saying i won't beat hillary - i will. but he can't beat me.   \n",
       "690180284189310976                                                                                                                                  low energy candidate @jebbush has wasted $80 million on his failed presidential campaign. millions spent on me. he should go home and relax!   \n",
       "...                                                                                                                                                                                                                                                                                          ...   \n",
       "1096547516290543617                                                                                                                                       great job by law enforcement in aurora, illinois. heartfelt condolences to all of the victims and their families. america is with you!   \n",
       "1096812333333184512                                                                                                                                                                                                                                                      https://t.co/f6jd2fzayz   \n",
       "1096856815810342912                                                                                                                                                                                                                                                      https://t.co/njorbjwint   \n",
       "1096924708132581377                                                                                                                                                                                                                                                           building the wall!   \n",
       "1096926633708134406  trade negotiators have just returned from china where the meetings on trade were very productive. now at meetings with me at mar-a-lago giving the details. in the meantime, billions of dollars are being paid to the united states by china in the form of trade tariffs!   \n",
       "\n",
       "                     retweet_count         year                  est_time  \\\n",
       "690171032150237184            1059  2016.054645 2016-01-21 08:56:11-05:00   \n",
       "690171403388104704            1339  2016.054645 2016-01-21 08:57:39-05:00   \n",
       "690173226341691392            2006  2016.054645 2016-01-21 09:04:54-05:00   \n",
       "690176882055114758            2266  2016.054645 2016-01-21 09:19:26-05:00   \n",
       "690180284189310976            2886  2016.054645 2016-01-21 09:32:57-05:00   \n",
       "...                            ...          ...                       ...   \n",
       "1096547516290543617          21296  2019.123288 2019-02-15 18:11:15-05:00   \n",
       "1096812333333184512          17134  2019.126027 2019-02-16 11:43:32-05:00   \n",
       "1096856815810342912          29569  2019.126027 2019-02-16 14:40:18-05:00   \n",
       "1096924708132581377          21811  2019.128767 2019-02-16 19:10:04-05:00   \n",
       "1096926633708134406           8325  2019.128767 2019-02-16 19:17:44-05:00   \n",
       "\n",
       "                          hour  \\\n",
       "690171032150237184    8.936389   \n",
       "690171403388104704    8.960833   \n",
       "690173226341691392    9.081667   \n",
       "690176882055114758    9.323889   \n",
       "690180284189310976    9.549167   \n",
       "...                        ...   \n",
       "1096547516290543617  18.187500   \n",
       "1096812333333184512  11.725556   \n",
       "1096856815810342912  14.671667   \n",
       "1096924708132581377  19.167778   \n",
       "1096926633708134406  19.295556   \n",
       "\n",
       "                                                                                                                                                                                                                                                                                         no_punc  \\\n",
       "690171032150237184                                                                                                                                                                                                             bigop1   realdonaldtrump   sarahpalinusa https   t co 3kyqgqevyd    \n",
       "690171403388104704                                                                                                                                               americanaspie    glennbeck  sarahpalinusa remember when glenn gave out gifts to illegal aliens at crossing the border  me too     \n",
       "690173226341691392                                                                                                                                                   so sad that  cnn and many others refused to show the massive crowd at the arena yesterday in oklahoma  dishonest reporting    \n",
       "690176882055114758                                                                                                                                    sad sack  jebbush has just done another ad on me  with special interest money  saying i won t beat hillary   i will  but he can t beat me    \n",
       "690180284189310976                                                                                                                                  low energy candidate  jebbush has wasted  80 million on his failed presidential campaign  millions spent on me  he should go home and relax    \n",
       "...                                                                                                                                                                                                                                                                                          ...   \n",
       "1096547516290543617                                                                                                                                       great job by law enforcement in aurora  illinois  heartfelt condolences to all of the victims and their families  america is with you    \n",
       "1096812333333184512                                                                                                                                                                                                                                                      https   t co f6jd2fzayz   \n",
       "1096856815810342912                                                                                                                                                                                                                                                      https   t co njorbjwint   \n",
       "1096924708132581377                                                                                                                                                                                                                                                           building the wall    \n",
       "1096926633708134406  trade negotiators have just returned from china where the meetings on trade were very productive  now at meetings with me at mar a lago giving the details  in the meantime  billions of dollars are being paid to the united states by china in the form of trade tariffs    \n",
       "\n",
       "                     polarity  \n",
       "690171032150237184        0.0  \n",
       "690171403388104704       -2.6  \n",
       "690173226341691392       -6.0  \n",
       "690176882055114758        4.3  \n",
       "690180284189310976       -2.6  \n",
       "...                       ...  \n",
       "1096547516290543617       4.3  \n",
       "1096812333333184512       0.0  \n",
       "1096856815810342912       0.0  \n",
       "1096924708132581377       0.0  \n",
       "1096926633708134406       3.2  \n",
       "\n",
       "[10370 rows x 9 columns]"
      ]
     },
     "execution_count": 34,
     "metadata": {},
     "output_type": "execute_result"
    }
   ],
   "source": [
    "trump"
   ]
  },
  {
   "cell_type": "code",
   "execution_count": 35,
   "metadata": {
    "nbgrader": {
     "grade": true,
     "grade_id": "q6g-answer",
     "locked": false,
     "points": 1,
     "schema_version": 2,
     "solution": true
    },
    "tags": [
     "student"
    ]
   },
   "outputs": [
    {
     "data": {
      "image/png": "[encoded data removed]",
      "text/plain": [
       "<Figure size 720x504 with 1 Axes>"
      ]
     },
     "metadata": {},
     "output_type": "display_data"
    }
   ],
   "source": [
    "plt.figure(figsize = [10,7])\n",
    "nytimes = trump[trump['text'].str.contains('police')]['polarity']\n",
    "fox = trump[trump['text'].str.contains('riot')]['polarity']\n",
    "sns.distplot(nytimes, label = 'police')\n",
    "sns.distplot(fox, label = 'riot')\n",
    "plt.ylabel('Distribution of Tweet Sentiments')\n",
    "plt.title('Distribution of Tweet Sentiments Containing nytimes Compared to Tweets Containing fox')\n",
    "plt.legend();"
   ]
  },
  {
   "cell_type": "markdown",
   "metadata": {
    "deletable": false,
    "editable": false,
    "nbgrader": {
     "grade": false,
     "grade_id": "comment-on-faux-news",
     "locked": true,
     "schema_version": 2,
     "solution": false
    }
   },
   "source": [
    "<!-- END QUESTION -->\n",
    "\n",
    "<!-- BEGIN QUESTION -->\n",
    "\n",
    "### Question 6b\n",
    "Comment on what you observe in the plot above. Can you find another pair of keywords that lead to interesting plots? Describe what makes the plots interesting. (If you modify your code in 6a, remember to change the words back to `nytimes` and `fox` before submitting for grading).\n",
    "\n",
    "<!--\n",
    "BEGIN QUESTION\n",
    "name: q6b\n",
    "points: 1\n",
    "manual: true\n",
    "-->"
   ]
  },
  {
   "cell_type": "markdown",
   "metadata": {},
   "source": [
    "The distribution of sentiments for both nytimes and fox are somewhat symmetrical. Nytimes was symmetrical at around a polarity of -5, while fox was symmetrical at around a polarity of -1. Furthermore, the distribution of the two words overlapped. I tried the words police and riot in reference to recent events. The distribution of sentiment for police was symmetrical at around 0 and also had a mode at 0. Meanwhile, riot had a mode at around 10 and is skewed to the right. Both overlapped, with police overall having more weight on negative polarity and riot leaning towards a positive polarity."
   ]
  },
  {
   "cell_type": "markdown",
   "metadata": {},
   "source": [
    "<!-- END QUESTION -->\n",
    "\n",
    "\n",
    "\n",
    "## Question 7"
   ]
  },
  {
   "cell_type": "markdown",
   "metadata": {},
   "source": [
    "Now, let's see whether there's a difference in sentiment for tweets with hashtags and those without."
   ]
  },
  {
   "cell_type": "markdown",
   "metadata": {
    "deletable": false,
    "editable": false
   },
   "source": [
    "### Question 7a\n",
    "First, we'll need to write some regex that can detect whether a tweet contains a hashtag or a link. We say that:\n",
    "\n",
    "- A tweet is a retweet if it has the string 'rt' anywhere in the tweet if it is preceeded and followed by a non-word character (the start and end of the string count as non-word characters).\n",
    "- A tweet has a hashtag if it has the character '#' anywhere in the tweet followed by a letter.\n",
    "- A tweet contains a link or a picture if it has `http` anywhere in the tweet\n",
    "\n",
    "(You can check out Trump's Twitter for why these criteria are true).\n",
    "\n",
    "In the cell below, assign `rt_re` to a regex pattern that identifies retweets and `hash_link_re` to a regex pattern that identifies tweets with hashtags or links.\n",
    "\n",
    "**Hints**: \n",
    "- Be sure to precede your regex pattern with `r` to make it a raw string (Ex: `r'pattern'`). To find out more, you can read the first paragraph of the [documentation](https://docs.python.org/2/library/re.html).\n",
    "- You may find using regex word boundaries helpful for one of your patterns. \n",
    "\n",
    "<!--\n",
    "BEGIN QUESTION\n",
    "name: q7a\n",
    "points: 2\n",
    "-->"
   ]
  },
  {
   "cell_type": "code",
   "execution_count": 36,
   "metadata": {},
   "outputs": [],
   "source": [
    "rt_re = r'\\brt\\b'\n",
    "hash_link_re = r'(#\\w)|(http)'"
   ]
  },
  {
   "cell_type": "code",
   "execution_count": 37,
   "metadata": {
    "deletable": false,
    "editable": false
   },
   "outputs": [
    {
     "data": {
      "text/html": [
       "\n",
       "    \n",
       "    \n",
       "        <p>All tests passed!</p>\n",
       "    \n",
       "    "
      ],
      "text/plain": [
       "\n",
       "    All tests passed!\n",
       "    "
      ]
     },
     "execution_count": 37,
     "metadata": {},
     "output_type": "execute_result"
    }
   ],
   "source": [
    "grader.check(\"q7a\")"
   ]
  },
  {
   "cell_type": "markdown",
   "metadata": {},
   "source": [
    "### Question 7b\n",
    "Let's see whether there's a difference in sentiments for tweets with hashtags/links and those without. \n",
    "\n",
    "*Note: You will get a UserWarning error when running the below cell. For the purpose of this homework, you can ignore it.*\n",
    "\n",
    "Run the cell below to see a distribution of tweet sentiments based on whether a tweet contains a hashtag or link."
   ]
  },
  {
   "cell_type": "code",
   "execution_count": 38,
   "metadata": {},
   "outputs": [
    {
     "name": "stderr",
     "output_type": "stream",
     "text": [
      "/opt/conda/lib/python3.8/site-packages/pandas/core/strings.py:2001: UserWarning: This pattern has match groups. To actually get the groups, use str.extract.\n",
      "  return func(self, *args, **kwargs)\n",
      "/opt/conda/lib/python3.8/site-packages/pandas/core/strings.py:2001: UserWarning: This pattern has match groups. To actually get the groups, use str.extract.\n",
      "  return func(self, *args, **kwargs)\n"
     ]
    },
    {
     "data": {
      "image/png": "[encoded data removed]",
      "text/plain": [
       "<Figure size 432x288 with 1 Axes>"
      ]
     },
     "metadata": {},
     "output_type": "display_data"
    }
   ],
   "source": [
    "sns.distplot(trump[trump['text'].str.contains(hash_link_re)]['polarity'],label='hashtag or link');\n",
    "sns.distplot(trump[~trump['text'].str.contains(hash_link_re)]['polarity'],label='no hashtag or link');\n",
    "plt.xlim(-10, 10);\n",
    "plt.ylim(0, 0.4);\n",
    "plt.title('Distribution of Tweet Polarities (hashtag/link vs none)');\n",
    "plt.legend();"
   ]
  },
  {
   "cell_type": "markdown",
   "metadata": {
    "deletable": false,
    "editable": false
   },
   "source": [
    "<!-- BEGIN QUESTION -->\n",
    "\n",
    "What do you notice about the distributions? Answer in 1-2 sentences.\n",
    "\n",
    "<!--\n",
    "BEGIN QUESTION\n",
    "name: q7b\n",
    "points: 1\n",
    "manual: true\n",
    "-->"
   ]
  },
  {
   "cell_type": "markdown",
   "metadata": {},
   "source": [
    "Hastag or link is bimodal, while both hastag or link and no hastag and link have a mode at 0. Hastag or link is somewhat symmetrical while slightly skewed to the left, while no hastag nad link is symmetry and has a somewhat normal curve."
   ]
  },
  {
   "cell_type": "markdown",
   "metadata": {},
   "source": [
    "<!-- END QUESTION -->\n",
    "\n",
    "\n",
    "\n",
    "## Congratulations! You have finished Homework 4!"
   ]
  },
  {
   "cell_type": "markdown",
   "metadata": {
    "deletable": false,
    "editable": false
   },
   "source": [
    "---\n",
    "\n",
    "To double-check your work, the cell below will rerun all of the autograder tests."
   ]
  },
  {
   "cell_type": "code",
   "execution_count": 39,
   "metadata": {
    "deletable": false,
    "editable": false
   },
   "outputs": [
    {
     "data": {
      "text/html": [
       "<p><strong>q1:</strong></p>\n",
       "\n",
       "    \n",
       "    \n",
       "        <p>All tests passed!</p>\n",
       "    \n",
       "    \n",
       "\n",
       "<p><strong>q2:</strong></p>\n",
       "\n",
       "    \n",
       "    \n",
       "        <p>All tests passed!</p>\n",
       "    \n",
       "    \n",
       "\n",
       "<p><strong>q4a:</strong></p>\n",
       "\n",
       "    \n",
       "    \n",
       "        <p>All tests passed!</p>\n",
       "    \n",
       "    \n",
       "\n",
       "<p><strong>q5c:</strong></p>\n",
       "\n",
       "    \n",
       "    \n",
       "        <p>All tests passed!</p>\n",
       "    \n",
       "    \n",
       "\n",
       "<p><strong>q5d:</strong></p>\n",
       "\n",
       "    \n",
       "    \n",
       "        <p>All tests passed!</p>\n",
       "    \n",
       "    \n",
       "\n",
       "<p><strong>q5e:</strong></p>\n",
       "\n",
       "    \n",
       "    \n",
       "        <p>All tests passed!</p>\n",
       "    \n",
       "    \n",
       "\n",
       "<p><strong>q5f:</strong></p>\n",
       "\n",
       "    \n",
       "    \n",
       "        <p>All tests passed!</p>\n",
       "    \n",
       "    \n",
       "\n",
       "<p><strong>q5g:</strong></p>\n",
       "\n",
       "    \n",
       "    \n",
       "        <p>All tests passed!</p>\n",
       "    \n",
       "    \n",
       "\n",
       "<p><strong>q7a:</strong></p>\n",
       "\n",
       "    \n",
       "    \n",
       "        <p>All tests passed!</p>\n",
       "    \n",
       "    \n",
       "\n"
      ],
      "text/plain": [
       "q1:\n",
       "\n",
       "    All tests passed!\n",
       "    \n",
       "\n",
       "q2:\n",
       "\n",
       "    All tests passed!\n",
       "    \n",
       "\n",
       "q4a:\n",
       "\n",
       "    All tests passed!\n",
       "    \n",
       "\n",
       "q5c:\n",
       "\n",
       "    All tests passed!\n",
       "    \n",
       "\n",
       "q5d:\n",
       "\n",
       "    All tests passed!\n",
       "    \n",
       "\n",
       "q5e:\n",
       "\n",
       "    All tests passed!\n",
       "    \n",
       "\n",
       "q5f:\n",
       "\n",
       "    All tests passed!\n",
       "    \n",
       "\n",
       "q5g:\n",
       "\n",
       "    All tests passed!\n",
       "    \n",
       "\n",
       "q7a:\n",
       "\n",
       "    All tests passed!\n",
       "    \n"
      ]
     },
     "execution_count": 39,
     "metadata": {},
     "output_type": "execute_result"
    }
   ],
   "source": [
    "grader.check_all()"
   ]
  },
  {
   "cell_type": "markdown",
   "metadata": {
    "deletable": false,
    "editable": false
   },
   "source": [
    "## Submission\n",
    "\n",
    "Make sure you have run all cells in your notebook in order before running the cell below, so that all images/graphs appear in the output. The cell below will generate a zip file for you to submit. **Please save before exporting!**"
   ]
  },
  {
   "cell_type": "code",
   "execution_count": 40,
   "metadata": {
    "deletable": false,
    "editable": false
   },
   "outputs": [
    {
     "data": {
      "text/html": [
       "\n",
       "                <p>Your submission has been exported. Click <a href=\"hw4.zip\" target=\"_blank\">here</a> \n",
       "                to download the zip file.</p>\n",
       "                "
      ],
      "text/plain": [
       "<IPython.core.display.HTML object>"
      ]
     },
     "metadata": {},
     "output_type": "display_data"
    }
   ],
   "source": [
    "# Save your notebook first, then run this cell to export your submission.\n",
    "grader.export(\"hw4.ipynb\")"
   ]
  },
  {
   "cell_type": "markdown",
   "metadata": {},
   "source": [
    " "
   ]
  }
 ],
 "metadata": {
  "kernelspec": {
   "display_name": "Python 3",
   "language": "python",
   "name": "python3"
  },
  "language_info": {
   "codemirror_mode": {
    "name": "ipython",
    "version": 3
   },
   "file_extension": ".py",
   "mimetype": "text/x-python",
   "name": "python",
   "nbconvert_exporter": "python",
   "pygments_lexer": "ipython3",
   "version": "3.8.5"
  }
 },
 "nbformat": 4,
 "nbformat_minor": 2
}

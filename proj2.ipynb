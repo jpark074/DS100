{
 "cells": [
  {
   "cell_type": "code",
   "execution_count": 1,
   "metadata": {
    "deletable": false,
    "editable": false
   },
   "outputs": [],
   "source": [
    "# Initialize Otter\n",
    "import otter\n",
    "grader = otter.Notebook()"
   ]
  },
  {
   "cell_type": "markdown",
   "metadata": {},
   "source": [
    "# Project 2: Spam/Ham Classification\n",
    "## Feature Engineering, Logistic Regression, Cross Validation\n",
    "## Due Date: Monday 11/30, 11:59 PM PST\n",
    "\n",
    "**Collaboration Policy**\n",
    "\n",
    "Data science is a collaborative activity. While you may talk with others about\n",
    "the project, we ask that you **write your solutions individually**. If you do\n",
    "discuss the assignments with others please **include their names** at the top\n",
    "of your notebook."
   ]
  },
  {
   "cell_type": "markdown",
   "metadata": {},
   "source": [
    "**Collaborators**: *list collaborators here*"
   ]
  },
  {
   "cell_type": "markdown",
   "metadata": {
    "nbgrader": {
     "grade": false,
     "grade_id": "proj2",
     "locked": true,
     "schema_version": 2,
     "solution": false
    }
   },
   "source": [
    "## This Assignment\n",
    "In this project, you will use what you've learned in class to create a classifier that can distinguish spam (junk or commercial or bulk) emails from ham (non-spam) emails. In addition to providing some skeleton code to fill in, we will evaluate your work based on your model's accuracy and your written responses in this notebook.\n",
    "\n",
    "After this project, you should feel comfortable with the following:\n",
    "\n",
    "- Feature engineering with text data\n",
    "- Using `sklearn` libraries to process data and fit models\n",
    "- Validating the performance of your model and minimizing overfitting\n",
    "- Generating and analyzing precision-recall curves\n",
    "\n",
    "## Warning\n",
    "This is a **real world** dataset– the emails you are trying to classify are actual spam and legitimate emails. As a result, some of the spam emails may be in poor taste or be considered inappropriate. We think the benefit of working with realistic data outweighs these innapropriate emails, and wanted to give a warning at the beginning of the project so that you are made aware."
   ]
  },
  {
   "cell_type": "markdown",
   "metadata": {},
   "source": [
    "## Disclaimer about `sns.distplot()`\n",
    "\n",
    "This project was designed for a slightly older version of seaborn, which does not support the new `displot` method taught in Lecture 9. Instead, in this project will occasionally call `distplot` (with a `t`). As you may have noticed in several of the previous assignments, use of the `distplot` function triggers a deprecation warning to notify the user that they should replace all deprecated functions with the updated version. Generally, warnings should not be suppressed but we will do so in this assignment to avoid cluttering.\n",
    "\n",
    "See the seaborn documentation on [distributions](https://seaborn.pydata.org/tutorial/distributions.html) and [functions](https://seaborn.pydata.org/tutorial/function_overview.html) for more details."
   ]
  },
  {
   "cell_type": "code",
   "execution_count": 2,
   "metadata": {},
   "outputs": [],
   "source": [
    "# Run this cell to suppress all FutureWarnings\n",
    "import warnings\n",
    "warnings.filterwarnings(\"ignore\", category=FutureWarning)"
   ]
  },
  {
   "cell_type": "markdown",
   "metadata": {},
   "source": [
    "## Score Breakdown\n",
    "Question | Points\n",
    "--- | ---\n",
    "1a | 1\n",
    "1b | 1\n",
    "1c | 2\n",
    "2 | 3\n",
    "3a | 2\n",
    "3b | 2\n",
    "4 | 2\n",
    "5 | 2\n",
    "6a | 1\n",
    "6b | 1\n",
    "6c | 2\n",
    "6d | 2\n",
    "6e | 1\n",
    "6f | 3\n",
    "7 | 6\n",
    "8 | 6\n",
    "9 | 3\n",
    "10 | 15\n",
    "Total | 55"
   ]
  },
  {
   "cell_type": "markdown",
   "metadata": {
    "nbgrader": {
     "grade": false,
     "grade_id": "p1",
     "locked": true,
     "schema_version": 2,
     "solution": false
    }
   },
   "source": [
    "# Part I - Initial Analysis"
   ]
  },
  {
   "cell_type": "code",
   "execution_count": 3,
   "metadata": {
    "ExecuteTime": {
     "end_time": "2019-04-03T20:17:41.341673Z",
     "start_time": "2019-04-03T20:17:41.330307Z"
    },
    "nbgrader": {
     "grade": false,
     "grade_id": "imports",
     "locked": true,
     "schema_version": 2,
     "solution": false
    }
   },
   "outputs": [],
   "source": [
    "import numpy as np\n",
    "import pandas as pd\n",
    "\n",
    "import matplotlib.pyplot as plt\n",
    "%matplotlib inline\n",
    "\n",
    "import seaborn as sns\n",
    "sns.set(style = \"whitegrid\", \n",
    "        color_codes = True,\n",
    "        font_scale = 1.5)"
   ]
  },
  {
   "cell_type": "markdown",
   "metadata": {
    "nbgrader": {
     "grade": false,
     "grade_id": "loading",
     "locked": true,
     "schema_version": 2,
     "solution": false
    }
   },
   "source": [
    "### Loading in the Data\n",
    "\n",
    "In email classification, our goal is to classify emails as spam or not spam (referred to as \"ham\") using features generated from the text in the email. \n",
    "\n",
    "The dataset consists of email messages and their labels (0 for ham, 1 for spam). Your labeled training dataset contains 8348 labeled examples, and the unlabeled test set contains 1000 unlabeled examples.\n",
    "\n",
    "Run the following cells to load in the data into DataFrames.\n",
    "\n",
    "The `train` DataFrame contains labeled data that you will use to train your model. It contains four columns:\n",
    "\n",
    "1. `id`: An identifier for the training example\n",
    "1. `subject`: The subject of the email\n",
    "1. `email`: The text of the email\n",
    "1. `spam`: 1 if the email is spam, 0 if the email is ham (not spam)\n",
    "\n",
    "The `test` DataFrame contains 1000 unlabeled emails. You will predict labels for these emails and submit your predictions to the autograder for evaluation."
   ]
  },
  {
   "cell_type": "code",
   "execution_count": 4,
   "metadata": {
    "ExecuteTime": {
     "end_time": "2019-04-03T20:17:42.181245Z",
     "start_time": "2019-04-03T20:17:41.343927Z"
    },
    "nbgrader": {
     "grade": false,
     "grade_id": "fetch-data",
     "locked": true,
     "schema_version": 2,
     "solution": false
    }
   },
   "outputs": [
    {
     "name": "stdout",
     "output_type": "stream",
     "text": [
      "Using version already downloaded: Fri Nov 13 12:30:32 2020\n",
      "MD5 hash of file: 0380c4cf72746622947b9ca5db9b8be8\n",
      "Using version already downloaded: Fri Nov 13 12:30:33 2020\n",
      "MD5 hash of file: a2e7abd8c7d9abf6e6fafc1d1f9ee6bf\n"
     ]
    },
    {
     "data": {
      "text/html": [
       "<div>\n",
       "<style scoped>\n",
       "    .dataframe tbody tr th:only-of-type {\n",
       "        vertical-align: middle;\n",
       "    }\n",
       "\n",
       "    .dataframe tbody tr th {\n",
       "        vertical-align: top;\n",
       "    }\n",
       "\n",
       "    .dataframe thead th {\n",
       "        text-align: right;\n",
       "    }\n",
       "</style>\n",
       "<table border=\"1\" class=\"dataframe\">\n",
       "  <thead>\n",
       "    <tr style=\"text-align: right;\">\n",
       "      <th></th>\n",
       "      <th>id</th>\n",
       "      <th>subject</th>\n",
       "      <th>email</th>\n",
       "      <th>spam</th>\n",
       "    </tr>\n",
       "  </thead>\n",
       "  <tbody>\n",
       "    <tr>\n",
       "      <th>0</th>\n",
       "      <td>0</td>\n",
       "      <td>Subject: A&amp;L Daily to be auctioned in bankrupt...</td>\n",
       "      <td>url: http://boingboing.net/#85534171\\n date: n...</td>\n",
       "      <td>0</td>\n",
       "    </tr>\n",
       "    <tr>\n",
       "      <th>1</th>\n",
       "      <td>1</td>\n",
       "      <td>Subject: Wired: \"Stronger ties between ISPs an...</td>\n",
       "      <td>url: http://scriptingnews.userland.com/backiss...</td>\n",
       "      <td>0</td>\n",
       "    </tr>\n",
       "    <tr>\n",
       "      <th>2</th>\n",
       "      <td>2</td>\n",
       "      <td>Subject: It's just too small                  ...</td>\n",
       "      <td>&lt;html&gt;\\n &lt;head&gt;\\n &lt;/head&gt;\\n &lt;body&gt;\\n &lt;font siz...</td>\n",
       "      <td>1</td>\n",
       "    </tr>\n",
       "    <tr>\n",
       "      <th>3</th>\n",
       "      <td>3</td>\n",
       "      <td>Subject: liberal defnitions\\n</td>\n",
       "      <td>depends on how much over spending vs. how much...</td>\n",
       "      <td>0</td>\n",
       "    </tr>\n",
       "    <tr>\n",
       "      <th>4</th>\n",
       "      <td>4</td>\n",
       "      <td>Subject: RE: [ILUG] Newbie seeks advice - Suse...</td>\n",
       "      <td>hehe sorry but if you hit caps lock twice the ...</td>\n",
       "      <td>0</td>\n",
       "    </tr>\n",
       "  </tbody>\n",
       "</table>\n",
       "</div>"
      ],
      "text/plain": [
       "   id                                            subject  \\\n",
       "0   0  Subject: A&L Daily to be auctioned in bankrupt...   \n",
       "1   1  Subject: Wired: \"Stronger ties between ISPs an...   \n",
       "2   2  Subject: It's just too small                  ...   \n",
       "3   3                      Subject: liberal defnitions\\n   \n",
       "4   4  Subject: RE: [ILUG] Newbie seeks advice - Suse...   \n",
       "\n",
       "                                               email  spam  \n",
       "0  url: http://boingboing.net/#85534171\\n date: n...     0  \n",
       "1  url: http://scriptingnews.userland.com/backiss...     0  \n",
       "2  <html>\\n <head>\\n </head>\\n <body>\\n <font siz...     1  \n",
       "3  depends on how much over spending vs. how much...     0  \n",
       "4  hehe sorry but if you hit caps lock twice the ...     0  "
      ]
     },
     "execution_count": 4,
     "metadata": {},
     "output_type": "execute_result"
    }
   ],
   "source": [
    "from utils import fetch_and_cache_gdrive\n",
    "fetch_and_cache_gdrive('1SCASpLZFKCp2zek-toR3xeKX3DZnBSyp', 'train.csv')\n",
    "fetch_and_cache_gdrive('1ZDFo9OTF96B5GP2Nzn8P8-AL7CTQXmC0', 'test.csv')\n",
    "\n",
    "original_training_data = pd.read_csv('data/train.csv')\n",
    "test = pd.read_csv('data/test.csv')\n",
    "\n",
    "# Convert the emails to lower case as a first step to processing the text\n",
    "original_training_data['email'] = original_training_data['email'].str.lower()\n",
    "test['email'] = test['email'].str.lower()\n",
    "\n",
    "original_training_data.head()"
   ]
  },
  {
   "cell_type": "markdown",
   "metadata": {
    "deletable": false,
    "editable": false,
    "nbgrader": {
     "grade": false,
     "grade_id": "cell-34476156ed73b800",
     "locked": true,
     "schema_version": 2,
     "solution": false
    }
   },
   "source": [
    "### Question 1a\n",
    "First, let's check if our data contains any missing values. Fill in the cell below to print the number of NaN values in each column. If there are NaN values, replace them with appropriate filler values (i.e., NaN values in the `subject` or `email` columns should be replaced with empty strings). Print the number of NaN values in each column after this modification to verify that there are no NaN values left.\n",
    "\n",
    "Note that while there are no NaN values in the `spam` column, we should be careful when replacing NaN labels. Doing so without consideration may introduce significant bias into our model when fitting.\n",
    "\n",
    "*The provided test checks that there are no missing values in your dataset.*\n",
    "\n",
    "<!--\n",
    "BEGIN QUESTION\n",
    "name: q1a\n",
    "points: 1\n",
    "-->"
   ]
  },
  {
   "cell_type": "code",
   "execution_count": 5,
   "metadata": {
    "ExecuteTime": {
     "end_time": "2019-04-03T20:17:42.203231Z",
     "start_time": "2019-04-03T20:17:42.185104Z"
    },
    "nbgrader": {
     "grade": false,
     "grade_id": "cell-b1fb39d9b651ca1b",
     "locked": false,
     "schema_version": 2,
     "solution": true
    }
   },
   "outputs": [
    {
     "data": {
      "text/plain": [
       "0"
      ]
     },
     "execution_count": 5,
     "metadata": {},
     "output_type": "execute_result"
    }
   ],
   "source": [
    "original_training_data.isnull().sum()\n",
    "original_training_data = original_training_data.fillna('')\n",
    "original_training_data.isnull().sum().sum()\n",
    "\n"
   ]
  },
  {
   "cell_type": "code",
   "execution_count": 6,
   "metadata": {
    "deletable": false,
    "editable": false
   },
   "outputs": [
    {
     "data": {
      "text/html": [
       "\n",
       "    \n",
       "    \n",
       "        <p>All tests passed!</p>\n",
       "    \n",
       "    "
      ],
      "text/plain": [
       "\n",
       "    All tests passed!\n",
       "    "
      ]
     },
     "execution_count": 6,
     "metadata": {},
     "output_type": "execute_result"
    }
   ],
   "source": [
    "grader.check(\"q1a\")"
   ]
  },
  {
   "cell_type": "markdown",
   "metadata": {
    "deletable": false,
    "editable": false,
    "nbgrader": {
     "grade": false,
     "grade_id": "q1",
     "locked": true,
     "schema_version": 2,
     "solution": false
    }
   },
   "source": [
    "### Question 1b\n",
    "\n",
    "In the cell below, print the text of the `email` field for the first ham and the first spam email in the original training set.\n",
    "\n",
    "*The provided tests just ensure that you have assigned `first_ham` and `first_spam` to rows in the data, but only the hidden tests check that you selected the correct observations.*\n",
    "\n",
    "<!--\n",
    "BEGIN QUESTION\n",
    "name: q1b\n",
    "points: 1\n",
    "-->"
   ]
  },
  {
   "cell_type": "code",
   "execution_count": 7,
   "metadata": {
    "ExecuteTime": {
     "end_time": "2019-04-03T20:17:42.247245Z",
     "start_time": "2019-04-03T20:17:42.228451Z"
    },
    "nbgrader": {
     "grade": false,
     "grade_id": "q1-answer",
     "locked": false,
     "schema_version": 2,
     "solution": true
    }
   },
   "outputs": [
    {
     "name": "stdout",
     "output_type": "stream",
     "text": [
      "url: http://boingboing.net/#85534171\n",
      " date: not supplied\n",
      " \n",
      " arts and letters daily, a wonderful and dense blog, has folded up its tent due \n",
      " to the bankruptcy of its parent company. a&l daily will be auctioned off by the \n",
      " receivers. link[1] discuss[2] (_thanks, misha!_)\n",
      " \n",
      " [1] http://www.aldaily.com/\n",
      " [2] http://www.quicktopic.com/boing/h/zlfterjnd6jf\n",
      " \n",
      " \n",
      "\n",
      "<html>\n",
      " <head>\n",
      " </head>\n",
      " <body>\n",
      " <font size=3d\"4\"><b> a man endowed with a 7-8\" hammer is simply<br>\n",
      "  better equipped than a man with a 5-6\"hammer. <br>\n",
      " <br>would you rather have<br>more than enough to get the job done or fall =\n",
      " short. it's totally up<br>to you. our methods are guaranteed to increase y=\n",
      " our size by 1-3\"<br> <a href=3d\"http://209.163.187.47/cgi-bin/index.php?10=\n",
      " 004\">come in here and see how</a>\n",
      " </body>\n",
      " </html>\n",
      " \n",
      " \n",
      " \n",
      "\n"
     ]
    }
   ],
   "source": [
    "first_ham = original_training_data.groupby(['spam']).first().iloc[0]['email']\n",
    "first_spam =  original_training_data.groupby(['spam']).first().iloc[1]['email']\n",
    "print(first_ham)\n",
    "print(first_spam)"
   ]
  },
  {
   "cell_type": "code",
   "execution_count": 8,
   "metadata": {
    "deletable": false,
    "editable": false
   },
   "outputs": [
    {
     "data": {
      "text/html": [
       "\n",
       "    \n",
       "    \n",
       "        <p>All tests passed!</p>\n",
       "    \n",
       "    "
      ],
      "text/plain": [
       "\n",
       "    All tests passed!\n",
       "    "
      ]
     },
     "execution_count": 8,
     "metadata": {},
     "output_type": "execute_result"
    }
   ],
   "source": [
    "grader.check(\"q1b\")"
   ]
  },
  {
   "cell_type": "markdown",
   "metadata": {
    "deletable": false,
    "editable": false
   },
   "source": [
    "<!-- BEGIN QUESTION -->\n",
    "\n",
    "### Question 1c\n",
    "\n",
    "Discuss one thing you notice that is different between the two emails that might relate to the identification of spam.\n",
    "\n",
    "<!--\n",
    "BEGIN QUESTION\n",
    "name: q1c\n",
    "manual: True\n",
    "points: 2\n",
    "-->"
   ]
  },
  {
   "cell_type": "markdown",
   "metadata": {},
   "source": [
    "A noticable difference is that the spam email uses HTML while ham is just text."
   ]
  },
  {
   "cell_type": "markdown",
   "metadata": {
    "nbgrader": {
     "grade": false,
     "grade_id": "cell-78513403ef52a957",
     "locked": true,
     "schema_version": 2,
     "solution": false
    }
   },
   "source": [
    "<!-- END QUESTION -->\n",
    "\n",
    "\n",
    "\n",
    "## Training Validation Split\n",
    "The training data we downloaded is all the data we have available for both training models and **validating** the models that we train.  We therefore need to split the training data into separate training and validation datsets.  You will need this **validation data** to assess the performance of your classifier once you are finished training. Note that we set the seed (random_state) to 42. This will produce a pseudo-random sequence of random numbers that is the same for every student. **Do not modify this in the following questions, as our tests depend on this random seed.**"
   ]
  },
  {
   "cell_type": "code",
   "execution_count": 9,
   "metadata": {
    "ExecuteTime": {
     "end_time": "2019-04-03T20:17:42.317970Z",
     "start_time": "2019-04-03T20:17:42.294532Z"
    },
    "nbgrader": {
     "grade": false,
     "grade_id": "cell-873194ed3e686dfb",
     "locked": true,
     "schema_version": 2,
     "solution": false
    }
   },
   "outputs": [],
   "source": [
    "# This creates a 90/10 train-validation split on our labeled data\n",
    "\n",
    "from sklearn.model_selection import train_test_split\n",
    "\n",
    "train, val = train_test_split(original_training_data, test_size=0.1, random_state=42)"
   ]
  },
  {
   "cell_type": "markdown",
   "metadata": {
    "nbgrader": {
     "grade": false,
     "grade_id": "feat-eng",
     "locked": true,
     "schema_version": 2,
     "solution": false
    }
   },
   "source": [
    "# Basic Feature Engineering\n",
    "\n",
    "We would like to take the text of an email and predict whether the email is ham or spam. This is a *classification* problem, so we can use logistic regression to train a classifier. Recall that to train an logistic regression model we need a numeric feature matrix $X$ and a vector of corresponding binary labels $y$.  Unfortunately, our data are text, not numbers. To address this, we can create numeric features derived from the email text and use those features for logistic regression.\n",
    "\n",
    "Each row of $X$ is an email. Each column of $X$ contains one feature for all the emails. We'll guide you through creating a simple feature, and you'll create more interesting ones as you try to increase the accuracy of your model."
   ]
  },
  {
   "cell_type": "markdown",
   "metadata": {
    "deletable": false,
    "editable": false,
    "nbgrader": {
     "grade": false,
     "grade_id": "q2",
     "locked": true,
     "schema_version": 2,
     "solution": false
    }
   },
   "source": [
    "### Question 2\n",
    "\n",
    "Create a function called `words_in_texts` that takes in a list of `words` and a pandas Series of email `texts`. It should output a 2-dimensional NumPy array containing one row for each email text. The row should contain either a 0 or a 1 for each word in the list: 0 if the word doesn't appear in the text and 1 if the word does. For example:\n",
    "\n",
    "```\n",
    ">>> words_in_texts(['hello', 'bye', 'world'], \n",
    "                   pd.Series(['hello', 'hello worldhello']))\n",
    "\n",
    "array([[1, 0, 0],\n",
    "       [1, 0, 1]])\n",
    "```\n",
    "\n",
    "*The provided tests make sure that your function works correctly, so that you can use it for future questions.*\n",
    "\n",
    "<!--\n",
    "BEGIN QUESTION\n",
    "name: q2\n",
    "points: 3\n",
    "-->"
   ]
  },
  {
   "cell_type": "code",
   "execution_count": 10,
   "metadata": {
    "ExecuteTime": {
     "end_time": "2019-04-03T20:17:42.337281Z",
     "start_time": "2019-04-03T20:17:42.320567Z"
    },
    "nbgrader": {
     "grade": false,
     "grade_id": "q2-answer",
     "locked": false,
     "schema_version": 2,
     "solution": true
    },
    "tags": [
     "student"
    ]
   },
   "outputs": [],
   "source": [
    "def words_in_texts(words, texts):\n",
    "    '''\n",
    "    Args:\n",
    "        words (list): words to find\n",
    "        texts (Series): strings to search in\n",
    "    \n",
    "    Returns:\n",
    "        NumPy array of 0s and 1s with shape (n, p) where n is the\n",
    "        number of texts and p is the number of words.\n",
    "    '''\n",
    "    indicator_array = np.zeros([texts.size, len(words)])\n",
    "    for n in range(texts.size):\n",
    "        for p in range(len(words)):\n",
    "            indicator_array[n][p] = pd.Series(texts.iloc[n]).str.contains(words[p]).sum()\n",
    "    return indicator_array\n"
   ]
  },
  {
   "cell_type": "code",
   "execution_count": 11,
   "metadata": {
    "deletable": false,
    "editable": false
   },
   "outputs": [
    {
     "data": {
      "text/html": [
       "\n",
       "    \n",
       "    \n",
       "        <p>All tests passed!</p>\n",
       "    \n",
       "    "
      ],
      "text/plain": [
       "\n",
       "    All tests passed!\n",
       "    "
      ]
     },
     "execution_count": 11,
     "metadata": {},
     "output_type": "execute_result"
    }
   ],
   "source": [
    "grader.check(\"q2\")"
   ]
  },
  {
   "cell_type": "markdown",
   "metadata": {
    "nbgrader": {
     "grade": false,
     "grade_id": "eda",
     "locked": true,
     "schema_version": 2,
     "solution": false
    }
   },
   "source": [
    "# Basic EDA\n",
    "\n",
    "We need to identify some features that allow us to distinguish spam emails from ham emails. One idea is to compare the distribution of a single feature in spam emails to the distribution of the same feature in ham emails. If the feature is itself a binary indicator, such as whether a certain word occurs in the text, this amounts to comparing the proportion of spam emails with the word to the proportion of ham emails with the word.\n"
   ]
  },
  {
   "cell_type": "markdown",
   "metadata": {
    "nbgrader": {
     "grade": false,
     "grade_id": "q3a",
     "locked": true,
     "schema_version": 2,
     "solution": false
    }
   },
   "source": [
    "The following plot (which was created using `sns.barplot`) compares the proportion of emails in each class containing a particular set of words. \n",
    "\n",
    "![training conditional proportions](images/training_conditional_proportions.png)\n",
    "\n",
    "You can use DataFrame's `.melt` method to \"unpivot\" a DataFrame. See the following code cell for an example."
   ]
  },
  {
   "cell_type": "code",
   "execution_count": 12,
   "metadata": {
    "ExecuteTime": {
     "end_time": "2019-04-03T20:17:42.428419Z",
     "start_time": "2019-04-03T20:17:42.386697Z"
    }
   },
   "outputs": [
    {
     "data": {
      "text/markdown": [
       "> Our Original DataFrame has a `type` column and some columns corresponding to words. You can think of each row as a sentence, and the value of 1 or 0 indicates the number of occurences of the word in this sentence."
      ],
      "text/plain": [
       "<IPython.core.display.Markdown object>"
      ]
     },
     "metadata": {},
     "output_type": "display_data"
    },
    {
     "data": {
      "text/html": [
       "<div>\n",
       "<style scoped>\n",
       "    .dataframe tbody tr th:only-of-type {\n",
       "        vertical-align: middle;\n",
       "    }\n",
       "\n",
       "    .dataframe tbody tr th {\n",
       "        vertical-align: top;\n",
       "    }\n",
       "\n",
       "    .dataframe thead th {\n",
       "        text-align: right;\n",
       "    }\n",
       "</style>\n",
       "<table border=\"1\" class=\"dataframe\">\n",
       "  <thead>\n",
       "    <tr style=\"text-align: right;\">\n",
       "      <th></th>\n",
       "      <th>word_1</th>\n",
       "      <th>word_2</th>\n",
       "      <th>type</th>\n",
       "    </tr>\n",
       "  </thead>\n",
       "  <tbody>\n",
       "    <tr>\n",
       "      <th>0</th>\n",
       "      <td>1</td>\n",
       "      <td>0</td>\n",
       "      <td>spam</td>\n",
       "    </tr>\n",
       "    <tr>\n",
       "      <th>1</th>\n",
       "      <td>0</td>\n",
       "      <td>1</td>\n",
       "      <td>ham</td>\n",
       "    </tr>\n",
       "    <tr>\n",
       "      <th>2</th>\n",
       "      <td>1</td>\n",
       "      <td>0</td>\n",
       "      <td>ham</td>\n",
       "    </tr>\n",
       "    <tr>\n",
       "      <th>3</th>\n",
       "      <td>0</td>\n",
       "      <td>1</td>\n",
       "      <td>ham</td>\n",
       "    </tr>\n",
       "  </tbody>\n",
       "</table>\n",
       "</div>"
      ],
      "text/plain": [
       "   word_1  word_2  type\n",
       "0       1       0  spam\n",
       "1       0       1   ham\n",
       "2       1       0   ham\n",
       "3       0       1   ham"
      ]
     },
     "metadata": {},
     "output_type": "display_data"
    },
    {
     "data": {
      "text/markdown": [
       "> `melt` will turn columns into entries in a variable column. Notice how `word_1` and `word_2` become entries in `variable`; their values are stored in the value column."
      ],
      "text/plain": [
       "<IPython.core.display.Markdown object>"
      ]
     },
     "metadata": {},
     "output_type": "display_data"
    },
    {
     "data": {
      "text/html": [
       "<div>\n",
       "<style scoped>\n",
       "    .dataframe tbody tr th:only-of-type {\n",
       "        vertical-align: middle;\n",
       "    }\n",
       "\n",
       "    .dataframe tbody tr th {\n",
       "        vertical-align: top;\n",
       "    }\n",
       "\n",
       "    .dataframe thead th {\n",
       "        text-align: right;\n",
       "    }\n",
       "</style>\n",
       "<table border=\"1\" class=\"dataframe\">\n",
       "  <thead>\n",
       "    <tr style=\"text-align: right;\">\n",
       "      <th></th>\n",
       "      <th>type</th>\n",
       "      <th>variable</th>\n",
       "      <th>value</th>\n",
       "    </tr>\n",
       "  </thead>\n",
       "  <tbody>\n",
       "    <tr>\n",
       "      <th>0</th>\n",
       "      <td>spam</td>\n",
       "      <td>word_1</td>\n",
       "      <td>1</td>\n",
       "    </tr>\n",
       "    <tr>\n",
       "      <th>1</th>\n",
       "      <td>ham</td>\n",
       "      <td>word_1</td>\n",
       "      <td>0</td>\n",
       "    </tr>\n",
       "    <tr>\n",
       "      <th>2</th>\n",
       "      <td>ham</td>\n",
       "      <td>word_1</td>\n",
       "      <td>1</td>\n",
       "    </tr>\n",
       "    <tr>\n",
       "      <th>3</th>\n",
       "      <td>ham</td>\n",
       "      <td>word_1</td>\n",
       "      <td>0</td>\n",
       "    </tr>\n",
       "    <tr>\n",
       "      <th>4</th>\n",
       "      <td>spam</td>\n",
       "      <td>word_2</td>\n",
       "      <td>0</td>\n",
       "    </tr>\n",
       "    <tr>\n",
       "      <th>5</th>\n",
       "      <td>ham</td>\n",
       "      <td>word_2</td>\n",
       "      <td>1</td>\n",
       "    </tr>\n",
       "    <tr>\n",
       "      <th>6</th>\n",
       "      <td>ham</td>\n",
       "      <td>word_2</td>\n",
       "      <td>0</td>\n",
       "    </tr>\n",
       "    <tr>\n",
       "      <th>7</th>\n",
       "      <td>ham</td>\n",
       "      <td>word_2</td>\n",
       "      <td>1</td>\n",
       "    </tr>\n",
       "  </tbody>\n",
       "</table>\n",
       "</div>"
      ],
      "text/plain": [
       "   type variable  value\n",
       "0  spam   word_1      1\n",
       "1   ham   word_1      0\n",
       "2   ham   word_1      1\n",
       "3   ham   word_1      0\n",
       "4  spam   word_2      0\n",
       "5   ham   word_2      1\n",
       "6   ham   word_2      0\n",
       "7   ham   word_2      1"
      ]
     },
     "metadata": {},
     "output_type": "display_data"
    }
   ],
   "source": [
    "from IPython.display import display, Markdown\n",
    "df = pd.DataFrame({\n",
    "    'word_1': [1, 0, 1, 0],\n",
    "    'word_2': [0, 1, 0, 1],\n",
    "    'type': ['spam', 'ham', 'ham', 'ham']\n",
    "})\n",
    "display(Markdown(\"> Our Original DataFrame has a `type` column and some columns corresponding to words. You can think of each row as a sentence, and the value of 1 or 0 indicates the number of occurences of the word in this sentence.\"))\n",
    "display(df);\n",
    "display(Markdown(\"> `melt` will turn columns into entries in a variable column. Notice how `word_1` and `word_2` become entries in `variable`; their values are stored in the value column.\"))\n",
    "display(df.melt(\"type\"))"
   ]
  },
  {
   "cell_type": "markdown",
   "metadata": {
    "deletable": false,
    "editable": false
   },
   "source": [
    "<!-- BEGIN QUESTION -->\n",
    "\n",
    "### Question 3a\n",
    "\n",
    "Create a bar chart like the one above comparing the proportion of spam and ham emails containing certain words. Choose a set of words that are different from the ones above, but also have different proportions for the two classes. Make sure to only consider emails from `train`.\n",
    "\n",
    "<!--\n",
    "BEGIN QUESTION\n",
    "name: q3a\n",
    "manual: True\n",
    "format: image\n",
    "points: 2\n",
    "-->"
   ]
  },
  {
   "cell_type": "code",
   "execution_count": 13,
   "metadata": {},
   "outputs": [
    {
     "data": {
      "text/html": [
       "<div>\n",
       "<style scoped>\n",
       "    .dataframe tbody tr th:only-of-type {\n",
       "        vertical-align: middle;\n",
       "    }\n",
       "\n",
       "    .dataframe tbody tr th {\n",
       "        vertical-align: top;\n",
       "    }\n",
       "\n",
       "    .dataframe thead th {\n",
       "        text-align: right;\n",
       "    }\n",
       "</style>\n",
       "<table border=\"1\" class=\"dataframe\">\n",
       "  <thead>\n",
       "    <tr style=\"text-align: right;\">\n",
       "      <th></th>\n",
       "      <th>new</th>\n",
       "      <th>you</th>\n",
       "      <th>free</th>\n",
       "      <th>need</th>\n",
       "      <th>read</th>\n",
       "      <th>content</th>\n",
       "      <th>type</th>\n",
       "    </tr>\n",
       "  </thead>\n",
       "  <tbody>\n",
       "    <tr>\n",
       "      <th>0</th>\n",
       "      <td>1.0</td>\n",
       "      <td>0.0</td>\n",
       "      <td>1.0</td>\n",
       "      <td>0.0</td>\n",
       "      <td>0.0</td>\n",
       "      <td>0.0</td>\n",
       "      <td>0.0</td>\n",
       "    </tr>\n",
       "    <tr>\n",
       "      <th>1</th>\n",
       "      <td>1.0</td>\n",
       "      <td>1.0</td>\n",
       "      <td>0.0</td>\n",
       "      <td>0.0</td>\n",
       "      <td>1.0</td>\n",
       "      <td>0.0</td>\n",
       "      <td>0.0</td>\n",
       "    </tr>\n",
       "    <tr>\n",
       "      <th>2</th>\n",
       "      <td>1.0</td>\n",
       "      <td>1.0</td>\n",
       "      <td>1.0</td>\n",
       "      <td>0.0</td>\n",
       "      <td>0.0</td>\n",
       "      <td>0.0</td>\n",
       "      <td>1.0</td>\n",
       "    </tr>\n",
       "    <tr>\n",
       "      <th>3</th>\n",
       "      <td>1.0</td>\n",
       "      <td>1.0</td>\n",
       "      <td>0.0</td>\n",
       "      <td>0.0</td>\n",
       "      <td>1.0</td>\n",
       "      <td>0.0</td>\n",
       "      <td>0.0</td>\n",
       "    </tr>\n",
       "    <tr>\n",
       "      <th>4</th>\n",
       "      <td>1.0</td>\n",
       "      <td>1.0</td>\n",
       "      <td>1.0</td>\n",
       "      <td>1.0</td>\n",
       "      <td>1.0</td>\n",
       "      <td>0.0</td>\n",
       "      <td>0.0</td>\n",
       "    </tr>\n",
       "  </tbody>\n",
       "</table>\n",
       "</div>"
      ],
      "text/plain": [
       "   new  you  free  need  read  content  type\n",
       "0  1.0  0.0   1.0   0.0   0.0      0.0   0.0\n",
       "1  1.0  1.0   0.0   0.0   1.0      0.0   0.0\n",
       "2  1.0  1.0   1.0   0.0   0.0      0.0   1.0\n",
       "3  1.0  1.0   0.0   0.0   1.0      0.0   0.0\n",
       "4  1.0  1.0   1.0   1.0   1.0      0.0   0.0"
      ]
     },
     "execution_count": 13,
     "metadata": {},
     "output_type": "execute_result"
    }
   ],
   "source": [
    "words = ['new', 'you', 'free', 'need', 'read', 'content']\n",
    "words_table = pd.DataFrame(words_in_texts(words, train['email']), columns = words)\n",
    "words_table['type'] = train['spam']\n",
    "words_table.head(5)"
   ]
  },
  {
   "cell_type": "code",
   "execution_count": 14,
   "metadata": {
    "ExecuteTime": {
     "end_time": "2019-04-03T20:17:43.145246Z",
     "start_time": "2019-04-03T20:17:42.430406Z"
    },
    "nbgrader": {
     "grade": true,
     "grade_id": "q3a-answer",
     "locked": false,
     "points": 2,
     "schema_version": 2,
     "solution": true
    }
   },
   "outputs": [
    {
     "data": {
      "text/plain": [
       "[Text(0, 0.5, 'proportion'), Text(0.5, 0, 'words')]"
      ]
     },
     "execution_count": 14,
     "metadata": {},
     "output_type": "execute_result"
    },
    {
     "data": {
      "image/png": "[encoded data removed]",
      "text/plain": [
       "<Figure size 432x288 with 1 Axes>"
      ]
     },
     "metadata": {},
     "output_type": "display_data"
    }
   ],
   "source": [
    "train=train.reset_index(drop=True) # We must do this in order to preserve the ordering of emails to labels for words_in_texts\n",
    "words = ['new', 'time', 'free', 'need', 'read', 'content']\n",
    "words_table = pd.DataFrame(words_in_texts(words, train['email']), columns = words)\n",
    "\n",
    "prop_ham = []\n",
    "prop_spam = []\n",
    "\n",
    "for i in words:\n",
    "    type_ham = len(train[(train['spam'] == 0) & (words_table[i] == 1)]) / len(train[train['spam'] == 0])\n",
    "    prop_ham.append(type_ham)\n",
    "    type_spam = len(train[(train['spam'] == 1) & (words_table[i] == 1)]) / len(train[train['spam'] == 1])\n",
    "    prop_spam.append(type_spam)\n",
    "\n",
    "df = pd.DataFrame(data = {'prop_ham':prop_ham, 'prop_spam':prop_spam})\n",
    "df['words'] = words\n",
    "df = df.set_index('words')\n",
    "df = df.plot.bar()\n",
    "df.set(xlabel = 'words', ylabel='proportion')\n"
   ]
  },
  {
   "cell_type": "markdown",
   "metadata": {
    "nbgrader": {
     "grade": false,
     "grade_id": "q3b",
     "locked": true,
     "schema_version": 2,
     "solution": false
    }
   },
   "source": [
    "<!-- END QUESTION -->\n",
    "\n",
    "\n",
    "\n",
    "When the feature is binary, it makes sense to compare its proportions across classes (as in the previous question). Otherwise, if the feature can take on numeric values, we can compare the distributions of these values for different classes. "
   ]
  },
  {
   "cell_type": "markdown",
   "metadata": {
    "deletable": false,
    "editable": false
   },
   "source": [
    "<!-- BEGIN QUESTION -->\n",
    "\n",
    "### Question 3b\n",
    "\n",
    "![training conditional densities](images/training_conditional_densities.png)\n",
    "\n",
    "Create a *class conditional density plot* like the one above (using `sns.distplot`), comparing the distribution of the length of spam emails to the distribution of the length of ham emails in the training set. Set the x-axis limit from 0 to 50000.\n",
    "\n",
    "<!--\n",
    "BEGIN QUESTION\n",
    "name: q3b\n",
    "manual: True\n",
    "format: image\n",
    "points: 2\n",
    "-->"
   ]
  },
  {
   "cell_type": "code",
   "execution_count": 15,
   "metadata": {
    "ExecuteTime": {
     "end_time": "2019-04-03T20:17:43.492661Z",
     "start_time": "2019-04-03T20:17:43.149431Z"
    },
    "nbgrader": {
     "grade": true,
     "grade_id": "q3b-answer",
     "locked": false,
     "points": 2,
     "schema_version": 2,
     "solution": true
    }
   },
   "outputs": [
    {
     "data": {
      "image/png": "[encoded data removed]",
      "text/plain": [
       "<Figure size 432x288 with 1 Axes>"
      ]
     },
     "metadata": {},
     "output_type": "display_data"
    }
   ],
   "source": [
    "sns.distplot(train[train['spam']==0]['email'].str.len(), hist=False, label='ham')\n",
    "sns.distplot(train[train['spam']==1]['email'].str.len(), hist=False, label='spam')\n",
    "\n",
    "plt.xlabel('Length of email body')\n",
    "plt.ylabel('Distribution')\n",
    "plt.xlim(0, 50000)\n",
    "plt.savefig('training_conditional_densities.png')"
   ]
  },
  {
   "cell_type": "markdown",
   "metadata": {
    "nbgrader": {
     "grade": false,
     "grade_id": "classification",
     "locked": true,
     "schema_version": 2,
     "solution": false
    }
   },
   "source": [
    "<!-- END QUESTION -->\n",
    "\n",
    "\n",
    "\n",
    "# Basic Classification\n",
    "\n",
    "Notice that the output of `words_in_texts(words, train['email'])` is a numeric matrix containing features for each email. This means we can use it directly to train a classifier!"
   ]
  },
  {
   "cell_type": "markdown",
   "metadata": {
    "deletable": false,
    "editable": false,
    "nbgrader": {
     "grade": false,
     "grade_id": "q4",
     "locked": true,
     "schema_version": 2,
     "solution": false
    }
   },
   "source": [
    "### Question 4\n",
    "\n",
    "We've given you 5 words that might be useful as features to distinguish spam/ham emails. Use these words as well as the `train` DataFrame to create two NumPy arrays: `X_train` and `Y_train`.\n",
    "\n",
    "`X_train` should be a matrix of 0s and 1s created by using your `words_in_texts` function on all the emails in the training set.\n",
    "\n",
    "`Y_train` should be a vector of the correct labels for each email in the training set.\n",
    "\n",
    "*The provided tests check that the dimensions of your feature matrix (X) are correct, and that your features and labels are binary (i.e. consists of only 0's and 1's). It does not check that your function is correct; that was verified in a previous question.*\n",
    "<!--\n",
    "BEGIN QUESTION\n",
    "name: q4\n",
    "points: 2\n",
    "-->"
   ]
  },
  {
   "cell_type": "code",
   "execution_count": 16,
   "metadata": {
    "ExecuteTime": {
     "end_time": "2019-04-03T20:17:43.726012Z",
     "start_time": "2019-04-03T20:17:43.498088Z"
    },
    "nbgrader": {
     "grade": false,
     "grade_id": "q4-answer",
     "locked": false,
     "schema_version": 2,
     "solution": true
    },
    "tags": [
     "student"
    ]
   },
   "outputs": [
    {
     "data": {
      "text/plain": [
       "(array([[0., 0., 0., 0., 0.],\n",
       "        [0., 0., 0., 0., 0.],\n",
       "        [0., 0., 0., 0., 0.],\n",
       "        [0., 0., 0., 0., 0.],\n",
       "        [0., 0., 0., 1., 0.]]),\n",
       " array([0, 0, 0, 0, 0]))"
      ]
     },
     "execution_count": 16,
     "metadata": {},
     "output_type": "execute_result"
    }
   ],
   "source": [
    "some_words = ['drug', 'bank', 'prescription', 'memo', 'private']\n",
    "\n",
    "X_train = words_in_texts(some_words, train['email'])\n",
    "Y_train = np.array(train['spam'])\n",
    "\n",
    "X_train[:5], Y_train[:5]"
   ]
  },
  {
   "cell_type": "code",
   "execution_count": 17,
   "metadata": {
    "deletable": false,
    "editable": false
   },
   "outputs": [
    {
     "data": {
      "text/html": [
       "\n",
       "    \n",
       "    \n",
       "        <p>All tests passed!</p>\n",
       "    \n",
       "    "
      ],
      "text/plain": [
       "\n",
       "    All tests passed!\n",
       "    "
      ]
     },
     "execution_count": 17,
     "metadata": {},
     "output_type": "execute_result"
    }
   ],
   "source": [
    "grader.check(\"q4\")"
   ]
  },
  {
   "cell_type": "markdown",
   "metadata": {
    "deletable": false,
    "editable": false,
    "nbgrader": {
     "grade": false,
     "grade_id": "q5",
     "locked": true,
     "schema_version": 2,
     "solution": false
    }
   },
   "source": [
    "### Question 5\n",
    "\n",
    "Now that we have matrices, we can build a model with `scikit-learn`! Using the [`LogisticRegression`](http://scikit-learn.org/stable/modules/generated/sklearn.linear_model.LogisticRegression.html) classifier, train a logistic regression model using `X_train` and `Y_train`. Then, output the model's training accuracy below. You should get an accuracy of around $0.75$\n",
    "\n",
    "*The provided test checks that you initialized your logistic regression model correctly.*\n",
    "\n",
    "<!--\n",
    "BEGIN QUESTION\n",
    "name: q5\n",
    "points: 2\n",
    "-->"
   ]
  },
  {
   "cell_type": "code",
   "execution_count": 18,
   "metadata": {
    "ExecuteTime": {
     "end_time": "2019-04-03T20:17:44.593918Z",
     "start_time": "2019-04-03T20:17:43.783872Z"
    },
    "nbgrader": {
     "grade": false,
     "grade_id": "q5-answer",
     "locked": false,
     "schema_version": 2,
     "solution": true
    },
    "tags": [
     "student"
    ]
   },
   "outputs": [
    {
     "name": "stdout",
     "output_type": "stream",
     "text": [
      "Training Accuracy:  0.7576201251164648\n"
     ]
    }
   ],
   "source": [
    "from sklearn.linear_model import LogisticRegression\n",
    "\n",
    "model = LogisticRegression()\n",
    "model.fit(X_train, Y_train)\n",
    "y_pred = model.predict(X_train)\n",
    "\n",
    "training_accuracy = np.mean(y_pred == Y_train)\n",
    "print(\"Training Accuracy: \", training_accuracy)"
   ]
  },
  {
   "cell_type": "code",
   "execution_count": 19,
   "metadata": {
    "deletable": false,
    "editable": false
   },
   "outputs": [
    {
     "data": {
      "text/html": [
       "\n",
       "    \n",
       "    \n",
       "        <p>All tests passed!</p>\n",
       "    \n",
       "    "
      ],
      "text/plain": [
       "\n",
       "    All tests passed!\n",
       "    "
      ]
     },
     "execution_count": 19,
     "metadata": {},
     "output_type": "execute_result"
    }
   ],
   "source": [
    "grader.check(\"q5\")"
   ]
  },
  {
   "cell_type": "markdown",
   "metadata": {},
   "source": [
    "## Evaluating Classifiers"
   ]
  },
  {
   "cell_type": "markdown",
   "metadata": {},
   "source": [
    "That doesn't seem too shabby! But the classifier you made above isn't as good as the accuracy would make you believe. First, we are evaluating accuracy on the training set, which may provide a misleading accuracy measure. Accuracy on the training set doesn't always translate to accuracy in the real world (on the test set). In future parts of this analysis, we will hold out some of our data for model validation and comparison.\n",
    "\n",
    "Presumably, our classifier will be used for **filtering**, i.e. preventing messages labeled `spam` from reaching someone's inbox. There are two kinds of errors we can make:\n",
    "- False positive (FP): a ham email gets flagged as spam and filtered out of the inbox.\n",
    "- False negative (FN): a spam email gets mislabeled as ham and ends up in the inbox.\n",
    "\n",
    "To be clear, we label spam emails as 1 and ham emails as 0. These definitions depend both on the true labels and the predicted labels. False positives and false negatives may be of differing importance, leading us to consider more ways of evaluating a classifier, in addition to overall accuracy:\n",
    "\n",
    "**Precision** measures the proportion $\\frac{\\text{TP}}{\\text{TP} + \\text{FP}}$ of emails flagged as spam that are actually spam.\n",
    "\n",
    "**Recall** measures the proportion $\\frac{\\text{TP}}{\\text{TP} + \\text{FN}}$ of spam emails that were correctly flagged as spam. \n",
    "\n",
    "**False-alarm rate** measures the proportion $\\frac{\\text{FP}}{\\text{FP} + \\text{TN}}$ of ham emails that were incorrectly flagged as spam. \n",
    "\n",
    "The two graphics below may help you understand precision and recall visually:\n",
    "\n",
    "<img src=\"https://upload.wikimedia.org/wikipedia/commons/thumb/2/26/Precisionrecall.svg/700px-Precisionrecall.svg.png\" width=\"500px\">\n",
    "\n",
    "Note that a true positive (TP) is a spam email that is classified as spam, and a true negative (TN) is a ham email that is classified as ham."
   ]
  },
  {
   "cell_type": "markdown",
   "metadata": {
    "deletable": false,
    "editable": false,
    "nbgrader": {
     "grade": false,
     "grade_id": "q6",
     "locked": true,
     "schema_version": 2,
     "solution": false
    }
   },
   "source": [
    "### Question 6a\n",
    "\n",
    "Suppose we have a classifier `zero_predictor` that always predicts 0 (never predicts positive). How many false positives and false negatives would this classifier have if it were evaluated on the training set and its results were compared to `Y_train`? Fill in the variables below (feel free to hard code your answers for this part):\n",
    "\n",
    "*Tests in Question 6 only check that you have assigned appropriate types of values to each response variable, but do not check that your answers are correct.*\n",
    "\n",
    "<!--\n",
    "BEGIN QUESTION\n",
    "name: q6a\n",
    "points: 1\n",
    "-->"
   ]
  },
  {
   "cell_type": "code",
   "execution_count": 20,
   "metadata": {
    "ExecuteTime": {
     "end_time": "2019-04-03T20:20:13.853633Z",
     "start_time": "2019-04-03T20:20:13.825724Z"
    },
    "nbgrader": {
     "grade": false,
     "grade_id": "q6a-answer",
     "locked": false,
     "schema_version": 2,
     "solution": true
    }
   },
   "outputs": [
    {
     "data": {
      "text/plain": [
       "(0, 1918)"
      ]
     },
     "execution_count": 20,
     "metadata": {},
     "output_type": "execute_result"
    }
   ],
   "source": [
    "zero_predictor_fp = 0\n",
    "zero_predictor_fn = Y_train.sum()\n",
    "zero_predictor_fp, zero_predictor_fn"
   ]
  },
  {
   "cell_type": "code",
   "execution_count": 21,
   "metadata": {
    "deletable": false,
    "editable": false
   },
   "outputs": [
    {
     "data": {
      "text/html": [
       "\n",
       "    \n",
       "    \n",
       "        <p>All tests passed!</p>\n",
       "    \n",
       "    "
      ],
      "text/plain": [
       "\n",
       "    All tests passed!\n",
       "    "
      ]
     },
     "execution_count": 21,
     "metadata": {},
     "output_type": "execute_result"
    }
   ],
   "source": [
    "grader.check(\"q6a\")"
   ]
  },
  {
   "cell_type": "markdown",
   "metadata": {
    "deletable": false,
    "editable": false
   },
   "source": [
    "### Question 6b\n",
    "\n",
    "What is the accuracy and recall of `zero_predictor` (classifies every email as ham) on the training set? Do **NOT** use any `sklearn` functions.\n",
    "\n",
    "<!--\n",
    "BEGIN QUESTION\n",
    "name: q6b\n",
    "points: 1\n",
    "-->"
   ]
  },
  {
   "cell_type": "code",
   "execution_count": 22,
   "metadata": {
    "ExecuteTime": {
     "end_time": "2019-04-03T20:23:21.553134Z",
     "start_time": "2019-04-03T20:23:21.548219Z"
    }
   },
   "outputs": [
    {
     "data": {
      "text/plain": [
       "(0.7447091707706642, 0)"
      ]
     },
     "execution_count": 22,
     "metadata": {},
     "output_type": "execute_result"
    }
   ],
   "source": [
    "zero_predictor_acc = (len(Y_train) - Y_train.sum())/len(Y_train)\n",
    "zero_predictor_recall = 0\n",
    "zero_predictor_acc, zero_predictor_recall"
   ]
  },
  {
   "cell_type": "code",
   "execution_count": 23,
   "metadata": {
    "deletable": false,
    "editable": false
   },
   "outputs": [
    {
     "data": {
      "text/html": [
       "\n",
       "    \n",
       "    \n",
       "        <p>All tests passed!</p>\n",
       "    \n",
       "    "
      ],
      "text/plain": [
       "\n",
       "    All tests passed!\n",
       "    "
      ]
     },
     "execution_count": 23,
     "metadata": {},
     "output_type": "execute_result"
    }
   ],
   "source": [
    "grader.check(\"q6b\")"
   ]
  },
  {
   "cell_type": "markdown",
   "metadata": {
    "deletable": false,
    "editable": false
   },
   "source": [
    "<!-- BEGIN QUESTION -->\n",
    "\n",
    "### Question 6c\n",
    "\n",
    "Provide brief explanations of the results from 6a and 6b. Why do we observe each of these values (FP, FN, accuracy, recall)?\n",
    "\n",
    "<!--\n",
    "BEGIN QUESTION\n",
    "name: q6c\n",
    "manual: True\n",
    "points: 2\n",
    "-->"
   ]
  },
  {
   "cell_type": "markdown",
   "metadata": {},
   "source": [
    "We observe these values because, FP will always be zero because zero_predictor always predicts zero. FN indicates the emails that are being mislabeled as spam instead of ham. Accuracy of zero_predictor represents the proportion of ham emails that are labeled ham. Recall is represents the TP which will just be 0."
   ]
  },
  {
   "cell_type": "markdown",
   "metadata": {
    "deletable": false,
    "editable": false
   },
   "source": [
    "<!-- END QUESTION -->\n",
    "\n",
    "### Question 6d\n",
    "\n",
    "Compute the precision, recall, and false-alarm rate of the `LogisticRegression` classifier created and trained in Question 5. Do **NOT** use any `sklearn` functions.\n",
    "\n",
    "<!--\n",
    "BEGIN QUESTION\n",
    "name: q6d\n",
    "points: 2\n",
    "-->"
   ]
  },
  {
   "cell_type": "code",
   "execution_count": 24,
   "metadata": {
    "ExecuteTime": {
     "end_time": "2019-04-03T20:37:54.875265Z",
     "start_time": "2019-04-03T20:37:54.720667Z"
    }
   },
   "outputs": [],
   "source": [
    "logistic_predictor_precision = sum((Y_train == 1) & (y_pred == 1)) / sum(y_pred == 1)\n",
    "logistic_predictor_recall = sum((Y_train == 1) & (y_pred == 1)) / sum(Y_train == 1)\n",
    "logistic_predictor_far = sum((Y_train == 0) & (y_pred == 1)) / sum(Y_train == 0)"
   ]
  },
  {
   "cell_type": "code",
   "execution_count": 25,
   "metadata": {
    "deletable": false,
    "editable": false
   },
   "outputs": [
    {
     "data": {
      "text/html": [
       "\n",
       "    \n",
       "    \n",
       "        <p>All tests passed!</p>\n",
       "    \n",
       "    "
      ],
      "text/plain": [
       "\n",
       "    All tests passed!\n",
       "    "
      ]
     },
     "execution_count": 25,
     "metadata": {},
     "output_type": "execute_result"
    }
   ],
   "source": [
    "grader.check(\"q6d\")"
   ]
  },
  {
   "cell_type": "code",
   "execution_count": 26,
   "metadata": {},
   "outputs": [
    {
     "data": {
      "text/plain": [
       "(0.6422287390029325, 0.11418143899895725, 0.021805183199285077)"
      ]
     },
     "execution_count": 26,
     "metadata": {},
     "output_type": "execute_result"
    }
   ],
   "source": [
    "logistic_predictor_precision, logistic_predictor_recall, logistic_predictor_far"
   ]
  },
  {
   "cell_type": "markdown",
   "metadata": {
    "deletable": false,
    "editable": false
   },
   "source": [
    "<!-- BEGIN QUESTION -->\n",
    "\n",
    "### Question 6e\n",
    "\n",
    "Are there more false positives or false negatives when using the logistic regression classifier from Question 5?\n",
    "\n",
    "<!--\n",
    "BEGIN QUESTION\n",
    "name: q6e\n",
    "manual: True\n",
    "points: 1\n",
    "-->"
   ]
  },
  {
   "cell_type": "markdown",
   "metadata": {},
   "source": [
    "There are more false positives when using the logistic regression classifier from Question 5."
   ]
  },
  {
   "cell_type": "markdown",
   "metadata": {
    "deletable": false,
    "editable": false
   },
   "source": [
    "<!-- END QUESTION -->\n",
    "\n",
    "<!-- BEGIN QUESTION -->\n",
    "\n",
    "### Question 6f\n",
    "\n",
    "1. Our logistic regression classifier got 75.76% prediction accuracy (number of correct predictions / total). How does this compare with predicting 0 for every email?\n",
    "1. Given the word features we gave you above, name one reason this classifier is performing poorly. Hint: Think about how prevalent these words are in the email set.\n",
    "1. Which of these two classifiers would you prefer for a spam filter and why? Describe your reasoning and relate it to at least one of the evaluation metrics you have computed so far.\n",
    "\n",
    "<!--\n",
    "BEGIN QUESTION\n",
    "name: q6f\n",
    "manual: True\n",
    "points: 3\n",
    "-->"
   ]
  },
  {
   "cell_type": "markdown",
   "metadata": {},
   "source": [
    "1. Comparing the logistic regression classifer and the zero_predictor, the performance of the logistic regression classifier is poor because it's accuracy is very close to the zero_predictor. \n",
    "2. Drug is probably not prevalent therefore, it is not a good feature resulting in the classifier performing poorly.\n",
    "3. Of the two I would prefer the logistic regression classifier because it's accuracy, although slightly, is still higher than the zero_predictor. "
   ]
  },
  {
   "cell_type": "markdown",
   "metadata": {
    "nbgrader": {
     "grade": false,
     "grade_id": "p2",
     "locked": true,
     "schema_version": 2,
     "solution": false
    }
   },
   "source": [
    "<!-- END QUESTION -->\n",
    "\n",
    "\n",
    "\n",
    "# Part II - Moving Forward\n",
    "\n",
    "With this in mind, it is now your task to make the spam filter more accurate. In order to get full credit on the accuracy part of this assignment, you must get at least **88%** accuracy on the test set. To see your accuracy on the test set, you will use your classifier to predict every email in the `test` DataFrame and upload your predictions to Gradescope.\n",
    "\n",
    "**Gradescope limits you to four submissions per day**. This means you should start early so you have time if needed to refine your model. You will be able to see your accuracy on 70% of the test set when submitting to Gradescope, but we will be evaluating your model on the entire test set so try to score slightly above 88% on gradescope if you can.\n",
    "\n",
    "Here are some ideas for improving your model:\n",
    "\n",
    "1. Finding better features based on the email text. Some example features are:\n",
    "    1. Number of characters in the subject / body\n",
    "    1. Number of words in the subject / body\n",
    "    1. Use of punctuation (e.g., how many '!'s were there?)\n",
    "    1. Number / percentage of capital letters \n",
    "    1. Whether the email is a reply to an earlier email or a forwarded email\n",
    "1. Finding better (and/or more) words to use as features. Which words are the best at distinguishing emails? This requires digging into the email text itself. \n",
    "1. Better data processing. For example, many emails contain HTML as well as text. You can consider extracting out the text from the HTML to help you find better words. Or, you can match HTML tags themselves, or even some combination of the two.\n",
    "1. Model selection. You can adjust parameters of your model (e.g. the regularization parameter) to achieve higher accuracy. Recall that you should use cross-validation to do feature and model selection properly! Otherwise, you will likely overfit to your training data.\n",
    "\n",
    "You may use whatever method you prefer in order to create features, but **you are not allowed to import any external feature extraction libraries**. In addition, **you are only allowed to train logistic regression models**. No random forests, k-nearest-neighbors, neural nets, etc.\n",
    "\n",
    "We have not provided any code to do this, so feel free to create as many cells as you need in order to tackle this task. However, answering questions 7, 8, and 9 should help guide you.\n",
    "\n",
    "---\n",
    "\n",
    "**Note:** *You may want to use your **validation data** to evaluate your model and get a better sense of how it will perform on the test set.* Note, however, that you may overfit to your validation set if you try to optimize your validation accuracy too much.\n",
    "\n",
    "---"
   ]
  },
  {
   "cell_type": "code",
   "execution_count": 27,
   "metadata": {
    "scrolled": true
   },
   "outputs": [],
   "source": [
    "ham = train[train['spam'] == 0]\n",
    "spam = train[train['spam'] == 1]"
   ]
  },
  {
   "cell_type": "code",
   "execution_count": 28,
   "metadata": {},
   "outputs": [],
   "source": [
    "ham_text = ham['email'].str.replace(r'[^0-9a-zA-Z]', ' ').str.split()\n",
    "spam_text = spam['email'].str.replace(r'[^0-9a-zA-Z]', ' ').str.split()"
   ]
  },
  {
   "cell_type": "code",
   "execution_count": 29,
   "metadata": {},
   "outputs": [],
   "source": [
    "ham_word_list = [j for i in ham_text for j in i]\n",
    "spam_word_list = [y for x in spam_text for y in x]"
   ]
  },
  {
   "cell_type": "code",
   "execution_count": 30,
   "metadata": {},
   "outputs": [],
   "source": [
    "def word_count(lst):\n",
    "    counts = dict()\n",
    "    \n",
    "    for words in lst:\n",
    "        if words in counts:\n",
    "            counts[words] += 1\n",
    "        else:\n",
    "            counts[words] = 1\n",
    "            \n",
    "    return counts\n",
    "\n",
    "ham_word_count = word_count(ham_word_list)\n",
    "spam_word_count = word_count(spam_word_list)"
   ]
  },
  {
   "cell_type": "code",
   "execution_count": 31,
   "metadata": {},
   "outputs": [],
   "source": [
    "ham_words_sorted = sorted(ham_word_count, key= ham_word_count.__getitem__, reverse = True)\n",
    "spam_words_sorted = sorted(spam_word_count, key = spam_word_count.__getitem__, reverse = True)\n",
    "\n",
    "common_ham_words = [i for i in ham_words_sorted[:500]]\n",
    "common_spam_words = [i for i in spam_words_sorted[:500]]"
   ]
  },
  {
   "cell_type": "code",
   "execution_count": 32,
   "metadata": {},
   "outputs": [
    {
     "data": {
      "text/plain": [
       "['22',\n",
       " '3e',\n",
       " 'option',\n",
       " 'blockquote',\n",
       " 'money',\n",
       " 'strong',\n",
       " '3c',\n",
       " 'margin',\n",
       " 'ff0000',\n",
       " 'receive',\n",
       " 'order',\n",
       " 'report',\n",
       " 'remove',\n",
       " '3d2',\n",
       " '2e',\n",
       " 'charset',\n",
       " 'de',\n",
       " 'meta',\n",
       " 'tahoma',\n",
       " 'jpg',\n",
       " 'mso',\n",
       " 'a3',\n",
       " 'iiq',\n",
       " 'life',\n",
       " 'below',\n",
       " 'removed',\n",
       " 'program',\n",
       " 'state',\n",
       " 'bordercolor',\n",
       " 'nextpart',\n",
       " 'marketing',\n",
       " 'b5',\n",
       " '0pt',\n",
       " 'offer',\n",
       " '3dcenter',\n",
       " 'government',\n",
       " 'credit',\n",
       " '3cfont',\n",
       " '2ffont',\n",
       " 'million',\n",
       " 'transfer',\n",
       " 'cd',\n",
       " 'bb',\n",
       " '0000ff',\n",
       " 'black',\n",
       " '3darial',\n",
       " 'call',\n",
       " 'insurance',\n",
       " 'legal',\n",
       " 'wish',\n",
       " '3d4',\n",
       " '000066',\n",
       " '81',\n",
       " 'en',\n",
       " 'index',\n",
       " '3b',\n",
       " 'special',\n",
       " 'a1',\n",
       " 'grants',\n",
       " 'reply',\n",
       " 'within',\n",
       " 'equiv',\n",
       " '0px',\n",
       " 'contact',\n",
       " 'ba',\n",
       " '8859',\n",
       " 'encoding',\n",
       " 'per',\n",
       " '500',\n",
       " '61',\n",
       " 'price',\n",
       " 'addresses',\n",
       " '550',\n",
       " 'em',\n",
       " 'save',\n",
       " 'received',\n",
       " 'cash',\n",
       " '21',\n",
       " 'bc',\n",
       " '95',\n",
       " 'product',\n",
       " 'quot',\n",
       " 'ul',\n",
       " 'month',\n",
       " 'response',\n",
       " '3d3',\n",
       " '000080',\n",
       " 'orders',\n",
       " '65',\n",
       " 'cgi',\n",
       " 'fax',\n",
       " 'roman',\n",
       " 'days',\n",
       " 'sightings',\n",
       " '149',\n",
       " 'financial',\n",
       " 'future',\n",
       " 'ptsize',\n",
       " 'y',\n",
       " 'd0',\n",
       " 'dollars',\n",
       " 'lang',\n",
       " 'c4',\n",
       " 'amp',\n",
       " 'middle',\n",
       " 'market',\n",
       " 'ce',\n",
       " 'b9',\n",
       " 'city',\n",
       " 'low',\n",
       " 'offers',\n",
       " '63',\n",
       " 'bd',\n",
       " 'submit',\n",
       " 'card',\n",
       " 'v',\n",
       " '24',\n",
       " 'big',\n",
       " 'sites',\n",
       " 'following',\n",
       " 'programs',\n",
       " 'rates',\n",
       " 'iso',\n",
       " 'fill',\n",
       " 'mails',\n",
       " 'd2',\n",
       " 'visit',\n",
       " 'website',\n",
       " 'cost',\n",
       " 'bf',\n",
       " 'complete',\n",
       " 'method',\n",
       " 'opportunity',\n",
       " 'income',\n",
       " 'access',\n",
       " 'simple',\n",
       " 'investment',\n",
       " 'pay',\n",
       " 'copy',\n",
       " 'red',\n",
       " 'account',\n",
       " 'interest',\n",
       " 'mailings',\n",
       " 'padding',\n",
       " 'ac',\n",
       " 'guaranteed',\n",
       " 'simply',\n",
       " 'a2',\n",
       " 'buy',\n",
       " 'total',\n",
       " 'hours',\n",
       " 'guide',\n",
       " 'd1',\n",
       " 'd3',\n",
       " 'mortgage',\n",
       " '77',\n",
       " 'd6',\n",
       " 'professional',\n",
       " 'personal',\n",
       " 'plus',\n",
       " 'a7',\n",
       " 'c3',\n",
       " 'dvd',\n",
       " '29',\n",
       " 'collapse',\n",
       " 'b8',\n",
       " 'insuranceiq',\n",
       " 'fa',\n",
       " 'plain',\n",
       " '40',\n",
       " '66',\n",
       " 'risk',\n",
       " 'ever',\n",
       " 'purchase',\n",
       " 'jm',\n",
       " '0in',\n",
       " 'sales',\n",
       " 'step',\n",
       " 'emails',\n",
       " 'return',\n",
       " 'c1',\n",
       " 'ffff00',\n",
       " 'let',\n",
       " 'hr',\n",
       " 'reports',\n",
       " 'looking']"
      ]
     },
     "execution_count": 32,
     "metadata": {},
     "output_type": "execute_result"
    }
   ],
   "source": [
    "only_spam_words = []\n",
    "for i in common_spam_words:\n",
    "    if i not in common_ham_words:\n",
    "        only_spam_words.append(i)\n",
    "only_spam_words"
   ]
  },
  {
   "cell_type": "code",
   "execution_count": 33,
   "metadata": {},
   "outputs": [],
   "source": [
    "X_train_part_2 = words_in_texts(only_spam_words, train['email'])\n",
    "Y_train_part_2 = train['spam']"
   ]
  },
  {
   "cell_type": "code",
   "execution_count": 34,
   "metadata": {},
   "outputs": [
    {
     "name": "stdout",
     "output_type": "stream",
     "text": [
      "Training Accuracy:  0.9558099294556103\n"
     ]
    }
   ],
   "source": [
    "from sklearn.linear_model import LogisticRegressionCV\n",
    "\n",
    "my_model = LogisticRegressionCV(random_state = 42, max_iter = 350)\n",
    "my_model.fit(X_train_part_2, Y_train_part_2)\n",
    "y_pred = my_model.predict(X_train_part_2)\n",
    "\n",
    "training_accuracy = np.mean(y_pred == Y_train)\n",
    "print(\"Training Accuracy: \", training_accuracy)"
   ]
  },
  {
   "cell_type": "markdown",
   "metadata": {
    "deletable": false,
    "editable": false,
    "nbgrader": {
     "grade": false,
     "grade_id": "q7",
     "locked": true,
     "schema_version": 2,
     "solution": false
    }
   },
   "source": [
    "<!-- BEGIN QUESTION -->\n",
    "\n",
    "### Question 7: Feature/Model Selection Process\n",
    "\n",
    "In this following cell, describe the process of improving your model. You should use at least 2-3 sentences each to address the follow questions:\n",
    "\n",
    "1. How did you find better features for your model?\n",
    "2. What did you try that worked or didn't work?\n",
    "3. What was surprising in your search for good features?\n",
    "\n",
    "<!--\n",
    "BEGIN QUESTION\n",
    "name: q7\n",
    "manual: True\n",
    "points: 6\n",
    "-->"
   ]
  },
  {
   "cell_type": "markdown",
   "metadata": {},
   "source": [
    "1) I first split the training set and extracted the text from the html. Then I made all the text into two lists one for ham and other for spam. Using these two lists I created a dictionary that would contain the word and the number of times it appeared.  I sorted the dictionary so that it would be in ascending order and got the 500 most common words. Lastly, I got the words that only applied to spam. "
   ]
  },
  {
   "cell_type": "markdown",
   "metadata": {},
   "source": [
    "2) I tried to see whether the subject of ham or spam emails had more words. After plotting this feature, there was no obvious difference in the number of words, therefore it did not seem that useful as a feature. Another thing that I tried was seeing the use of capital letters in the subjects. Spam emails had more capitals in the subjects, however, the difference did not seem to be enough to distinguish between ham and spam emails. Lastly, I tried to use emails that were replies and saw that only ham emails had replies while spam had none. I ended up choosing to focus on words that were unique to spam emails, therefore, this feature was unnecessary but would have been a good feature to use if I chose different features."
   ]
  },
  {
   "cell_type": "markdown",
   "metadata": {},
   "source": [
    "3) What was suprising was that many of the text that were used as features in my models were not even words. From the 100 more common words that were only in the spam emails a good portion were just numbers or a combination of numbers of letters. Furthermore, while it was somewhat expected, it was still suprising to see that many of the words were money-related, such as price, quote, insurance, financial, card and etc."
   ]
  },
  {
   "cell_type": "markdown",
   "metadata": {
    "nbgrader": {
     "grade": false,
     "grade_id": "q8",
     "locked": true,
     "schema_version": 2,
     "solution": false
    }
   },
   "source": [
    "<!-- END QUESTION -->\n",
    "\n",
    "\n",
    "\n",
    "### Question 8: EDA\n",
    "\n",
    "In the cell below, show a visualization that you used to select features for your model. \n",
    "\n",
    "Include:\n",
    "\n",
    "1. A plot showing something meaningful about the data that helped you during feature selection, model selection, or both.\n",
    "2. Two or three sentences describing what you plotted and its implications with respect to your features.\n",
    "\n",
    "Feel free to create as many plots as you want in your process of feature selection, but select only one for the response cell below.\n",
    "\n",
    "**You should not just produce an identical visualization to question 3.** Specifically, don't show us a bar chart of proportions, or a one-dimensional class-conditional density plot. Any other plot is acceptable, **as long as it comes with thoughtful commentary.** Here are some ideas:\n",
    "\n",
    "1. Consider the correlation between multiple features (look up correlation plots and `sns.heatmap`). \n",
    "1. Try to show redundancy in a group of features (e.g. `body` and `html` might co-occur relatively frequently, or you might be able to design a feature that captures all html tags and compare it to these). \n",
    "1. Visualize which words have high or low values for some useful statistic.\n",
    "1. Visually depict whether spam emails tend to be wordier (in some sense) than ham emails."
   ]
  },
  {
   "cell_type": "markdown",
   "metadata": {
    "deletable": false,
    "editable": false
   },
   "source": [
    "<!-- BEGIN QUESTION -->\n",
    "\n",
    "Generate your visualization in the cell below and provide your description in a comment.\n",
    "\n",
    "<!--\n",
    "BEGIN QUESTION\n",
    "name: q8\n",
    "manual: True\n",
    "format: image\n",
    "points: 6\n",
    "-->"
   ]
  },
  {
   "cell_type": "code",
   "execution_count": 35,
   "metadata": {
    "ExecuteTime": {
     "end_time": "2019-04-02T00:27:36.170465Z",
     "start_time": "2019-04-02T00:27:36.167776Z"
    },
    "nbgrader": {
     "grade": true,
     "grade_id": "q8-eda",
     "locked": false,
     "points": 3,
     "schema_version": 2,
     "solution": true
    },
    "tags": [
     "student",
     "written",
     "q_eda1"
    ]
   },
   "outputs": [
    {
     "data": {
      "text/plain": [
       "<matplotlib.axes._subplots.AxesSubplot at 0x7f6c4550b160>"
      ]
     },
     "execution_count": 35,
     "metadata": {},
     "output_type": "execute_result"
    },
    {
     "data": {
      "image/png": "[encoded data removed]",
      "text/plain": [
       "<Figure size 432x288 with 1 Axes>"
      ]
     },
     "metadata": {},
     "output_type": "display_data"
    }
   ],
   "source": [
    "# Write your description (2-3 sentences) as a comment here:\n",
    "# This plot shows the total number of words in ham and spam emails.\n",
    "# Even though this does not show the individual lengths of emails, there were around 4000 more ham then spam emails.\n",
    "# This clearly shows that spam emails are wordier in general.\n",
    "# Used words from spam emails as features because there are less spam emails but more words from spam emails that could be used\n",
    "# to differentiate between the emails.\n",
    "\n",
    "# Write the code to generate your visualization here:\n",
    "words_num_email = train['email'].str.replace(r'[^0-9a-zA-Z]', ' ').str.split().apply(lambda x:len(x))        \n",
    "train['Num of Words in Emails'] = words_num_email\n",
    "sns.boxplot(x ='spam', y= 'Num of Words in Emails', data= train)"
   ]
  },
  {
   "cell_type": "markdown",
   "metadata": {
    "deletable": false,
    "editable": false,
    "nbgrader": {
     "grade": false,
     "grade_id": "q9",
     "locked": true,
     "schema_version": 2,
     "solution": false
    }
   },
   "source": [
    "<!-- END QUESTION -->\n",
    "\n",
    "<!-- BEGIN QUESTION -->\n",
    "\n",
    "### Question 9: ROC Curve\n",
    "\n",
    "In most cases we won't be able to get 0 false positives and 0 false negatives, so we have to compromise. For example, in the case of cancer screenings, false negatives are comparatively worse than false positives — a false negative means that a patient might not discover that they have cancer until it's too late, whereas a patient can just receive another screening for a false positive.\n",
    "\n",
    "Recall that logistic regression calculates the probability that an example belongs to a certain class. Then, to classify an example we say that an email is spam if our classifier gives it $\\ge 0.5$ probability of being spam. However, *we can adjust that cutoff*: we can say that an email is spam only if our classifier gives it $\\ge 0.7$ probability of being spam, for example. This is how we can trade off false positives and false negatives.\n",
    "\n",
    "The ROC curve shows this trade off for each possible cutoff probability. In the cell below, plot a ROC curve for your final classifier (the one you use to make predictions for Gradescope) on the training data. Refer to Lecture 19 or [Section 17.7](https://www.textbook.ds100.org/ch/17/classification_sensitivity_specificity.html) of the course text to see how to plot an ROC curve.\n",
    "\n",
    "<!--\n",
    "BEGIN QUESTION\n",
    "name: q9\n",
    "manual: True\n",
    "points: 3\n",
    "-->"
   ]
  },
  {
   "cell_type": "code",
   "execution_count": 36,
   "metadata": {},
   "outputs": [
    {
     "data": {
      "text/plain": [
       "Text(0, 0.5, 'True Positive Rate')"
      ]
     },
     "execution_count": 36,
     "metadata": {},
     "output_type": "execute_result"
    },
    {
     "data": {
      "image/png": "[encoded data removed]",
      "text/plain": [
       "<Figure size 432x288 with 1 Axes>"
      ]
     },
     "metadata": {},
     "output_type": "display_data"
    }
   ],
   "source": [
    "from sklearn.metrics import roc_curve\n",
    "\n",
    "# Note that you'll want to use the .predict_proba(...) method for your classifier\n",
    "# instead of .predict(...) so you get probabilities, not classes\n",
    "\n",
    "my_model_probabilites = my_model.predict_proba(X_train_part_2)[:,1]\n",
    "\n",
    "fpr, tpr, thresholds = roc_curve(Y_train_part_2, my_model_probabilites,)\n",
    "\n",
    "plt.plot(fpr, tpr)\n",
    "plt.xlabel(\"False Positive Rate\")\n",
    "plt.ylabel(\"True Positive Rate\")"
   ]
  },
  {
   "cell_type": "markdown",
   "metadata": {
    "deletable": false,
    "editable": false,
    "nbgrader": {
     "grade": false,
     "grade_id": "q10",
     "locked": true,
     "schema_version": 2,
     "solution": false
    }
   },
   "source": [
    "<!-- END QUESTION -->\n",
    "\n",
    "# Question 10: Test Predictions\n",
    "\n",
    "The following code will write your predictions on the test dataset to a CSV file. **You will need to submit this file to the \"Project 2 Test Predictions\" assignment on Gradescope to get credit for this question.**\n",
    "\n",
    "Save your predictions in a 1-dimensional array called `test_predictions`. **Please make sure you've saved your predictions to `test_predictions` as this is how part of your score for this question will be determined.**\n",
    "\n",
    "Remember that if you've performed transformations or featurization on the training data, you must also perform the same transformations on the test data in order to make predictions. For example, if you've created features for the words \"drug\" and \"money\" on the training data, you must also extract the same features in order to use scikit-learn's `.predict(...)` method.\n",
    "\n",
    "**Note: You may submit up to 4 times a day. If you have submitted 4 times on a day, you will need to wait until the next day for more submissions.**\n",
    "\n",
    "Note that this question is graded on an absolute scale based on the accuracy your model achieves on the overall test set, and as such, your score does not depend on your ranking on Gradescope. Your public Gradescope results are based off of your classifier's accuracy on 70% of the test dataset and your score for this question will be based off of your classifier's accuracy on 100% of the test set.\n",
    "\n",
    "*The provided tests check that your predictions are in the correct format, but you must additionally submit to Gradescope to evaluate your classifier accuracy.*\n",
    "\n",
    "<!--\n",
    "BEGIN QUESTION\n",
    "name: q10\n",
    "points: 3\n",
    "-->"
   ]
  },
  {
   "cell_type": "code",
   "execution_count": null,
   "metadata": {
    "ExecuteTime": {
     "end_time": "2019-04-02T00:27:38.650695Z",
     "start_time": "2019-04-02T00:27:38.469233Z"
    },
    "nbgrader": {
     "grade": false,
     "grade_id": "q10-answer",
     "locked": false,
     "schema_version": 2,
     "solution": true
    }
   },
   "outputs": [],
   "source": [
    "test_predictions = my_model.predict(words_in_texts(only_spam_words, test['email']))"
   ]
  },
  {
   "cell_type": "code",
   "execution_count": null,
   "metadata": {
    "deletable": false,
    "editable": false
   },
   "outputs": [],
   "source": [
    "grader.check(\"q10\")"
   ]
  },
  {
   "cell_type": "markdown",
   "metadata": {
    "nbgrader": {
     "grade": false,
     "grade_id": "cell-d15e30e2a961277d",
     "locked": true,
     "schema_version": 2,
     "solution": false
    }
   },
   "source": [
    "The following cell generates a CSV file with your predictions. **You must submit this CSV file to the \"Project 2 Test Predictions\" assignment on Gradescope to get credit for this question.**"
   ]
  },
  {
   "cell_type": "code",
   "execution_count": null,
   "metadata": {
    "ExecuteTime": {
     "end_time": "2019-04-02T00:27:39.986326Z",
     "start_time": "2019-04-02T00:27:38.385Z"
    },
    "nbgrader": {
     "grade": false,
     "grade_id": "cell-8dd1bfadcbe08b00",
     "locked": true,
     "schema_version": 2,
     "solution": false
    }
   },
   "outputs": [],
   "source": [
    "from datetime import datetime\n",
    "\n",
    "# Assuming that your predictions on the test set are stored in a 1-dimensional array called\n",
    "# test_predictions. Feel free to modify this cell as long you create a CSV in the right format.\n",
    "\n",
    "# Construct and save the submission:\n",
    "submission_df = pd.DataFrame({\n",
    "    \"Id\": test['id'], \n",
    "    \"Class\": test_predictions,\n",
    "}, columns=['Id', 'Class'])\n",
    "timestamp = datetime.isoformat(datetime.now()).split(\".\")[0]\n",
    "submission_df.to_csv(\"submission_{}.csv\".format(timestamp), index=False)\n",
    "\n",
    "print('Created a CSV file: {}.'.format(\"submission_{}.csv\".format(timestamp)))\n",
    "print('You may now upload this CSV file to Gradescope for scoring.')"
   ]
  },
  {
   "cell_type": "markdown",
   "metadata": {
    "deletable": false,
    "editable": false
   },
   "source": [
    "---\n",
    "\n",
    "To double-check your work, the cell below will rerun all of the autograder tests."
   ]
  },
  {
   "cell_type": "code",
   "execution_count": null,
   "metadata": {
    "deletable": false,
    "editable": false
   },
   "outputs": [],
   "source": [
    "grader.check_all()"
   ]
  },
  {
   "cell_type": "markdown",
   "metadata": {
    "deletable": false,
    "editable": false
   },
   "source": [
    "## Submission\n",
    "\n",
    "Make sure you have run all cells in your notebook in order before running the cell below, so that all images/graphs appear in the output. The cell below will generate a zip file for you to submit. **Please save before exporting!**"
   ]
  },
  {
   "cell_type": "code",
   "execution_count": null,
   "metadata": {
    "deletable": false,
    "editable": false
   },
   "outputs": [],
   "source": [
    "# Save your notebook first, then run this cell to export your submission.\n",
    "grader.export(\"proj2.ipynb\")"
   ]
  },
  {
   "cell_type": "markdown",
   "metadata": {},
   "source": [
    " "
   ]
  }
 ],
 "metadata": {
  "history": [
   {
    "code": "train=train.reset_index(drop=True) # We must do this in order to preserve the ordering of emails to labels for words_in_texts\n\n# BEGIN SOLUTION\nsome_words = ['opportunity', 'bank', 'receive', 'dear', 'best', 'deal']\nPhi_train = words_in_texts(some_words, train['email'])\n\ndf = pd.DataFrame(data = Phi_train, columns = some_words)\ndf['label'] = train['spam']\n\nplt.figure(figsize=(12,8))\nsns.barplot(x = \"variable\", \n            y = \"value\", \n            hue = \"label\", \n            data = (df\n                    .replace({'label': \n                                {0 : 'Ham', \n                                 1 : 'Spam'}})\n                    .melt('label')\n                    .groupby(['label', 'variable'])\n                    .mean()\n                    .reset_index()))\n\nplt.xlabel('Words')\nplt.ylabel('Proportion of Emails')\nplt.legend(title = \"\")\nplt.title(\"Frequency of Words in Spam/Ham Emails\")\nplt.tight_layout()\nplt.show()\n# END SOLUTION",
    "id": "3da1bb8528f1420d8e4b01106abb0d1c",
    "idx": 33,
    "time": "2020-11-13T17:39:00.446Z",
    "type": "execution"
   },
   {
    "id": "3da1bb8528f1420d8e4b01106abb0d1c",
    "time": "2020-11-13T17:39:00.597Z",
    "type": "completion"
   },
   {
    "code": "# Run this cell to suppress all FutureWarnings\nimport warnings\nwarnings.filterwarnings(\"ignore\", category=FutureWarning)",
    "id": "bf4059a762a047a6a8e4179dc2c11815",
    "idx": 5,
    "time": "2020-11-13T17:39:15.247Z",
    "type": "execution"
   },
   {
    "code": "import numpy as np\nimport pandas as pd\n\nimport matplotlib.pyplot as plt\n%matplotlib inline\n\nimport seaborn as sns\nsns.set(style = \"whitegrid\", \n        color_codes = True,\n        font_scale = 1.5)",
    "id": "679de399389b410fbd1bd229389869ba",
    "idx": 8,
    "time": "2020-11-13T17:39:15.251Z",
    "type": "execution"
   },
   {
    "code": "from utils import fetch_and_cache_gdrive\nfetch_and_cache_gdrive('1SCASpLZFKCp2zek-toR3xeKX3DZnBSyp', 'train.csv')\nfetch_and_cache_gdrive('1ZDFo9OTF96B5GP2Nzn8P8-AL7CTQXmC0', 'test.csv')\n\noriginal_training_data = pd.read_csv('data/train.csv')\ntest = pd.read_csv('data/test.csv')\n\n# Convert the emails to lower case as a first step to processing the text\noriginal_training_data['email'] = original_training_data['email'].str.lower()\ntest['email'] = test['email'].str.lower()\n\noriginal_training_data.head()",
    "id": "668f75f782c041508f9e0c8f82311ad1",
    "idx": 10,
    "time": "2020-11-13T17:39:15.256Z",
    "type": "execution"
   },
   {
    "code": "# BEGIN SOLUTION\nprint('Before imputation:')\nprint(original_training_data.isnull().sum())\noriginal_training_data = original_training_data.fillna('')\nprint('------------')\nprint('After imputation:')\nprint(original_training_data.isnull().sum())\n# END SOLUTION",
    "id": "68e38b511a2c4f5480d4eda2b0082a11",
    "idx": 12,
    "time": "2020-11-13T17:39:15.259Z",
    "type": "execution"
   },
   {
    "code": "# TEST\noriginal_training_data.isnull().sum().sum() == 0",
    "id": "7f4b00c62776443e817cd5a255aa14b9",
    "idx": 13,
    "time": "2020-11-13T17:39:15.261Z",
    "type": "execution"
   },
   {
    "code": "first_ham = original_training_data.loc[original_training_data['spam'] == 0, 'email'].iloc[0] # SOLUTION\nfirst_spam = original_training_data.loc[original_training_data['spam'] == 1, 'email'].iloc[0] # SOLUTION\nprint(first_ham)\nprint(first_spam)",
    "id": "bfb55fdfdfb1456785bb78790aad426b",
    "idx": 15,
    "time": "2020-11-13T17:39:15.264Z",
    "type": "execution"
   },
   {
    "code": "# TEST\nlen(first_ham) > 0 and first_ham[:0] == ''",
    "id": "6345c5019a384a618017acbb080996d9",
    "idx": 16,
    "time": "2020-11-13T17:39:15.265Z",
    "type": "execution"
   },
   {
    "code": "# TEST\nlen(first_spam) > 0 and first_spam[:0] == ''",
    "id": "ee844f20ed0a41c4b81ff495fe482bdf",
    "idx": 17,
    "time": "2020-11-13T17:39:15.268Z",
    "type": "execution"
   },
   {
    "code": "# HIDDEN TEST\noriginal_training_data.loc[original_training_data['spam'] == 0, 'email'].iloc[0] in first_ham",
    "id": "13a350f12fac4931be17235a1daf0a93",
    "idx": 18,
    "time": "2020-11-13T17:39:15.270Z",
    "type": "execution"
   },
   {
    "code": "# HIDDEN TEST\noriginal_training_data.loc[original_training_data['spam'] == 1, 'email'].iloc[0] in first_spam",
    "id": "a90683e4a73346878a06d732d7101c87",
    "idx": 19,
    "time": "2020-11-13T17:39:15.272Z",
    "type": "execution"
   },
   {
    "code": "# This creates a 90/10 train-validation split on our labeled data\n\nfrom sklearn.model_selection import train_test_split\n\ntrain, val = train_test_split(original_training_data, test_size=0.1, random_state=42)",
    "id": "7523257e508447369ca710ce27eba7b1",
    "idx": 23,
    "time": "2020-11-13T17:39:15.276Z",
    "type": "execution"
   },
   {
    "code": "def words_in_texts(words, texts):\n    '''\n    Args:\n        words (list): words to find\n        texts (Series): strings to search in\n    \n    Returns:\n        NumPy array of 0s and 1s with shape (n, p) where n is the\n        number of texts and p is the number of words.\n    '''\n    indicator_array = 1 * np.array([texts.str.contains(word) for word in words]).T # SOLUTION\n    return indicator_array",
    "id": "81aa3a295d054268acb33351ad567192",
    "idx": 26,
    "time": "2020-11-13T17:39:15.279Z",
    "type": "execution"
   },
   {
    "code": "# TEST\nnp.allclose(words_in_texts(['hello', 'bye', 'world'], \n                           pd.Series(['hello', 'hello worldhello'])),\n            np.array([[1, 0, 0], \n                      [1, 0, 1]]))",
    "id": "690ffc0aa5e446949b45a8b4ecd76f85",
    "idx": 27,
    "time": "2020-11-13T17:39:15.282Z",
    "type": "execution"
   },
   {
    "code": "# TEST\nnp.allclose(words_in_texts(['a', 'b', 'c', 'd', 'e', 'f', 'g'], \n                           pd.Series(['a b c d ef g', 'a', 'b', 'c', 'd e f g', 'h', 'a h'])),\n            np.array([[1,1,1,1,1,1,1], \n                      [1,0,0,0,0,0,0],\n                      [0,1,0,0,0,0,0],\n                      [0,0,1,0,0,0,0],\n                      [0,0,0,1,1,1,1],\n                      [0,0,0,0,0,0,0],\n                      [1,0,0,0,0,0,0]]))",
    "id": "c3fba6032da048efaf5bf9b349cfb4f8",
    "idx": 28,
    "time": "2020-11-13T17:39:15.284Z",
    "type": "execution"
   },
   {
    "code": "from IPython.display import display, Markdown\ndf = pd.DataFrame({\n    'word_1': [1, 0, 1, 0],\n    'word_2': [0, 1, 0, 1],\n    'type': ['spam', 'ham', 'ham', 'ham']\n})\ndisplay(Markdown(\"> Our Original DataFrame has a `type` column and some columns corresponding to words. You can think of each row as a sentence, and the value of 1 or 0 indicates the number of occurences of the word in this sentence.\"))\ndisplay(df);\ndisplay(Markdown(\"> `melt` will turn columns into entries in a variable column. Notice how `word_1` and `word_2` become entries in `variable`; their values are stored in the value column.\"))\ndisplay(df.melt(\"type\"))",
    "id": "c248bceea6bd440c870eb7f942fcf77e",
    "idx": 31,
    "time": "2020-11-13T17:39:15.289Z",
    "type": "execution"
   },
   {
    "code": "train=train.reset_index(drop=True) # We must do this in order to preserve the ordering of emails to labels for words_in_texts\n\n# BEGIN SOLUTION\nsome_words = ['opportunity', 'bank', 'receive', 'dear', 'best', 'deal']\nPhi_train = words_in_texts(some_words, train['email'])\n\ndf = pd.DataFrame(data = Phi_train, columns = some_words)\ndf['label'] = train['spam']\n\nplt.figure(figsize=(12,8))\nsns.barplot(x = \"variable\", \n            y = \"value\", \n            hue = \"label\", \n            data = (df\n                    .replace({'label': \n                                {0 : 'Ham', \n                                 1 : 'Spam'}})\n                    .melt('label')\n                    .groupby(['label', 'variable'])\n                    .mean()\n                    .reset_index()))\n\nplt.xlabel('Words')\nplt.ylabel('Proportion of Emails')\nplt.legend(title = \"\")\nplt.title(\"Frequency of Words in Spam/Ham Emails\")\nplt.tight_layout()\nplt.show()\n# END SOLUTION",
    "id": "3da1bb8528f1420d8e4b01106abb0d1c",
    "idx": 33,
    "time": "2020-11-13T17:39:15.291Z",
    "type": "execution"
   },
   {
    "code": "# BEGIN SOLUTION\ntmp = train.copy()\ntmp['length'] = tmp['email'].str.len()\nplt.figure(figsize=(10, 6))\nsns.distplot(tmp.loc[tmp['spam'] == 0, 'length'],hist=False, label='Ham')\nsns.distplot(tmp.loc[tmp['spam'] == 1, 'length'],hist=False, label='Spam')\nplt.title('Distribution of Email Body Length')\nplt.xlabel('Length of email body')\nplt.ylabel('Distribution')\nplt.xlim((0,50000))\nplt.tight_layout()\nplt.legend();\n# END SOLUTION",
    "id": "ccae3bbd17a7472584923d1fd81f0c4b",
    "idx": 36,
    "time": "2020-11-13T17:39:15.295Z",
    "type": "execution"
   },
   {
    "code": "some_words = ['drug', 'bank', 'prescription', 'memo', 'private']\n\nX_train = words_in_texts(some_words, train['email']) # SOLUTION\nY_train = np.array(train['spam']) # SOLUTION\n\nX_train[:5], Y_train[:5]",
    "id": "4228df6326c449d782e8471fb2f787fe",
    "idx": 39,
    "time": "2020-11-13T17:39:15.297Z",
    "type": "execution"
   },
   {
    "code": "# TEST\nX_train.shape == (7513, 5)",
    "id": "16be536580a04248971c0fcb94bb3f0e",
    "idx": 40,
    "time": "2020-11-13T17:39:15.299Z",
    "type": "execution"
   },
   {
    "code": "# TEST\nnp.array_equal(np.unique(X_train), np.array([0, 1])) # X matrix should consist of only 0 or 1",
    "id": "dc0cb916fcc5470885a644448fa6684c",
    "idx": 41,
    "time": "2020-11-13T17:39:15.301Z",
    "type": "execution"
   },
   {
    "code": "# TEST\nnp.array_equal(np.unique(Y_train), np.array([0, 1])) # y vector should consist of only 0 or 1",
    "id": "7b8699ffc3414488a9d374ae3a762231",
    "idx": 42,
    "time": "2020-11-13T17:39:15.303Z",
    "type": "execution"
   },
   {
    "code": "from sklearn.linear_model import LogisticRegression\n\nmodel = LogisticRegression(solver = 'lbfgs') # SOLUTION\nmodel.fit(X_train, Y_train) # SOLUTION\n\ntraining_accuracy = model.score(X_train, Y_train) # SOLUTION\nprint(\"Training Accuracy: \", training_accuracy)",
    "id": "6a1a859678394a819af601759e1b4c0d",
    "idx": 44,
    "time": "2020-11-13T17:39:15.305Z",
    "type": "execution"
   },
   {
    "code": "# TEST\ntraining_accuracy > 0.72",
    "id": "45afd18c3a604fd8825017255e72891e",
    "idx": 45,
    "time": "2020-11-13T17:39:15.307Z",
    "type": "execution"
   },
   {
    "code": "zero_predictor_fp = 0 # SOLUTION\nzero_predictor_fn = sum(Y_train == 1) # SOLUTION\nzero_predictor_fp, zero_predictor_fn",
    "id": "30f5741e6f4742119d46340efe2e6a52",
    "idx": 49,
    "time": "2020-11-13T17:39:15.310Z",
    "type": "execution"
   },
   {
    "code": "# TEST\nzero_predictor_fp >= 0",
    "id": "23064baca6924c4c9f2d7f478494c007",
    "idx": 50,
    "time": "2020-11-13T17:39:15.312Z",
    "type": "execution"
   },
   {
    "code": "# TEST\nzero_predictor_fn >= 0",
    "id": "3475b02fb61a47839320a7c9edd5d518",
    "idx": 51,
    "time": "2020-11-13T17:39:15.314Z",
    "type": "execution"
   },
   {
    "code": "# HIDDEN TEST\nnp.isclose(zero_predictor_fp, 0)",
    "id": "feef0e913db14b6b8101c4489462b487",
    "idx": 52,
    "time": "2020-11-13T17:39:15.316Z",
    "type": "execution"
   },
   {
    "code": "# HIDDEN TEST\nzero_predictor_fn == 1918",
    "id": "8dde97c384214925a9c7f42f58f87aaf",
    "idx": 53,
    "time": "2020-11-13T17:39:15.318Z",
    "type": "execution"
   },
   {
    "code": "zero_predictor_acc = np.mean(Y_train == 0) # SOLUTION\nzero_predictor_recall = 0 # SOLUTION\nzero_predictor_acc, zero_predictor_recall",
    "id": "933ef39465ec409e96b3a53f6203baab",
    "idx": 55,
    "time": "2020-11-13T17:39:15.321Z",
    "type": "execution"
   },
   {
    "code": "# TEST\nzero_predictor_acc >= 0",
    "id": "2499a1d760f1441299b055adc8736e68",
    "idx": 56,
    "time": "2020-11-13T17:39:15.322Z",
    "type": "execution"
   },
   {
    "code": "# TEST\nzero_predictor_recall >= 0",
    "id": "2de51ed2ec9f4e11be1000fb204774a3",
    "idx": 57,
    "time": "2020-11-13T17:39:15.324Z",
    "type": "execution"
   },
   {
    "code": "# HIDDEN TEST\nnp.isclose(zero_predictor_acc, 0.7447091707706642)",
    "id": "ff5d5782535a42019b7eb5a8ec2753dc",
    "idx": 58,
    "time": "2020-11-13T17:39:15.325Z",
    "type": "execution"
   },
   {
    "code": "# HIDDEN TEST\nnp.isclose(zero_predictor_recall, 0)",
    "id": "f0850a5e5e024d2d9f9bcafe925e1901",
    "idx": 59,
    "time": "2020-11-13T17:39:15.327Z",
    "type": "execution"
   },
   {
    "code": "# BEGIN SOLUTION NO PROMPT\nY_train_hat = model.predict(X_train)\n\nTP = sum((Y_train_hat == Y_train) & (Y_train_hat == 1))\nTN = sum((Y_train_hat == Y_train) & (Y_train_hat == 0))\nFP = sum((Y_train_hat != Y_train) & (Y_train_hat == 1))\nFN = sum((Y_train_hat != Y_train) & (Y_train_hat == 0))\n# END SOLUTION\nlogistic_predictor_precision = TP / (TP + FP) # SOLUTION\nlogistic_predictor_recall = TP / (TP + FN) # SOLUTION\nlogistic_predictor_far = FP / (FP + TN) # SOLUTION",
    "id": "aa340a7e7443411fb115580a71b83b27",
    "idx": 63,
    "time": "2020-11-13T17:39:15.330Z",
    "type": "execution"
   },
   {
    "code": "# TEST\nlogistic_predictor_precision >= 0",
    "id": "2be7e72466a649f1822d8f8458cf3921",
    "idx": 64,
    "time": "2020-11-13T17:39:15.332Z",
    "type": "execution"
   },
   {
    "code": "# TEST\nlogistic_predictor_recall >= 0",
    "id": "70a7e749219e434092993513497dc589",
    "idx": 65,
    "time": "2020-11-13T17:39:15.335Z",
    "type": "execution"
   },
   {
    "code": "# TEST\nlogistic_predictor_far >= 0",
    "id": "c555cae2efe24a11960d966fee18793b",
    "idx": 66,
    "time": "2020-11-13T17:39:15.335Z",
    "type": "execution"
   },
   {
    "code": "# HIDDEN TEST\nnp.isclose(logistic_predictor_precision, 0.6422287390029325)",
    "id": "84339b96007044c18bb3370123e713d5",
    "idx": 67,
    "time": "2020-11-13T17:39:15.338Z",
    "type": "execution"
   },
   {
    "code": "# HIDDEN TEST\nnp.isclose(logistic_predictor_recall, 0.11418143899895725)",
    "id": "e9752dbea367428782b9be92a30dfd54",
    "idx": 68,
    "time": "2020-11-13T17:39:15.340Z",
    "type": "execution"
   },
   {
    "code": "# HIDDEN TEST\nnp.isclose(logistic_predictor_far, 0.021805183199285077)",
    "id": "b7177c97cf0a4893a65e2229d24bddde",
    "idx": 69,
    "time": "2020-11-13T17:39:15.341Z",
    "type": "execution"
   },
   {
    "code": "# Write your description (2-3 sentences) as a comment here:\n# \n#\n#\n\n# Write the code to generate your visualization here:\n# BEGIN SOLUTION\nplt.plot([1, 3, 5]) # This is a dummy plot, not a real example of a solution\n# END SOLUTION",
    "id": "8c0c0ab98ec64e0f843fdaaa8287e1b3",
    "idx": 79,
    "time": "2020-11-13T17:39:15.347Z",
    "type": "execution"
   },
   {
    "code": "from sklearn.metrics import roc_curve\n\n# Note that you'll want to use the .predict_proba(...) method for your classifier\n# instead of .predict(...) so you get probabilities, not classes\n\n# BEGIN SOLUTION\nstaff_words = ['body', 'click', 'please', 'base64', '2002', 'html', 'subscribed',\n               'wrote', 'mortgage', 'align3dcenterfont', 'dear', 'br', 'width10img',\n               'divfont', 'im', 'receive', 'list', 'tags', 'web', 'base64', 'click',\n               'body', 'please', 'money', 'offer', 'receive', 'contact', 'free',\n               'tr', 'removed', 'remove', 'html', 'font', 'form',\n               'credit', 'business', 'div']\n\nX_train_2 = words_in_texts(staff_words, train['email'])\n\nstaff_model = LogisticRegression(solver = 'lbfgs')\nstaff_model.fit(X_train_2, Y_train)\n\nprint('accuracy: ', staff_model.score(X_train_2, Y_train))\n\nY_predict = staff_model.predict_proba(X_train_2)[:, 1]\nfpr, tpr, thresholds = roc_curve(Y_train, Y_predict)\nwith sns.axes_style(\"white\"):\n    plt.plot(fpr, tpr)\nplt.xlabel(\"False Positive Rate\")\nplt.ylabel(\"True Positive Rate\")\nplt.xlim([0, 1])\nplt.ylim([0, 1])\nplt.show()\n# END SOLUTION",
    "id": "8059141c245f48d1843bcdba92a55cd9",
    "idx": 81,
    "time": "2020-11-13T17:39:15.349Z",
    "type": "execution"
   },
   {
    "code": "test_predictions = staff_model.predict(words_in_texts(staff_words, test['email'])) # SOLUTION",
    "id": "b3b715b7bbe440a29afc031436448f68",
    "idx": 83,
    "time": "2020-11-13T17:39:15.351Z",
    "type": "execution"
   },
   {
    "code": "# TEST\nisinstance(test_predictions, np.ndarray) # must be ndarray of predictions",
    "id": "4b8c3b3000f8467d8e92f63713c5a948",
    "idx": 84,
    "time": "2020-11-13T17:39:15.353Z",
    "type": "execution"
   },
   {
    "code": "# TEST\nnp.array_equal(np.unique(test_predictions), np.array([0, 1])) # must be binary labels (0 or 1) and not probabilities",
    "id": "e49cb9eca4884f10bd54709c678f11c4",
    "idx": 85,
    "time": "2020-11-13T17:39:15.355Z",
    "type": "execution"
   },
   {
    "code": "# TEST\nlen(test_predictions) == 1000 # must be the right number of predictions",
    "id": "558f42cfe8c64125afce510c3b7d9647",
    "idx": 86,
    "time": "2020-11-13T17:39:15.357Z",
    "type": "execution"
   },
   {
    "code": "from datetime import datetime\n\n# Assuming that your predictions on the test set are stored in a 1-dimensional array called\n# test_predictions. Feel free to modify this cell as long you create a CSV in the right format.\n\n# Construct and save the submission:\nsubmission_df = pd.DataFrame({\n    \"Id\": test['id'], \n    \"Class\": test_predictions,\n}, columns=['Id', 'Class'])\ntimestamp = datetime.isoformat(datetime.now()).split(\".\")[0]\nsubmission_df.to_csv(\"submission_{}.csv\".format(timestamp), index=False)\n\nprint('Created a CSV file: {}.'.format(\"submission_{}.csv\".format(timestamp)))\nprint('You may now upload this CSV file to Gradescope for scoring.')",
    "id": "951a8f66c9384b52b03fd07762ba6645",
    "idx": 88,
    "time": "2020-11-13T17:39:15.359Z",
    "type": "execution"
   },
   {
    "id": "bf4059a762a047a6a8e4179dc2c11815",
    "time": "2020-11-13T17:39:15.381Z",
    "type": "completion"
   },
   {
    "id": "679de399389b410fbd1bd229389869ba",
    "time": "2020-11-13T17:39:16.314Z",
    "type": "completion"
   },
   {
    "id": "668f75f782c041508f9e0c8f82311ad1",
    "time": "2020-11-13T17:39:17.398Z",
    "type": "completion"
   },
   {
    "id": "68e38b511a2c4f5480d4eda2b0082a11",
    "time": "2020-11-13T17:39:17.402Z",
    "type": "completion"
   },
   {
    "id": "7f4b00c62776443e817cd5a255aa14b9",
    "time": "2020-11-13T17:39:17.451Z",
    "type": "completion"
   },
   {
    "id": "bfb55fdfdfb1456785bb78790aad426b",
    "time": "2020-11-13T17:39:17.502Z",
    "type": "completion"
   },
   {
    "id": "6345c5019a384a618017acbb080996d9",
    "time": "2020-11-13T17:39:17.557Z",
    "type": "completion"
   },
   {
    "id": "ee844f20ed0a41c4b81ff495fe482bdf",
    "time": "2020-11-13T17:39:17.641Z",
    "type": "completion"
   },
   {
    "id": "13a350f12fac4931be17235a1daf0a93",
    "time": "2020-11-13T17:39:17.687Z",
    "type": "completion"
   },
   {
    "id": "a90683e4a73346878a06d732d7101c87",
    "time": "2020-11-13T17:39:17.724Z",
    "type": "completion"
   },
   {
    "id": "7523257e508447369ca710ce27eba7b1",
    "time": "2020-11-13T17:39:17.810Z",
    "type": "completion"
   },
   {
    "id": "81aa3a295d054268acb33351ad567192",
    "time": "2020-11-13T17:39:17.822Z",
    "type": "completion"
   },
   {
    "id": "690ffc0aa5e446949b45a8b4ecd76f85",
    "time": "2020-11-13T17:39:17.854Z",
    "type": "completion"
   },
   {
    "id": "c3fba6032da048efaf5bf9b349cfb4f8",
    "time": "2020-11-13T17:39:17.895Z",
    "type": "completion"
   },
   {
    "id": "c248bceea6bd440c870eb7f942fcf77e",
    "time": "2020-11-13T17:39:17.923Z",
    "type": "completion"
   },
   {
    "id": "3da1bb8528f1420d8e4b01106abb0d1c",
    "time": "2020-11-13T17:39:18.623Z",
    "type": "completion"
   },
   {
    "id": "ccae3bbd17a7472584923d1fd81f0c4b",
    "time": "2020-11-13T17:39:19.061Z",
    "type": "completion"
   },
   {
    "id": "4228df6326c449d782e8471fb2f787fe",
    "time": "2020-11-13T17:39:19.120Z",
    "type": "completion"
   },
   {
    "id": "16be536580a04248971c0fcb94bb3f0e",
    "time": "2020-11-13T17:39:19.127Z",
    "type": "completion"
   },
   {
    "id": "dc0cb916fcc5470885a644448fa6684c",
    "time": "2020-11-13T17:39:19.185Z",
    "type": "completion"
   },
   {
    "id": "7b8699ffc3414488a9d374ae3a762231",
    "time": "2020-11-13T17:39:19.247Z",
    "type": "completion"
   },
   {
    "id": "6a1a859678394a819af601759e1b4c0d",
    "time": "2020-11-13T17:39:19.371Z",
    "type": "completion"
   },
   {
    "id": "45afd18c3a604fd8825017255e72891e",
    "time": "2020-11-13T17:39:19.383Z",
    "type": "completion"
   },
   {
    "id": "30f5741e6f4742119d46340efe2e6a52",
    "time": "2020-11-13T17:39:19.485Z",
    "type": "completion"
   },
   {
    "id": "23064baca6924c4c9f2d7f478494c007",
    "time": "2020-11-13T17:39:19.536Z",
    "type": "completion"
   },
   {
    "id": "3475b02fb61a47839320a7c9edd5d518",
    "time": "2020-11-13T17:39:19.588Z",
    "type": "completion"
   },
   {
    "id": "feef0e913db14b6b8101c4489462b487",
    "time": "2020-11-13T17:39:19.642Z",
    "type": "completion"
   },
   {
    "id": "8dde97c384214925a9c7f42f58f87aaf",
    "time": "2020-11-13T17:39:19.709Z",
    "type": "completion"
   },
   {
    "id": "933ef39465ec409e96b3a53f6203baab",
    "time": "2020-11-13T17:39:19.769Z",
    "type": "completion"
   },
   {
    "id": "2499a1d760f1441299b055adc8736e68",
    "time": "2020-11-13T17:39:19.867Z",
    "type": "completion"
   },
   {
    "id": "2de51ed2ec9f4e11be1000fb204774a3",
    "time": "2020-11-13T17:39:20.000Z",
    "type": "completion"
   },
   {
    "id": "ff5d5782535a42019b7eb5a8ec2753dc",
    "time": "2020-11-13T17:39:20.086Z",
    "type": "completion"
   },
   {
    "id": "f0850a5e5e024d2d9f9bcafe925e1901",
    "time": "2020-11-13T17:39:20.167Z",
    "type": "completion"
   },
   {
    "id": "aa340a7e7443411fb115580a71b83b27",
    "time": "2020-11-13T17:39:20.390Z",
    "type": "completion"
   },
   {
    "id": "2be7e72466a649f1822d8f8458cf3921",
    "time": "2020-11-13T17:39:20.396Z",
    "type": "completion"
   },
   {
    "id": "70a7e749219e434092993513497dc589",
    "time": "2020-11-13T17:39:20.469Z",
    "type": "completion"
   },
   {
    "id": "c555cae2efe24a11960d966fee18793b",
    "time": "2020-11-13T17:39:20.553Z",
    "type": "completion"
   },
   {
    "id": "84339b96007044c18bb3370123e713d5",
    "time": "2020-11-13T17:39:20.650Z",
    "type": "completion"
   },
   {
    "id": "e9752dbea367428782b9be92a30dfd54",
    "time": "2020-11-13T17:39:20.717Z",
    "type": "completion"
   },
   {
    "id": "b7177c97cf0a4893a65e2229d24bddde",
    "time": "2020-11-13T17:39:20.772Z",
    "type": "completion"
   },
   {
    "id": "8c0c0ab98ec64e0f843fdaaa8287e1b3",
    "time": "2020-11-13T17:39:21.057Z",
    "type": "completion"
   },
   {
    "id": "8059141c245f48d1843bcdba92a55cd9",
    "time": "2020-11-13T17:39:22.358Z",
    "type": "completion"
   },
   {
    "id": "b3b715b7bbe440a29afc031436448f68",
    "time": "2020-11-13T17:39:22.422Z",
    "type": "completion"
   },
   {
    "id": "4b8c3b3000f8467d8e92f63713c5a948",
    "time": "2020-11-13T17:39:22.456Z",
    "type": "completion"
   },
   {
    "id": "e49cb9eca4884f10bd54709c678f11c4",
    "time": "2020-11-13T17:39:22.531Z",
    "type": "completion"
   },
   {
    "id": "558f42cfe8c64125afce510c3b7d9647",
    "time": "2020-11-13T17:39:22.633Z",
    "type": "completion"
   },
   {
    "id": "951a8f66c9384b52b03fd07762ba6645",
    "time": "2020-11-13T17:39:22.769Z",
    "type": "completion"
   },
   {
    "code": "sns.distplot(tmp[tmp['spam']==0].length)",
    "id": "7d23973917c7446e89e5254e568f0870",
    "idx": 37,
    "time": "2020-11-13T17:47:19.110Z",
    "type": "execution"
   },
   {
    "id": "7d23973917c7446e89e5254e568f0870",
    "time": "2020-11-13T17:47:19.599Z",
    "type": "completion"
   },
   {
    "code": "sns.distplot(tmp[tmp['spam']==1].length)",
    "id": "3fa95f246e09494289e5530c5b1afc30",
    "idx": 37,
    "time": "2020-11-13T17:47:27.053Z",
    "type": "execution"
   },
   {
    "id": "3fa95f246e09494289e5530c5b1afc30",
    "time": "2020-11-13T17:47:27.538Z",
    "type": "completion"
   },
   {
    "code": "sns.distplot(tmp[tmp['spam']==1].length)\nplt.xlim(0, 50000)",
    "id": "3fa95f246e09494289e5530c5b1afc30",
    "idx": 37,
    "time": "2020-11-13T17:47:41.149Z",
    "type": "execution"
   },
   {
    "id": "3fa95f246e09494289e5530c5b1afc30",
    "time": "2020-11-13T17:47:41.623Z",
    "type": "completion"
   },
   {
    "code": "sns.distplot(tmp[tmp['spam']==0].length)\nplt.xlim(0, 50000)",
    "id": "7d23973917c7446e89e5254e568f0870",
    "idx": 38,
    "time": "2020-11-13T17:47:45.930Z",
    "type": "execution"
   },
   {
    "id": "7d23973917c7446e89e5254e568f0870",
    "time": "2020-11-13T17:47:46.515Z",
    "type": "completion"
   },
   {
    "code": "# BEGIN SOLUTION\ntmp = train.copy()\ntmp['length'] = tmp['email'].str.len()\nplt.figure(figsize=(10, 6))\nsns.distplot(tmp.loc[tmp['spam'] == 0, 'length'],hist=False, label='Ham')\nsns.distplot(tmp.loc[tmp['spam'] == 1, 'length'],hist=False, label='Spam')\nplt.title('Distribution of Email Body Length')\nplt.xlabel('Length of email body')\nplt.ylabel('Distribution')\nplt.xlim((0,50000))\nplt.tight_layout()\nplt.legend();\n# END SOLUTION\nplt.savefig('training_conditional_densities.png')",
    "id": "ccae3bbd17a7472584923d1fd81f0c4b",
    "idx": 36,
    "time": "2020-11-13T17:48:23.568Z",
    "type": "execution"
   },
   {
    "id": "ccae3bbd17a7472584923d1fd81f0c4b",
    "time": "2020-11-13T17:48:24.403Z",
    "type": "completion"
   },
   {
    "code": "# Run this cell to suppress all FutureWarnings\nimport warnings\nwarnings.filterwarnings(\"ignore\", category=FutureWarning)",
    "id": "bf4059a762a047a6a8e4179dc2c11815",
    "idx": 5,
    "time": "2020-11-13T17:50:40.136Z",
    "type": "execution"
   },
   {
    "id": "bf4059a762a047a6a8e4179dc2c11815",
    "time": "2020-11-13T17:50:40.313Z",
    "type": "completion"
   },
   {
    "code": "import numpy as np\nimport pandas as pd\n\nimport matplotlib.pyplot as plt\n%matplotlib inline\n\nimport seaborn as sns\nsns.set(style = \"whitegrid\", \n        color_codes = True,\n        font_scale = 1.5)",
    "id": "679de399389b410fbd1bd229389869ba",
    "idx": 8,
    "time": "2020-11-13T17:50:40.821Z",
    "type": "execution"
   },
   {
    "id": "679de399389b410fbd1bd229389869ba",
    "time": "2020-11-13T17:50:40.897Z",
    "type": "completion"
   },
   {
    "code": "from utils import fetch_and_cache_gdrive\nfetch_and_cache_gdrive('1SCASpLZFKCp2zek-toR3xeKX3DZnBSyp', 'train.csv')\nfetch_and_cache_gdrive('1ZDFo9OTF96B5GP2Nzn8P8-AL7CTQXmC0', 'test.csv')\n\noriginal_training_data = pd.read_csv('data/train.csv')\ntest = pd.read_csv('data/test.csv')\n\n# Convert the emails to lower case as a first step to processing the text\noriginal_training_data['email'] = original_training_data['email'].str.lower()\ntest['email'] = test['email'].str.lower()\n\noriginal_training_data.head()",
    "id": "668f75f782c041508f9e0c8f82311ad1",
    "idx": 10,
    "time": "2020-11-13T17:50:41.062Z",
    "type": "execution"
   },
   {
    "code": "# BEGIN SOLUTION\nprint('Before imputation:')\nprint(original_training_data.isnull().sum())\noriginal_training_data = original_training_data.fillna('')\nprint('------------')\nprint('After imputation:')\nprint(original_training_data.isnull().sum())\n# END SOLUTION",
    "id": "68e38b511a2c4f5480d4eda2b0082a11",
    "idx": 12,
    "time": "2020-11-13T17:50:41.287Z",
    "type": "execution"
   },
   {
    "code": "# TEST\noriginal_training_data.isnull().sum().sum() == 0",
    "id": "7f4b00c62776443e817cd5a255aa14b9",
    "idx": 13,
    "time": "2020-11-13T17:50:41.411Z",
    "type": "execution"
   },
   {
    "id": "668f75f782c041508f9e0c8f82311ad1",
    "time": "2020-11-13T17:50:41.553Z",
    "type": "completion"
   },
   {
    "id": "68e38b511a2c4f5480d4eda2b0082a11",
    "time": "2020-11-13T17:50:41.562Z",
    "type": "completion"
   },
   {
    "id": "7f4b00c62776443e817cd5a255aa14b9",
    "time": "2020-11-13T17:50:41.606Z",
    "type": "completion"
   },
   {
    "code": "first_ham = original_training_data.loc[original_training_data['spam'] == 0, 'email'].iloc[0] # SOLUTION\nfirst_spam = original_training_data.loc[original_training_data['spam'] == 1, 'email'].iloc[0] # SOLUTION\nprint(first_ham)\nprint(first_spam)",
    "id": "bfb55fdfdfb1456785bb78790aad426b",
    "idx": 15,
    "time": "2020-11-13T17:50:42.451Z",
    "type": "execution"
   },
   {
    "id": "bfb55fdfdfb1456785bb78790aad426b",
    "time": "2020-11-13T17:50:42.530Z",
    "type": "completion"
   },
   {
    "code": "# TEST\nlen(first_ham) > 0 and first_ham[:0] == ''",
    "id": "6345c5019a384a618017acbb080996d9",
    "idx": 16,
    "time": "2020-11-13T17:50:42.586Z",
    "type": "execution"
   },
   {
    "id": "6345c5019a384a618017acbb080996d9",
    "time": "2020-11-13T17:50:42.656Z",
    "type": "completion"
   },
   {
    "code": "# TEST\nlen(first_spam) > 0 and first_spam[:0] == ''",
    "id": "ee844f20ed0a41c4b81ff495fe482bdf",
    "idx": 17,
    "time": "2020-11-13T17:50:42.774Z",
    "type": "execution"
   },
   {
    "id": "ee844f20ed0a41c4b81ff495fe482bdf",
    "time": "2020-11-13T17:50:42.839Z",
    "type": "completion"
   },
   {
    "code": "# HIDDEN TEST\noriginal_training_data.loc[original_training_data['spam'] == 0, 'email'].iloc[0] in first_ham",
    "id": "13a350f12fac4931be17235a1daf0a93",
    "idx": 18,
    "time": "2020-11-13T17:50:42.995Z",
    "type": "execution"
   },
   {
    "id": "13a350f12fac4931be17235a1daf0a93",
    "time": "2020-11-13T17:50:43.069Z",
    "type": "completion"
   },
   {
    "code": "# HIDDEN TEST\noriginal_training_data.loc[original_training_data['spam'] == 1, 'email'].iloc[0] in first_spam",
    "id": "a90683e4a73346878a06d732d7101c87",
    "idx": 19,
    "time": "2020-11-13T17:50:43.103Z",
    "type": "execution"
   },
   {
    "id": "a90683e4a73346878a06d732d7101c87",
    "time": "2020-11-13T17:50:43.180Z",
    "type": "completion"
   },
   {
    "code": "# This creates a 90/10 train-validation split on our labeled data\n\nfrom sklearn.model_selection import train_test_split\n\ntrain, val = train_test_split(original_training_data, test_size=0.1, random_state=42)",
    "id": "7523257e508447369ca710ce27eba7b1",
    "idx": 23,
    "time": "2020-11-13T17:50:43.719Z",
    "type": "execution"
   },
   {
    "id": "7523257e508447369ca710ce27eba7b1",
    "time": "2020-11-13T17:50:43.793Z",
    "type": "completion"
   },
   {
    "code": "def words_in_texts(words, texts):\n    '''\n    Args:\n        words (list): words to find\n        texts (Series): strings to search in\n    \n    Returns:\n        NumPy array of 0s and 1s with shape (n, p) where n is the\n        number of texts and p is the number of words.\n    '''\n    indicator_array = 1 * np.array([texts.str.contains(word) for word in words]).T # SOLUTION\n    return indicator_array",
    "id": "81aa3a295d054268acb33351ad567192",
    "idx": 26,
    "time": "2020-11-13T17:50:44.197Z",
    "type": "execution"
   },
   {
    "id": "81aa3a295d054268acb33351ad567192",
    "time": "2020-11-13T17:50:44.266Z",
    "type": "completion"
   },
   {
    "code": "# TEST\nnp.allclose(words_in_texts(['hello', 'bye', 'world'], \n                           pd.Series(['hello', 'hello worldhello'])),\n            np.array([[1, 0, 0], \n                      [1, 0, 1]]))",
    "id": "690ffc0aa5e446949b45a8b4ecd76f85",
    "idx": 27,
    "time": "2020-11-13T17:50:44.320Z",
    "type": "execution"
   },
   {
    "id": "690ffc0aa5e446949b45a8b4ecd76f85",
    "time": "2020-11-13T17:50:44.392Z",
    "type": "completion"
   },
   {
    "code": "# TEST\nnp.allclose(words_in_texts(['a', 'b', 'c', 'd', 'e', 'f', 'g'], \n                           pd.Series(['a b c d ef g', 'a', 'b', 'c', 'd e f g', 'h', 'a h'])),\n            np.array([[1,1,1,1,1,1,1], \n                      [1,0,0,0,0,0,0],\n                      [0,1,0,0,0,0,0],\n                      [0,0,1,0,0,0,0],\n                      [0,0,0,1,1,1,1],\n                      [0,0,0,0,0,0,0],\n                      [1,0,0,0,0,0,0]]))",
    "id": "c3fba6032da048efaf5bf9b349cfb4f8",
    "idx": 28,
    "time": "2020-11-13T17:50:44.456Z",
    "type": "execution"
   },
   {
    "id": "c3fba6032da048efaf5bf9b349cfb4f8",
    "time": "2020-11-13T17:50:44.532Z",
    "type": "completion"
   },
   {
    "code": "from IPython.display import display, Markdown\ndf = pd.DataFrame({\n    'word_1': [1, 0, 1, 0],\n    'word_2': [0, 1, 0, 1],\n    'type': ['spam', 'ham', 'ham', 'ham']\n})\ndisplay(Markdown(\"> Our Original DataFrame has a `type` column and some columns corresponding to words. You can think of each row as a sentence, and the value of 1 or 0 indicates the number of occurences of the word in this sentence.\"))\ndisplay(df);\ndisplay(Markdown(\"> `melt` will turn columns into entries in a variable column. Notice how `word_1` and `word_2` become entries in `variable`; their values are stored in the value column.\"))\ndisplay(df.melt(\"type\"))",
    "id": "c248bceea6bd440c870eb7f942fcf77e",
    "idx": 31,
    "time": "2020-11-13T17:50:44.843Z",
    "type": "execution"
   },
   {
    "id": "c248bceea6bd440c870eb7f942fcf77e",
    "time": "2020-11-13T17:50:44.938Z",
    "type": "completion"
   },
   {
    "code": "train=train.reset_index(drop=True) # We must do this in order to preserve the ordering of emails to labels for words_in_texts\n\n# BEGIN SOLUTION\nsome_words = ['opportunity', 'bank', 'receive', 'dear', 'best', 'deal']\nPhi_train = words_in_texts(some_words, train['email'])\n\ndf = pd.DataFrame(data = Phi_train, columns = some_words)\ndf['label'] = train['spam']\n\nplt.figure(figsize=(12,8))\nsns.barplot(x = \"variable\", \n            y = \"value\", \n            hue = \"label\", \n            data = (df\n                    .replace({'label': \n                                {0 : 'Ham', \n                                 1 : 'Spam'}})\n                    .melt('label')\n                    .groupby(['label', 'variable'])\n                    .mean()\n                    .reset_index()))\n\nplt.xlabel('Words')\nplt.ylabel('Proportion of Emails')\nplt.legend(title = \"\")\nplt.title(\"Frequency of Words in Spam/Ham Emails\")\nplt.tight_layout()\nplt.show()\n# END SOLUTION",
    "id": "3da1bb8528f1420d8e4b01106abb0d1c",
    "idx": 33,
    "time": "2020-11-13T17:50:45.085Z",
    "type": "execution"
   },
   {
    "code": "# BEGIN SOLUTION\ntmp = train.copy()\ntmp['length'] = tmp['email'].str.len()\nplt.figure(figsize=(10, 6))\nsns.distplot(tmp.loc[tmp['spam'] == 0, 'length'],hist=False, label='Ham')\nsns.distplot(tmp.loc[tmp['spam'] == 1, 'length'],hist=False, label='Spam')\nplt.title('Distribution of Email Body Length')\nplt.xlabel('Length of email body')\nplt.ylabel('Distribution')\nplt.xlim((0,50000))\nplt.tight_layout()\nplt.legend();\n# END SOLUTION\nplt.savefig('training_conditional_densities.png')",
    "id": "ccae3bbd17a7472584923d1fd81f0c4b",
    "idx": 36,
    "time": "2020-11-13T17:50:45.529Z",
    "type": "execution"
   },
   {
    "id": "3da1bb8528f1420d8e4b01106abb0d1c",
    "time": "2020-11-13T17:50:45.785Z",
    "type": "completion"
   },
   {
    "id": "ccae3bbd17a7472584923d1fd81f0c4b",
    "time": "2020-11-13T17:50:46.397Z",
    "type": "completion"
   },
   {
    "code": "# Run this cell to suppress all FutureWarnings\nimport warnings\nwarnings.filterwarnings(\"ignore\", category=FutureWarning)",
    "id": "5717cb1fad9e4423882ebb7402a960d0",
    "idx": 5,
    "time": "2020-11-13T17:52:54.134Z",
    "type": "execution"
   },
   {
    "id": "5717cb1fad9e4423882ebb7402a960d0",
    "time": "2020-11-13T17:52:54.207Z",
    "type": "completion"
   },
   {
    "code": "import numpy as np\nimport pandas as pd\n\nimport matplotlib.pyplot as plt\n%matplotlib inline\n\nimport seaborn as sns\nsns.set(style = \"whitegrid\", \n        color_codes = True,\n        font_scale = 1.5)",
    "id": "922a4e60525f4eafb7a67d51618380a8",
    "idx": 8,
    "time": "2020-11-13T17:52:54.451Z",
    "type": "execution"
   },
   {
    "id": "922a4e60525f4eafb7a67d51618380a8",
    "time": "2020-11-13T17:52:54.611Z",
    "type": "completion"
   },
   {
    "code": "from utils import fetch_and_cache_gdrive\nfetch_and_cache_gdrive('1SCASpLZFKCp2zek-toR3xeKX3DZnBSyp', 'train.csv')\nfetch_and_cache_gdrive('1ZDFo9OTF96B5GP2Nzn8P8-AL7CTQXmC0', 'test.csv')\n\noriginal_training_data = pd.read_csv('data/train.csv')\ntest = pd.read_csv('data/test.csv')\n\n# Convert the emails to lower case as a first step to processing the text\noriginal_training_data['email'] = original_training_data['email'].str.lower()\ntest['email'] = test['email'].str.lower()\n\noriginal_training_data.head()",
    "id": "5b789cd4cf994c438c36c83a11f0883e",
    "idx": 10,
    "time": "2020-11-13T17:52:54.797Z",
    "type": "execution"
   },
   {
    "code": "# BEGIN SOLUTION\nprint('Before imputation:')\nprint(original_training_data.isnull().sum())\noriginal_training_data = original_training_data.fillna('')\nprint('------------')\nprint('After imputation:')\nprint(original_training_data.isnull().sum())\n# END SOLUTION",
    "id": "8cc51a7378104317923b12eb8010193c",
    "idx": 12,
    "time": "2020-11-13T17:52:55.069Z",
    "type": "execution"
   },
   {
    "code": "# TEST\noriginal_training_data.isnull().sum().sum() == 0",
    "id": "fd0fc36dcb3e465fa5de88357798251b",
    "idx": 13,
    "time": "2020-11-13T17:52:55.204Z",
    "type": "execution"
   },
   {
    "id": "5b789cd4cf994c438c36c83a11f0883e",
    "time": "2020-11-13T17:52:55.275Z",
    "type": "completion"
   },
   {
    "id": "8cc51a7378104317923b12eb8010193c",
    "time": "2020-11-13T17:52:55.285Z",
    "type": "completion"
   },
   {
    "id": "fd0fc36dcb3e465fa5de88357798251b",
    "time": "2020-11-13T17:52:55.362Z",
    "type": "completion"
   },
   {
    "code": "first_ham = original_training_data.loc[original_training_data['spam'] == 0, 'email'].iloc[0] # SOLUTION\nfirst_spam = original_training_data.loc[original_training_data['spam'] == 1, 'email'].iloc[0] # SOLUTION\nprint(first_ham)\nprint(first_spam)",
    "id": "ec38cd1676674d79a1f78850b2bdeade",
    "idx": 15,
    "time": "2020-11-13T17:52:55.469Z",
    "type": "execution"
   },
   {
    "id": "ec38cd1676674d79a1f78850b2bdeade",
    "time": "2020-11-13T17:52:55.543Z",
    "type": "completion"
   },
   {
    "code": "# TEST\nlen(first_ham) > 0 and first_ham[:0] == ''",
    "id": "91fb9a6b7c524dd1b4ebaf00adfee1e0",
    "idx": 16,
    "time": "2020-11-13T17:52:55.714Z",
    "type": "execution"
   },
   {
    "id": "91fb9a6b7c524dd1b4ebaf00adfee1e0",
    "time": "2020-11-13T17:52:55.787Z",
    "type": "completion"
   },
   {
    "code": "# TEST\nlen(first_spam) > 0 and first_spam[:0] == ''",
    "id": "bc8e6529a6634c3abc2fbbdeb59cf56a",
    "idx": 17,
    "time": "2020-11-13T17:52:55.830Z",
    "type": "execution"
   },
   {
    "id": "bc8e6529a6634c3abc2fbbdeb59cf56a",
    "time": "2020-11-13T17:52:55.908Z",
    "type": "completion"
   },
   {
    "code": "# HIDDEN TEST\noriginal_training_data.loc[original_training_data['spam'] == 0, 'email'].iloc[0] in first_ham",
    "id": "72db8567d04348308e6661ab83085607",
    "idx": 18,
    "time": "2020-11-13T17:52:55.952Z",
    "type": "execution"
   },
   {
    "id": "72db8567d04348308e6661ab83085607",
    "time": "2020-11-13T17:52:56.024Z",
    "type": "completion"
   },
   {
    "code": "# HIDDEN TEST\noriginal_training_data.loc[original_training_data['spam'] == 1, 'email'].iloc[0] in first_spam",
    "id": "3618a1ff098948808c2c917f942d36aa",
    "idx": 19,
    "time": "2020-11-13T17:52:56.076Z",
    "type": "execution"
   },
   {
    "id": "3618a1ff098948808c2c917f942d36aa",
    "time": "2020-11-13T17:52:56.147Z",
    "type": "completion"
   },
   {
    "code": "# This creates a 90/10 train-validation split on our labeled data\n\nfrom sklearn.model_selection import train_test_split\n\ntrain, val = train_test_split(original_training_data, test_size=0.1, random_state=42)",
    "id": "96c9ac16984747308f833d4c03e9ed53",
    "idx": 23,
    "time": "2020-11-13T17:52:56.678Z",
    "type": "execution"
   },
   {
    "id": "96c9ac16984747308f833d4c03e9ed53",
    "time": "2020-11-13T17:52:56.755Z",
    "type": "completion"
   },
   {
    "code": "def words_in_texts(words, texts):\n    '''\n    Args:\n        words (list): words to find\n        texts (Series): strings to search in\n    \n    Returns:\n        NumPy array of 0s and 1s with shape (n, p) where n is the\n        number of texts and p is the number of words.\n    '''\n    indicator_array = 1 * np.array([texts.str.contains(word) for word in words]).T # SOLUTION\n    return indicator_array",
    "id": "06639f97d5a240988a6d7dd1e0b48d8b",
    "idx": 26,
    "time": "2020-11-13T17:52:57.072Z",
    "type": "execution"
   },
   {
    "id": "06639f97d5a240988a6d7dd1e0b48d8b",
    "time": "2020-11-13T17:52:57.145Z",
    "type": "completion"
   },
   {
    "code": "# TEST\nnp.allclose(words_in_texts(['hello', 'bye', 'world'], \n                           pd.Series(['hello', 'hello worldhello'])),\n            np.array([[1, 0, 0], \n                      [1, 0, 1]]))",
    "id": "ffde5bde95224ba58486ad532fb5c28c",
    "idx": 27,
    "time": "2020-11-13T17:52:57.170Z",
    "type": "execution"
   },
   {
    "id": "ffde5bde95224ba58486ad532fb5c28c",
    "time": "2020-11-13T17:52:57.245Z",
    "type": "completion"
   },
   {
    "code": "# TEST\nnp.allclose(words_in_texts(['a', 'b', 'c', 'd', 'e', 'f', 'g'], \n                           pd.Series(['a b c d ef g', 'a', 'b', 'c', 'd e f g', 'h', 'a h'])),\n            np.array([[1,1,1,1,1,1,1], \n                      [1,0,0,0,0,0,0],\n                      [0,1,0,0,0,0,0],\n                      [0,0,1,0,0,0,0],\n                      [0,0,0,1,1,1,1],\n                      [0,0,0,0,0,0,0],\n                      [1,0,0,0,0,0,0]]))",
    "id": "e3e6cf9be8e743fba0049d314831aebf",
    "idx": 28,
    "time": "2020-11-13T17:52:57.405Z",
    "type": "execution"
   },
   {
    "id": "e3e6cf9be8e743fba0049d314831aebf",
    "time": "2020-11-13T17:52:57.482Z",
    "type": "completion"
   },
   {
    "code": "from IPython.display import display, Markdown\ndf = pd.DataFrame({\n    'word_1': [1, 0, 1, 0],\n    'word_2': [0, 1, 0, 1],\n    'type': ['spam', 'ham', 'ham', 'ham']\n})\ndisplay(Markdown(\"> Our Original DataFrame has a `type` column and some columns corresponding to words. You can think of each row as a sentence, and the value of 1 or 0 indicates the number of occurences of the word in this sentence.\"))\ndisplay(df);\ndisplay(Markdown(\"> `melt` will turn columns into entries in a variable column. Notice how `word_1` and `word_2` become entries in `variable`; their values are stored in the value column.\"))\ndisplay(df.melt(\"type\"))",
    "id": "6dd5159205814d56b783b665571c9441",
    "idx": 31,
    "time": "2020-11-13T17:52:57.979Z",
    "type": "execution"
   },
   {
    "id": "6dd5159205814d56b783b665571c9441",
    "time": "2020-11-13T17:52:58.072Z",
    "type": "completion"
   },
   {
    "code": "train=train.reset_index(drop=True) # We must do this in order to preserve the ordering of emails to labels for words_in_texts\n\n# BEGIN SOLUTION\nsome_words = ['opportunity', 'bank', 'receive', 'dear', 'best', 'deal']\nPhi_train = words_in_texts(some_words, train['email'])\n\ndf = pd.DataFrame(data = Phi_train, columns = some_words)\ndf['label'] = train['spam']\n\nplt.figure(figsize=(12,8))\nsns.barplot(x = \"variable\", \n            y = \"value\", \n            hue = \"label\", \n            data = (df\n                    .replace({'label': \n                                {0 : 'Ham', \n                                 1 : 'Spam'}})\n                    .melt('label')\n                    .groupby(['label', 'variable'])\n                    .mean()\n                    .reset_index()))\n\nplt.xlabel('Words')\nplt.ylabel('Proportion of Emails')\nplt.legend(title = \"\")\nplt.title(\"Frequency of Words in Spam/Ham Emails\")\nplt.tight_layout()\nplt.show()\n# END SOLUTION",
    "id": "cc68f68e069e48788281a1bc9531d83d",
    "idx": 33,
    "time": "2020-11-13T17:52:58.316Z",
    "type": "execution"
   },
   {
    "code": "# BEGIN SOLUTION\ntmp = train.copy()\ntmp['length'] = tmp['email'].str.len()\nplt.figure(figsize=(10, 6))\nsns.distplot(tmp.loc[tmp['spam'] == 0, 'length'],hist=False, label='Ham')\nsns.distplot(tmp.loc[tmp['spam'] == 1, 'length'],hist=False, label='Spam')\nplt.title('Distribution of Email Body Length')\nplt.xlabel('Length of email body')\nplt.ylabel('Distribution')\nplt.xlim((0,50000))\nplt.tight_layout()\nplt.legend();\n# END SOLUTION\nplt.savefig('training_conditional_densities.png')",
    "id": "26273859df904aecb41ec51ef7d9885e",
    "idx": 36,
    "time": "2020-11-13T17:52:58.861Z",
    "type": "execution"
   },
   {
    "id": "cc68f68e069e48788281a1bc9531d83d",
    "time": "2020-11-13T17:52:59.050Z",
    "type": "completion"
   },
   {
    "id": "26273859df904aecb41ec51ef7d9885e",
    "time": "2020-11-13T17:52:59.571Z",
    "type": "completion"
   },
   {
    "code": "some_words = ['drug', 'bank', 'prescription', 'memo', 'private']\n\nX_train = words_in_texts(some_words, train['email']) # SOLUTION\nY_train = np.array(train['spam']) # SOLUTION\n\nX_train[:5], Y_train[:5]",
    "id": "62fb90ac758448c48db77978df497ae6",
    "idx": 39,
    "time": "2020-11-13T17:53:00.275Z",
    "type": "execution"
   },
   {
    "code": "# TEST\nX_train.shape == (7513, 5)",
    "id": "b365b5d2dcef401a8defa85c6f598d02",
    "idx": 40,
    "time": "2020-11-13T17:53:00.406Z",
    "type": "execution"
   },
   {
    "id": "62fb90ac758448c48db77978df497ae6",
    "time": "2020-11-13T17:53:00.493Z",
    "type": "completion"
   },
   {
    "id": "b365b5d2dcef401a8defa85c6f598d02",
    "time": "2020-11-13T17:53:00.498Z",
    "type": "completion"
   },
   {
    "code": "# TEST\nnp.array_equal(np.unique(X_train), np.array([0, 1])) # X matrix should consist of only 0 or 1",
    "id": "47d34afb59514919ba683fa0c888bde4",
    "idx": 41,
    "time": "2020-11-13T17:53:00.534Z",
    "type": "execution"
   },
   {
    "id": "47d34afb59514919ba683fa0c888bde4",
    "time": "2020-11-13T17:53:00.605Z",
    "type": "completion"
   },
   {
    "code": "# TEST\nnp.array_equal(np.unique(Y_train), np.array([0, 1])) # y vector should consist of only 0 or 1",
    "id": "e8cd7ec14d974ad9b019227069f6145d",
    "idx": 42,
    "time": "2020-11-13T17:53:00.660Z",
    "type": "execution"
   },
   {
    "id": "e8cd7ec14d974ad9b019227069f6145d",
    "time": "2020-11-13T17:53:00.733Z",
    "type": "completion"
   },
   {
    "code": "from sklearn.linear_model import LogisticRegression\n\nmodel = LogisticRegression(solver = 'lbfgs') # SOLUTION\nmodel.fit(X_train, Y_train) # SOLUTION\n\ntraining_accuracy = model.score(X_train, Y_train) # SOLUTION\nprint(\"Training Accuracy: \", training_accuracy)",
    "id": "d499255244534699864b5465ce019b5d",
    "idx": 44,
    "time": "2020-11-13T17:53:00.942Z",
    "type": "execution"
   },
   {
    "id": "d499255244534699864b5465ce019b5d",
    "time": "2020-11-13T17:53:01.061Z",
    "type": "completion"
   },
   {
    "code": "# TEST\ntraining_accuracy > 0.72",
    "id": "fef1c6cf1e4a4d3c88f2b4953c55e80d",
    "idx": 45,
    "time": "2020-11-13T17:53:01.501Z",
    "type": "execution"
   },
   {
    "id": "fef1c6cf1e4a4d3c88f2b4953c55e80d",
    "time": "2020-11-13T17:53:01.569Z",
    "type": "completion"
   },
   {
    "code": "zero_predictor_fp = 0 # SOLUTION\nzero_predictor_fn = sum(Y_train == 1) # SOLUTION\nzero_predictor_fp, zero_predictor_fn",
    "id": "0cffaab89bf348f189d092a3bfa1ea4d",
    "idx": 49,
    "time": "2020-11-13T17:53:02.485Z",
    "type": "execution"
   },
   {
    "id": "0cffaab89bf348f189d092a3bfa1ea4d",
    "time": "2020-11-13T17:53:02.576Z",
    "type": "completion"
   },
   {
    "code": "# TEST\nzero_predictor_fp >= 0",
    "id": "564c1eaebae947b69e6800e2ae98ba16",
    "idx": 50,
    "time": "2020-11-13T17:53:02.634Z",
    "type": "execution"
   },
   {
    "id": "564c1eaebae947b69e6800e2ae98ba16",
    "time": "2020-11-13T17:53:02.712Z",
    "type": "completion"
   },
   {
    "code": "# TEST\nzero_predictor_fn >= 0",
    "id": "8a79d709c33749518cf44392623bb119",
    "idx": 51,
    "time": "2020-11-13T17:53:02.760Z",
    "type": "execution"
   },
   {
    "id": "8a79d709c33749518cf44392623bb119",
    "time": "2020-11-13T17:53:02.832Z",
    "type": "completion"
   },
   {
    "code": "# HIDDEN TEST\nnp.isclose(zero_predictor_fp, 0)",
    "id": "d6ef40aabfde4fd9afc5e0ae8a2f9a56",
    "idx": 52,
    "time": "2020-11-13T17:53:02.881Z",
    "type": "execution"
   },
   {
    "id": "d6ef40aabfde4fd9afc5e0ae8a2f9a56",
    "time": "2020-11-13T17:53:02.953Z",
    "type": "completion"
   },
   {
    "code": "# HIDDEN TEST\nzero_predictor_fn == 1918",
    "id": "dd9b240252164f86b72fb4a1a40682d4",
    "idx": 53,
    "time": "2020-11-13T17:53:03.012Z",
    "type": "execution"
   },
   {
    "id": "dd9b240252164f86b72fb4a1a40682d4",
    "time": "2020-11-13T17:53:03.092Z",
    "type": "completion"
   },
   {
    "code": "zero_predictor_acc = np.mean(Y_train == 0) # SOLUTION\nzero_predictor_recall = 0 # SOLUTION\nzero_predictor_acc, zero_predictor_recall",
    "id": "84771e6a5b2d4591884e110cd14df188",
    "idx": 55,
    "time": "2020-11-13T17:53:03.505Z",
    "type": "execution"
   },
   {
    "id": "84771e6a5b2d4591884e110cd14df188",
    "time": "2020-11-13T17:53:03.572Z",
    "type": "completion"
   },
   {
    "code": "# TEST\nzero_predictor_acc >= 0",
    "id": "060a99ebe6ce4a5086717f109d2e7dca",
    "idx": 56,
    "time": "2020-11-13T17:53:03.631Z",
    "type": "execution"
   },
   {
    "id": "060a99ebe6ce4a5086717f109d2e7dca",
    "time": "2020-11-13T17:53:03.702Z",
    "type": "completion"
   },
   {
    "code": "# TEST\nzero_predictor_recall >= 0",
    "id": "16d18caac2104e4caf93f13a65241938",
    "idx": 57,
    "time": "2020-11-13T17:53:03.762Z",
    "type": "execution"
   },
   {
    "id": "16d18caac2104e4caf93f13a65241938",
    "time": "2020-11-13T17:53:03.831Z",
    "type": "completion"
   },
   {
    "code": "# HIDDEN TEST\nnp.isclose(zero_predictor_acc, 0.7447091707706642)",
    "id": "be360f140fc546fd8b086891e6614438",
    "idx": 58,
    "time": "2020-11-13T17:53:04.126Z",
    "type": "execution"
   },
   {
    "id": "be360f140fc546fd8b086891e6614438",
    "time": "2020-11-13T17:53:04.196Z",
    "type": "completion"
   },
   {
    "code": "# HIDDEN TEST\nnp.isclose(zero_predictor_recall, 0)",
    "id": "34130958f5e14ea2aa8627842fa37faf",
    "idx": 59,
    "time": "2020-11-13T17:53:04.243Z",
    "type": "execution"
   },
   {
    "id": "34130958f5e14ea2aa8627842fa37faf",
    "time": "2020-11-13T17:53:04.312Z",
    "type": "completion"
   },
   {
    "code": "# BEGIN SOLUTION NO PROMPT\nY_train_hat = model.predict(X_train)\n\nTP = sum((Y_train_hat == Y_train) & (Y_train_hat == 1))\nTN = sum((Y_train_hat == Y_train) & (Y_train_hat == 0))\nFP = sum((Y_train_hat != Y_train) & (Y_train_hat == 1))\nFN = sum((Y_train_hat != Y_train) & (Y_train_hat == 0))\n# END SOLUTION\nlogistic_predictor_precision = TP / (TP + FP) # SOLUTION\nlogistic_predictor_recall = TP / (TP + FN) # SOLUTION\nlogistic_predictor_far = FP / (FP + TN) # SOLUTION",
    "id": "69a4c98c4a1e45449c52800df7da21d9",
    "idx": 63,
    "time": "2020-11-13T17:53:04.794Z",
    "type": "execution"
   },
   {
    "code": "# TEST\nlogistic_predictor_precision >= 0",
    "id": "4fa2f8b900fa476f8ec08629fe9787aa",
    "idx": 64,
    "time": "2020-11-13T17:53:04.910Z",
    "type": "execution"
   },
   {
    "id": "69a4c98c4a1e45449c52800df7da21d9",
    "time": "2020-11-13T17:53:05.010Z",
    "type": "completion"
   },
   {
    "id": "4fa2f8b900fa476f8ec08629fe9787aa",
    "time": "2020-11-13T17:53:05.020Z",
    "type": "completion"
   },
   {
    "code": "# TEST\nlogistic_predictor_recall >= 0",
    "id": "f169fcb087ce4e1d87d7cada8bfc94a6",
    "idx": 65,
    "time": "2020-11-13T17:53:05.035Z",
    "type": "execution"
   },
   {
    "id": "f169fcb087ce4e1d87d7cada8bfc94a6",
    "time": "2020-11-13T17:53:05.111Z",
    "type": "completion"
   },
   {
    "code": "# TEST\nlogistic_predictor_far >= 0",
    "id": "ce0f25f5620849cc9a33d61b84e5caf6",
    "idx": 66,
    "time": "2020-11-13T17:53:05.173Z",
    "type": "execution"
   },
   {
    "id": "ce0f25f5620849cc9a33d61b84e5caf6",
    "time": "2020-11-13T17:53:05.250Z",
    "type": "completion"
   },
   {
    "code": "# HIDDEN TEST\nnp.isclose(logistic_predictor_precision, 0.6422287390029325)",
    "id": "2da6368a3815416ba07c4cbfaf0533d5",
    "idx": 67,
    "time": "2020-11-13T17:53:05.299Z",
    "type": "execution"
   },
   {
    "id": "2da6368a3815416ba07c4cbfaf0533d5",
    "time": "2020-11-13T17:53:05.379Z",
    "type": "completion"
   },
   {
    "code": "# HIDDEN TEST\nnp.isclose(logistic_predictor_recall, 0.11418143899895725)",
    "id": "1f49e01547f844499992699a3f8437d4",
    "idx": 68,
    "time": "2020-11-13T17:53:05.414Z",
    "type": "execution"
   },
   {
    "id": "1f49e01547f844499992699a3f8437d4",
    "time": "2020-11-13T17:53:05.484Z",
    "type": "completion"
   },
   {
    "code": "# HIDDEN TEST\nnp.isclose(logistic_predictor_far, 0.021805183199285077)",
    "id": "a86939b61fe7402b9bd562eda7adcb8a",
    "idx": 69,
    "time": "2020-11-13T17:53:05.535Z",
    "type": "execution"
   },
   {
    "id": "a86939b61fe7402b9bd562eda7adcb8a",
    "time": "2020-11-13T17:53:05.607Z",
    "type": "completion"
   },
   {
    "code": "# Write your description (2-3 sentences) as a comment here:\n# \n#\n#\n\n# Write the code to generate your visualization here:\n# BEGIN SOLUTION\nplt.plot([1, 3, 5]) # This is a dummy plot, not a real example of a solution\n# END SOLUTION",
    "id": "f9dd9c1872054b3aabcc6cde9965ad16",
    "idx": 79,
    "time": "2020-11-13T17:53:06.802Z",
    "type": "execution"
   },
   {
    "code": "from sklearn.metrics import roc_curve\n\n# Note that you'll want to use the .predict_proba(...) method for your classifier\n# instead of .predict(...) so you get probabilities, not classes\n\n# BEGIN SOLUTION\nstaff_words = ['body', 'click', 'please', 'base64', '2002', 'html', 'subscribed',\n               'wrote', 'mortgage', 'align3dcenterfont', 'dear', 'br', 'width10img',\n               'divfont', 'im', 'receive', 'list', 'tags', 'web', 'base64', 'click',\n               'body', 'please', 'money', 'offer', 'receive', 'contact', 'free',\n               'tr', 'removed', 'remove', 'html', 'font', 'form',\n               'credit', 'business', 'div']\n\nX_train_2 = words_in_texts(staff_words, train['email'])\n\nstaff_model = LogisticRegression(solver = 'lbfgs')\nstaff_model.fit(X_train_2, Y_train)\n\nprint('accuracy: ', staff_model.score(X_train_2, Y_train))\n\nY_predict = staff_model.predict_proba(X_train_2)[:, 1]\nfpr, tpr, thresholds = roc_curve(Y_train, Y_predict)\nwith sns.axes_style(\"white\"):\n    plt.plot(fpr, tpr)\nplt.xlabel(\"False Positive Rate\")\nplt.ylabel(\"True Positive Rate\")\nplt.xlim([0, 1])\nplt.ylim([0, 1])\nplt.show()\n# END SOLUTION",
    "id": "73428c5ed83743b199ed18dc26f18be3",
    "idx": 81,
    "time": "2020-11-13T17:53:07.068Z",
    "type": "execution"
   },
   {
    "id": "f9dd9c1872054b3aabcc6cde9965ad16",
    "time": "2020-11-13T17:53:07.170Z",
    "type": "completion"
   },
   {
    "code": "test_predictions = staff_model.predict(words_in_texts(staff_words, test['email'])) # SOLUTION",
    "id": "665d4320ee5a44fd8e5fc2cc55ecd777",
    "idx": 83,
    "time": "2020-11-13T17:53:07.542Z",
    "type": "execution"
   },
   {
    "code": "# TEST\nisinstance(test_predictions, np.ndarray) # must be ndarray of predictions",
    "id": "0dd28fcc619746e4831ad536f8956532",
    "idx": 84,
    "time": "2020-11-13T17:53:07.669Z",
    "type": "execution"
   },
   {
    "code": "# TEST\nnp.array_equal(np.unique(test_predictions), np.array([0, 1])) # must be binary labels (0 or 1) and not probabilities",
    "id": "6ccaddb5360c45609af4d3b6991ca741",
    "idx": 85,
    "time": "2020-11-13T17:53:07.805Z",
    "type": "execution"
   },
   {
    "code": "# TEST\nlen(test_predictions) == 1000 # must be the right number of predictions",
    "id": "e8c8f77a5758407293ae0b201063880f",
    "idx": 86,
    "time": "2020-11-13T17:53:07.949Z",
    "type": "execution"
   },
   {
    "code": "from datetime import datetime\n\n# Assuming that your predictions on the test set are stored in a 1-dimensional array called\n# test_predictions. Feel free to modify this cell as long you create a CSV in the right format.\n\n# Construct and save the submission:\nsubmission_df = pd.DataFrame({\n    \"Id\": test['id'], \n    \"Class\": test_predictions,\n}, columns=['Id', 'Class'])\ntimestamp = datetime.isoformat(datetime.now()).split(\".\")[0]\nsubmission_df.to_csv(\"submission_{}.csv\".format(timestamp), index=False)\n\nprint('Created a CSV file: {}.'.format(\"submission_{}.csv\".format(timestamp)))\nprint('You may now upload this CSV file to Gradescope for scoring.')",
    "id": "aa5bacff8532404a8471d14006215349",
    "idx": 88,
    "time": "2020-11-13T17:53:08.231Z",
    "type": "execution"
   },
   {
    "id": "73428c5ed83743b199ed18dc26f18be3",
    "time": "2020-11-13T17:53:08.462Z",
    "type": "completion"
   },
   {
    "id": "665d4320ee5a44fd8e5fc2cc55ecd777",
    "time": "2020-11-13T17:53:08.523Z",
    "type": "completion"
   },
   {
    "id": "0dd28fcc619746e4831ad536f8956532",
    "time": "2020-11-13T17:53:08.540Z",
    "type": "completion"
   },
   {
    "id": "6ccaddb5360c45609af4d3b6991ca741",
    "time": "2020-11-13T17:53:08.558Z",
    "type": "completion"
   },
   {
    "id": "e8c8f77a5758407293ae0b201063880f",
    "time": "2020-11-13T17:53:08.585Z",
    "type": "completion"
   },
   {
    "id": "aa5bacff8532404a8471d14006215349",
    "time": "2020-11-13T17:53:08.632Z",
    "type": "completion"
   },
   {
    "code": "# Initialize Otter\nimport otter\ngrader = otter.Notebook()",
    "id": "51eb96a0d26641488fff34a42fe0405d",
    "idx": 0,
    "time": "2020-11-13T20:29:33.348Z",
    "type": "execution"
   },
   {
    "id": "51eb96a0d26641488fff34a42fe0405d",
    "time": "2020-11-13T20:29:33.861Z",
    "type": "completion"
   },
   {
    "code": "# Run this cell to suppress all FutureWarnings\nimport warnings\nwarnings.filterwarnings(\"ignore\", category=FutureWarning)",
    "id": "17c32872f3334e2c86808a17ff35298e",
    "idx": 5,
    "time": "2020-11-13T20:29:55.468Z",
    "type": "execution"
   },
   {
    "id": "17c32872f3334e2c86808a17ff35298e",
    "time": "2020-11-13T20:29:55.533Z",
    "type": "completion"
   },
   {
    "code": "import numpy as np\nimport pandas as pd\n\nimport matplotlib.pyplot as plt\n%matplotlib inline\n\nimport seaborn as sns\nsns.set(style = \"whitegrid\", \n        color_codes = True,\n        font_scale = 1.5)",
    "id": "eb26bc0e06144d3698198dd8a5b440a9",
    "idx": 8,
    "time": "2020-11-13T20:29:57.907Z",
    "type": "execution"
   },
   {
    "id": "eb26bc0e06144d3698198dd8a5b440a9",
    "time": "2020-11-13T20:29:58.886Z",
    "type": "completion"
   },
   {
    "code": "from utils import fetch_and_cache_gdrive\nfetch_and_cache_gdrive('1SCASpLZFKCp2zek-toR3xeKX3DZnBSyp', 'train.csv')\nfetch_and_cache_gdrive('1ZDFo9OTF96B5GP2Nzn8P8-AL7CTQXmC0', 'test.csv')\n\noriginal_training_data = pd.read_csv('data/train.csv')\ntest = pd.read_csv('data/test.csv')\n\n# Convert the emails to lower case as a first step to processing the text\noriginal_training_data['email'] = original_training_data['email'].str.lower()\ntest['email'] = test['email'].str.lower()\n\noriginal_training_data.head()",
    "id": "c1b3dc72fc92411d8be5a3be42d51bde",
    "idx": 10,
    "time": "2020-11-13T20:30:29.624Z",
    "type": "execution"
   },
   {
    "id": "c1b3dc72fc92411d8be5a3be42d51bde",
    "time": "2020-11-13T20:30:34.009Z",
    "type": "completion"
   },
   {
    "code": "original_training_data.isnull().sum()",
    "id": "7f830531692f43788cc632c9ff033156",
    "idx": 12,
    "time": "2020-11-13T20:34:21.735Z",
    "type": "execution"
   },
   {
    "id": "7f830531692f43788cc632c9ff033156",
    "time": "2020-11-13T20:34:21.821Z",
    "type": "completion"
   },
   {
    "code": "original_training_data.isnull().sum().fillna(0)",
    "id": "7f830531692f43788cc632c9ff033156",
    "idx": 12,
    "time": "2020-11-13T20:34:42.088Z",
    "type": "execution"
   },
   {
    "id": "7f830531692f43788cc632c9ff033156",
    "time": "2020-11-13T20:34:42.160Z",
    "type": "completion"
   },
   {
    "code": "original_training_data.isnull()",
    "id": "7f830531692f43788cc632c9ff033156",
    "idx": 12,
    "time": "2020-11-13T20:34:49.551Z",
    "type": "execution"
   },
   {
    "id": "7f830531692f43788cc632c9ff033156",
    "time": "2020-11-13T20:34:49.631Z",
    "type": "completion"
   },
   {
    "code": "original_training_data.isnull().sum()",
    "id": "7f830531692f43788cc632c9ff033156",
    "idx": 12,
    "time": "2020-11-13T20:34:59.269Z",
    "type": "execution"
   },
   {
    "id": "7f830531692f43788cc632c9ff033156",
    "time": "2020-11-13T20:34:59.340Z",
    "type": "completion"
   },
   {
    "code": "original_training_data.isnull().sum()\norginal_training_data['subject'].fillna(0)",
    "id": "7f830531692f43788cc632c9ff033156",
    "idx": 12,
    "time": "2020-11-13T20:35:17.614Z",
    "type": "execution"
   },
   {
    "id": "7f830531692f43788cc632c9ff033156",
    "time": "2020-11-13T20:35:17.843Z",
    "type": "completion"
   },
   {
    "code": "original_training_data.isnull().sum()\noriginal_training_data['subject'].fillna(0)",
    "id": "7f830531692f43788cc632c9ff033156",
    "idx": 12,
    "time": "2020-11-13T20:35:25.014Z",
    "type": "execution"
   },
   {
    "id": "7f830531692f43788cc632c9ff033156",
    "time": "2020-11-13T20:35:25.154Z",
    "type": "completion"
   },
   {
    "code": "grader.check(\"q1a\")",
    "id": "c2e1e07da8f543018058f00661e5e16b",
    "idx": 13,
    "time": "2020-11-13T20:35:26.930Z",
    "type": "execution"
   },
   {
    "id": "c2e1e07da8f543018058f00661e5e16b",
    "time": "2020-11-13T20:35:29.170Z",
    "type": "completion"
   },
   {
    "code": "original_training_data.isnull().sum()\noriginal_training_data['subject'].fillna(0)\noriginal_training_data.isnull().sum().sum()",
    "id": "7f830531692f43788cc632c9ff033156",
    "idx": 12,
    "time": "2020-11-13T20:35:51.498Z",
    "type": "execution"
   },
   {
    "id": "7f830531692f43788cc632c9ff033156",
    "time": "2020-11-13T20:35:51.573Z",
    "type": "completion"
   },
   {
    "code": "original_training_data.isnull().sum()\noriginal_training_data['subject'].fillna('')\noriginal_training_data.isnull().sum().sum()",
    "id": "7f830531692f43788cc632c9ff033156",
    "idx": 12,
    "time": "2020-11-13T20:36:09.219Z",
    "type": "execution"
   },
   {
    "id": "7f830531692f43788cc632c9ff033156",
    "time": "2020-11-13T20:36:09.293Z",
    "type": "completion"
   },
   {
    "code": "grader.check(\"q1a\")",
    "id": "c2e1e07da8f543018058f00661e5e16b",
    "idx": 13,
    "time": "2020-11-13T20:36:11.381Z",
    "type": "execution"
   },
   {
    "id": "c2e1e07da8f543018058f00661e5e16b",
    "time": "2020-11-13T20:36:11.511Z",
    "type": "completion"
   },
   {
    "code": "original_training_data.isnull().sum()\n",
    "id": "7f830531692f43788cc632c9ff033156",
    "idx": 12,
    "time": "2020-11-13T20:36:16.357Z",
    "type": "execution"
   },
   {
    "id": "7f830531692f43788cc632c9ff033156",
    "time": "2020-11-13T20:36:16.449Z",
    "type": "completion"
   },
   {
    "code": "original_training_data.isnull().sum()\noriginal_training_data['subject'].replace('NaN':'')\n",
    "id": "7f830531692f43788cc632c9ff033156",
    "idx": 12,
    "time": "2020-11-13T20:37:47.378Z",
    "type": "execution"
   },
   {
    "id": "7f830531692f43788cc632c9ff033156",
    "time": "2020-11-13T20:37:47.454Z",
    "type": "completion"
   },
   {
    "code": "original_training_data.isnull().sum()\noriginal_training_data['subject'].replace({'NaN':''})\n",
    "id": "7f830531692f43788cc632c9ff033156",
    "idx": 12,
    "time": "2020-11-13T20:38:40.952Z",
    "type": "execution"
   },
   {
    "id": "7f830531692f43788cc632c9ff033156",
    "time": "2020-11-13T20:38:41.479Z",
    "type": "completion"
   },
   {
    "code": "original_training_data.isnull().sum()\noriginal_training_data['subject'].replace({'NaN':''})\noriginal_training_data.isnull().sum().sum()\n",
    "id": "7f830531692f43788cc632c9ff033156",
    "idx": 12,
    "time": "2020-11-13T20:38:58.630Z",
    "type": "execution"
   },
   {
    "id": "7f830531692f43788cc632c9ff033156",
    "time": "2020-11-13T20:38:58.800Z",
    "type": "completion"
   },
   {
    "code": "grader.check(\"q1a\")",
    "id": "c2e1e07da8f543018058f00661e5e16b",
    "idx": 13,
    "time": "2020-11-13T20:39:00.326Z",
    "type": "execution"
   },
   {
    "id": "c2e1e07da8f543018058f00661e5e16b",
    "time": "2020-11-13T20:39:00.462Z",
    "type": "completion"
   },
   {
    "code": "original_training_data.isnull().sum()\noriginal_training_data['subject'].replace({'NaN':''})\n\n",
    "id": "7f830531692f43788cc632c9ff033156",
    "idx": 12,
    "time": "2020-11-13T20:39:07.096Z",
    "type": "execution"
   },
   {
    "id": "7f830531692f43788cc632c9ff033156",
    "time": "2020-11-13T20:39:07.169Z",
    "type": "completion"
   },
   {
    "code": "original_training_data.isnull().sum()\noriginal_training_data = original_training_data['subject'].replace({'NaN':''})\noriginal_training_data.isnull().sum().sum()\n\n",
    "id": "7f830531692f43788cc632c9ff033156",
    "idx": 12,
    "time": "2020-11-13T20:39:30.324Z",
    "type": "execution"
   },
   {
    "id": "7f830531692f43788cc632c9ff033156",
    "time": "2020-11-13T20:39:30.402Z",
    "type": "completion"
   },
   {
    "code": "grader.check(\"q1a\")",
    "id": "c2e1e07da8f543018058f00661e5e16b",
    "idx": 13,
    "time": "2020-11-13T20:39:34.048Z",
    "type": "execution"
   },
   {
    "id": "c2e1e07da8f543018058f00661e5e16b",
    "time": "2020-11-13T20:39:34.891Z",
    "type": "completion"
   },
   {
    "code": "original_training_data.isnull().sum()\noriginal_training_data = original_training_data.replace({'NaN':''})\noriginal_training_data.isnull().sum().sum()\n\n",
    "id": "7f830531692f43788cc632c9ff033156",
    "idx": 12,
    "time": "2020-11-13T20:40:01.370Z",
    "type": "execution"
   },
   {
    "id": "7f830531692f43788cc632c9ff033156",
    "time": "2020-11-13T20:40:01.465Z",
    "type": "completion"
   },
   {
    "code": "original_training_data.isnull().sum()\noriginal_training_data = original_training_data.fillna('')\noriginal_training_data.isnull().sum().sum()\n\n",
    "id": "7f830531692f43788cc632c9ff033156",
    "idx": 12,
    "time": "2020-11-13T20:40:08.012Z",
    "type": "execution"
   },
   {
    "id": "7f830531692f43788cc632c9ff033156",
    "time": "2020-11-13T20:40:08.081Z",
    "type": "completion"
   },
   {
    "code": "grader.check(\"q1a\")",
    "id": "c2e1e07da8f543018058f00661e5e16b",
    "idx": 13,
    "time": "2020-11-13T20:40:10.062Z",
    "type": "execution"
   },
   {
    "id": "c2e1e07da8f543018058f00661e5e16b",
    "time": "2020-11-13T20:40:10.200Z",
    "type": "completion"
   },
   {
    "code": "first_ham = original_training_data[original_training_data['spam'] == 0]['email'][1]\nfirst_spam =  original_training_data[original_training_data['spam'] == 1]['email'][1]\nprint(first_ham)\nprint(first_spam)",
    "id": "8d772eeac05b42daa08ea00b5805257f",
    "idx": 15,
    "time": "2020-11-13T20:43:38.751Z",
    "type": "execution"
   },
   {
    "id": "8d772eeac05b42daa08ea00b5805257f",
    "time": "2020-11-13T20:43:38.908Z",
    "type": "completion"
   },
   {
    "code": "original_training_data[original_training_data['spam'] == 0]",
    "id": "536159eff87a496eb960d0367da90236",
    "idx": 15,
    "time": "2020-11-13T20:44:08.986Z",
    "type": "execution"
   },
   {
    "id": "536159eff87a496eb960d0367da90236",
    "time": "2020-11-13T20:44:09.119Z",
    "type": "completion"
   },
   {
    "code": "original_training_Data['spam']",
    "id": "7624f5ad70bc4b398c0203cfb8c40522",
    "idx": 15,
    "time": "2020-11-13T20:45:56.788Z",
    "type": "execution"
   },
   {
    "id": "7624f5ad70bc4b398c0203cfb8c40522",
    "time": "2020-11-13T20:45:56.863Z",
    "type": "completion"
   },
   {
    "code": "original_training_data['spam']",
    "id": "7624f5ad70bc4b398c0203cfb8c40522",
    "idx": 15,
    "time": "2020-11-13T20:46:03.350Z",
    "type": "execution"
   },
   {
    "id": "7624f5ad70bc4b398c0203cfb8c40522",
    "time": "2020-11-13T20:46:03.497Z",
    "type": "completion"
   },
   {
    "code": "first_ham = original_training_data[original_training_data['email'] == 0][1]\nfirst_spam =  original_training_data[original_training_data['email'] == 1][1]\nprint(first_ham)\nprint(first_spam)",
    "id": "8d772eeac05b42daa08ea00b5805257f",
    "idx": 15,
    "time": "2020-11-13T20:47:34.066Z",
    "type": "execution"
   },
   {
    "id": "8d772eeac05b42daa08ea00b5805257f",
    "time": "2020-11-13T20:47:34.333Z",
    "type": "completion"
   },
   {
    "code": "from utils import fetch_and_cache_gdrive\nfetch_and_cache_gdrive('1SCASpLZFKCp2zek-toR3xeKX3DZnBSyp', 'train.csv')\nfetch_and_cache_gdrive('1ZDFo9OTF96B5GP2Nzn8P8-AL7CTQXmC0', 'test.csv')\n\noriginal_training_data = pd.read_csv('data/train.csv')\ntest = pd.read_csv('data/test.csv')\n\n# Convert the emails to lower case as a first step to processing the text\noriginal_training_data['email'] = original_training_data['email'].str.lower()\ntest['email'] = test['email'].str.lower()\n\noriginal_training_data['email']",
    "id": "c1b3dc72fc92411d8be5a3be42d51bde",
    "idx": 10,
    "time": "2020-11-13T20:52:35.517Z",
    "type": "execution"
   },
   {
    "id": "c1b3dc72fc92411d8be5a3be42d51bde",
    "time": "2020-11-13T20:52:36.044Z",
    "type": "completion"
   },
   {
    "code": "from utils import fetch_and_cache_gdrive\nfetch_and_cache_gdrive('1SCASpLZFKCp2zek-toR3xeKX3DZnBSyp', 'train.csv')\nfetch_and_cache_gdrive('1ZDFo9OTF96B5GP2Nzn8P8-AL7CTQXmC0', 'test.csv')\n\noriginal_training_data = pd.read_csv('data/train.csv')\ntest = pd.read_csv('data/test.csv')\n\n# Convert the emails to lower case as a first step to processing the text\noriginal_training_data['email'] = original_training_data['email'].str.lower()\ntest['email'] = test['email'].str.lower()\n\noriginal_training_data.head()",
    "id": "c1b3dc72fc92411d8be5a3be42d51bde",
    "idx": 10,
    "time": "2020-11-13T20:52:54.070Z",
    "type": "execution"
   },
   {
    "id": "c1b3dc72fc92411d8be5a3be42d51bde",
    "time": "2020-11-13T20:52:54.573Z",
    "type": "completion"
   },
   {
    "code": "first_ham = 'url: http://boingboing.net/#85534171\\n date: n'\nfirst_spam =  '<html>\\n <head>\\n </head>\\n <body>\\n <font siz'\nprint(first_ham)\nprint(first_spam)",
    "id": "8d772eeac05b42daa08ea00b5805257f",
    "idx": 15,
    "time": "2020-11-13T20:53:13.528Z",
    "type": "execution"
   },
   {
    "id": "8d772eeac05b42daa08ea00b5805257f",
    "time": "2020-11-13T20:53:13.601Z",
    "type": "completion"
   },
   {
    "code": "grader.check(\"q1b\")",
    "id": "0786008585ea44259a79ab9491fe674a",
    "idx": 16,
    "time": "2020-11-13T20:53:14.685Z",
    "type": "execution"
   },
   {
    "id": "0786008585ea44259a79ab9491fe674a",
    "time": "2020-11-13T20:53:14.797Z",
    "type": "completion"
   },
   {
    "code": "# This creates a 90/10 train-validation split on our labeled data\n\nfrom sklearn.model_selection import train_test_split\n\ntrain, val = train_test_split(original_training_data, test_size=0.1, random_state=42)",
    "id": "13d4d69cf8f247a096ea469af7c7b48f",
    "idx": 20,
    "time": "2020-11-13T20:55:37.069Z",
    "type": "execution"
   },
   {
    "id": "13d4d69cf8f247a096ea469af7c7b48f",
    "time": "2020-11-13T20:55:37.202Z",
    "type": "completion"
   },
   {
    "code": "# This creates a 90/10 train-validation split on our labeled data\n\nfrom sklearn.model_selection import train_test_split\n\ntrain, val = train_test_split(original_training_data, test_size=0.1, random_state=42)",
    "id": "13d4d69cf8f247a096ea469af7c7b48f",
    "idx": 20,
    "time": "2020-11-13T20:56:01.979Z",
    "type": "execution"
   },
   {
    "id": "13d4d69cf8f247a096ea469af7c7b48f",
    "time": "2020-11-13T20:56:02.054Z",
    "type": "completion"
   },
   {
    "code": "first_ham = original_data.groupby(['spam']).first().iloc(0)['email']\nfirst_spam =  '<html>\\n <head>\\n </head>\\n <body>\\n <font siz'\nprint(first_ham)\nprint(first_spam)",
    "id": "8d772eeac05b42daa08ea00b5805257f",
    "idx": 15,
    "time": "2020-11-13T20:58:32.901Z",
    "type": "execution"
   },
   {
    "id": "8d772eeac05b42daa08ea00b5805257f",
    "time": "2020-11-13T20:58:33.034Z",
    "type": "completion"
   },
   {
    "code": "first_ham = original_training_data.groupby(['spam']).first().iloc(0)['email']\nfirst_spam =  '<html>\\n <head>\\n </head>\\n <body>\\n <font siz'\nprint(first_ham)\nprint(first_spam)",
    "id": "8d772eeac05b42daa08ea00b5805257f",
    "idx": 15,
    "time": "2020-11-13T20:58:41.047Z",
    "type": "execution"
   },
   {
    "id": "8d772eeac05b42daa08ea00b5805257f",
    "time": "2020-11-13T20:58:41.208Z",
    "type": "completion"
   },
   {
    "code": "first_ham = original_training_data.groupby(['spam']).first().iloc[0]['email']\nfirst_spam =  '<html>\\n <head>\\n </head>\\n <body>\\n <font siz'\nprint(first_ham)\nprint(first_spam)",
    "id": "8d772eeac05b42daa08ea00b5805257f",
    "idx": 15,
    "time": "2020-11-13T20:58:52.337Z",
    "type": "execution"
   },
   {
    "id": "8d772eeac05b42daa08ea00b5805257f",
    "time": "2020-11-13T20:58:52.413Z",
    "type": "completion"
   },
   {
    "code": "first_ham = original_training_data.groupby(['spam']).iloc[0].first()['email']\nfirst_spam =  original_training_data.groupby(['spam']).first().iloc[1]['email']\nprint(first_ham)\nprint(first_spam)",
    "id": "8d772eeac05b42daa08ea00b5805257f",
    "idx": 15,
    "time": "2020-11-13T20:59:14.503Z",
    "type": "execution"
   },
   {
    "id": "8d772eeac05b42daa08ea00b5805257f",
    "time": "2020-11-13T20:59:14.631Z",
    "type": "completion"
   },
   {
    "code": "first_ham = original_training_data.groupby(['spam']).first().iloc[0]['email']\nfirst_spam =  original_training_data.groupby(['spam']).first().iloc[1]['email']\nprint(first_ham)\nprint(first_spam)",
    "id": "8d772eeac05b42daa08ea00b5805257f",
    "idx": 15,
    "time": "2020-11-13T20:59:25.199Z",
    "type": "execution"
   },
   {
    "id": "8d772eeac05b42daa08ea00b5805257f",
    "time": "2020-11-13T20:59:25.279Z",
    "type": "completion"
   },
   {
    "code": "grader.check(\"q1b\")",
    "id": "0786008585ea44259a79ab9491fe674a",
    "idx": 16,
    "time": "2020-11-13T20:59:26.060Z",
    "type": "execution"
   },
   {
    "id": "0786008585ea44259a79ab9491fe674a",
    "time": "2020-11-13T20:59:26.184Z",
    "type": "completion"
   },
   {
    "code": "# Initialize Otter\nimport otter\ngrader = otter.Notebook()",
    "id": "51eb96a0d26641488fff34a42fe0405d",
    "idx": 0,
    "time": "2020-11-13T20:59:59.611Z",
    "type": "execution"
   },
   {
    "id": "51eb96a0d26641488fff34a42fe0405d",
    "time": "2020-11-13T21:00:00.160Z",
    "type": "completion"
   },
   {
    "code": "# Run this cell to suppress all FutureWarnings\nimport warnings\nwarnings.filterwarnings(\"ignore\", category=FutureWarning)",
    "id": "17c32872f3334e2c86808a17ff35298e",
    "idx": 5,
    "time": "2020-11-13T21:00:00.379Z",
    "type": "execution"
   },
   {
    "id": "17c32872f3334e2c86808a17ff35298e",
    "time": "2020-11-13T21:00:00.448Z",
    "type": "completion"
   },
   {
    "code": "import numpy as np\nimport pandas as pd\n\nimport matplotlib.pyplot as plt\n%matplotlib inline\n\nimport seaborn as sns\nsns.set(style = \"whitegrid\", \n        color_codes = True,\n        font_scale = 1.5)",
    "id": "eb26bc0e06144d3698198dd8a5b440a9",
    "idx": 8,
    "time": "2020-11-13T21:00:00.833Z",
    "type": "execution"
   },
   {
    "code": "from utils import fetch_and_cache_gdrive\nfetch_and_cache_gdrive('1SCASpLZFKCp2zek-toR3xeKX3DZnBSyp', 'train.csv')\nfetch_and_cache_gdrive('1ZDFo9OTF96B5GP2Nzn8P8-AL7CTQXmC0', 'test.csv')\n\noriginal_training_data = pd.read_csv('data/train.csv')\ntest = pd.read_csv('data/test.csv')\n\n# Convert the emails to lower case as a first step to processing the text\noriginal_training_data['email'] = original_training_data['email'].str.lower()\ntest['email'] = test['email'].str.lower()\n\noriginal_training_data.head()",
    "id": "c1b3dc72fc92411d8be5a3be42d51bde",
    "idx": 10,
    "time": "2020-11-13T21:00:01.134Z",
    "type": "execution"
   },
   {
    "code": "original_training_data.isnull().sum()\noriginal_training_data = original_training_data.fillna('')\noriginal_training_data.isnull().sum().sum()\n\n",
    "id": "7f830531692f43788cc632c9ff033156",
    "idx": 12,
    "time": "2020-11-13T21:00:01.446Z",
    "type": "execution"
   },
   {
    "code": "grader.check(\"q1a\")",
    "id": "c2e1e07da8f543018058f00661e5e16b",
    "idx": 13,
    "time": "2020-11-13T21:00:01.596Z",
    "type": "execution"
   },
   {
    "id": "eb26bc0e06144d3698198dd8a5b440a9",
    "time": "2020-11-13T21:00:01.650Z",
    "type": "completion"
   },
   {
    "code": "first_ham = original_training_data.groupby(['spam']).first().iloc[0]['email']\nfirst_spam =  original_training_data.groupby(['spam']).first().iloc[1]['email']\nprint(first_ham)\nprint(first_spam)",
    "id": "8d772eeac05b42daa08ea00b5805257f",
    "idx": 15,
    "time": "2020-11-13T21:00:01.925Z",
    "type": "execution"
   },
   {
    "code": "grader.check(\"q1b\")",
    "id": "0786008585ea44259a79ab9491fe674a",
    "idx": 16,
    "time": "2020-11-13T21:00:02.074Z",
    "type": "execution"
   },
   {
    "id": "c1b3dc72fc92411d8be5a3be42d51bde",
    "time": "2020-11-13T21:00:02.135Z",
    "type": "completion"
   },
   {
    "id": "7f830531692f43788cc632c9ff033156",
    "time": "2020-11-13T21:00:02.137Z",
    "type": "completion"
   },
   {
    "id": "c2e1e07da8f543018058f00661e5e16b",
    "time": "2020-11-13T21:00:02.142Z",
    "type": "completion"
   },
   {
    "id": "8d772eeac05b42daa08ea00b5805257f",
    "time": "2020-11-13T21:00:02.157Z",
    "type": "completion"
   },
   {
    "id": "0786008585ea44259a79ab9491fe674a",
    "time": "2020-11-13T21:00:02.180Z",
    "type": "completion"
   },
   {
    "code": "# This creates a 90/10 train-validation split on our labeled data\n\nfrom sklearn.model_selection import train_test_split\n\ntrain, val = train_test_split(original_training_data, test_size=0.1, random_state=42)",
    "id": "13d4d69cf8f247a096ea469af7c7b48f",
    "idx": 20,
    "time": "2020-11-13T21:00:02.885Z",
    "type": "execution"
   },
   {
    "id": "13d4d69cf8f247a096ea469af7c7b48f",
    "time": "2020-11-13T21:00:03.019Z",
    "type": "completion"
   },
   {
    "code": "def words_in_texts(words, texts):\n    '''\n    Args:\n        words (list): words to find\n        texts (Series): strings to search in\n    \n    Returns:\n        NumPy array of 0s and 1s with shape (n, p) where n is the\n        number of texts and p is the number of words.\n    '''\n    indicator_array = [texts.str.contains(i) for i in words]\n    return indicator_array",
    "id": "26ef34ec78184adf85cd9b6285c5a5f6",
    "idx": 23,
    "time": "2020-11-13T21:05:51.223Z",
    "type": "execution"
   },
   {
    "id": "26ef34ec78184adf85cd9b6285c5a5f6",
    "time": "2020-11-13T21:05:51.370Z",
    "type": "completion"
   },
   {
    "code": "def words_in_texts(words, texts):\n    '''\n    Args:\n        words (list): words to find\n        texts (Series): strings to search in\n    \n    Returns:\n        NumPy array of 0s and 1s with shape (n, p) where n is the\n        number of texts and p is the number of words.\n    '''\n    indicator_array = [texts.str.contains(i) for i in words]\n    return indicator_array\nindicator_array",
    "id": "26ef34ec78184adf85cd9b6285c5a5f6",
    "idx": 23,
    "time": "2020-11-13T21:05:59.093Z",
    "type": "execution"
   },
   {
    "id": "26ef34ec78184adf85cd9b6285c5a5f6",
    "time": "2020-11-13T21:05:59.357Z",
    "type": "completion"
   },
   {
    "code": "def words_in_texts(words, texts):\n    '''\n    Args:\n        words (list): words to find\n        texts (Series): strings to search in\n    \n    Returns:\n        NumPy array of 0s and 1s with shape (n, p) where n is the\n        number of texts and p is the number of words.\n    '''\n    indicator_array = [texts.str.contains(i) for i in words]\n    return indicator_array",
    "id": "26ef34ec78184adf85cd9b6285c5a5f6",
    "idx": 23,
    "time": "2020-11-13T21:06:04.563Z",
    "type": "execution"
   },
   {
    "id": "26ef34ec78184adf85cd9b6285c5a5f6",
    "time": "2020-11-13T21:06:04.633Z",
    "type": "completion"
   },
   {
    "code": "grader.check(\"q2\")",
    "id": "b0cb7f6f050b4d278eb766018ee0c973",
    "idx": 24,
    "time": "2020-11-13T21:06:06.067Z",
    "type": "execution"
   },
   {
    "id": "b0cb7f6f050b4d278eb766018ee0c973",
    "time": "2020-11-13T21:06:06.293Z",
    "type": "completion"
   },
   {
    "code": "def words_in_texts(words, texts):\n    '''\n    Args:\n        words (list): words to find\n        texts (Series): strings to search in\n    \n    Returns:\n        NumPy array of 0s and 1s with shape (n, p) where n is the\n        number of texts and p is the number of words.\n    '''\n    indicator_array = [texts.str.contains(i) for i in words]\n    return np.array(indicator_array)",
    "id": "26ef34ec78184adf85cd9b6285c5a5f6",
    "idx": 23,
    "time": "2020-11-13T21:06:36.200Z",
    "type": "execution"
   },
   {
    "id": "26ef34ec78184adf85cd9b6285c5a5f6",
    "time": "2020-11-13T21:06:36.270Z",
    "type": "completion"
   },
   {
    "code": "grader.check(\"q2\")",
    "id": "b0cb7f6f050b4d278eb766018ee0c973",
    "idx": 24,
    "time": "2020-11-13T21:06:39.237Z",
    "type": "execution"
   },
   {
    "id": "b0cb7f6f050b4d278eb766018ee0c973",
    "time": "2020-11-13T21:06:39.334Z",
    "type": "completion"
   },
   {
    "code": "indicator_array = [texts.str.contains(i) for i in words]\nindicator_array",
    "id": "742a85deea7747ed8ff9faeb0362a5e0",
    "idx": 23,
    "time": "2020-11-13T21:06:55.254Z",
    "type": "execution"
   },
   {
    "id": "742a85deea7747ed8ff9faeb0362a5e0",
    "time": "2020-11-13T21:06:55.331Z",
    "type": "completion"
   },
   {
    "code": "def words_in_texts(words, texts):\n    '''\n    Args:\n        words (list): words to find\n        texts (Series): strings to search in\n    \n    Returns:\n        NumPy array of 0s and 1s with shape (n, p) where n is the\n        number of texts and p is the number of words.\n    '''\n    indicator_array = np.empty([texts.size, len(words)])\n    n = [texts[n] for n in range(texts.size)]\n    p =[words[p] for p in range(len(words))]\n    indicator_array[n][p]\n    \n    ",
    "id": "26ef34ec78184adf85cd9b6285c5a5f6",
    "idx": 23,
    "time": "2020-11-13T21:11:31.762Z",
    "type": "execution"
   },
   {
    "id": "26ef34ec78184adf85cd9b6285c5a5f6",
    "time": "2020-11-13T21:11:31.926Z",
    "type": "completion"
   },
   {
    "code": "def words_in_texts(words, texts):\n    '''\n    Args:\n        words (list): words to find\n        texts (Series): strings to search in\n    \n    Returns:\n        NumPy array of 0s and 1s with shape (n, p) where n is the\n        number of texts and p is the number of words.\n    '''\n    indicator_array = np.empty([texts.size, len(words)])\n    n = [texts[n] for n in range(texts.size)]\n    p =[words[p] for p in range(len(words))]\n    return indicator_array[n][p]\n    \n    \n    ",
    "id": "26ef34ec78184adf85cd9b6285c5a5f6",
    "idx": 23,
    "time": "2020-11-13T21:11:38.487Z",
    "type": "execution"
   },
   {
    "id": "26ef34ec78184adf85cd9b6285c5a5f6",
    "time": "2020-11-13T21:11:38.554Z",
    "type": "completion"
   },
   {
    "code": "grader.check(\"q2\")",
    "id": "b0cb7f6f050b4d278eb766018ee0c973",
    "idx": 24,
    "time": "2020-11-13T21:11:40.438Z",
    "type": "execution"
   },
   {
    "id": "b0cb7f6f050b4d278eb766018ee0c973",
    "time": "2020-11-13T21:11:40.523Z",
    "type": "completion"
   },
   {
    "code": "def words_in_texts(words, texts):\n    '''\n    Args:\n        words (list): words to find\n        texts (Series): strings to search in\n    \n    Returns:\n        NumPy array of 0s and 1s with shape (n, p) where n is the\n        number of texts and p is the number of words.\n    '''\n    indicator_array = [texts.str.contains(i) for i in words]\n    return np.array(indicator_array).dot(1)\n",
    "id": "26ef34ec78184adf85cd9b6285c5a5f6",
    "idx": 23,
    "time": "2020-11-13T21:13:40.289Z",
    "type": "execution"
   },
   {
    "id": "26ef34ec78184adf85cd9b6285c5a5f6",
    "time": "2020-11-13T21:13:40.369Z",
    "type": "completion"
   },
   {
    "code": "grader.check(\"q2\")",
    "id": "b0cb7f6f050b4d278eb766018ee0c973",
    "idx": 24,
    "time": "2020-11-13T21:13:43.063Z",
    "type": "execution"
   },
   {
    "id": "b0cb7f6f050b4d278eb766018ee0c973",
    "time": "2020-11-13T21:13:43.162Z",
    "type": "completion"
   },
   {
    "code": "def words_in_texts(words, texts):\n    '''\n    Args:\n        words (list): words to find\n        texts (Series): strings to search in\n    \n    Returns:\n        NumPy array of 0s and 1s with shape (n, p) where n is the\n        number of texts and p is the number of words.\n    '''\n    indicator_array = np.zeros([text.size, len(words)]\n        for n in range(text.size):\n            for p in range(len(words)):\n                indicator_array[n][p] = pd.Series(text.iloc[n]).str.contains(words[p]).sum()\n        return indicator_array\n",
    "id": "5ce2356f313642668cc0845b4453b110",
    "idx": 23,
    "time": "2020-11-13T22:01:29.687Z",
    "type": "execution"
   },
   {
    "id": "5ce2356f313642668cc0845b4453b110",
    "time": "2020-11-13T22:01:29.769Z",
    "type": "completion"
   },
   {
    "code": "def words_in_texts(words, texts):\n    '''\n    Args:\n        words (list): words to find\n        texts (Series): strings to search in\n    \n    Returns:\n        NumPy array of 0s and 1s with shape (n, p) where n is the\n        number of texts and p is the number of words.\n    '''\n    indicator_array = np.zeros([text.size, len(words)]\n        for n in range(texts.size):\n            for p in range(len(words)):\n                indicator_array[n][p] = pd.Series(text.iloc[n]).str.contains(words[p]).sum()\n        return indicator_array\n",
    "id": "5ce2356f313642668cc0845b4453b110",
    "idx": 23,
    "time": "2020-11-13T22:01:37.457Z",
    "type": "execution"
   },
   {
    "id": "5ce2356f313642668cc0845b4453b110",
    "time": "2020-11-13T22:01:37.525Z",
    "type": "completion"
   },
   {
    "code": "def words_in_texts(words, texts):\n    '''\n    Args:\n        words (list): words to find\n        texts (Series): strings to search in\n    \n    Returns:\n        NumPy array of 0s and 1s with shape (n, p) where n is the\n        number of texts and p is the number of words.\n    '''\n    indicator_array = np.zeros([text.size, len(words)])\n        for n in range(texts.size):\n            for p in range(len(words)):\n                indicator_array[n][p] = pd.Series(text.iloc[n]).str.contains(words[p]).sum()\n        return indicator_array\n",
    "id": "5ce2356f313642668cc0845b4453b110",
    "idx": 23,
    "time": "2020-11-13T22:01:55.301Z",
    "type": "execution"
   },
   {
    "id": "5ce2356f313642668cc0845b4453b110",
    "time": "2020-11-13T22:01:55.374Z",
    "type": "completion"
   },
   {
    "code": "def words_in_texts(words, texts):\n    '''\n    Args:\n        words (list): words to find\n        texts (Series): strings to search in\n    \n    Returns:\n        NumPy array of 0s and 1s with shape (n, p) where n is the\n        number of texts and p is the number of words.\n    '''\n    indicator_array = np.zeros([text.size, len(words)])\n    for n in range(texts.size):\n        for p in range(len(words)):\n            indicator_array[n][p] = pd.Series(text.iloc[n]).str.contains(words[p]).sum()\n    return indicator_array\n",
    "id": "5ce2356f313642668cc0845b4453b110",
    "idx": 23,
    "time": "2020-11-13T22:02:05.530Z",
    "type": "execution"
   },
   {
    "id": "5ce2356f313642668cc0845b4453b110",
    "time": "2020-11-13T22:02:05.608Z",
    "type": "completion"
   },
   {
    "code": "grader.check(\"q2\")",
    "id": "5a4cc4e685e3479c9f42df02eb7de370",
    "idx": 24,
    "time": "2020-11-13T22:02:07.044Z",
    "type": "execution"
   },
   {
    "id": "5a4cc4e685e3479c9f42df02eb7de370",
    "time": "2020-11-13T22:02:07.219Z",
    "type": "completion"
   },
   {
    "code": "def words_in_texts(words, texts):\n    '''\n    Args:\n        words (list): words to find\n        texts (Series): strings to search in\n    \n    Returns:\n        NumPy array of 0s and 1s with shape (n, p) where n is the\n        number of texts and p is the number of words.\n    '''\n    indicator_array = np.zeros([text.size, len(words)])\n    for n in range(texts.size):\n        for p in range(len(words)):\n            indicator_array[n][p] = pd.Series(texts.iloc[n]).str.contains(words[p]).sum()\n    return indicator_array\n",
    "id": "5ce2356f313642668cc0845b4453b110",
    "idx": 23,
    "time": "2020-11-13T22:02:11.426Z",
    "type": "execution"
   },
   {
    "id": "5ce2356f313642668cc0845b4453b110",
    "time": "2020-11-13T22:02:11.494Z",
    "type": "completion"
   },
   {
    "code": "grader.check(\"q2\")",
    "id": "5a4cc4e685e3479c9f42df02eb7de370",
    "idx": 24,
    "time": "2020-11-13T22:02:11.742Z",
    "type": "execution"
   },
   {
    "id": "5a4cc4e685e3479c9f42df02eb7de370",
    "time": "2020-11-13T22:02:11.832Z",
    "type": "completion"
   },
   {
    "code": "def words_in_texts(words, texts):\n    '''\n    Args:\n        words (list): words to find\n        texts (Series): strings to search in\n    \n    Returns:\n        NumPy array of 0s and 1s with shape (n, p) where n is the\n        number of texts and p is the number of words.\n    '''\n    indicator_array = np.zeros([texts.size, len(words)])\n    for n in range(texts.size):\n        for p in range(len(words)):\n            indicator_array[n][p] = pd.Series(texts.iloc[n]).str.contains(words[p]).sum()\n    return indicator_array\n",
    "id": "5ce2356f313642668cc0845b4453b110",
    "idx": 23,
    "time": "2020-11-13T22:02:16.451Z",
    "type": "execution"
   },
   {
    "id": "5ce2356f313642668cc0845b4453b110",
    "time": "2020-11-13T22:02:16.520Z",
    "type": "completion"
   },
   {
    "code": "grader.check(\"q2\")",
    "id": "5a4cc4e685e3479c9f42df02eb7de370",
    "idx": 24,
    "time": "2020-11-13T22:02:16.857Z",
    "type": "execution"
   },
   {
    "id": "5a4cc4e685e3479c9f42df02eb7de370",
    "time": "2020-11-13T22:02:16.973Z",
    "type": "completion"
   },
   {
    "code": "from IPython.display import display, Markdown\ndf = pd.DataFrame({\n    'word_1': [1, 0, 1, 0],\n    'word_2': [0, 1, 0, 1],\n    'type': ['spam', 'ham', 'ham', 'ham']\n})\ndisplay(Markdown(\"> Our Original DataFrame has a `type` column and some columns corresponding to words. You can think of each row as a sentence, and the value of 1 or 0 indicates the number of occurences of the word in this sentence.\"))\ndisplay(df);\ndisplay(Markdown(\"> `melt` will turn columns into entries in a variable column. Notice how `word_1` and `word_2` become entries in `variable`; their values are stored in the value column.\"))\ndisplay(df.melt(\"type\"))",
    "id": "d90de8ecfbc14f888088f3e361049b35",
    "idx": 27,
    "time": "2020-11-13T22:27:05.791Z",
    "type": "execution"
   },
   {
    "id": "d90de8ecfbc14f888088f3e361049b35",
    "time": "2020-11-13T22:27:05.892Z",
    "type": "completion"
   },
   {
    "code": "train=train.reset_index(drop=True) # We must do this in order to preserve the ordering of emails to labels for words_in_texts\nwords = ['small', 'you', 'free', 'spending']\nwords_var = pd.DataFrame(words_in_texts(words, train['email']), columns = words)\nwords_var['type'] = train['spam']\n\nprop_ham = []\nprop_spam = []\n\nfor i in words:\n    type_ham = len(words_var[words_var['type'] == 0] & (words_var [i] == 1) / len(words_var[words_var['type'] == 0])\n    prop_ham.append(type_ham)\n    type_spam = len(words_var[words_var['type'] == 1] & (words_var [i] == 1) / len(words_var[words_var['type'] == 1])\n    prop_spam.append(type_spam)\n\ndf = pd.Dataframe(data = {'prop_ham':prop_ham, 'prop_spam':prop_spam})\ndf['words'] = words\ndf = df.set_index('words')\ndf.set(xlabel = 'words', y_label = 'proportion')",
    "id": "b4bf658a4165429e81ca5905ef003cc8",
    "idx": 29,
    "time": "2020-11-13T22:48:04.715Z",
    "type": "execution"
   },
   {
    "id": "b4bf658a4165429e81ca5905ef003cc8",
    "time": "2020-11-13T22:48:04.822Z",
    "type": "completion"
   },
   {
    "code": "train=train.reset_index(drop=True) # We must do this in order to preserve the ordering of emails to labels for words_in_texts\nwords = ['small', 'you', 'free', 'spending']\nwords_var = pd.DataFrame(words_in_texts(words, train['email']), columns = words)\nwords_var['type'] = train['spam']\n\nprop_ham = []\nprop_spam = []\n\nfor i in words:\n    type_ham = len(words_var[words_var['type'] == 0]) & (words_var [i] == 1) / len(words_var[words_var['type'] == 0])\n    prop_ham.append(type_ham)\n    type_spam = len(words_var[words_var['type'] == 1]) & (words_var [i] == 1) / len(words_var[words_var['type'] == 1])\n    prop_spam.append(type_spam)\n\ndf = pd.Dataframe(data = {'prop_ham':prop_ham, 'prop_spam':prop_spam})\ndf['words'] = words\ndf = df.set_index('words')\ndf.set(xlabel = 'words', y_label = 'proportion')",
    "id": "b4bf658a4165429e81ca5905ef003cc8",
    "idx": 29,
    "time": "2020-11-13T22:48:28.089Z",
    "type": "execution"
   },
   {
    "id": "b4bf658a4165429e81ca5905ef003cc8",
    "time": "2020-11-13T22:48:43.141Z",
    "type": "completion"
   },
   {
    "code": "train=train.reset_index(drop=True) # We must do this in order to preserve the ordering of emails to labels for words_in_texts\nwords = ['small', 'you', 'free', 'spending']\nwords_var = pd.DataFrame(words_in_texts(words, train['email']), columns = words)\nwords_var['type'] = train['spam']\n\nprop_ham = []\nprop_spam = []\n\nfor i in words:\n    type_ham = len(words_var[(words_var['type'] == 0) & (words_var [i] == 1)]) / len(words_var[words_var['type'] == 0])\n    prop_ham.append(type_ham)\n    type_spam = len(words_var[(words_var['type'] == 1) & (words_var [i] == 1)]) / len(words_var[words_var['type'] == 1])\n    prop_spam.append(type_spam)\n\ndf = pd.Dataframe(data = {'prop_ham':prop_ham, 'prop_spam':prop_spam})\ndf['words'] = words\ndf = df.set_index('words')\ndf.set(xlabel = 'words', y_label = 'proportion')",
    "id": "b4bf658a4165429e81ca5905ef003cc8",
    "idx": 29,
    "time": "2020-11-13T22:50:04.346Z",
    "type": "execution"
   },
   {
    "id": "b4bf658a4165429e81ca5905ef003cc8",
    "time": "2020-11-13T22:50:19.403Z",
    "type": "completion"
   },
   {
    "code": "train=train.reset_index(drop=True) # We must do this in order to preserve the ordering of emails to labels for words_in_texts\nwords = ['small', 'you', 'free', 'spending']\nwords_var = pd.DataFrame(words_in_texts(words, train['email']), columns = words)\nwords_var['type'] = train['spam']\n\nprop_ham = []\nprop_spam = []\n\nfor i in words:\n    type_ham = len(words_var[(words_var['type'] == 0) & (words_var [i] == 1)]) / len(words_var[words_var['type'] == 0])\n    prop_ham.append(type_ham)\n    type_spam = len(words_var[(words_var['type'] == 1) & (words_var [i] == 1)]) / len(words_var[words_var['type'] == 1])\n    prop_spam.append(type_spam)\n\ndf = pd.DataFrame(data = {'prop_ham':prop_ham, 'prop_spam':prop_spam})\ndf['words'] = words\ndf = df.set_index('words')\ndf.set(xlabel = 'words', y_label = 'proportion')",
    "id": "b4bf658a4165429e81ca5905ef003cc8",
    "idx": 29,
    "time": "2020-11-13T22:50:29.614Z",
    "type": "execution"
   },
   {
    "id": "b4bf658a4165429e81ca5905ef003cc8",
    "time": "2020-11-13T22:50:44.542Z",
    "type": "completion"
   },
   {
    "code": "train=train.reset_index(drop=True) # We must do this in order to preserve the ordering of emails to labels for words_in_texts\nwords = ['small', 'you', 'free', 'spending']\nwords_var = pd.DataFrame(words_in_texts(words, train['email']), columns = words)\nwords_var['type'] = train['spam']\n\nprop_ham = []\nprop_spam = []\n\nfor i in words:\n    type_ham = len(words_var[(words_var['type'] == 0) & (words_var [i] == 1)]) / len(words_var[words_var['type'] == 0])\n    prop_ham.append(type_ham)\n    type_spam = len(words_var[(words_var['type'] == 1) & (words_var [i] == 1)]) / len(words_var[words_var['type'] == 1])\n    prop_spam.append(type_spam)\n\ndf = pd.DataFrame(data = {'prop_ham':prop_ham, 'prop_spam':prop_spam})\ndf['words'] = words\ndf = df.set_index('words')",
    "id": "b4bf658a4165429e81ca5905ef003cc8",
    "idx": 29,
    "time": "2020-11-13T22:51:07.759Z",
    "type": "execution"
   },
   {
    "id": "b4bf658a4165429e81ca5905ef003cc8",
    "time": "2020-11-13T22:51:22.374Z",
    "type": "completion"
   },
   {
    "code": "df",
    "id": "bd7538f09c2d4eaf8284675036ba1106",
    "idx": 30,
    "time": "2020-11-13T22:56:21.513Z",
    "type": "execution"
   },
   {
    "id": "bd7538f09c2d4eaf8284675036ba1106",
    "time": "2020-11-13T22:56:21.594Z",
    "type": "completion"
   },
   {
    "code": "train=train.reset_index(drop=True) # We must do this in order to preserve the ordering of emails to labels for words_in_texts\nwords = ['small', 'you', 'free', 'spending']\nwords_var = pd.DataFrame(words_in_texts(words, train['email']), columns = words)\nwords_var['type'] = train['spam']\n\nprop_ham = []\nprop_spam = []\n\nfor i in words:\n    type_ham = len(words_var[(words_var['type'] == 0) & (words_var [i] == 1)]) / len(words_var[words_var['type'] == 0])\n    prop_ham.append(type_ham)\n    type_spam = len(words_var[(words_var['type'] == 1) & (words_var [i] == 1)]) / len(words_var[words_var['type'] == 1])\n    prop_spam.append(type_spam)\n\ndf = pd.DataFrame(data = {'prop_ham':prop_ham, 'prop_spam':prop_spam})\ndf['words'] = words\ndf = df.set_index('words')\nbar_chart = sns.barplot(data = [prop_ham, prop_spam])\nbar_chart.set_axis_labels('Words', 'Proportion of Emails')",
    "id": "b4bf658a4165429e81ca5905ef003cc8",
    "idx": 29,
    "time": "2020-11-13T22:57:58.911Z",
    "type": "execution"
   },
   {
    "id": "b4bf658a4165429e81ca5905ef003cc8",
    "time": "2020-11-13T22:58:14.026Z",
    "type": "completion"
   },
   {
    "code": "train=train.reset_index(drop=True) # We must do this in order to preserve the ordering of emails to labels for words_in_texts\nwords = ['small', 'you', 'free', 'spending']\nwords_var = pd.DataFrame(words_in_texts(words, train['email']), columns = words)\nwords_var['type'] = train['spam']\n\nprop_ham = []\nprop_spam = []\n\nfor i in words:\n    type_ham = len(words_var[(words_var['type'] == 0) & (words_var [i] == 1)]) / len(words_var[words_var['type'] == 0])\n    prop_ham.append(type_ham)\n    type_spam = len(words_var[(words_var['type'] == 1) & (words_var [i] == 1)]) / len(words_var[words_var['type'] == 1])\n    prop_spam.append(type_spam)\n\ndf = pd.DataFrame(data = {'prop_ham':prop_ham, 'prop_spam':prop_spam})\ndf['words'] = words\ndf = df.set_index('words')\nbar_chart = sns.barplot(data = words, x = 'prop_ham', y ='prop_spam')\nbar_chart.set_axis_labels('Words', 'Proportion of Emails')",
    "id": "b4bf658a4165429e81ca5905ef003cc8",
    "idx": 29,
    "time": "2020-11-13T22:58:47.774Z",
    "type": "execution"
   },
   {
    "id": "b4bf658a4165429e81ca5905ef003cc8",
    "time": "2020-11-13T22:59:03.569Z",
    "type": "completion"
   },
   {
    "code": "train=train.reset_index(drop=True) # We must do this in order to preserve the ordering of emails to labels for words_in_texts\nwords = ['small', 'you', 'free', 'spending']\nwords_var = pd.DataFrame(words_in_texts(words, train['email']), columns = words)\nwords_var['type'] = train['spam']\n\nprop_ham = []\nprop_spam = []\n\nfor i in words:\n    type_ham = len(words_var[(words_var['type'] == 0) & (words_var [i] == 1)]) / len(words_var[words_var['type'] == 0])\n    prop_ham.append(type_ham)\n    type_spam = len(words_var[(words_var['type'] == 1) & (words_var [i] == 1)]) / len(words_var[words_var['type'] == 1])\n    prop_spam.append(type_spam)\n\ndf = pd.DataFrame(data = {'prop_ham':prop_ham, 'prop_spam':prop_spam})\ndf['words'] = words\ndf = df.set_index('words')\nplt.bar(df)\nplt.xlabel('Words')\nplt.ylabel('Proportion of Emails')",
    "id": "b4bf658a4165429e81ca5905ef003cc8",
    "idx": 29,
    "time": "2020-11-13T23:01:45.441Z",
    "type": "execution"
   },
   {
    "id": "b4bf658a4165429e81ca5905ef003cc8",
    "time": "2020-11-13T23:02:00.539Z",
    "type": "completion"
   },
   {
    "code": "train=train.reset_index(drop=True) # We must do this in order to preserve the ordering of emails to labels for words_in_texts\nwords = ['small', 'you', 'free', 'spending']\nwords_var = pd.DataFrame(words_in_texts(words, train['email']), columns = words)\nwords_var['type'] = train['spam']\n\nprop_ham = []\nprop_spam = []\n\nfor i in words:\n    type_ham = len(words_var[(words_var['type'] == 0) & (words_var [i] == 1)]) / len(words_var[words_var['type'] == 0])\n    prop_ham.append(type_ham)\n    type_spam = len(words_var[(words_var['type'] == 1) & (words_var [i] == 1)]) / len(words_var[words_var['type'] == 1])\n    prop_spam.append(type_spam)\n\ndf = pd.DataFrame(data = {'prop_ham':prop_ham, 'prop_spam':prop_spam})\ndf['words'] = words\ndf = df.set_index('words', [prop_spam, prop_ham])\nplt.bar(df)\nplt.xlabel('Words')\nplt.ylabel('Proportion of Emails')",
    "id": "b4bf658a4165429e81ca5905ef003cc8",
    "idx": 29,
    "time": "2020-11-13T23:02:33.982Z",
    "type": "execution"
   },
   {
    "id": "b4bf658a4165429e81ca5905ef003cc8",
    "time": "2020-11-13T23:02:49.093Z",
    "type": "completion"
   },
   {
    "code": "train=train.reset_index(drop=True) # We must do this in order to preserve the ordering of emails to labels for words_in_texts\nwords = ['small', 'you', 'free', 'spending']\nwords_var = pd.DataFrame(words_in_texts(words, train['email']), columns = words)\nwords_var['type'] = train['spam']\n\nprop_ham = []\nprop_spam = []\n\nfor i in words:\n    type_ham = len(words_var[(words_var['type'] == 0) & (words_var [i] == 1)]) / len(words_var[words_var['type'] == 0])\n    prop_ham.append(type_ham)\n    type_spam = len(words_var[(words_var['type'] == 1) & (words_var [i] == 1)]) / len(words_var[words_var['type'] == 1])\n    prop_spam.append(type_spam)\n\ndf = pd.DataFrame(data = {'prop_ham':prop_ham, 'prop_spam':prop_spam})\ndf['words'] = words\ndf = df.set_index('words')\nsns.barplot(x = 'Words', y = 'Proportion of Emails', data = [prop_spam, prop_ham])",
    "id": "b4bf658a4165429e81ca5905ef003cc8",
    "idx": 29,
    "time": "2020-11-13T23:10:02.440Z",
    "type": "execution"
   },
   {
    "id": "b4bf658a4165429e81ca5905ef003cc8",
    "time": "2020-11-13T23:10:17.365Z",
    "type": "completion"
   },
   {
    "code": "train=train.reset_index(drop=True) # We must do this in order to preserve the ordering of emails to labels for words_in_texts\nwords = ['small', 'you', 'free', 'spending']\nwords_var = pd.DataFrame(words_in_texts(words, train['email']), columns = words)\nwords_var['type'] = train['spam']\n\nprop_ham = []\nprop_spam = []\n\nfor i in words:\n    type_ham = len(words_var[(words_var['type'] == 0) & (words_var [i] == 1)]) / len(words_var[words_var['type'] == 0])\n    prop_ham.append(type_ham)\n    type_spam = len(words_var[(words_var['type'] == 1) & (words_var [i] == 1)]) / len(words_var[words_var['type'] == 1])\n    prop_spam.append(type_spam)\n\ndf = pd.DataFrame(data = {'prop_ham':prop_ham, 'prop_spam':prop_spam})\ndf['words'] = words\ndf = df.set_index('words')\nsns.barplot(data=df, x=\"Words\", y=\"Proportion of Emails\", hue=\"Type\")\n",
    "id": "b4bf658a4165429e81ca5905ef003cc8",
    "idx": 29,
    "time": "2020-11-14T00:00:32.783Z",
    "type": "execution"
   },
   {
    "id": "b4bf658a4165429e81ca5905ef003cc8",
    "time": "2020-11-14T00:00:48.248Z",
    "type": "completion"
   },
   {
    "code": "# Initialize Otter\nimport otter\ngrader = otter.Notebook()",
    "id": "074eefe3d21f4d9f814e378ee4fc4b55",
    "idx": 0,
    "time": "2020-11-14T00:01:38.991Z",
    "type": "execution"
   },
   {
    "id": "074eefe3d21f4d9f814e378ee4fc4b55",
    "time": "2020-11-14T00:01:39.633Z",
    "type": "completion"
   },
   {
    "code": "# Run this cell to suppress all FutureWarnings\nimport warnings\nwarnings.filterwarnings(\"ignore\", category=FutureWarning)",
    "id": "409188743d564e12857f97bd267d8034",
    "idx": 5,
    "time": "2020-11-14T00:01:40.101Z",
    "type": "execution"
   },
   {
    "id": "409188743d564e12857f97bd267d8034",
    "time": "2020-11-14T00:01:40.175Z",
    "type": "completion"
   },
   {
    "code": "import numpy as np\nimport pandas as pd\n\nimport matplotlib.pyplot as plt\n%matplotlib inline\n\nimport seaborn as sns\nsns.set(style = \"whitegrid\", \n        color_codes = True,\n        font_scale = 1.5)",
    "id": "d158c26fd8014164897c925355314330",
    "idx": 8,
    "time": "2020-11-14T00:01:40.699Z",
    "type": "execution"
   },
   {
    "code": "from utils import fetch_and_cache_gdrive\nfetch_and_cache_gdrive('1SCASpLZFKCp2zek-toR3xeKX3DZnBSyp', 'train.csv')\nfetch_and_cache_gdrive('1ZDFo9OTF96B5GP2Nzn8P8-AL7CTQXmC0', 'test.csv')\n\noriginal_training_data = pd.read_csv('data/train.csv')\ntest = pd.read_csv('data/test.csv')\n\n# Convert the emails to lower case as a first step to processing the text\noriginal_training_data['email'] = original_training_data['email'].str.lower()\ntest['email'] = test['email'].str.lower()\n\noriginal_training_data.head()",
    "id": "7a3850ec46324271af9a538d5df20091",
    "idx": 10,
    "time": "2020-11-14T00:01:41.090Z",
    "type": "execution"
   },
   {
    "code": "original_training_data.isnull().sum()\noriginal_training_data = original_training_data.fillna('')\noriginal_training_data.isnull().sum().sum()\n\n",
    "id": "c12a65fe36154e2e93acb2ad0d3c7479",
    "idx": 12,
    "time": "2020-11-14T00:01:41.495Z",
    "type": "execution"
   },
   {
    "id": "d158c26fd8014164897c925355314330",
    "time": "2020-11-14T00:01:41.599Z",
    "type": "completion"
   },
   {
    "code": "grader.check(\"q1a\")",
    "id": "c11713c471394dc3821a28fb99a6996b",
    "idx": 13,
    "time": "2020-11-14T00:01:41.691Z",
    "type": "execution"
   },
   {
    "id": "7a3850ec46324271af9a538d5df20091",
    "time": "2020-11-14T00:01:42.138Z",
    "type": "completion"
   },
   {
    "id": "c12a65fe36154e2e93acb2ad0d3c7479",
    "time": "2020-11-14T00:01:42.153Z",
    "type": "completion"
   },
   {
    "id": "c11713c471394dc3821a28fb99a6996b",
    "time": "2020-11-14T00:01:42.193Z",
    "type": "completion"
   },
   {
    "code": "first_ham = original_training_data.groupby(['spam']).first().iloc[0]['email']\nfirst_spam =  original_training_data.groupby(['spam']).first().iloc[1]['email']\nprint(first_ham)\nprint(first_spam)",
    "id": "eac427486a3e4fde887b7bd54194afc9",
    "idx": 15,
    "time": "2020-11-14T00:01:42.310Z",
    "type": "execution"
   },
   {
    "id": "eac427486a3e4fde887b7bd54194afc9",
    "time": "2020-11-14T00:01:42.387Z",
    "type": "completion"
   },
   {
    "code": "grader.check(\"q1b\")",
    "id": "12c34564280f4bb7a69a01b818be298b",
    "idx": 16,
    "time": "2020-11-14T00:01:42.522Z",
    "type": "execution"
   },
   {
    "id": "12c34564280f4bb7a69a01b818be298b",
    "time": "2020-11-14T00:01:42.625Z",
    "type": "completion"
   },
   {
    "code": "# This creates a 90/10 train-validation split on our labeled data\n\nfrom sklearn.model_selection import train_test_split\n\ntrain, val = train_test_split(original_training_data, test_size=0.1, random_state=42)",
    "id": "a5ec6771891f4d5aa9455e480c6661fd",
    "idx": 20,
    "time": "2020-11-14T00:01:43.365Z",
    "type": "execution"
   },
   {
    "id": "a5ec6771891f4d5aa9455e480c6661fd",
    "time": "2020-11-14T00:01:43.502Z",
    "type": "completion"
   },
   {
    "code": "def words_in_texts(words, texts):\n    '''\n    Args:\n        words (list): words to find\n        texts (Series): strings to search in\n    \n    Returns:\n        NumPy array of 0s and 1s with shape (n, p) where n is the\n        number of texts and p is the number of words.\n    '''\n    indicator_array = np.zeros([texts.size, len(words)])\n    for n in range(texts.size):\n        for p in range(len(words)):\n            indicator_array[n][p] = pd.Series(texts.iloc[n]).str.contains(words[p]).sum()\n    return indicator_array\n",
    "id": "5ce2356f313642668cc0845b4453b110",
    "idx": 23,
    "time": "2020-11-14T00:01:44.003Z",
    "type": "execution"
   },
   {
    "id": "5ce2356f313642668cc0845b4453b110",
    "time": "2020-11-14T00:01:44.069Z",
    "type": "completion"
   },
   {
    "code": "grader.check(\"q2\")",
    "id": "5a4cc4e685e3479c9f42df02eb7de370",
    "idx": 24,
    "time": "2020-11-14T00:01:44.224Z",
    "type": "execution"
   },
   {
    "id": "5a4cc4e685e3479c9f42df02eb7de370",
    "time": "2020-11-14T00:01:44.339Z",
    "type": "completion"
   },
   {
    "code": "from IPython.display import display, Markdown\ndf = pd.DataFrame({\n    'word_1': [1, 0, 1, 0],\n    'word_2': [0, 1, 0, 1],\n    'type': ['spam', 'ham', 'ham', 'ham']\n})\ndisplay(Markdown(\"> Our Original DataFrame has a `type` column and some columns corresponding to words. You can think of each row as a sentence, and the value of 1 or 0 indicates the number of occurences of the word in this sentence.\"))\ndisplay(df);\ndisplay(Markdown(\"> `melt` will turn columns into entries in a variable column. Notice how `word_1` and `word_2` become entries in `variable`; their values are stored in the value column.\"))\ndisplay(df.melt(\"type\"))",
    "id": "d90de8ecfbc14f888088f3e361049b35",
    "idx": 27,
    "time": "2020-11-14T00:01:45.908Z",
    "type": "execution"
   },
   {
    "id": "d90de8ecfbc14f888088f3e361049b35",
    "time": "2020-11-14T00:01:45.989Z",
    "type": "completion"
   },
   {
    "code": "train=train.reset_index(drop=True) # We must do this in order to preserve the ordering of emails to labels for words_in_texts\nwords = ['small', 'you', 'free', 'spending']\nwords_var = pd.DataFrame(words_in_texts(words, train['email']), columns = words)\nwords_var['type'] = train['spam']\n\nprop_ham = []\nprop_spam = []\n\nfor i in words:\n    type_ham = len(words_var[(words_var['type'] == 0) & (words_var [i] == 1)]) / len(words_var[words_var['type'] == 0])\n    prop_ham.append(type_ham)\n    type_spam = len(words_var[(words_var['type'] == 1) & (words_var [i] == 1)]) / len(words_var[words_var['type'] == 1])\n    prop_spam.append(type_spam)\n\ndf = pd.DataFrame(data = {'prop_ham':prop_ham, 'prop_spam':prop_spam})\ndf['words'] = words\n\nsns.barplot(data=df, x=\"Words\", y=\"Proportion of Emails\", hue=\"Type\")\n",
    "id": "b4bf658a4165429e81ca5905ef003cc8",
    "idx": 29,
    "time": "2020-11-14T00:01:46.643Z",
    "type": "execution"
   },
   {
    "id": "b4bf658a4165429e81ca5905ef003cc8",
    "time": "2020-11-14T00:02:01.588Z",
    "type": "completion"
   },
   {
    "code": "train=train.reset_index(drop=True) # We must do this in order to preserve the ordering of emails to labels for words_in_texts\nwords = ['small', 'you', 'free', 'spending']\nwords_var = pd.DataFrame(words_in_texts(words, train['email']), columns = words)\nwords_var['type'] = train['spam']\n\nprop_ham = []\nprop_spam = []\n\nfor i in words:\n    type_ham = len(words_var[(words_var['type'] == 0) & (words_var [i] == 1)]) / len(words_var[words_var['type'] == 0])\n    prop_ham.append(type_ham)\n    type_spam = len(words_var[(words_var['type'] == 1) & (words_var [i] == 1)]) / len(words_var[words_var['type'] == 1])\n    prop_spam.append(type_spam)\n\ndf = pd.DataFrame(data = {'prop_ham':prop_ham, 'prop_spam':prop_spam})\ndf['words'] = words\n\nsns.barplot(data=df, x=\"words\", y=\"Proportion of Emails\", hue=\"Type\")\n",
    "id": "b4bf658a4165429e81ca5905ef003cc8",
    "idx": 29,
    "time": "2020-11-14T00:02:18.823Z",
    "type": "execution"
   },
   {
    "id": "b4bf658a4165429e81ca5905ef003cc8",
    "time": "2020-11-14T00:02:35.436Z",
    "type": "completion"
   },
   {
    "code": "train=train.reset_index(drop=True) # We must do this in order to preserve the ordering of emails to labels for words_in_texts\nwords = ['small', 'you', 'free', 'spending']\nwords_var = pd.DataFrame(words_in_texts(words, train['email']), columns = words)\nwords_var['type'] = train['spam']\n\nprop_ham = []\nprop_spam = []\n\nfor i in words:\n    type_ham = len(words_var[(words_var['type'] == 0) & (words_var [i] == 1)]) / len(words_var[words_var['type'] == 0])\n    prop_ham.append(type_ham)\n    type_spam = len(words_var[(words_var['type'] == 1) & (words_var [i] == 1)]) / len(words_var[words_var['type'] == 1])\n    prop_spam.append(type_spam)\n\ndf = pd.DataFrame(data = {'prop_ham':prop_ham, 'prop_spam':prop_spam})\ndf['words'] = words\n\nsns.barplot(data=df, x= 'words', y= 'prop_ham', hue=\"Type\")\n",
    "id": "b4bf658a4165429e81ca5905ef003cc8",
    "idx": 29,
    "time": "2020-11-14T00:03:13.716Z",
    "type": "execution"
   },
   {
    "id": "b4bf658a4165429e81ca5905ef003cc8",
    "time": "2020-11-14T00:03:30.099Z",
    "type": "completion"
   },
   {
    "code": "train=train.reset_index(drop=True) # We must do this in order to preserve the ordering of emails to labels for words_in_texts\nwords = ['small', 'you', 'free', 'spending']\nwords_var = pd.DataFrame(words_in_texts(words, train['email']), columns = words)\nwords_var['type'] = train['spam']\n\nprop_ham = []\nprop_spam = []\n\nfor i in words:\n    type_ham = len(words_var[(words_var['type'] == 0) & (words_var [i] == 1)]) / len(words_var[words_var['type'] == 0])\n    prop_ham.append(type_ham)\n    type_spam = len(words_var[(words_var['type'] == 1) & (words_var [i] == 1)]) / len(words_var[words_var['type'] == 1])\n    prop_spam.append(type_spam)\n\ndf = pd.DataFrame(data = {'prop_ham':prop_ham, 'prop_spam':prop_spam})\ndf['words'] = words\n\nsns.barplot(data=df, x= 'words', y= 'prop_ham', hue= 'type')\n",
    "id": "b4bf658a4165429e81ca5905ef003cc8",
    "idx": 29,
    "time": "2020-11-14T00:03:44.945Z",
    "type": "execution"
   },
   {
    "id": "b4bf658a4165429e81ca5905ef003cc8",
    "time": "2020-11-14T00:04:00.457Z",
    "type": "completion"
   },
   {
    "code": "train=train.reset_index(drop=True) # We must do this in order to preserve the ordering of emails to labels for words_in_texts\nwords = ['small', 'you', 'free', 'spending']\nwords_var = pd.DataFrame(words_in_texts(words, train['email']), columns = words)\nwords_var['type'] = train['spam']\n\nprop_ham = []\nprop_spam = []\n\nfor i in words:\n    type_ham = len(words_var[(words_var['type'] == 0) & (words_var [i] == 1)]) / len(words_var[words_var['type'] == 0])\n    prop_ham.append(type_ham)\n    type_spam = len(words_var[(words_var['type'] == 1) & (words_var [i] == 1)]) / len(words_var[words_var['type'] == 1])\n    prop_spam.append(type_spam)\n\ndf = pd.DataFrame(data = {'prop_ham':prop_ham, 'prop_spam':prop_spam})\ndf['words'] = words\ndf['type'] = words_var['type']\n\nsns.barplot(data=df, x= 'words', y= 'prop_ham', hue= 'type')\n",
    "id": "b4bf658a4165429e81ca5905ef003cc8",
    "idx": 29,
    "time": "2020-11-14T00:04:30.114Z",
    "type": "execution"
   },
   {
    "id": "b4bf658a4165429e81ca5905ef003cc8",
    "time": "2020-11-14T00:04:45.577Z",
    "type": "completion"
   },
   {
    "code": "train=train.reset_index(drop=True) # We must do this in order to preserve the ordering of emails to labels for words_in_texts\nwords = ['small', 'you', 'free', 'spending']\nwords_var = pd.DataFrame(words_in_texts(words, train['email']), columns = words)\nwords_var['type'] = train['spam']\n\nprop_ham = []\nprop_spam = []\n\nfor i in words:\n    type_ham = len(words_var[(words_var['type'] == 0) & (words_var [i] == 1)]) / len(words_var[words_var['type'] == 0])\n    prop_ham.append(type_ham)\n    type_spam = len(words_var[(words_var['type'] == 1) & (words_var [i] == 1)]) / len(words_var[words_var['type'] == 1])\n    prop_spam.append(type_spam)\n\ndf = pd.DataFrame(data = {'prop_ham':prop_ham, 'prop_spam':prop_spam})\ndf['words'] = words\ndf['type'] = words_var['type']\n\nsns.barplot(data=df, x= 'words', y= ['prop_ham', 'prop_spam'], hue= 'type')\n",
    "id": "b4bf658a4165429e81ca5905ef003cc8",
    "idx": 29,
    "time": "2020-11-14T00:04:51.476Z",
    "type": "execution"
   },
   {
    "id": "b4bf658a4165429e81ca5905ef003cc8",
    "time": "2020-11-14T00:05:07.260Z",
    "type": "completion"
   },
   {
    "code": "train=train.reset_index(drop=True) # We must do this in order to preserve the ordering of emails to labels for words_in_texts\nwords = ['small', 'you', 'free', 'spending']\nwords_var = pd.DataFrame(words_in_texts(words, train['email']), columns = words)\nwords_var['type'] = train['spam']\n\nprop_ham = []\nprop_spam = []\n\nfor i in words:\n    type_ham = len(words_var[(words_var['type'] == 0) & (words_var [i] == 1)]) / len(words_var[words_var['type'] == 0])\n    prop_ham.append(type_ham)\n    type_spam = len(words_var[(words_var['type'] == 1) & (words_var [i] == 1)]) / len(words_var[words_var['type'] == 1])\n    prop_spam.append(type_spam)\n\ndf = pd.DataFrame(data = {'proportion':prop_ham + prop_spam})\ndf['words'] = words\ndf['type'] = words_var['type']\n\nsns.barplot(data=df, x= 'words', , hue= 'type')\n",
    "id": "b4bf658a4165429e81ca5905ef003cc8",
    "idx": 29,
    "time": "2020-11-14T00:06:18.291Z",
    "type": "execution"
   },
   {
    "id": "b4bf658a4165429e81ca5905ef003cc8",
    "time": "2020-11-14T00:06:18.367Z",
    "type": "completion"
   },
   {
    "code": "train=train.reset_index(drop=True) # We must do this in order to preserve the ordering of emails to labels for words_in_texts\nwords = ['small', 'you', 'free', 'spending']\nwords_var = pd.DataFrame(words_in_texts(words, train['email']), columns = words)\nwords_var['type'] = train['spam']\n\nprop_ham = []\nprop_spam = []\n\nfor i in words:\n    type_ham = len(words_var[(words_var['type'] == 0) & (words_var [i] == 1)]) / len(words_var[words_var['type'] == 0])\n    prop_ham.append(type_ham)\n    type_spam = len(words_var[(words_var['type'] == 1) & (words_var [i] == 1)]) / len(words_var[words_var['type'] == 1])\n    prop_spam.append(type_spam)\n\ndf = pd.DataFrame(data = {'proportion':prop_ham + prop_spam})\ndf['words'] = words\ndf['type'] = words_var['type']\n\nsns.barplot(data=df, x= 'words' , hue= 'type')\n",
    "id": "b4bf658a4165429e81ca5905ef003cc8",
    "idx": 29,
    "time": "2020-11-14T00:06:21.516Z",
    "type": "execution"
   },
   {
    "id": "b4bf658a4165429e81ca5905ef003cc8",
    "time": "2020-11-14T00:06:36.139Z",
    "type": "completion"
   },
   {
    "code": "train=train.reset_index(drop=True) # We must do this in order to preserve the ordering of emails to labels for words_in_texts\nwords = ['small', 'you', 'free', 'spending']\nwords_var = pd.DataFrame(words_in_texts(words, train['email']), columns = words)\nwords_var['type'] = train['spam']\n\nprop_ham = []\nprop_spam = []\n\nfor i in words:\n    type_ham = len(words_var[(words_var['type'] == 0) & (words_var [i] == 1)]) / len(words_var[words_var['type'] == 0])\n    prop_ham.append(type_ham)\n    type_spam = len(words_var[(words_var['type'] == 1) & (words_var [i] == 1)]) / len(words_var[words_var['type'] == 1])\n    prop_spam.append(type_spam)\n\ndf = pd.DataFrame(data = {'prop_ham':prop_ham, 'prop_spam':prop_spam})\ndf['words'] = words\ndf['type'] = words_var['type']\n\nsns.barplot(data=df, x= 'words', y = 'prop_ham', hue= 'type')\n",
    "id": "b4bf658a4165429e81ca5905ef003cc8",
    "idx": 29,
    "time": "2020-11-14T00:07:47.462Z",
    "type": "execution"
   },
   {
    "id": "b4bf658a4165429e81ca5905ef003cc8",
    "time": "2020-11-14T00:08:02.906Z",
    "type": "completion"
   },
   {
    "code": "train=train.reset_index(drop=True) # We must do this in order to preserve the ordering of emails to labels for words_in_texts\nwords = ['small', 'you', 'free', 'spending']\nwords_var = pd.DataFrame(words_in_texts(words, train['email']), columns = words)\nwords_var['type'] = train['spam']\n\nprop_ham = []\nprop_spam = []\n\nfor i in words:\n    type_ham = len(words_var[(words_var['type'] == 0) & (words_var [i] == 1)]) / len(words_var[words_var['type'] == 0])\n    prop_ham.append(type_ham)\n    type_spam = len(words_var[(words_var['type'] == 1) & (words_var [i] == 1)]) / len(words_var[words_var['type'] == 1])\n    prop_spam.append(type_spam)\n\ndf = pd.DataFrame(data = {'prop_ham':prop_ham, 'prop_spam':prop_spam})\ndf['words'] = words\ndf['type'] = words_var['type']\n\nsns.barplot(data=df, x= 'words', y = 'proportion':['prop_ham', 'prop_spam'], hue= 'type')\n",
    "id": "b4bf658a4165429e81ca5905ef003cc8",
    "idx": 29,
    "time": "2020-11-14T00:09:49.709Z",
    "type": "execution"
   },
   {
    "id": "b4bf658a4165429e81ca5905ef003cc8",
    "time": "2020-11-14T00:09:49.840Z",
    "type": "completion"
   },
   {
    "code": "train=train.reset_index(drop=True) # We must do this in order to preserve the ordering of emails to labels for words_in_texts\nwords = ['small', 'you', 'free', 'spending']\nwords_var = pd.DataFrame(words_in_texts(words, train['email']), columns = words)\nwords_var['type'] = train['spam']\n\nprop_ham = []\nprop_spam = []\n\nfor i in words:\n    type_ham = len(words_var[(words_var['type'] == 0) & (words_var [i] == 1)]) / len(words_var[words_var['type'] == 0])\n    prop_ham.append(type_ham)\n    type_spam = len(words_var[(words_var['type'] == 1) & (words_var [i] == 1)]) / len(words_var[words_var['type'] == 1])\n    prop_spam.append(type_spam)\n\ndf = pd.DataFrame(data = {'proportion': [prop_ham, prop_spam]})\ndf['words'] = words\ndf['type'] = words_var['type']\n\nsns.barplot(data=df, x= 'words', y = 'proportion', hue= 'type')\n",
    "id": "b4bf658a4165429e81ca5905ef003cc8",
    "idx": 29,
    "time": "2020-11-14T00:10:25.769Z",
    "type": "execution"
   },
   {
    "id": "b4bf658a4165429e81ca5905ef003cc8",
    "time": "2020-11-14T00:10:41.273Z",
    "type": "completion"
   },
   {
    "code": "df = pd.DataFrame(data = {'prop_ham':prop_ham, 'prop_spam':prop_spam})\ndf['words'] = words\ndf['type'] = words_var['type']",
    "id": "1c5934c31b1d4a09824c4e4bca3bb85d",
    "idx": 30,
    "time": "2020-11-14T00:11:36.558Z",
    "type": "execution"
   },
   {
    "id": "1c5934c31b1d4a09824c4e4bca3bb85d",
    "time": "2020-11-14T00:11:36.639Z",
    "type": "completion"
   },
   {
    "code": "df = pd.DataFrame(data = {'prop_ham':prop_ham, 'prop_spam':prop_spam})\ndf['words'] = words\ndf['type'] = words_var['type']\ndf",
    "id": "1c5934c31b1d4a09824c4e4bca3bb85d",
    "idx": 30,
    "time": "2020-11-14T00:11:39.351Z",
    "type": "execution"
   },
   {
    "id": "1c5934c31b1d4a09824c4e4bca3bb85d",
    "time": "2020-11-14T00:11:39.430Z",
    "type": "completion"
   },
   {
    "code": "df = pd.DataFrame(data = {'prop_ham':prop_ham, 'prop_spam':prop_spam})\ndf['words'] = words\n\ndf",
    "id": "1c5934c31b1d4a09824c4e4bca3bb85d",
    "idx": 30,
    "time": "2020-11-14T00:12:13.148Z",
    "type": "execution"
   },
   {
    "id": "1c5934c31b1d4a09824c4e4bca3bb85d",
    "time": "2020-11-14T00:12:13.237Z",
    "type": "completion"
   },
   {
    "code": "train=train.reset_index(drop=True) # We must do this in order to preserve the ordering of emails to labels for words_in_texts\nwords = ['small', 'you', 'free', 'spending']\nwords_var = pd.DataFrame(words_in_texts(words, train['email']), columns = words)\nwords_var['type'] = train['spam']\n\nprop_ham = []\nprop_spam = []\n\nfor i in words:\n    type_ham = len(words_var[(words_var['type'] == 0) & (words_var [i] == 1)]) / len(words_var[words_var['type'] == 0])\n    prop_ham.append(type_ham)\n    type_spam = len(words_var[(words_var['type'] == 1) & (words_var [i] == 1)]) / len(words_var[words_var['type'] == 1])\n    prop_spam.append(type_spam)\n\ndf = pd.DataFrame(data = {'prop_ham':prop_ham, 'prop_spam':prop_spam})\ndf['words'] = words\n\nsns.barplot(data=df, x= 'words', y = ['prop_ham', 'prop_spam'])\n",
    "id": "b4bf658a4165429e81ca5905ef003cc8",
    "idx": 29,
    "time": "2020-11-14T00:12:52.315Z",
    "type": "execution"
   },
   {
    "id": "b4bf658a4165429e81ca5905ef003cc8",
    "time": "2020-11-14T00:13:08.115Z",
    "type": "completion"
   },
   {
    "code": "train=train.reset_index(drop=True) # We must do this in order to preserve the ordering of emails to labels for words_in_texts\nwords = ['small', 'you', 'free', 'spending']\nwords_var = pd.DataFrame(words_in_texts(words, train['email']), columns = words)\nwords_var['type'] = train['spam']\n\nprop_ham = []\nprop_spam = []\n\nfor i in words:\n    type_ham = len(words_var[(words_var['type'] == 0) & (words_var [i] == 1)]) / len(words_var[words_var['type'] == 0])\n    prop_ham.append(type_ham)\n    type_spam = len(words_var[(words_var['type'] == 1) & (words_var [i] == 1)]) / len(words_var[words_var['type'] == 1])\n    prop_spam.append(type_spam)\n\ndf = pd.DataFrame(data = {'prop_ham':prop_ham, 'prop_spam':prop_spam})\ndf['type'] = pd.Series(['Ham','Ham','Ham','Ham','Spam','Spam','Spam','Spam'])\ndf['words'] = words\n\nsns.barplot(data=df, x= 'words', y = ['prop_ham', 'prop_spam'], hue = 'type')\n",
    "id": "b4bf658a4165429e81ca5905ef003cc8",
    "idx": 29,
    "time": "2020-11-14T00:15:50.376Z",
    "type": "execution"
   },
   {
    "id": "b4bf658a4165429e81ca5905ef003cc8",
    "time": "2020-11-14T00:16:05.702Z",
    "type": "completion"
   },
   {
    "code": "df = pd.DataFrame(data = {'prop_ham':prop_ham, 'prop_spam':prop_spam})\ndf['words'] = words\ndf['type'] = pd.Series(['Ham','Ham','Ham','Ham','Spam','Spam','Spam','Spam'])\ndf",
    "id": "1c5934c31b1d4a09824c4e4bca3bb85d",
    "idx": 30,
    "time": "2020-11-14T00:16:14.132Z",
    "type": "execution"
   },
   {
    "id": "1c5934c31b1d4a09824c4e4bca3bb85d",
    "time": "2020-11-14T00:16:14.213Z",
    "type": "completion"
   },
   {
    "code": "train=train.reset_index(drop=True) # We must do this in order to preserve the ordering of emails to labels for words_in_texts\nwords = ['small', 'you', 'free', 'spending']\nwords_var = pd.DataFrame(words_in_texts(words, train['email']), columns = words)\nwords_var['type'] = train['spam']\n\nprop_ham = []\nprop_spam = []\n\nfor i in words:\n    type_ham = len(words_var[(words_var['type'] == 0) & (words_var [i] == 1)]) / len(words_var[words_var['type'] == 0])\n    prop_ham.append(type_ham)\n    type_spam = len(words_var[(words_var['type'] == 1) & (words_var [i] == 1)]) / len(words_var[words_var['type'] == 1])\n    prop_spam.append(type_spam)\n\ndf = pd.DataFrame(data = {'prop_ham':prop_ham, 'prop_spam':prop_spam})\ndf['type'] = pd.Series(['Ham','Ham','Ham','Ham','Spam','Spam','Spam','Spam'])\ndf['words'] = words\n\nsns.barplot(data=df, x= 'words', y = prop_ham hue = 'type')\n",
    "id": "b4bf658a4165429e81ca5905ef003cc8",
    "idx": 29,
    "time": "2020-11-14T00:16:25.592Z",
    "type": "execution"
   },
   {
    "id": "b4bf658a4165429e81ca5905ef003cc8",
    "time": "2020-11-14T00:16:25.731Z",
    "type": "completion"
   },
   {
    "code": "train=train.reset_index(drop=True) # We must do this in order to preserve the ordering of emails to labels for words_in_texts\nwords = ['small', 'you', 'free', 'spending']\nwords_var = pd.DataFrame(words_in_texts(words, train['email']), columns = words)\nwords_var['type'] = train['spam']\n\nprop_ham = []\nprop_spam = []\n\nfor i in words:\n    type_ham = len(words_var[(words_var['type'] == 0) & (words_var [i] == 1)]) / len(words_var[words_var['type'] == 0])\n    prop_ham.append(type_ham)\n    type_spam = len(words_var[(words_var['type'] == 1) & (words_var [i] == 1)]) / len(words_var[words_var['type'] == 1])\n    prop_spam.append(type_spam)\n\ndf = pd.DataFrame(data = {'prop_ham':prop_ham, 'prop_spam':prop_spam})\ndf['type'] = pd.Series(['Ham','Ham','Ham','Ham','Spam','Spam','Spam','Spam'])\ndf['words'] = words\n\nsns.barplot(data=df, x= 'words', y = prop_ham, hue = 'type')\n",
    "id": "b4bf658a4165429e81ca5905ef003cc8",
    "idx": 29,
    "time": "2020-11-14T00:16:28.614Z",
    "type": "execution"
   },
   {
    "id": "b4bf658a4165429e81ca5905ef003cc8",
    "time": "2020-11-14T00:16:43.649Z",
    "type": "completion"
   },
   {
    "code": "train=train.reset_index(drop=True) # We must do this in order to preserve the ordering of emails to labels for words_in_texts\nwords = ['small', 'you', 'free', 'spending']\nwords_var = pd.DataFrame(words_in_texts(words, train['email']), columns = words)\nwords_var['type'] = train['spam']\n\nprop_ham = []\nprop_spam = []\n\nfor i in words:\n    type_ham = len(words_var[(words_var['type'] == 0) & (words_var [i] == 1)]) / len(words_var[words_var['type'] == 0])\n    prop_ham.append(type_ham)\n    type_spam = len(words_var[(words_var['type'] == 1) & (words_var [i] == 1)]) / len(words_var[words_var['type'] == 1])\n    prop_spam.append(type_spam)\n\ndf = pd.DataFrame(data = {'prop_ham':prop_ham, 'prop_spam':prop_spam})\ndf['type'] = pd.Series(['Ham','Ham','Ham','Ham','Spam','Spam','Spam','Spam'])\ndf['words'] = words\n\nsns.barplot(data=df, x= 'words', y = 'proportion of emails', hue = 'type')\n",
    "id": "b4bf658a4165429e81ca5905ef003cc8",
    "idx": 29,
    "time": "2020-11-14T00:16:50.287Z",
    "type": "execution"
   },
   {
    "id": "b4bf658a4165429e81ca5905ef003cc8",
    "time": "2020-11-14T00:17:05.005Z",
    "type": "completion"
   },
   {
    "code": "train=train.reset_index(drop=True) # We must do this in order to preserve the ordering of emails to labels for words_in_texts\nwords = ['small', 'you', 'free', 'spending']\nwords_var = pd.DataFrame(words_in_texts(words, train['email']), columns = words)\nwords_var['type'] = train['spam']\n\nprop_ham = []\nprop_spam = []\n\nfor i in words:\n    type_ham = len(words_var[(words_var['type'] == 0) & (words_var [i] == 1)]) / len(words_var[words_var['type'] == 0])\n    prop_ham.append(type_ham)\n    type_spam = len(words_var[(words_var['type'] == 1) & (words_var [i] == 1)]) / len(words_var[words_var['type'] == 1])\n    prop_spam.append(type_spam)\n\ndf = pd.DataFrame(data = {'prop_ham':prop_ham, 'prop_spam':prop_spam})\ndf['words'] = words\n\ndf = df.plot.bar()\ndf.set(ylabel='proportion of emails', xlabel = 'words')\n\n\n",
    "id": "b4bf658a4165429e81ca5905ef003cc8",
    "idx": 29,
    "time": "2020-11-14T00:18:23.423Z",
    "type": "execution"
   },
   {
    "id": "b4bf658a4165429e81ca5905ef003cc8",
    "time": "2020-11-14T00:18:38.275Z",
    "type": "completion"
   },
   {
    "code": "train=train.reset_index(drop=True) # We must do this in order to preserve the ordering of emails to labels for words_in_texts\nwords = ['small', 'you', 'free', 'spending']\nwords_var = pd.DataFrame(words_in_texts(words, train['email']), columns = words)\nwords_var['type'] = train['spam']\n\nprop_ham = []\nprop_spam = []\n\nfor i in words:\n    type_ham = len(words_var[(words_var['type'] == 0) & (words_var [i] == 1)]) / len(words_var[words_var['type'] == 0])\n    prop_ham.append(type_ham)\n    type_spam = len(words_var[(words_var['type'] == 1) & (words_var [i] == 1)]) / len(words_var[words_var['type'] == 1])\n    prop_spam.append(type_spam)\n\ndf = pd.DataFrame(data = {'prop_ham':prop_ham, 'prop_spam':prop_spam})\ndf['words'] = words\ndf = df.set_index('words')\ndf = df.plot.bar()\ndf.set(ylabel='proportion of emails', xlabel = 'words')\n\n\n",
    "id": "b4bf658a4165429e81ca5905ef003cc8",
    "idx": 29,
    "time": "2020-11-14T00:19:23.580Z",
    "type": "execution"
   },
   {
    "id": "b4bf658a4165429e81ca5905ef003cc8",
    "time": "2020-11-14T00:19:40.351Z",
    "type": "completion"
   },
   {
    "code": "train=train.reset_index(drop=True) # We must do this in order to preserve the ordering of emails to labels for words_in_texts\nwords = ['new', 'you', 'free', 'content', 'time', 'must']\nwords_var = pd.DataFrame(words_in_texts(words, train['email']), columns = words)\nwords_var['type'] = train['spam']\n\nprop_ham = []\nprop_spam = []\n\nfor i in words:\n    type_ham = len(words_var[(words_var['type'] == 0) & (words_var [i] == 1)]) / len(words_var[words_var['type'] == 0])\n    prop_ham.append(type_ham)\n    type_spam = len(words_var[(words_var['type'] == 1) & (words_var [i] == 1)]) / len(words_var[words_var['type'] == 1])\n    prop_spam.append(type_spam)\n\ndf = pd.DataFrame(data = {'prop_ham':prop_ham, 'prop_spam':prop_spam})\ndf['words'] = words\ndf = df.set_index('words')\ndf = df.plot.bar()\ndf.set(ylabel='proportion of emails', xlabel = 'words')\n\n\n",
    "id": "b4bf658a4165429e81ca5905ef003cc8",
    "idx": 29,
    "time": "2020-11-14T00:20:25.747Z",
    "type": "execution"
   },
   {
    "id": "b4bf658a4165429e81ca5905ef003cc8",
    "time": "2020-11-14T00:20:49.282Z",
    "type": "completion"
   },
   {
    "code": "train=train.reset_index(drop=True) # We must do this in order to preserve the ordering of emails to labels for words_in_texts\nwords = ['new', 'you', 'free', 'content', 'time', 'need']\nwords_var = pd.DataFrame(words_in_texts(words, train['email']), columns = words)\nwords_var['type'] = train['spam']\n\nprop_ham = []\nprop_spam = []\n\nfor i in words:\n    type_ham = len(words_var[(words_var['type'] == 0) & (words_var [i] == 1)]) / len(words_var[words_var['type'] == 0])\n    prop_ham.append(type_ham)\n    type_spam = len(words_var[(words_var['type'] == 1) & (words_var [i] == 1)]) / len(words_var[words_var['type'] == 1])\n    prop_spam.append(type_spam)\n\ndf = pd.DataFrame(data = {'prop_ham':prop_ham, 'prop_spam':prop_spam})\ndf['words'] = words\ndf = df.set_index('words')\ndf = df.plot.bar()\ndf.set(ylabel='proportion of emails', xlabel = 'words')\n\n\n",
    "id": "b4bf658a4165429e81ca5905ef003cc8",
    "idx": 29,
    "time": "2020-11-14T00:21:22.661Z",
    "type": "execution"
   },
   {
    "id": "b4bf658a4165429e81ca5905ef003cc8",
    "time": "2020-11-14T00:21:46.233Z",
    "type": "completion"
   },
   {
    "code": "train=train.reset_index(drop=True) # We must do this in order to preserve the ordering of emails to labels for words_in_texts\nwords = ['new', 'you', 'free', 'content', 'time', 'need']\nwords_var = pd.DataFrame(words_in_texts(words, train['email']), columns = words)\nwords_var['type'] = train['spam']\n\nprop_ham = []\nprop_spam = []\n\nfor i in words:\n    type_ham = len(words_var[(words_var['type'] == 0) & (words_var [i] == 1)]) / len(words_var[words_var['type'] == 0])\n    prop_ham.append(type_ham)\n    type_spam = len(words_var[(words_var['type'] == 1) & (words_var [i] == 1)]) / len(words_var[words_var['type'] == 1])\n    prop_spam.append(type_spam)\n\ndf = pd.DataFrame(data = {'prop_ham':prop_ham, 'prop_spam':prop_spam})\ndf['words'] = words\ndf = df.set_index('words')\ndf = df.plot.bar()\ndf.set(xlabel = 'words', ylabel='proportion of emails',)\n\n\n",
    "id": "b4bf658a4165429e81ca5905ef003cc8",
    "idx": 29,
    "time": "2020-11-14T00:21:58.052Z",
    "type": "execution"
   },
   {
    "id": "b4bf658a4165429e81ca5905ef003cc8",
    "time": "2020-11-14T00:22:20.995Z",
    "type": "completion"
   },
   {
    "code": "train=train.reset_index(drop=True) # We must do this in order to preserve the ordering of emails to labels for words_in_texts\nwords = ['new', 'you', 'free', 'content', 'time', 'need']\nwords_var = pd.DataFrame(data = words_in_texts(words, train['email']), columns = {'words': words, 'type': train['spam'])\n\nprop_ham = []\nprop_spam = []\n\nfor i in words:\n    type_ham = len(words_var[(words_var['type'] == 0) & (words_var [i] == 1)]) / len(words_var[words_var['type'] == 0])\n    prop_ham.append(type_ham)\n    type_spam = len(words_var[(words_var['type'] == 1) & (words_var [i] == 1)]) / len(words_var[words_var['type'] == 1])\n    prop_spam.append(type_spam)\n\ndf = pd.DataFrame(data = {'prop_ham':prop_ham, 'prop_spam':prop_spam})\ndf['words'] = words\ndf = df.set_index('words')\ndf = df.plot.bar()\ndf.set(xlabel = 'words', ylabel='proportion of emails',)\n",
    "id": "b4bf658a4165429e81ca5905ef003cc8",
    "idx": 29,
    "time": "2020-11-14T00:23:37.075Z",
    "type": "execution"
   },
   {
    "id": "b4bf658a4165429e81ca5905ef003cc8",
    "time": "2020-11-14T00:23:37.151Z",
    "type": "completion"
   },
   {
    "code": "train=train.reset_index(drop=True) # We must do this in order to preserve the ordering of emails to labels for words_in_texts\nwords = ['new', 'you', 'free', 'content', 'time', 'need']\nwords_var = pd.DataFrame(data = words_in_texts(words, train['email']), columns = {'words': words, 'type': train['spam']})\n\nprop_ham = []\nprop_spam = []\n\nfor i in words:\n    type_ham = len(words_var[(words_var['type'] == 0) & (words_var [i] == 1)]) / len(words_var[words_var['type'] == 0])\n    prop_ham.append(type_ham)\n    type_spam = len(words_var[(words_var['type'] == 1) & (words_var [i] == 1)]) / len(words_var[words_var['type'] == 1])\n    prop_spam.append(type_spam)\n\ndf = pd.DataFrame(data = {'prop_ham':prop_ham, 'prop_spam':prop_spam})\ndf['words'] = words\ndf = df.set_index('words')\ndf = df.plot.bar()\ndf.set(xlabel = 'words', ylabel='proportion of emails',)\n",
    "id": "b4bf658a4165429e81ca5905ef003cc8",
    "idx": 29,
    "time": "2020-11-14T00:23:43.156Z",
    "type": "execution"
   },
   {
    "id": "b4bf658a4165429e81ca5905ef003cc8",
    "time": "2020-11-14T00:24:05.489Z",
    "type": "completion"
   },
   {
    "code": "train=train.reset_index(drop=True) # We must do this in order to preserve the ordering of emails to labels for words_in_texts\nwords = ['new', 'you', 'free', 'content', 'time', 'need']\ntype = train['type']\nwords_var = pd.DataFrame(data = words_in_texts(words, train['email']), columns = words, type)\n\nprop_ham = []\nprop_spam = []\n\nfor i in words:\n    type_ham = len(words_var[(words_var['type'] == 0) & (words_var [i] == 1)]) / len(words_var[words_var['type'] == 0])\n    prop_ham.append(type_ham)\n    type_spam = len(words_var[(words_var['type'] == 1) & (words_var [i] == 1)]) / len(words_var[words_var['type'] == 1])\n    prop_spam.append(type_spam)\n\ndf = pd.DataFrame(data = {'prop_ham':prop_ham, 'prop_spam':prop_spam})\ndf['words'] = words\ndf = df.set_index('words')\ndf = df.plot.bar()\ndf.set(xlabel = 'words', ylabel='proportion of emails',)\n",
    "id": "b4bf658a4165429e81ca5905ef003cc8",
    "idx": 29,
    "time": "2020-11-14T00:24:57.543Z",
    "type": "execution"
   },
   {
    "id": "b4bf658a4165429e81ca5905ef003cc8",
    "time": "2020-11-14T00:24:57.635Z",
    "type": "completion"
   },
   {
    "code": "train=train.reset_index(drop=True) # We must do this in order to preserve the ordering of emails to labels for words_in_texts\nwords = ['new', 'you', 'free', 'content', 'time', 'need']\ntype = train['type']\nwords_var = pd.DataFrame(data = words_in_texts(words, train['email']), columns = {words, type})\n\nprop_ham = []\nprop_spam = []\n\nfor i in words:\n    type_ham = len(words_var[(words_var['type'] == 0) & (words_var [i] == 1)]) / len(words_var[words_var['type'] == 0])\n    prop_ham.append(type_ham)\n    type_spam = len(words_var[(words_var['type'] == 1) & (words_var [i] == 1)]) / len(words_var[words_var['type'] == 1])\n    prop_spam.append(type_spam)\n\ndf = pd.DataFrame(data = {'prop_ham':prop_ham, 'prop_spam':prop_spam})\ndf['words'] = words\ndf = df.set_index('words')\ndf = df.plot.bar()\ndf.set(xlabel = 'words', ylabel='proportion of emails',)\n",
    "id": "b4bf658a4165429e81ca5905ef003cc8",
    "idx": 29,
    "time": "2020-11-14T00:25:08.623Z",
    "type": "execution"
   },
   {
    "id": "b4bf658a4165429e81ca5905ef003cc8",
    "time": "2020-11-14T00:25:08.774Z",
    "type": "completion"
   },
   {
    "code": "train=train.reset_index(drop=True) # We must do this in order to preserve the ordering of emails to labels for words_in_texts\nwords = ['new', 'you', 'free', 'content', 'time', 'need']\nwords_type = train['type']\nwords_var = pd.DataFrame(data = words_in_texts(words, train['email']), columns = {'words': words, 'type':words_type})\n\nprop_ham = []\nprop_spam = []\n\nfor i in words:\n    type_ham = len(words_var[(words_var['type'] == 0) & (words_var [i] == 1)]) / len(words_var[words_var['type'] == 0])\n    prop_ham.append(type_ham)\n    type_spam = len(words_var[(words_var['type'] == 1) & (words_var [i] == 1)]) / len(words_var[words_var['type'] == 1])\n    prop_spam.append(type_spam)\n\ndf = pd.DataFrame(data = {'prop_ham':prop_ham, 'prop_spam':prop_spam})\ndf['words'] = words\ndf = df.set_index('words')\ndf = df.plot.bar()\ndf.set(xlabel = 'words', ylabel='proportion of emails',)\n",
    "id": "b4bf658a4165429e81ca5905ef003cc8",
    "idx": 29,
    "time": "2020-11-14T00:25:41.770Z",
    "type": "execution"
   },
   {
    "id": "b4bf658a4165429e81ca5905ef003cc8",
    "time": "2020-11-14T00:25:41.914Z",
    "type": "completion"
   },
   {
    "code": "train=train.reset_index(drop=True) # We must do this in order to preserve the ordering of emails to labels for words_in_texts\nwords = ['new', 'you', 'free', 'content', 'time', 'need']\nwords_type = train['spam']\nwords_var = pd.DataFrame(data = words_in_texts(words, train['email']), columns = {'words': words, 'type': words_type})\n\nprop_ham = []\nprop_spam = []\n\nfor i in words:\n    type_ham = len(words_var[(words_var['type'] == 0) & (words_var [i] == 1)]) / len(words_var[words_var['type'] == 0])\n    prop_ham.append(type_ham)\n    type_spam = len(words_var[(words_var['type'] == 1) & (words_var [i] == 1)]) / len(words_var[words_var['type'] == 1])\n    prop_spam.append(type_spam)\n\ndf = pd.DataFrame(data = {'prop_ham':prop_ham, 'prop_spam':prop_spam})\ndf['words'] = words\ndf = df.set_index('words')\ndf = df.plot.bar()\ndf.set(xlabel = 'words', ylabel='proportion of emails',)\n",
    "id": "b4bf658a4165429e81ca5905ef003cc8",
    "idx": 29,
    "time": "2020-11-14T00:26:21.930Z",
    "type": "execution"
   },
   {
    "id": "b4bf658a4165429e81ca5905ef003cc8",
    "time": "2020-11-14T00:26:44.762Z",
    "type": "completion"
   },
   {
    "code": "train=train.reset_index(drop=True) # We must do this in order to preserve the ordering of emails to labels for words_in_texts\nwords = ['new', 'you', 'free', 'content', 'time', 'need']\nwords_type = train['spam']\nwords_var = pd.DataFrame(data = words_in_texts(words, train['email']), columns = ['words', 'type'])\n\nprop_ham = []\nprop_spam = []\n\nfor i in words:\n    type_ham = len(words_var[(words_var['type'] == 0) & (words_var [i] == 1)]) / len(words_var[words_var['type'] == 0])\n    prop_ham.append(type_ham)\n    type_spam = len(words_var[(words_var['type'] == 1) & (words_var [i] == 1)]) / len(words_var[words_var['type'] == 1])\n    prop_spam.append(type_spam)\n\ndf = pd.DataFrame(data = {'prop_ham':prop_ham, 'prop_spam':prop_spam})\ndf['words'] = words\ndf = df.set_index('words')\ndf = df.plot.bar()\ndf.set(xlabel = 'words', ylabel='proportion of emails',)\n",
    "id": "b4bf658a4165429e81ca5905ef003cc8",
    "idx": 29,
    "time": "2020-11-14T00:29:05.500Z",
    "type": "execution"
   },
   {
    "code": "words = ['new', 'you', 'free', 'content', 'time', 'need']\nwords_type = train['spam']\nwords_var = pd.DataFrame(data = words_in_texts(words, train['email']), columns = ['words', 'type'])\nwords_var",
    "id": "1f01f3e3d0ca4f25862fdf7045d72c08",
    "idx": 30,
    "time": "2020-11-14T00:29:22.101Z",
    "type": "execution"
   },
   {
    "id": "b4bf658a4165429e81ca5905ef003cc8",
    "time": "2020-11-14T00:29:27.879Z",
    "type": "completion"
   },
   {
    "id": "1f01f3e3d0ca4f25862fdf7045d72c08",
    "time": "2020-11-14T00:29:27.880Z",
    "type": "completion"
   },
   {
    "code": "words = ['new', 'you', 'free', 'content', 'time', 'need']\nwords_type = train['spam']\nwords_var = pd.DataFrame(data = words_in_texts(words, train['email']), columns = ['words', 'type'])\nwords_var",
    "id": "1f01f3e3d0ca4f25862fdf7045d72c08",
    "idx": 30,
    "time": "2020-11-14T00:29:35.867Z",
    "type": "execution"
   },
   {
    "id": "1f01f3e3d0ca4f25862fdf7045d72c08",
    "time": "2020-11-14T00:29:58.305Z",
    "type": "completion"
   },
   {
    "code": "train=train.reset_index(drop=True) # We must do this in order to preserve the ordering of emails to labels for words_in_texts\nwords = ['new', 'you', 'free', 'need', 'read', 'content']\nwords_var = pd.DataFrame(words_in_texts(words, train['email']), columns = words)\nwords_var['type'] = train['spam']\n\nprop_ham = []\nprop_spam = []\n\nfor i in words:\n    type_ham = len(words_var[(words_var['type'] == 0) & (words_var [i] == 1)]) / len(words_var[words_var['type'] == 0])\n    prop_ham.append(type_ham)\n    type_spam = len(words_var[(words_var['type'] == 1) & (words_var [i] == 1)]) / len(words_var[words_var['type'] == 1])\n    prop_spam.append(type_spam)\n\ndf = pd.DataFrame(data = {'prop_ham':prop_ham, 'prop_spam':prop_spam})\ndf['words'] = words\n\ndf = df.plot.bar()\ndf.set(xlabel = 'words', ylabel='proportion')\n\n\n",
    "id": "b4bf658a4165429e81ca5905ef003cc8",
    "idx": 29,
    "time": "2020-11-14T00:31:21.929Z",
    "type": "execution"
   },
   {
    "id": "b4bf658a4165429e81ca5905ef003cc8",
    "time": "2020-11-14T00:31:45.741Z",
    "type": "completion"
   },
   {
    "code": "train=train.reset_index(drop=True) # We must do this in order to preserve the ordering of emails to labels for words_in_texts\nwords = ['new', 'you', 'free', 'need', 'read', 'content']\nwords_table = pd.DataFrame(words_in_texts(words, train['email']), columns = words)\nwords_table['type'] = train['spam']\n\nprop_ham = []\nprop_spam = []\n\nfor i in words:\n    type_ham = len(words_var[(words_table['type'] == 0) & (words_var [i] == 1)]) / len(words_table[words_table['type'] == 0])\n    prop_ham.append(type_ham)\n    type_spam = len(words_var[(words_table['type'] == 1) & (words_var [i] == 1)]) / len(words_table[words_table['type'] == 1])\n    prop_spam.append(type_spam)\n\ndf = pd.DataFrame(data = {'prop_ham':prop_ham, 'prop_spam':prop_spam})\ndf['words'] = words\ndf = df.set_index('words')\ndf = df.plot.bar()\ndf.set(xlabel = 'words', ylabel='proportion')\n",
    "id": "b4bf658a4165429e81ca5905ef003cc8",
    "idx": 29,
    "time": "2020-11-14T00:33:09.133Z",
    "type": "execution"
   },
   {
    "id": "b4bf658a4165429e81ca5905ef003cc8",
    "time": "2020-11-14T00:33:31.365Z",
    "type": "completion"
   },
   {
    "code": "sns.distplot(train[train['spam']==0]['email'].str.len(), hist=False, label='ham')\nsns.distplot(train[train['spam']==1]['email'].str.len(), hist=False, label='spam')\nplt.savefig('training_conditional_densities.png')",
    "id": "82b04e442aa44722a5b969fb99c16a87",
    "idx": 32,
    "time": "2020-11-14T00:35:32.033Z",
    "type": "execution"
   },
   {
    "id": "82b04e442aa44722a5b969fb99c16a87",
    "time": "2020-11-14T00:35:32.873Z",
    "type": "completion"
   },
   {
    "code": "sns.distplot(train[train['spam']==0]['email'].str.len(), hist=False, label='ham')\nsns.distplot(train[train['spam']==1]['email'].str.len(), hist=False, label='spam')\n\nplt.xlabel('Length of email body')\nplt.ylabel('Distribution')\nplt.xlim(0, 50000)\nplt.savefig('training_conditional_densities.png')",
    "id": "82b04e442aa44722a5b969fb99c16a87",
    "idx": 32,
    "time": "2020-11-14T00:36:55.900Z",
    "type": "execution"
   },
   {
    "id": "82b04e442aa44722a5b969fb99c16a87",
    "time": "2020-11-14T00:36:56.455Z",
    "type": "completion"
   },
   {
    "code": "some_words = ['drug', 'bank', 'prescription', 'memo', 'private']\n\nX_train = words_in_texts(some_words, train['email'])\nY_train = array(train['spam'])\n\nX_train[:5], Y_train[:5]",
    "id": "1eb8e793d983482d8327ec535b898e99",
    "idx": 35,
    "time": "2020-11-14T00:40:23.428Z",
    "type": "execution"
   },
   {
    "id": "1eb8e793d983482d8327ec535b898e99",
    "time": "2020-11-14T00:40:42.511Z",
    "type": "completion"
   },
   {
    "code": "some_words = ['drug', 'bank', 'prescription', 'memo', 'private']\n\nX_train = words_in_texts(some_words, train['email'])\nY_train = np.array(train['spam'])\n\nX_train[:5], Y_train[:5]",
    "id": "1eb8e793d983482d8327ec535b898e99",
    "idx": 35,
    "time": "2020-11-14T00:40:48.021Z",
    "type": "execution"
   },
   {
    "id": "1eb8e793d983482d8327ec535b898e99",
    "time": "2020-11-14T00:41:09.335Z",
    "type": "completion"
   },
   {
    "code": "grader.check(\"q4\")",
    "id": "b4327edf2541425994bb42e82c74e5c2",
    "idx": 36,
    "time": "2020-11-14T00:41:26.109Z",
    "type": "execution"
   },
   {
    "id": "b4327edf2541425994bb42e82c74e5c2",
    "time": "2020-11-14T00:41:26.270Z",
    "type": "completion"
   },
   {
    "code": "from sklearn.linear_model import LogisticRegression\n\nmodel = LogisticRegression()\nmodel.fit(X_train, Y_train)\ny_pred = model.predict(X_train)\n\ntraining_accuracy = np.mean(y_pred == Y_train)\nprint(\"Training Accuracy: \", training_accuracy)",
    "id": "ac30dafee1f448939ceaf82d0fb6d576",
    "idx": 38,
    "time": "2020-11-14T00:42:59.517Z",
    "type": "execution"
   },
   {
    "id": "ac30dafee1f448939ceaf82d0fb6d576",
    "time": "2020-11-14T00:42:59.664Z",
    "type": "completion"
   },
   {
    "code": "grader.check(\"q5\")",
    "id": "9a153ec73b8b4695b8f58cc62cb32e37",
    "idx": 39,
    "time": "2020-11-14T00:43:00.715Z",
    "type": "execution"
   },
   {
    "id": "9a153ec73b8b4695b8f58cc62cb32e37",
    "time": "2020-11-14T00:43:00.807Z",
    "type": "completion"
   },
   {
    "code": "train=train.reset_index(drop=True) # We must do this in order to preserve the ordering of emails to labels for words_in_texts\nwords = ['new', 'you', 'free', 'need', 'read', 'content']\nwords_table = pd.DataFrame(words_in_texts(words, train['email']), columns = words)\nwords_table['type'] = train['spam']\n\nprop_ham = []\nprop_spam = []\n\ntype_ham = len(words_var[(words_table['type'] == 0) & (words_var[i] == 1) for i in words]) / len(words_table[words_table['type'] == 0])\nprop_ham.append(type_ham)\ntype_spam = len(words_var[(words_table['type'] == 1) & (words_var[i] == 1 for i in words)]) / len(words_table[words_table['type'] == 1])\nprop_spam.append(type_spam)\n\ndf = pd.DataFrame(data = {'prop_ham':prop_ham, 'prop_spam':prop_spam})\ndf['words'] = words\ndf = df.set_index('words')\ndf = df.plot.bar()\ndf.set(xlabel = 'words', ylabel='proportion')\n",
    "id": "b4bf658a4165429e81ca5905ef003cc8",
    "idx": 29,
    "time": "2020-11-14T00:43:57.482Z",
    "type": "execution"
   },
   {
    "id": "b4bf658a4165429e81ca5905ef003cc8",
    "time": "2020-11-14T00:43:57.552Z",
    "type": "completion"
   },
   {
    "code": "train=train.reset_index(drop=True) # We must do this in order to preserve the ordering of emails to labels for words_in_texts\nwords = ['new', 'you', 'free', 'need', 'read', 'content']\nwords_table = pd.DataFrame(words_in_texts(words, train['email']), columns = words)\nwords_table['type'] = train['spam']\n\nprop_ham = []\nprop_spam = []\n\ntype_ham = len(words_var[(words_table['type'] == 0) & ([(words_var[i] == 1) for i in words])]) / len(words_table[words_table['type'] == 0])\nprop_ham.append(type_ham)\ntype_spam = len(words_var[(words_table['type'] == 1) & ([words_var[i] == 1 for i in words])]) / len(words_table[words_table['type'] == 1])\nprop_spam.append(type_spam)\n\ndf = pd.DataFrame(data = {'prop_ham':prop_ham, 'prop_spam':prop_spam})\ndf['words'] = words\ndf = df.set_index('words')\ndf = df.plot.bar()\ndf.set(xlabel = 'words', ylabel='proportion')\n",
    "id": "b4bf658a4165429e81ca5905ef003cc8",
    "idx": 29,
    "time": "2020-11-14T00:44:34.046Z",
    "type": "execution"
   },
   {
    "id": "b4bf658a4165429e81ca5905ef003cc8",
    "time": "2020-11-14T00:44:55.655Z",
    "type": "completion"
   },
   {
    "code": "train=train.reset_index(drop=True) # We must do this in order to preserve the ordering of emails to labels for words_in_texts\nwords = ['new', 'you', 'free', 'need', 'read', 'content']\nwords_table = pd.DataFrame(words_in_texts(words, train['email']), columns = words)\nwords_table['type'] = train['spam']\n\nprop_ham = []\nprop_spam = []\n\ntype_ham = len(words_var[(words_table['type'] == 0) & ([(words_var[i] == 1) for i in words])]) / len(words_table[words_table['type'] == 0])\nprop_ham.append(type_ham)\ntype_spam = len(words_var[(words_table['type'] == 1) & ([(words_var[i] == 1) for i in words])]) / len(words_table[words_table['type'] == 1])\nprop_spam.append(type_spam)\n\ndf = pd.DataFrame(data = {'prop_ham':prop_ham, 'prop_spam':prop_spam})\ndf['words'] = words\ndf = df.set_index('words')\ndf = df.plot.bar()\ndf.set(xlabel = 'words', ylabel='proportion')\n",
    "id": "b4bf658a4165429e81ca5905ef003cc8",
    "idx": 29,
    "time": "2020-11-14T00:45:36.962Z",
    "type": "execution"
   },
   {
    "id": "b4bf658a4165429e81ca5905ef003cc8",
    "time": "2020-11-14T00:45:59.643Z",
    "type": "completion"
   },
   {
    "code": "train=train.reset_index(drop=True) # We must do this in order to preserve the ordering of emails to labels for words_in_texts\nwords = ['new', 'you', 'free', 'need', 'read', 'content']\nwords_table = pd.DataFrame(words_in_texts(words, train['email']), columns = words)\nwords_table['type'] = train['spam']\n\nprop_ham = []\nprop_spam = []\n\ntype_ham = [(len(words_table[(words_table['type'] == 0) & (words_table[i] == 1)]) / len(words_var[words_table['type'] == 0])) for i in words]\nprop_ham.append(type_ham)\ntype_spam = [(len(words_var[(words_table['type'] == 1) & (words_table[i] == 1)]) / len(words_var[words_table['type'] == 1])) for i in words]\nprop_spam.append(type_spam)\n\ndf = pd.DataFrame(data = {'prop_ham':prop_ham, 'prop_spam':prop_spam})\ndf['words'] = words\ndf = df.set_index('words')\ndf = df.plot.bar()\ndf.set(xlabel = 'words', ylabel='proportion')\n\n\n",
    "id": "b4bf658a4165429e81ca5905ef003cc8",
    "idx": 29,
    "time": "2020-11-14T00:48:41.949Z",
    "type": "execution"
   },
   {
    "id": "b4bf658a4165429e81ca5905ef003cc8",
    "time": "2020-11-14T00:49:04.951Z",
    "type": "completion"
   },
   {
    "code": "train=train.reset_index(drop=True) # We must do this in order to preserve the ordering of emails to labels for words_in_texts\nwords = ['new', 'you', 'free', 'need', 'read', 'content']\nwords_table = pd.DataFrame(words_in_texts(words, train['email']), columns = words)\n\nprop_ham = []\nprop_spam = []\n\nfor i in words:\n    type_ham = len(train[(train['spam'] == 0) & (train[i] == 1)]) / len(train[train['spam'] == 0])\n    prop_ham.append(type_ham)\n    type_spam = len(train[(train['spam'] == 1) & (train[i] == 1)]) / len(train[train['spam'] == 1])\n    prop_spam.append(type_spam)\n\ndf = pd.DataFrame(data = {'prop_ham':prop_ham, 'prop_spam':prop_spam})\ndf['words'] = words\ndf = df.set_index('words')\ndf = df.plot.bar()\ndf.set(xlabel = 'words', ylabel='proportion')\n\n\n",
    "id": "b4bf658a4165429e81ca5905ef003cc8",
    "idx": 29,
    "time": "2020-11-14T00:52:11.534Z",
    "type": "execution"
   },
   {
    "id": "b4bf658a4165429e81ca5905ef003cc8",
    "time": "2020-11-14T00:52:33.738Z",
    "type": "completion"
   },
   {
    "code": "words = ['new', 'you', 'free', 'need', 'read', 'content']\nwords_in_texts(words, train['email']",
    "id": "e5cddd7a1c314bb3bbd46edca41d460f",
    "idx": 29,
    "time": "2020-11-14T00:53:59.851Z",
    "type": "execution"
   },
   {
    "id": "e5cddd7a1c314bb3bbd46edca41d460f",
    "time": "2020-11-14T00:54:00.038Z",
    "type": "completion"
   },
   {
    "code": "words = ['new', 'you', 'free', 'need', 'read', 'content']\nwords_in_texts(words, train['email'])",
    "id": "e5cddd7a1c314bb3bbd46edca41d460f",
    "idx": 29,
    "time": "2020-11-14T00:54:04.323Z",
    "type": "execution"
   },
   {
    "id": "e5cddd7a1c314bb3bbd46edca41d460f",
    "time": "2020-11-14T00:54:26.996Z",
    "type": "completion"
   },
   {
    "code": "train=train.reset_index(drop=True) # We must do this in order to preserve the ordering of emails to labels for words_in_texts\nwords = ['new', 'you', 'free', 'need', 'read', 'content']\nwords_table = pd.DataFrame(data = {words_in_texts(words, train['email']), 'type': train['spam']), columns = words)\n\nprop_ham = []\nprop_spam = []\n\nfor i in words:\n    type_ham = len(words_table[(words_table['type'] == 0) & (words_table[i] == 1)]) / len(words_table[words_table['type'] == 0])\n    prop_ham.append(type_ham)\n    type_spam = len(words_table[(words_table['type'] == 1) & (words_table[i] == 1)]) / len(words_table[words_table['type'] == 1])\n    prop_spam.append(type_spam)\n\ndf = pd.DataFrame(data = {'prop_ham':prop_ham, 'prop_spam':prop_spam})\ndf['words'] = words\ndf = df.set_index('words')\ndf = df.plot.bar()\ndf.set(xlabel = 'words', ylabel='proportion')\n\n\n",
    "id": "b4bf658a4165429e81ca5905ef003cc8",
    "idx": 30,
    "time": "2020-11-14T00:54:59.348Z",
    "type": "execution"
   },
   {
    "id": "b4bf658a4165429e81ca5905ef003cc8",
    "time": "2020-11-14T00:54:59.417Z",
    "type": "completion"
   },
   {
    "code": "train=train.reset_index(drop=True) # We must do this in order to preserve the ordering of emails to labels for words_in_texts\nwords = ['new', 'you', 'free', 'need', 'read', 'content']\nwords_table = pd.DataFrame(data = {words_in_texts(words, train['email']), 'type': train['spam']}, columns = words)\n\nprop_ham = []\nprop_spam = []\n\nfor i in words:\n    type_ham = len(words_table[(words_table['type'] == 0) & (words_table[i] == 1)]) / len(words_table[words_table['type'] == 0])\n    prop_ham.append(type_ham)\n    type_spam = len(words_table[(words_table['type'] == 1) & (words_table[i] == 1)]) / len(words_table[words_table['type'] == 1])\n    prop_spam.append(type_spam)\n\ndf = pd.DataFrame(data = {'prop_ham':prop_ham, 'prop_spam':prop_spam})\ndf['words'] = words\ndf = df.set_index('words')\ndf = df.plot.bar()\ndf.set(xlabel = 'words', ylabel='proportion')\n\n\n",
    "id": "b4bf658a4165429e81ca5905ef003cc8",
    "idx": 30,
    "time": "2020-11-14T00:55:04.582Z",
    "type": "execution"
   },
   {
    "id": "b4bf658a4165429e81ca5905ef003cc8",
    "time": "2020-11-14T00:55:04.659Z",
    "type": "completion"
   },
   {
    "code": "train=train.reset_index(drop=True) # We must do this in order to preserve the ordering of emails to labels for words_in_texts\nwords = ['new', 'you', 'free', 'need', 'read', 'content']\nwords_table = pd.DataFrame(data = [words_in_texts(words, train['email']), train['spam']], columns = words)\n\nprop_ham = []\nprop_spam = []\n\nfor i in words:\n    type_ham = len(words_table[(words_table['type'] == 0) & (words_table[i] == 1)]) / len(words_table[words_table['type'] == 0])\n    prop_ham.append(type_ham)\n    type_spam = len(words_table[(words_table['type'] == 1) & (words_table[i] == 1)]) / len(words_table[words_table['type'] == 1])\n    prop_spam.append(type_spam)\n\ndf = pd.DataFrame(data = {'prop_ham':prop_ham, 'prop_spam':prop_spam})\ndf['words'] = words\ndf = df.set_index('words')\ndf = df.plot.bar()\ndf.set(xlabel = 'words', ylabel='proportion')\n\n\n",
    "id": "b4bf658a4165429e81ca5905ef003cc8",
    "idx": 30,
    "time": "2020-11-14T00:55:22.311Z",
    "type": "execution"
   },
   {
    "id": "b4bf658a4165429e81ca5905ef003cc8",
    "time": "2020-11-14T00:55:46.110Z",
    "type": "completion"
   },
   {
    "code": "words = ['new', 'you', 'free', 'need', 'read', 'content']\nwords_table = pd.DataFrame(words_in_texts(words, train['email']), columns = words)\nwords_table",
    "id": "86efc27327944873be84c092250dbe9f",
    "idx": 30,
    "time": "2020-11-14T00:56:53.342Z",
    "type": "execution"
   },
   {
    "id": "86efc27327944873be84c092250dbe9f",
    "time": "2020-11-14T00:57:16.076Z",
    "type": "completion"
   },
   {
    "code": "words = ['new', 'you', 'free', 'need', 'read', 'content']\nwords_table = pd.DataFrame(words_in_texts(words, train['email']), columns = words)\nwords_table['type'] = train['spam']\nwords_table",
    "id": "86efc27327944873be84c092250dbe9f",
    "idx": 29,
    "time": "2020-11-14T00:57:50.167Z",
    "type": "execution"
   },
   {
    "id": "86efc27327944873be84c092250dbe9f",
    "time": "2020-11-14T00:58:12.854Z",
    "type": "completion"
   },
   {
    "code": "words = ['new', 'you', 'free', 'need', 'read', 'content']\nwords_table = pd.DataFrame(data = (words_in_texts(words, train['email']), train['spam']), columns = words)\nwords_table['type'] = train['spam']\nwords_table",
    "id": "86efc27327944873be84c092250dbe9f",
    "idx": 29,
    "time": "2020-11-14T00:59:25.810Z",
    "type": "execution"
   },
   {
    "id": "86efc27327944873be84c092250dbe9f",
    "time": "2020-11-14T00:59:48.923Z",
    "type": "completion"
   },
   {
    "code": "words = ['new', 'you', 'free', 'need', 'read', 'content']\nwords_table = pd.DataFrame(words_in_texts(words, train['email']), columns = words)\nwords_table['type'] = train['spam']\nwords_table",
    "id": "86efc27327944873be84c092250dbe9f",
    "idx": 29,
    "time": "2020-11-14T01:00:13.510Z",
    "type": "execution"
   },
   {
    "id": "86efc27327944873be84c092250dbe9f",
    "time": "2020-11-14T01:00:36.045Z",
    "type": "completion"
   }
  ],
  "kernelspec": {
   "display_name": "Python 3",
   "language": "python",
   "name": "python3"
  },
  "language_info": {
   "codemirror_mode": {
    "name": "ipython",
    "version": 3
   },
   "file_extension": ".py",
   "mimetype": "text/x-python",
   "name": "python",
   "nbconvert_exporter": "python",
   "pygments_lexer": "ipython3",
   "version": "3.8.6"
  }
 },
 "nbformat": 4,
 "nbformat_minor": 2
}
